{
 "cells": [
  {
   "attachments": {},
   "cell_type": "markdown",
   "metadata": {},
   "source": [
    "# Choosing a primary school for your children"
   ]
  },
  {
   "attachments": {},
   "cell_type": "markdown",
   "metadata": {},
   "source": [
    "https://sgschooling.com/school/zhonghua"
   ]
  },
  {
   "cell_type": "code",
   "execution_count": 1,
   "metadata": {},
   "outputs": [],
   "source": [
    "import pandas as pd\n",
    "import numpy as np\n",
    "import matplotlib.pyplot as plt\n",
    "import matplotlib.patches as mpatches\n",
    "import seaborn as sns\n",
    "import plotly.graph_objects as go\n",
    "import plotly.express as px\n",
    "from utils import read_data\n",
    "from configs import config\n",
    "from pathlib import Path"
   ]
  },
  {
   "cell_type": "code",
   "execution_count": 2,
   "metadata": {},
   "outputs": [],
   "source": [
    "pd.set_option('display.max_rows', None)\n",
    "pd.set_option('display.max_columns', None)"
   ]
  },
  {
   "cell_type": "code",
   "execution_count": 3,
   "metadata": {},
   "outputs": [],
   "source": [
    "df_school_full, df_school_cca = read_data()"
   ]
  },
  {
   "cell_type": "code",
   "execution_count": 4,
   "metadata": {},
   "outputs": [
    {
     "data": {
      "text/html": [
       "<div>\n",
       "<style scoped>\n",
       "    .dataframe tbody tr th:only-of-type {\n",
       "        vertical-align: middle;\n",
       "    }\n",
       "\n",
       "    .dataframe tbody tr th {\n",
       "        vertical-align: top;\n",
       "    }\n",
       "\n",
       "    .dataframe thead th {\n",
       "        text-align: right;\n",
       "    }\n",
       "</style>\n",
       "<table border=\"1\" class=\"dataframe\">\n",
       "  <thead>\n",
       "    <tr style=\"text-align: right;\">\n",
       "      <th></th>\n",
       "      <th>Name</th>\n",
       "      <th>School_Nature</th>\n",
       "      <th>School_Type</th>\n",
       "      <th>Affiliation</th>\n",
       "      <th>GEP</th>\n",
       "      <th>IP</th>\n",
       "      <th>Number_of_CCA</th>\n",
       "      <th>CCA_Sum_Score</th>\n",
       "      <th>Phase1_vac</th>\n",
       "      <th>Phase2A_vac</th>\n",
       "      <th>Phase2B_vac</th>\n",
       "      <th>Phase2C_vac</th>\n",
       "      <th>Phase2CS_vac</th>\n",
       "      <th>Phase3_vac</th>\n",
       "      <th>Phase1_applied</th>\n",
       "      <th>Phase2A_applied</th>\n",
       "      <th>Phase2B_applied</th>\n",
       "      <th>Phase2C_applied</th>\n",
       "      <th>Phase2CS_applied</th>\n",
       "      <th>Phase3_applied</th>\n",
       "      <th>Phase1_taken</th>\n",
       "      <th>Phase2A_taken</th>\n",
       "      <th>Phase2B_taken</th>\n",
       "      <th>Phase2C_taken</th>\n",
       "      <th>Phase2CS_taken</th>\n",
       "      <th>Phase3_taken</th>\n",
       "      <th>Phase1_sub_taken</th>\n",
       "      <th>Phase1_sub_apply</th>\n",
       "      <th>Phase2A_sub_taken</th>\n",
       "      <th>Phase2A_sub_apply</th>\n",
       "      <th>Phase2B_sub_taken</th>\n",
       "      <th>Phase2B_sub_apply</th>\n",
       "      <th>Phase2C_sub_taken</th>\n",
       "      <th>Phase2C_sub_apply</th>\n",
       "      <th>After_Phase1_2A_vac</th>\n",
       "      <th>After_Phase2B_vac</th>\n",
       "      <th>After_Phase2C_vac</th>\n",
       "      <th>Phase2A_oversub</th>\n",
       "      <th>Phase2B_oversub</th>\n",
       "      <th>Phase2C_oversub</th>\n",
       "      <th>Phase2A_oversub_count</th>\n",
       "      <th>Phase2B_oversub_count</th>\n",
       "      <th>Phase2C_oversub_count</th>\n",
       "    </tr>\n",
       "  </thead>\n",
       "  <tbody>\n",
       "    <tr>\n",
       "      <th>0</th>\n",
       "      <td>Admiralty Primary School</td>\n",
       "      <td>Co-Ed School</td>\n",
       "      <td>Government School</td>\n",
       "      <td>No</td>\n",
       "      <td>No</td>\n",
       "      <td>No</td>\n",
       "      <td>19</td>\n",
       "      <td>1803.0</td>\n",
       "      <td>150</td>\n",
       "      <td>44</td>\n",
       "      <td>22</td>\n",
       "      <td>45</td>\n",
       "      <td>0</td>\n",
       "      <td>0</td>\n",
       "      <td>107</td>\n",
       "      <td>37</td>\n",
       "      <td>49</td>\n",
       "      <td>104</td>\n",
       "      <td>0</td>\n",
       "      <td>-</td>\n",
       "      <td>107</td>\n",
       "      <td>37</td>\n",
       "      <td>22</td>\n",
       "      <td>45</td>\n",
       "      <td>0</td>\n",
       "      <td>-</td>\n",
       "      <td>71.333333</td>\n",
       "      <td>71.333333</td>\n",
       "      <td>84.090909</td>\n",
       "      <td>84.090909</td>\n",
       "      <td>100.00000</td>\n",
       "      <td>222.727273</td>\n",
       "      <td>100.000000</td>\n",
       "      <td>231.111111</td>\n",
       "      <td>7</td>\n",
       "      <td>0</td>\n",
       "      <td>0</td>\n",
       "      <td>No</td>\n",
       "      <td>Yes</td>\n",
       "      <td>Yes</td>\n",
       "      <td>No</td>\n",
       "      <td>27</td>\n",
       "      <td>59</td>\n",
       "    </tr>\n",
       "    <tr>\n",
       "      <th>1</th>\n",
       "      <td>Ahmad Ibrahim Primary School</td>\n",
       "      <td>Co-Ed School</td>\n",
       "      <td>Government School</td>\n",
       "      <td>No</td>\n",
       "      <td>No</td>\n",
       "      <td>No</td>\n",
       "      <td>12</td>\n",
       "      <td>1074.0</td>\n",
       "      <td>130</td>\n",
       "      <td>74</td>\n",
       "      <td>43</td>\n",
       "      <td>129</td>\n",
       "      <td>98</td>\n",
       "      <td>78</td>\n",
       "      <td>56</td>\n",
       "      <td>5</td>\n",
       "      <td>0</td>\n",
       "      <td>31</td>\n",
       "      <td>20</td>\n",
       "      <td>-</td>\n",
       "      <td>56</td>\n",
       "      <td>5</td>\n",
       "      <td>0</td>\n",
       "      <td>31</td>\n",
       "      <td>20</td>\n",
       "      <td>-</td>\n",
       "      <td>43.076923</td>\n",
       "      <td>43.076923</td>\n",
       "      <td>6.756757</td>\n",
       "      <td>6.756757</td>\n",
       "      <td>0.00000</td>\n",
       "      <td>0.000000</td>\n",
       "      <td>24.031008</td>\n",
       "      <td>24.031008</td>\n",
       "      <td>69</td>\n",
       "      <td>43</td>\n",
       "      <td>98</td>\n",
       "      <td>No</td>\n",
       "      <td>No</td>\n",
       "      <td>No</td>\n",
       "      <td>No</td>\n",
       "      <td>No</td>\n",
       "      <td>No</td>\n",
       "    </tr>\n",
       "    <tr>\n",
       "      <th>2</th>\n",
       "      <td>Ai Tong School</td>\n",
       "      <td>Co-Ed School</td>\n",
       "      <td>Government-Aided School</td>\n",
       "      <td>No</td>\n",
       "      <td>No</td>\n",
       "      <td>No</td>\n",
       "      <td>12</td>\n",
       "      <td>933.0</td>\n",
       "      <td>240</td>\n",
       "      <td>110</td>\n",
       "      <td>20</td>\n",
       "      <td>42</td>\n",
       "      <td>0</td>\n",
       "      <td>0</td>\n",
       "      <td>130</td>\n",
       "      <td>146</td>\n",
       "      <td>48</td>\n",
       "      <td>86</td>\n",
       "      <td>0</td>\n",
       "      <td>-</td>\n",
       "      <td>130</td>\n",
       "      <td>110</td>\n",
       "      <td>20</td>\n",
       "      <td>42</td>\n",
       "      <td>0</td>\n",
       "      <td>-</td>\n",
       "      <td>54.166667</td>\n",
       "      <td>54.166667</td>\n",
       "      <td>100.000000</td>\n",
       "      <td>132.727273</td>\n",
       "      <td>100.00000</td>\n",
       "      <td>240.000000</td>\n",
       "      <td>100.000000</td>\n",
       "      <td>204.761905</td>\n",
       "      <td>0</td>\n",
       "      <td>0</td>\n",
       "      <td>0</td>\n",
       "      <td>Yes</td>\n",
       "      <td>Yes</td>\n",
       "      <td>Yes</td>\n",
       "      <td>36</td>\n",
       "      <td>28</td>\n",
       "      <td>44</td>\n",
       "    </tr>\n",
       "    <tr>\n",
       "      <th>3</th>\n",
       "      <td>Alexandra Primary School</td>\n",
       "      <td>Co-Ed School</td>\n",
       "      <td>Government School</td>\n",
       "      <td>No</td>\n",
       "      <td>No</td>\n",
       "      <td>No</td>\n",
       "      <td>18</td>\n",
       "      <td>1745.0</td>\n",
       "      <td>140</td>\n",
       "      <td>65</td>\n",
       "      <td>39</td>\n",
       "      <td>113</td>\n",
       "      <td>0</td>\n",
       "      <td>0</td>\n",
       "      <td>75</td>\n",
       "      <td>9</td>\n",
       "      <td>4</td>\n",
       "      <td>146</td>\n",
       "      <td>0</td>\n",
       "      <td>-</td>\n",
       "      <td>75</td>\n",
       "      <td>9</td>\n",
       "      <td>4</td>\n",
       "      <td>113</td>\n",
       "      <td>0</td>\n",
       "      <td>-</td>\n",
       "      <td>53.571429</td>\n",
       "      <td>53.571429</td>\n",
       "      <td>13.846154</td>\n",
       "      <td>13.846154</td>\n",
       "      <td>10.25641</td>\n",
       "      <td>10.256410</td>\n",
       "      <td>100.000000</td>\n",
       "      <td>129.203540</td>\n",
       "      <td>56</td>\n",
       "      <td>35</td>\n",
       "      <td>0</td>\n",
       "      <td>No</td>\n",
       "      <td>No</td>\n",
       "      <td>Yes</td>\n",
       "      <td>No</td>\n",
       "      <td>No</td>\n",
       "      <td>33</td>\n",
       "    </tr>\n",
       "    <tr>\n",
       "      <th>4</th>\n",
       "      <td>Anchor Green Primary School</td>\n",
       "      <td>Co-Ed School</td>\n",
       "      <td>Government School</td>\n",
       "      <td>No</td>\n",
       "      <td>No</td>\n",
       "      <td>No</td>\n",
       "      <td>14</td>\n",
       "      <td>1281.0</td>\n",
       "      <td>180</td>\n",
       "      <td>105</td>\n",
       "      <td>40</td>\n",
       "      <td>120</td>\n",
       "      <td>96</td>\n",
       "      <td>0</td>\n",
       "      <td>75</td>\n",
       "      <td>46</td>\n",
       "      <td>0</td>\n",
       "      <td>24</td>\n",
       "      <td>108</td>\n",
       "      <td>-</td>\n",
       "      <td>75</td>\n",
       "      <td>46</td>\n",
       "      <td>0</td>\n",
       "      <td>24</td>\n",
       "      <td>96</td>\n",
       "      <td>-</td>\n",
       "      <td>41.666667</td>\n",
       "      <td>41.666667</td>\n",
       "      <td>43.809524</td>\n",
       "      <td>43.809524</td>\n",
       "      <td>0.00000</td>\n",
       "      <td>0.000000</td>\n",
       "      <td>20.000000</td>\n",
       "      <td>20.000000</td>\n",
       "      <td>59</td>\n",
       "      <td>40</td>\n",
       "      <td>96</td>\n",
       "      <td>No</td>\n",
       "      <td>No</td>\n",
       "      <td>No</td>\n",
       "      <td>No</td>\n",
       "      <td>No</td>\n",
       "      <td>No</td>\n",
       "    </tr>\n",
       "  </tbody>\n",
       "</table>\n",
       "</div>"
      ],
      "text/plain": [
       "                           Name School_Nature              School_Type  \\\n",
       "0      Admiralty Primary School  Co-Ed School        Government School   \n",
       "1  Ahmad Ibrahim Primary School  Co-Ed School        Government School   \n",
       "2                Ai Tong School  Co-Ed School  Government-Aided School   \n",
       "3      Alexandra Primary School  Co-Ed School        Government School   \n",
       "4   Anchor Green Primary School  Co-Ed School        Government School   \n",
       "\n",
       "  Affiliation GEP  IP  Number_of_CCA  CCA_Sum_Score  Phase1_vac  Phase2A_vac  \\\n",
       "0          No  No  No             19         1803.0         150           44   \n",
       "1          No  No  No             12         1074.0         130           74   \n",
       "2          No  No  No             12          933.0         240          110   \n",
       "3          No  No  No             18         1745.0         140           65   \n",
       "4          No  No  No             14         1281.0         180          105   \n",
       "\n",
       "   Phase2B_vac  Phase2C_vac  Phase2CS_vac  Phase3_vac  Phase1_applied  \\\n",
       "0           22           45             0           0             107   \n",
       "1           43          129            98          78              56   \n",
       "2           20           42             0           0             130   \n",
       "3           39          113             0           0              75   \n",
       "4           40          120            96           0              75   \n",
       "\n",
       "   Phase2A_applied  Phase2B_applied  Phase2C_applied  Phase2CS_applied  \\\n",
       "0               37               49              104                 0   \n",
       "1                5                0               31                20   \n",
       "2              146               48               86                 0   \n",
       "3                9                4              146                 0   \n",
       "4               46                0               24               108   \n",
       "\n",
       "  Phase3_applied  Phase1_taken  Phase2A_taken  Phase2B_taken  Phase2C_taken  \\\n",
       "0              -           107             37             22             45   \n",
       "1              -            56              5              0             31   \n",
       "2              -           130            110             20             42   \n",
       "3              -            75              9              4            113   \n",
       "4              -            75             46              0             24   \n",
       "\n",
       "   Phase2CS_taken Phase3_taken  Phase1_sub_taken  Phase1_sub_apply  \\\n",
       "0               0            -         71.333333         71.333333   \n",
       "1              20            -         43.076923         43.076923   \n",
       "2               0            -         54.166667         54.166667   \n",
       "3               0            -         53.571429         53.571429   \n",
       "4              96            -         41.666667         41.666667   \n",
       "\n",
       "   Phase2A_sub_taken  Phase2A_sub_apply  Phase2B_sub_taken  Phase2B_sub_apply  \\\n",
       "0          84.090909          84.090909          100.00000         222.727273   \n",
       "1           6.756757           6.756757            0.00000           0.000000   \n",
       "2         100.000000         132.727273          100.00000         240.000000   \n",
       "3          13.846154          13.846154           10.25641          10.256410   \n",
       "4          43.809524          43.809524            0.00000           0.000000   \n",
       "\n",
       "   Phase2C_sub_taken  Phase2C_sub_apply  After_Phase1_2A_vac  \\\n",
       "0         100.000000         231.111111                    7   \n",
       "1          24.031008          24.031008                   69   \n",
       "2         100.000000         204.761905                    0   \n",
       "3         100.000000         129.203540                   56   \n",
       "4          20.000000          20.000000                   59   \n",
       "\n",
       "   After_Phase2B_vac  After_Phase2C_vac Phase2A_oversub Phase2B_oversub  \\\n",
       "0                  0                  0              No             Yes   \n",
       "1                 43                 98              No              No   \n",
       "2                  0                  0             Yes             Yes   \n",
       "3                 35                  0              No              No   \n",
       "4                 40                 96              No              No   \n",
       "\n",
       "  Phase2C_oversub Phase2A_oversub_count Phase2B_oversub_count  \\\n",
       "0             Yes                    No                    27   \n",
       "1              No                    No                    No   \n",
       "2             Yes                    36                    28   \n",
       "3             Yes                    No                    No   \n",
       "4              No                    No                    No   \n",
       "\n",
       "  Phase2C_oversub_count  \n",
       "0                    59  \n",
       "1                    No  \n",
       "2                    44  \n",
       "3                    33  \n",
       "4                    No  "
      ]
     },
     "execution_count": 4,
     "metadata": {},
     "output_type": "execute_result"
    }
   ],
   "source": [
    "df_school_full.head()"
   ]
  },
  {
   "attachments": {},
   "cell_type": "markdown",
   "metadata": {},
   "source": [
    "## Overview of School Nature"
   ]
  },
  {
   "attachments": {},
   "cell_type": "markdown",
   "metadata": {},
   "source": [
    "**Government School**: Government schools offer high quality education such as unique electives, applied subjects and student development programmes at standardised fees.\n",
    "\n",
    "**Government-Aided Schools**: Schools set up by various community organisations to cater to the educational needs of their respective communities. They maintain the same education standards as Government schools and charge standardised fees\n",
    "\n",
    "**Government-Aided School/ Autonomous**: They follow the national syllabus, but offer a wider range of programmes that enhance your child’s learning experience and develop their talents."
   ]
  },
  {
   "cell_type": "code",
   "execution_count": 20,
   "metadata": {},
   "outputs": [
    {
     "data": {
      "text/html": [
       "<div>\n",
       "<style scoped>\n",
       "    .dataframe tbody tr th:only-of-type {\n",
       "        vertical-align: middle;\n",
       "    }\n",
       "\n",
       "    .dataframe tbody tr th {\n",
       "        vertical-align: top;\n",
       "    }\n",
       "\n",
       "    .dataframe thead th {\n",
       "        text-align: right;\n",
       "    }\n",
       "</style>\n",
       "<table border=\"1\" class=\"dataframe\">\n",
       "  <thead>\n",
       "    <tr style=\"text-align: right;\">\n",
       "      <th></th>\n",
       "      <th>Name</th>\n",
       "      <th>School_Nature</th>\n",
       "      <th>School_Type</th>\n",
       "      <th>Affiliation</th>\n",
       "      <th>GEP</th>\n",
       "      <th>IP</th>\n",
       "      <th>Number_of_CCA</th>\n",
       "      <th>CCA_Sum_Score</th>\n",
       "      <th>Phase1_vac</th>\n",
       "      <th>Phase2A_vac</th>\n",
       "      <th>Phase2B_vac</th>\n",
       "      <th>Phase2C_vac</th>\n",
       "      <th>Phase2CS_vac</th>\n",
       "      <th>Phase3_vac</th>\n",
       "      <th>Phase1_applied</th>\n",
       "      <th>Phase2A_applied</th>\n",
       "      <th>Phase2B_applied</th>\n",
       "      <th>Phase2C_applied</th>\n",
       "      <th>Phase2CS_applied</th>\n",
       "      <th>Phase3_applied</th>\n",
       "      <th>Phase1_taken</th>\n",
       "      <th>Phase2A_taken</th>\n",
       "      <th>Phase2B_taken</th>\n",
       "      <th>Phase2C_taken</th>\n",
       "      <th>Phase2CS_taken</th>\n",
       "      <th>Phase3_taken</th>\n",
       "      <th>Phase1_sub_taken</th>\n",
       "      <th>Phase1_sub_apply</th>\n",
       "      <th>Phase2A_sub_taken</th>\n",
       "      <th>Phase2A_sub_apply</th>\n",
       "      <th>Phase2B_sub_taken</th>\n",
       "      <th>Phase2B_sub_apply</th>\n",
       "      <th>Phase2C_sub_taken</th>\n",
       "      <th>Phase2C_sub_apply</th>\n",
       "      <th>Phase1_2A_vac</th>\n",
       "    </tr>\n",
       "  </thead>\n",
       "  <tbody>\n",
       "    <tr>\n",
       "      <th>0</th>\n",
       "      <td>Admiralty Primary School</td>\n",
       "      <td>Co-Ed School</td>\n",
       "      <td>Government School</td>\n",
       "      <td>No</td>\n",
       "      <td>No</td>\n",
       "      <td>No</td>\n",
       "      <td>19</td>\n",
       "      <td>1803.0</td>\n",
       "      <td>150</td>\n",
       "      <td>44</td>\n",
       "      <td>22</td>\n",
       "      <td>45</td>\n",
       "      <td>0</td>\n",
       "      <td>0</td>\n",
       "      <td>107</td>\n",
       "      <td>37</td>\n",
       "      <td>49</td>\n",
       "      <td>104</td>\n",
       "      <td>0</td>\n",
       "      <td>-</td>\n",
       "      <td>107</td>\n",
       "      <td>37</td>\n",
       "      <td>22</td>\n",
       "      <td>45</td>\n",
       "      <td>0</td>\n",
       "      <td>-</td>\n",
       "      <td>71.333333</td>\n",
       "      <td>71.333333</td>\n",
       "      <td>84.090909</td>\n",
       "      <td>84.090909</td>\n",
       "      <td>100.00000</td>\n",
       "      <td>222.727273</td>\n",
       "      <td>100.000000</td>\n",
       "      <td>231.111111</td>\n",
       "      <td>7</td>\n",
       "    </tr>\n",
       "    <tr>\n",
       "      <th>1</th>\n",
       "      <td>Ahmad Ibrahim Primary School</td>\n",
       "      <td>Co-Ed School</td>\n",
       "      <td>Government School</td>\n",
       "      <td>No</td>\n",
       "      <td>No</td>\n",
       "      <td>No</td>\n",
       "      <td>12</td>\n",
       "      <td>1074.0</td>\n",
       "      <td>130</td>\n",
       "      <td>74</td>\n",
       "      <td>43</td>\n",
       "      <td>129</td>\n",
       "      <td>98</td>\n",
       "      <td>78</td>\n",
       "      <td>56</td>\n",
       "      <td>5</td>\n",
       "      <td>0</td>\n",
       "      <td>31</td>\n",
       "      <td>20</td>\n",
       "      <td>-</td>\n",
       "      <td>56</td>\n",
       "      <td>5</td>\n",
       "      <td>0</td>\n",
       "      <td>31</td>\n",
       "      <td>20</td>\n",
       "      <td>-</td>\n",
       "      <td>43.076923</td>\n",
       "      <td>43.076923</td>\n",
       "      <td>6.756757</td>\n",
       "      <td>6.756757</td>\n",
       "      <td>0.00000</td>\n",
       "      <td>0.000000</td>\n",
       "      <td>24.031008</td>\n",
       "      <td>24.031008</td>\n",
       "      <td>69</td>\n",
       "    </tr>\n",
       "    <tr>\n",
       "      <th>2</th>\n",
       "      <td>Ai Tong School</td>\n",
       "      <td>Co-Ed School</td>\n",
       "      <td>Government-Aided School</td>\n",
       "      <td>No</td>\n",
       "      <td>No</td>\n",
       "      <td>No</td>\n",
       "      <td>12</td>\n",
       "      <td>933.0</td>\n",
       "      <td>240</td>\n",
       "      <td>110</td>\n",
       "      <td>20</td>\n",
       "      <td>42</td>\n",
       "      <td>0</td>\n",
       "      <td>0</td>\n",
       "      <td>130</td>\n",
       "      <td>146</td>\n",
       "      <td>48</td>\n",
       "      <td>86</td>\n",
       "      <td>0</td>\n",
       "      <td>-</td>\n",
       "      <td>130</td>\n",
       "      <td>110</td>\n",
       "      <td>20</td>\n",
       "      <td>42</td>\n",
       "      <td>0</td>\n",
       "      <td>-</td>\n",
       "      <td>54.166667</td>\n",
       "      <td>54.166667</td>\n",
       "      <td>100.000000</td>\n",
       "      <td>132.727273</td>\n",
       "      <td>100.00000</td>\n",
       "      <td>240.000000</td>\n",
       "      <td>100.000000</td>\n",
       "      <td>204.761905</td>\n",
       "      <td>0</td>\n",
       "    </tr>\n",
       "    <tr>\n",
       "      <th>3</th>\n",
       "      <td>Alexandra Primary School</td>\n",
       "      <td>Co-Ed School</td>\n",
       "      <td>Government School</td>\n",
       "      <td>No</td>\n",
       "      <td>No</td>\n",
       "      <td>No</td>\n",
       "      <td>18</td>\n",
       "      <td>1745.0</td>\n",
       "      <td>140</td>\n",
       "      <td>65</td>\n",
       "      <td>39</td>\n",
       "      <td>113</td>\n",
       "      <td>0</td>\n",
       "      <td>0</td>\n",
       "      <td>75</td>\n",
       "      <td>9</td>\n",
       "      <td>4</td>\n",
       "      <td>146</td>\n",
       "      <td>0</td>\n",
       "      <td>-</td>\n",
       "      <td>75</td>\n",
       "      <td>9</td>\n",
       "      <td>4</td>\n",
       "      <td>113</td>\n",
       "      <td>0</td>\n",
       "      <td>-</td>\n",
       "      <td>53.571429</td>\n",
       "      <td>53.571429</td>\n",
       "      <td>13.846154</td>\n",
       "      <td>13.846154</td>\n",
       "      <td>10.25641</td>\n",
       "      <td>10.256410</td>\n",
       "      <td>100.000000</td>\n",
       "      <td>129.203540</td>\n",
       "      <td>56</td>\n",
       "    </tr>\n",
       "    <tr>\n",
       "      <th>4</th>\n",
       "      <td>Anchor Green Primary School</td>\n",
       "      <td>Co-Ed School</td>\n",
       "      <td>Government School</td>\n",
       "      <td>No</td>\n",
       "      <td>No</td>\n",
       "      <td>No</td>\n",
       "      <td>14</td>\n",
       "      <td>1281.0</td>\n",
       "      <td>180</td>\n",
       "      <td>105</td>\n",
       "      <td>40</td>\n",
       "      <td>120</td>\n",
       "      <td>96</td>\n",
       "      <td>0</td>\n",
       "      <td>75</td>\n",
       "      <td>46</td>\n",
       "      <td>0</td>\n",
       "      <td>24</td>\n",
       "      <td>108</td>\n",
       "      <td>-</td>\n",
       "      <td>75</td>\n",
       "      <td>46</td>\n",
       "      <td>0</td>\n",
       "      <td>24</td>\n",
       "      <td>96</td>\n",
       "      <td>-</td>\n",
       "      <td>41.666667</td>\n",
       "      <td>41.666667</td>\n",
       "      <td>43.809524</td>\n",
       "      <td>43.809524</td>\n",
       "      <td>0.00000</td>\n",
       "      <td>0.000000</td>\n",
       "      <td>20.000000</td>\n",
       "      <td>20.000000</td>\n",
       "      <td>59</td>\n",
       "    </tr>\n",
       "  </tbody>\n",
       "</table>\n",
       "</div>"
      ],
      "text/plain": [
       "                           Name School_Nature              School_Type  \\\n",
       "0      Admiralty Primary School  Co-Ed School        Government School   \n",
       "1  Ahmad Ibrahim Primary School  Co-Ed School        Government School   \n",
       "2                Ai Tong School  Co-Ed School  Government-Aided School   \n",
       "3      Alexandra Primary School  Co-Ed School        Government School   \n",
       "4   Anchor Green Primary School  Co-Ed School        Government School   \n",
       "\n",
       "  Affiliation GEP  IP  Number_of_CCA  CCA_Sum_Score  Phase1_vac  Phase2A_vac  \\\n",
       "0          No  No  No             19         1803.0         150           44   \n",
       "1          No  No  No             12         1074.0         130           74   \n",
       "2          No  No  No             12          933.0         240          110   \n",
       "3          No  No  No             18         1745.0         140           65   \n",
       "4          No  No  No             14         1281.0         180          105   \n",
       "\n",
       "   Phase2B_vac  Phase2C_vac  Phase2CS_vac  Phase3_vac  Phase1_applied  \\\n",
       "0           22           45             0           0             107   \n",
       "1           43          129            98          78              56   \n",
       "2           20           42             0           0             130   \n",
       "3           39          113             0           0              75   \n",
       "4           40          120            96           0              75   \n",
       "\n",
       "   Phase2A_applied  Phase2B_applied  Phase2C_applied  Phase2CS_applied  \\\n",
       "0               37               49              104                 0   \n",
       "1                5                0               31                20   \n",
       "2              146               48               86                 0   \n",
       "3                9                4              146                 0   \n",
       "4               46                0               24               108   \n",
       "\n",
       "  Phase3_applied  Phase1_taken  Phase2A_taken  Phase2B_taken  Phase2C_taken  \\\n",
       "0              -           107             37             22             45   \n",
       "1              -            56              5              0             31   \n",
       "2              -           130            110             20             42   \n",
       "3              -            75              9              4            113   \n",
       "4              -            75             46              0             24   \n",
       "\n",
       "   Phase2CS_taken Phase3_taken  Phase1_sub_taken  Phase1_sub_apply  \\\n",
       "0               0            -         71.333333         71.333333   \n",
       "1              20            -         43.076923         43.076923   \n",
       "2               0            -         54.166667         54.166667   \n",
       "3               0            -         53.571429         53.571429   \n",
       "4              96            -         41.666667         41.666667   \n",
       "\n",
       "   Phase2A_sub_taken  Phase2A_sub_apply  Phase2B_sub_taken  Phase2B_sub_apply  \\\n",
       "0          84.090909          84.090909          100.00000         222.727273   \n",
       "1           6.756757           6.756757            0.00000           0.000000   \n",
       "2         100.000000         132.727273          100.00000         240.000000   \n",
       "3          13.846154          13.846154           10.25641          10.256410   \n",
       "4          43.809524          43.809524            0.00000           0.000000   \n",
       "\n",
       "   Phase2C_sub_taken  Phase2C_sub_apply  Phase1_2A_vac  \n",
       "0         100.000000         231.111111              7  \n",
       "1          24.031008          24.031008             69  \n",
       "2         100.000000         204.761905              0  \n",
       "3         100.000000         129.203540             56  \n",
       "4          20.000000          20.000000             59  "
      ]
     },
     "execution_count": 20,
     "metadata": {},
     "output_type": "execute_result"
    }
   ],
   "source": [
    "df_school_full.head()"
   ]
  },
  {
   "cell_type": "code",
   "execution_count": 21,
   "metadata": {},
   "outputs": [],
   "source": [
    "def plot_phase_stripplot(category, title, group):\n",
    "\n",
    "    if group == \"GEP\":\n",
    "        color_discrete_map ={'No': 'blue',\n",
    "                             'Yes': 'red'}\n",
    "    elif group == \"Affiliation\":\n",
    "        color_discrete_map ={'No': 'blue',\n",
    "                             'Yes': '#B800F3'}\n",
    "\n",
    "    fig = px.strip(df_school_full, \n",
    "               x=category, \n",
    "               y=\"School_Nature\", \n",
    "               orientation=\"h\", \n",
    "               color=group,\n",
    "               custom_data=['Name', 'School_Nature', 'GEP'],\n",
    "               color_discrete_map = color_discrete_map,\n",
    "               hover_data = ['Name', 'School_Type'],\n",
    "               title=f\"<b>{title} Subscription Rate (%)</b>\",\n",
    "               labels={category: 'Percentage Subscribed (%)', \n",
    "                       'School_Nature':'',\n",
    "                       'School_Type': 'School Type'},\n",
    "               stripmode='overlay',\n",
    "               template=\"seaborn\",\n",
    "               width=1200,\n",
    "               height=500)\n",
    "    fig.update(layout_showlegend=True,\n",
    "            layout_xaxis=(dict(showgrid=False)),\n",
    "            layout_yaxis=(dict(showgrid=False)))\n",
    "    fig.update_traces(marker={'size': 8})\n",
    "    fig.update_yaxes(categoryorder='array', categoryarray=['Girls School', 'Boys School', 'Co-Ed School'])\n",
    "    fig.update_traces(hovertemplate = \"School: %{customdata[0]}<br>Category: %{y}<br>Percentage: %{x:.1f}%<br>GEP: %{customdata[2]}</br>\")\n",
    "    fig.show()"
   ]
  },
  {
   "attachments": {},
   "cell_type": "markdown",
   "metadata": {},
   "source": [
    "**Phase 1**: For a child who has a sibling studying in the primary school."
   ]
  },
  {
   "cell_type": "code",
   "execution_count": 22,
   "metadata": {},
   "outputs": [
    {
     "data": {
      "application/vnd.plotly.v1+json": {
       "config": {
        "plotlyServerURL": "https://plot.ly"
       },
       "data": [
        {
         "alignmentgroup": "True",
         "boxpoints": "all",
         "customdata": [
          [
           "Admiralty Primary School",
           "Co-Ed School",
           "No",
           "Government School"
          ],
          [
           "Ahmad Ibrahim Primary School",
           "Co-Ed School",
           "No",
           "Government School"
          ],
          [
           "Ai Tong School",
           "Co-Ed School",
           "No",
           "Government-Aided School"
          ],
          [
           "Alexandra Primary School",
           "Co-Ed School",
           "No",
           "Government School"
          ],
          [
           "Anchor Green Primary School",
           "Co-Ed School",
           "No",
           "Government School"
          ],
          [
           "Anderson Primary School",
           "Co-Ed School",
           "No",
           "Government School"
          ],
          [
           "Ang Mo Kio Primary School",
           "Co-Ed School",
           "No",
           "Government School"
          ],
          [
           "Anglo-Chinese School (Junior)",
           "Boys School",
           "No",
           "Government-Aided School"
          ],
          [
           "Angsana Primary School",
           "Co-Ed School",
           "No",
           "Government School"
          ],
          [
           "Beacon Primary School",
           "Co-Ed School",
           "No",
           "Government School"
          ],
          [
           "Bedok Green Primary School",
           "Co-Ed School",
           "No",
           "Government School"
          ],
          [
           "Bendemeer Primary School",
           "Co-Ed School",
           "No",
           "Government School"
          ],
          [
           "Blangah Rise Primary School",
           "Co-Ed School",
           "No",
           "Government School"
          ],
          [
           "Boon Lay Garden Primary School",
           "Co-Ed School",
           "No",
           "Government School"
          ],
          [
           "Bukit Panjang Primary School",
           "Co-Ed School",
           "No",
           "Government School"
          ],
          [
           "Bukit Timah Primary School",
           "Co-Ed School",
           "No",
           "Government School"
          ],
          [
           "Bukit View Primary School",
           "Co-Ed School",
           "No",
           "Government School"
          ],
          [
           "CHIJ (Katong) Primary",
           "Girls School",
           "No",
           "Government-Aided School"
          ],
          [
           "CHIJ (Kellock)",
           "Girls School",
           "No",
           "Government-Aided School"
          ],
          [
           "CHIJ Our Lady Queen of Peace",
           "Girls School",
           "No",
           "Government-Aided School"
          ],
          [
           "CHIJ Our Lady of Good Counsel",
           "Girls School",
           "No",
           "Government-Aided School"
          ],
          [
           "CHIJ Our Lady of the Nativity",
           "Girls School",
           "No",
           "Government-Aided School"
          ],
          [
           "CHIJ Primary (Toa Payoh)",
           "Girls School",
           "No",
           "Government-Aided School"
          ],
          [
           "CHIJ St. Nicholas Girls' School (Primary Section)",
           "Girls School",
           "No",
           "Government-Aided School / Autonomous"
          ],
          [
           "Canberra Primary School",
           "Co-Ed School",
           "No",
           "Government School"
          ],
          [
           "Canossa Catholic Primary School",
           "Co-Ed School",
           "No",
           "Government-Aided School"
          ],
          [
           "Cantonment Primary School",
           "Co-Ed School",
           "No",
           "Government School"
          ],
          [
           "Casuarina Primary School",
           "Co-Ed School",
           "No",
           "Government School"
          ],
          [
           "Cedar Primary School",
           "Co-Ed School",
           "No",
           "Government School"
          ],
          [
           "Changkat Primary School",
           "Co-Ed School",
           "No",
           "Government School"
          ],
          [
           "Chongfu School",
           "Co-Ed School",
           "No",
           "Government-Aided School"
          ],
          [
           "Chongzheng Primary School",
           "Co-Ed School",
           "No",
           "Government School"
          ],
          [
           "Chua Chu Kang Primary School",
           "Co-Ed School",
           "No",
           "Government School"
          ],
          [
           "Clementi Primary School",
           "Co-Ed School",
           "No",
           "Government School"
          ],
          [
           "Compassvale Primary School",
           "Co-Ed School",
           "No",
           "Government School"
          ],
          [
           "Concord Primary School",
           "Co-Ed School",
           "No",
           "Government School"
          ],
          [
           "Corporation Primary School",
           "Co-Ed School",
           "No",
           "Government School"
          ],
          [
           "Damai Primary School",
           "Co-Ed School",
           "No",
           "Government School"
          ],
          [
           "Dazhong Primary School",
           "Co-Ed School",
           "No",
           "Government School"
          ],
          [
           "De La Salle School",
           "Co-Ed School",
           "No",
           "Government-Aided School"
          ],
          [
           "East Spring Primary School",
           "Co-Ed School",
           "No",
           "Government School"
          ],
          [
           "Edgefield Primary School",
           "Co-Ed School",
           "No",
           "Government School"
          ],
          [
           "Elias Park Primary School",
           "Co-Ed School",
           "No",
           "Government School"
          ],
          [
           "Endeavour Primary School",
           "Co-Ed School",
           "No",
           "Government School"
          ],
          [
           "Evergreen Primary School",
           "Co-Ed School",
           "No",
           "Government School"
          ],
          [
           "Fairfield Methodist School (Primary)",
           "Co-Ed School",
           "No",
           "Government-Aided School"
          ],
          [
           "Farrer Park Primary School",
           "Co-Ed School",
           "No",
           "Government School"
          ],
          [
           "Fengshan Primary School",
           "Co-Ed School",
           "No",
           "Government School"
          ],
          [
           "Fern Green Primary School",
           "Co-Ed School",
           "No",
           "Government School"
          ],
          [
           "Fernvale Primary School",
           "Co-Ed School",
           "No",
           "Government School"
          ],
          [
           "First Toa Payoh Primary School",
           "Co-Ed School",
           "No",
           "Government School"
          ],
          [
           "Frontier Primary School",
           "Co-Ed School",
           "No",
           "Government School"
          ],
          [
           "Fuchun Primary School",
           "Co-Ed School",
           "No",
           "Government School"
          ],
          [
           "Fuhua Primary School",
           "Co-Ed School",
           "No",
           "Government School"
          ],
          [
           "Gan Eng Seng Primary School",
           "Co-Ed School",
           "No",
           "Government School"
          ],
          [
           "Geylang Methodist School (Primary)",
           "Co-Ed School",
           "No",
           "Government-Aided School"
          ],
          [
           "Gongshang Primary School",
           "Co-Ed School",
           "No",
           "Government School"
          ],
          [
           "Greendale Primary School",
           "Co-Ed School",
           "No",
           "Government School"
          ],
          [
           "Greenridge Primary School",
           "Co-Ed School",
           "No",
           "Government School"
          ],
          [
           "Greenwood Primary School",
           "Co-Ed School",
           "No",
           "Government School"
          ],
          [
           "Haig Girls' School",
           "Girls School",
           "No",
           "Government School"
          ],
          [
           "Holy Innocents' Primary School",
           "Co-Ed School",
           "No",
           "Government-Aided School"
          ],
          [
           "Hong Wen School",
           "Co-Ed School",
           "No",
           "Government-Aided School"
          ],
          [
           "Horizon Primary School",
           "Co-Ed School",
           "No",
           "Government School"
          ],
          [
           "Hougang Primary School",
           "Co-Ed School",
           "No",
           "Government School"
          ],
          [
           "Huamin Primary School",
           "Co-Ed School",
           "No",
           "Government School"
          ],
          [
           "Innova Primary School",
           "Co-Ed School",
           "No",
           "Government School"
          ],
          [
           "Jiemin Primary School",
           "Co-Ed School",
           "No",
           "Government School"
          ],
          [
           "Jing Shan Primary School",
           "Co-Ed School",
           "No",
           "Government School"
          ],
          [
           "Junyuan Primary School",
           "Co-Ed School",
           "No",
           "Government School"
          ],
          [
           "Jurong Primary School",
           "Co-Ed School",
           "No",
           "Government School"
          ],
          [
           "Jurong West Primary School",
           "Co-Ed School",
           "No",
           "Government School"
          ],
          [
           "Keming Primary School",
           "Co-Ed School",
           "No",
           "Government School"
          ],
          [
           "Kheng Cheng School",
           "Co-Ed School",
           "No",
           "Government-Aided School"
          ],
          [
           "Kong Hwa School",
           "Co-Ed School",
           "No",
           "Government-Aided School"
          ],
          [
           "Kranji Primary School",
           "Co-Ed School",
           "No",
           "Government School"
          ],
          [
           "Kuo Chuan Presbyterian Primary School",
           "Co-Ed School",
           "No",
           "Government-Aided School"
          ],
          [
           "Lakeside Primary School",
           "Co-Ed School",
           "No",
           "Government School"
          ],
          [
           "Lianhua Primary School",
           "Co-Ed School",
           "No",
           "Government School"
          ],
          [
           "Maha Bodhi School",
           "Co-Ed School",
           "No",
           "Government-Aided School"
          ],
          [
           "Maris Stella High School (Primary Section)",
           "Boys School",
           "No",
           "Government-Aided School / Autonomous"
          ],
          [
           "Marsiling Primary School",
           "Co-Ed School",
           "No",
           "Government School"
          ],
          [
           "Marymount Convent School",
           "Girls School",
           "No",
           "Government-Aided School"
          ],
          [
           "Mayflower Primary School",
           "Co-Ed School",
           "No",
           "Government School"
          ],
          [
           "Mee Toh School",
           "Co-Ed School",
           "No",
           "Government-Aided School"
          ],
          [
           "Meridian Primary School",
           "Co-Ed School",
           "No",
           "Government School"
          ],
          [
           "Methodist Girls' School (Primary)",
           "Girls School",
           "No",
           "Government-Aided School"
          ],
          [
           "Montfort Junior School",
           "Boys School",
           "No",
           "Government-Aided School"
          ],
          [
           "Nan Chiau Primary School",
           "Co-Ed School",
           "No",
           "Government-Aided School"
          ],
          [
           "Naval Base Primary School",
           "Co-Ed School",
           "No",
           "Government School"
          ],
          [
           "New Town Primary School",
           "Co-Ed School",
           "No",
           "Government School"
          ],
          [
           "Ngee Ann Primary School",
           "Co-Ed School",
           "No",
           "Government-Aided School"
          ],
          [
           "North Spring Primary School",
           "Co-Ed School",
           "No",
           "Government School"
          ],
          [
           "North View Primary School",
           "Co-Ed School",
           "No",
           "Government School"
          ],
          [
           "North Vista Primary School",
           "Co-Ed School",
           "No",
           "Government School"
          ],
          [
           "Northland Primary School",
           "Co-Ed School",
           "No",
           "Government School"
          ],
          [
           "Northoaks Primary School",
           "Co-Ed School",
           "No",
           "Government School"
          ],
          [
           "Northshore Primary School",
           "Co-Ed School",
           "No",
           "Government School"
          ],
          [
           "Oasis Primary School",
           "Co-Ed School",
           "No",
           "Government School"
          ],
          [
           "Opera Estate Primary School",
           "Co-Ed School",
           "No",
           "Government School"
          ],
          [
           "Palm View Primary School",
           "Co-Ed School",
           "No",
           "Government School"
          ],
          [
           "Park View Primary School",
           "Co-Ed School",
           "No",
           "Government School"
          ],
          [
           "Pasir Ris Primary School",
           "Co-Ed School",
           "No",
           "Government School"
          ],
          [
           "Paya Lebar Methodist Girls' School (Primary)",
           "Girls School",
           "No",
           "Government-Aided School"
          ],
          [
           "Pei Chun Public School",
           "Co-Ed School",
           "No",
           "Government-Aided School"
          ],
          [
           "Pei Hwa Presbyterian Primary School",
           "Co-Ed School",
           "No",
           "Government-Aided School"
          ],
          [
           "Pei Tong Primary School",
           "Co-Ed School",
           "No",
           "Government School"
          ],
          [
           "Peiying Primary School",
           "Co-Ed School",
           "No",
           "Government School"
          ],
          [
           "Poi Ching School",
           "Co-Ed School",
           "No",
           "Government-Aided School"
          ],
          [
           "Princess Elizabeth Primary School",
           "Co-Ed School",
           "No",
           "Government School"
          ],
          [
           "Punggol Cove Primary School",
           "Co-Ed School",
           "No",
           "Government School"
          ],
          [
           "Punggol Green Primary School",
           "Co-Ed School",
           "No",
           "Government School"
          ],
          [
           "Punggol Primary School",
           "Co-Ed School",
           "No",
           "Government School"
          ],
          [
           "Punggol View Primary School",
           "Co-Ed School",
           "No",
           "Government School"
          ],
          [
           "Qifa Primary School",
           "Co-Ed School",
           "No",
           "Government School"
          ],
          [
           "Qihua Primary School",
           "Co-Ed School",
           "No",
           "Government School"
          ],
          [
           "Queenstown Primary School",
           "Co-Ed School",
           "No",
           "Government School"
          ],
          [
           "Radin Mas Primary School",
           "Co-Ed School",
           "No",
           "Government School"
          ],
          [
           "Red Swastika School",
           "Co-Ed School",
           "No",
           "Government-Aided School"
          ],
          [
           "River Valley Primary School",
           "Co-Ed School",
           "No",
           "Government School"
          ],
          [
           "Riverside Primary School",
           "Co-Ed School",
           "No",
           "Government School"
          ],
          [
           "Rivervale Primary School",
           "Co-Ed School",
           "No",
           "Government School"
          ],
          [
           "Rulang Primary School",
           "Co-Ed School",
           "No",
           "Government School"
          ],
          [
           "Sembawang Primary School",
           "Co-Ed School",
           "No",
           "Government School"
          ],
          [
           "Seng Kang Primary School",
           "Co-Ed School",
           "No",
           "Government School"
          ],
          [
           "Sengkang Green Primary School",
           "Co-Ed School",
           "No",
           "Government School"
          ],
          [
           "Shuqun Primary School",
           "Co-Ed School",
           "No",
           "Government School"
          ],
          [
           "Si Ling Primary School",
           "Co-Ed School",
           "No",
           "Government School"
          ],
          [
           "Singapore Chinese Girls' Primary School",
           "Girls School",
           "No",
           "Government-Aided School"
          ],
          [
           "South View Primary School",
           "Co-Ed School",
           "No",
           "Government School"
          ],
          [
           "Springdale Primary School",
           "Co-Ed School",
           "No",
           "Government School"
          ],
          [
           "St. Andrew's Junior School",
           "Boys School",
           "No",
           "Government-Aided School"
          ],
          [
           "St. Anthony's Canossian Primary School",
           "Girls School",
           "No",
           "Government-Aided School"
          ],
          [
           "St. Anthony's Primary School",
           "Co-Ed School",
           "No",
           "Government-Aided School"
          ],
          [
           "St. Gabriel's Primary School",
           "Boys School",
           "No",
           "Government-Aided School"
          ],
          [
           "St. Joseph's Institution Junior",
           "Boys School",
           "No",
           "Government-Aided School"
          ],
          [
           "St. Margaret's Primary School",
           "Girls School",
           "No",
           "Government-Aided School"
          ],
          [
           "St. Stephen's School",
           "Boys School",
           "No",
           "Government-Aided School"
          ],
          [
           "Tampines North Primary School",
           "Co-Ed School",
           "No",
           "Government School"
          ],
          [
           "Tampines Primary School",
           "Co-Ed School",
           "No",
           "Government School"
          ],
          [
           "Tanjong Katong Primary School",
           "Co-Ed School",
           "No",
           "Government School"
          ],
          [
           "Teck Ghee Primary School",
           "Co-Ed School",
           "No",
           "Government School"
          ],
          [
           "Teck Whye Primary School",
           "Co-Ed School",
           "No",
           "Government School"
          ],
          [
           "Telok Kurau Primary School",
           "Co-Ed School",
           "No",
           "Government School"
          ],
          [
           "Temasek Primary School",
           "Co-Ed School",
           "No",
           "Government School"
          ],
          [
           "Townsville Primary School",
           "Co-Ed School",
           "No",
           "Government School"
          ],
          [
           "Unity Primary School",
           "Co-Ed School",
           "No",
           "Government School"
          ],
          [
           "Valour Primary School",
           "Co-Ed School",
           "No",
           "Government School"
          ],
          [
           "Waterway Primary School",
           "Co-Ed School",
           "No",
           "Government School"
          ],
          [
           "Wellington Primary School",
           "Co-Ed School",
           "No",
           "Government School"
          ],
          [
           "West Grove Primary School",
           "Co-Ed School",
           "No",
           "Government School"
          ],
          [
           "West Spring Primary School",
           "Co-Ed School",
           "No",
           "Government School"
          ],
          [
           "West View Primary School",
           "Co-Ed School",
           "No",
           "Government School"
          ],
          [
           "Westwood Primary School",
           "Co-Ed School",
           "No",
           "Government School"
          ],
          [
           "White Sands Primary School",
           "Co-Ed School",
           "No",
           "Government School"
          ],
          [
           "Woodgrove Primary School",
           "Co-Ed School",
           "No",
           "Government School"
          ],
          [
           "Woodlands Primary School",
           "Co-Ed School",
           "No",
           "Government School"
          ],
          [
           "Woodlands Ring Primary School",
           "Co-Ed School",
           "No",
           "Government School"
          ],
          [
           "Xinghua Primary School",
           "Co-Ed School",
           "No",
           "Government School"
          ],
          [
           "Xingnan Primary School",
           "Co-Ed School",
           "No",
           "Government School"
          ],
          [
           "Xinmin Primary School",
           "Co-Ed School",
           "No",
           "Government School"
          ],
          [
           "Xishan Primary School",
           "Co-Ed School",
           "No",
           "Government School"
          ],
          [
           "Yangzheng Primary School",
           "Co-Ed School",
           "No",
           "Government School"
          ],
          [
           "Yew Tee Primary School",
           "Co-Ed School",
           "No",
           "Government School"
          ],
          [
           "Yio Chu Kang Primary School",
           "Co-Ed School",
           "No",
           "Government School"
          ],
          [
           "Yishun Primary School",
           "Co-Ed School",
           "No",
           "Government School"
          ],
          [
           "Yu Neng Primary School",
           "Co-Ed School",
           "No",
           "Government School"
          ],
          [
           "Yuhua Primary School",
           "Co-Ed School",
           "No",
           "Government School"
          ],
          [
           "Yumin Primary School",
           "Co-Ed School",
           "No",
           "Government School"
          ],
          [
           "Zhangde Primary School",
           "Co-Ed School",
           "No",
           "Government School"
          ],
          [
           "Zhenghua Primary School",
           "Co-Ed School",
           "No",
           "Government School"
          ],
          [
           "Zhonghua Primary School",
           "Co-Ed School",
           "No",
           "Government School"
          ]
         ],
         "fillcolor": "rgba(255,255,255,0)",
         "hoveron": "points",
         "hovertemplate": "School: %{customdata[0]}<br>Category: %{y}<br>Percentage: %{x:.1f}%<br>GEP: %{customdata[2]}</br>",
         "legendgroup": "No",
         "line": {
          "color": "rgba(255,255,255,0)"
         },
         "marker": {
          "color": "blue",
          "size": 8
         },
         "name": "No",
         "offsetgroup": "No",
         "orientation": "h",
         "pointpos": 0,
         "showlegend": true,
         "type": "box",
         "x": [
          71.33333333333334,
          43.07692307692308,
          54.16666666666666,
          53.57142857142857,
          41.66666666666667,
          60.66666666666667,
          32,
          37.142857142857146,
          26.36363636363636,
          45.33333333333333,
          39.44444444444444,
          40,
          31.666666666666664,
          27.08333333333333,
          55.55555555555556,
          45.38461538461539,
          24.166666666666668,
          27.857142857142858,
          35,
          31.666666666666664,
          36.66666666666666,
          32.22222222222222,
          36.66666666666666,
          40,
          47.77777777777778,
          56.66666666666666,
          36.66666666666666,
          60,
          18.33333333333333,
          35.333333333333336,
          57.91666666666667,
          74.16666666666667,
          63.33333333333333,
          37.27272727272727,
          54.44444444444444,
          57.22222222222222,
          45.55555555555556,
          31.666666666666664,
          63.57142857142857,
          43.888888888888886,
          50.76923076923077,
          48.333333333333336,
          66.66666666666666,
          42.77777777777778,
          45.33333333333333,
          58.57142857142858,
          34.61538461538461,
          70,
          66.66666666666666,
          51.11111111111111,
          20,
          53.333333333333336,
          34,
          69.16666666666667,
          40,
          49.04761904761904,
          60.66666666666667,
          47.22222222222222,
          54,
          52.77777777777778,
          28.46153846153846,
          58.0952380952381,
          49.333333333333336,
          56.11111111111112,
          70.71428571428572,
          52.27272727272727,
          62.5,
          61.66666666666667,
          61.11111111111112,
          47.77777777777778,
          66.66666666666666,
          72.5,
          62.5,
          46.11111111111112,
          47.14285714285714,
          34.44444444444444,
          57.22222222222222,
          57.77777777777777,
          22.08333333333333,
          48.888888888888886,
          39.04761904761905,
          41.333333333333336,
          17.77777777777778,
          42.30769230769231,
          48.75,
          45.38461538461539,
          54,
          28.88888888888889,
          59.583333333333336,
          52.27272727272727,
          22,
          47.77777777777778,
          43.333333333333336,
          45,
          43.888888888888886,
          66.66666666666666,
          18.125,
          18.33333333333333,
          71.57894736842105,
          56.92307692307692,
          51.66666666666667,
          51.66666666666667,
          69.16666666666667,
          37.61904761904762,
          55.833333333333336,
          73.78048780487805,
          29.09090909090909,
          50.76923076923077,
          46.11111111111112,
          70,
          52.10526315789473,
          64.21052631578948,
          64.61538461538461,
          65.78947368421053,
          47.27272727272727,
          32.77777777777778,
          50.66666666666667,
          60.71428571428571,
          64.44444444444444,
          56.66666666666666,
          68.66666666666667,
          68.66666666666667,
          57.14285714285714,
          62.142857142857146,
          40,
          50.45454545454545,
          48.57142857142857,
          50,
          41.66666666666667,
          62.85714285714285,
          55.00000000000001,
          34.44444444444444,
          17.22222222222222,
          54.37499999999999,
          32.22222222222222,
          40.55555555555556,
          34.84848484848485,
          19.444444444444446,
          45,
          51.11111111111111,
          60.71428571428571,
          48.66666666666667,
          32.22222222222222,
          60.76923076923077,
          65,
          35,
          50.66666666666667,
          47.72727272727273,
          54.54545454545454,
          56.11111111111112,
          38.88888888888889,
          68.33333333333333,
          47,
          58.88888888888889,
          53.333333333333336,
          72.5,
          60.66666666666667,
          43.888888888888886,
          17.727272727272727,
          36.25,
          52.66666666666666,
          53.07692307692308,
          68,
          44.66666666666666,
          39.285714285714285,
          54.16666666666666,
          65,
          32.666666666666664,
          50,
          62.5,
          50.55555555555556,
          31.11111111111111
         ],
         "x0": " ",
         "xaxis": "x",
         "y": [
          "Co-Ed School",
          "Co-Ed School",
          "Co-Ed School",
          "Co-Ed School",
          "Co-Ed School",
          "Co-Ed School",
          "Co-Ed School",
          "Boys School",
          "Co-Ed School",
          "Co-Ed School",
          "Co-Ed School",
          "Co-Ed School",
          "Co-Ed School",
          "Co-Ed School",
          "Co-Ed School",
          "Co-Ed School",
          "Co-Ed School",
          "Girls School",
          "Girls School",
          "Girls School",
          "Girls School",
          "Girls School",
          "Girls School",
          "Girls School",
          "Co-Ed School",
          "Co-Ed School",
          "Co-Ed School",
          "Co-Ed School",
          "Co-Ed School",
          "Co-Ed School",
          "Co-Ed School",
          "Co-Ed School",
          "Co-Ed School",
          "Co-Ed School",
          "Co-Ed School",
          "Co-Ed School",
          "Co-Ed School",
          "Co-Ed School",
          "Co-Ed School",
          "Co-Ed School",
          "Co-Ed School",
          "Co-Ed School",
          "Co-Ed School",
          "Co-Ed School",
          "Co-Ed School",
          "Co-Ed School",
          "Co-Ed School",
          "Co-Ed School",
          "Co-Ed School",
          "Co-Ed School",
          "Co-Ed School",
          "Co-Ed School",
          "Co-Ed School",
          "Co-Ed School",
          "Co-Ed School",
          "Co-Ed School",
          "Co-Ed School",
          "Co-Ed School",
          "Co-Ed School",
          "Co-Ed School",
          "Girls School",
          "Co-Ed School",
          "Co-Ed School",
          "Co-Ed School",
          "Co-Ed School",
          "Co-Ed School",
          "Co-Ed School",
          "Co-Ed School",
          "Co-Ed School",
          "Co-Ed School",
          "Co-Ed School",
          "Co-Ed School",
          "Co-Ed School",
          "Co-Ed School",
          "Co-Ed School",
          "Co-Ed School",
          "Co-Ed School",
          "Co-Ed School",
          "Co-Ed School",
          "Co-Ed School",
          "Boys School",
          "Co-Ed School",
          "Girls School",
          "Co-Ed School",
          "Co-Ed School",
          "Co-Ed School",
          "Girls School",
          "Boys School",
          "Co-Ed School",
          "Co-Ed School",
          "Co-Ed School",
          "Co-Ed School",
          "Co-Ed School",
          "Co-Ed School",
          "Co-Ed School",
          "Co-Ed School",
          "Co-Ed School",
          "Co-Ed School",
          "Co-Ed School",
          "Co-Ed School",
          "Co-Ed School",
          "Co-Ed School",
          "Co-Ed School",
          "Girls School",
          "Co-Ed School",
          "Co-Ed School",
          "Co-Ed School",
          "Co-Ed School",
          "Co-Ed School",
          "Co-Ed School",
          "Co-Ed School",
          "Co-Ed School",
          "Co-Ed School",
          "Co-Ed School",
          "Co-Ed School",
          "Co-Ed School",
          "Co-Ed School",
          "Co-Ed School",
          "Co-Ed School",
          "Co-Ed School",
          "Co-Ed School",
          "Co-Ed School",
          "Co-Ed School",
          "Co-Ed School",
          "Co-Ed School",
          "Co-Ed School",
          "Co-Ed School",
          "Co-Ed School",
          "Girls School",
          "Co-Ed School",
          "Co-Ed School",
          "Boys School",
          "Girls School",
          "Co-Ed School",
          "Boys School",
          "Boys School",
          "Girls School",
          "Boys School",
          "Co-Ed School",
          "Co-Ed School",
          "Co-Ed School",
          "Co-Ed School",
          "Co-Ed School",
          "Co-Ed School",
          "Co-Ed School",
          "Co-Ed School",
          "Co-Ed School",
          "Co-Ed School",
          "Co-Ed School",
          "Co-Ed School",
          "Co-Ed School",
          "Co-Ed School",
          "Co-Ed School",
          "Co-Ed School",
          "Co-Ed School",
          "Co-Ed School",
          "Co-Ed School",
          "Co-Ed School",
          "Co-Ed School",
          "Co-Ed School",
          "Co-Ed School",
          "Co-Ed School",
          "Co-Ed School",
          "Co-Ed School",
          "Co-Ed School",
          "Co-Ed School",
          "Co-Ed School",
          "Co-Ed School",
          "Co-Ed School",
          "Co-Ed School",
          "Co-Ed School",
          "Co-Ed School"
         ],
         "y0": " ",
         "yaxis": "y"
        },
        {
         "alignmentgroup": "True",
         "boxpoints": "all",
         "customdata": [
          [
           "Anglo-Chinese School (Primary)",
           "Boys School",
           "Yes",
           "Government-Aided School"
          ],
          [
           "Catholic High School (Primary Section)",
           "Boys School",
           "Yes",
           "Government-Aided School / Autonomous"
          ],
          [
           "Henry Park Primary School",
           "Co-Ed School",
           "Yes",
           "Government School"
          ],
          [
           "Nan Hua Primary School",
           "Co-Ed School",
           "Yes",
           "Government-Aided School"
          ],
          [
           "Nanyang Primary School",
           "Co-Ed School",
           "Yes",
           "Government-Aided School"
          ],
          [
           "Raffles Girls' Primary School",
           "Girls School",
           "Yes",
           "Government School"
          ],
          [
           "Rosyth School",
           "Co-Ed School",
           "Yes",
           "Government School"
          ],
          [
           "St. Hilda's Primary School",
           "Co-Ed School",
           "Yes",
           "Government-Aided School"
          ],
          [
           "Tao Nan School",
           "Co-Ed School",
           "Yes",
           "Government-Aided School"
          ]
         ],
         "fillcolor": "rgba(255,255,255,0)",
         "hoveron": "points",
         "hovertemplate": "School: %{customdata[0]}<br>Category: %{y}<br>Percentage: %{x:.1f}%<br>GEP: %{customdata[2]}</br>",
         "legendgroup": "Yes",
         "line": {
          "color": "rgba(255,255,255,0)"
         },
         "marker": {
          "color": "red",
          "size": 8
         },
         "name": "Yes",
         "offsetgroup": "Yes",
         "orientation": "h",
         "pointpos": 0,
         "showlegend": true,
         "type": "box",
         "x": [
          34.44444444444444,
          38.88888888888889,
          54.58333333333333,
          57.77777777777777,
          53.03030303030303,
          42.38095238095238,
          65.23809523809524,
          67.14285714285714,
          54.66666666666666
         ],
         "x0": " ",
         "xaxis": "x",
         "y": [
          "Boys School",
          "Boys School",
          "Co-Ed School",
          "Co-Ed School",
          "Co-Ed School",
          "Girls School",
          "Co-Ed School",
          "Co-Ed School",
          "Co-Ed School"
         ],
         "y0": " ",
         "yaxis": "y"
        }
       ],
       "layout": {
        "boxmode": "overlay",
        "height": 500,
        "legend": {
         "title": {
          "text": "GEP"
         },
         "tracegroupgap": 0
        },
        "showlegend": true,
        "template": {
         "data": {
          "bar": [
           {
            "error_x": {
             "color": "rgb(36,36,36)"
            },
            "error_y": {
             "color": "rgb(36,36,36)"
            },
            "marker": {
             "line": {
              "color": "rgb(234,234,242)",
              "width": 0.5
             },
             "pattern": {
              "fillmode": "overlay",
              "size": 10,
              "solidity": 0.2
             }
            },
            "type": "bar"
           }
          ],
          "barpolar": [
           {
            "marker": {
             "line": {
              "color": "rgb(234,234,242)",
              "width": 0.5
             },
             "pattern": {
              "fillmode": "overlay",
              "size": 10,
              "solidity": 0.2
             }
            },
            "type": "barpolar"
           }
          ],
          "carpet": [
           {
            "aaxis": {
             "endlinecolor": "rgb(36,36,36)",
             "gridcolor": "white",
             "linecolor": "white",
             "minorgridcolor": "white",
             "startlinecolor": "rgb(36,36,36)"
            },
            "baxis": {
             "endlinecolor": "rgb(36,36,36)",
             "gridcolor": "white",
             "linecolor": "white",
             "minorgridcolor": "white",
             "startlinecolor": "rgb(36,36,36)"
            },
            "type": "carpet"
           }
          ],
          "choropleth": [
           {
            "colorbar": {
             "outlinewidth": 0,
             "tickcolor": "rgb(36,36,36)",
             "ticklen": 8,
             "ticks": "outside",
             "tickwidth": 2
            },
            "type": "choropleth"
           }
          ],
          "contour": [
           {
            "colorbar": {
             "outlinewidth": 0,
             "tickcolor": "rgb(36,36,36)",
             "ticklen": 8,
             "ticks": "outside",
             "tickwidth": 2
            },
            "colorscale": [
             [
              0,
              "rgb(2,4,25)"
             ],
             [
              0.06274509803921569,
              "rgb(24,15,41)"
             ],
             [
              0.12549019607843137,
              "rgb(47,23,57)"
             ],
             [
              0.18823529411764706,
              "rgb(71,28,72)"
             ],
             [
              0.25098039215686274,
              "rgb(97,30,82)"
             ],
             [
              0.3137254901960784,
              "rgb(123,30,89)"
             ],
             [
              0.3764705882352941,
              "rgb(150,27,91)"
             ],
             [
              0.4392156862745098,
              "rgb(177,22,88)"
             ],
             [
              0.5019607843137255,
              "rgb(203,26,79)"
             ],
             [
              0.5647058823529412,
              "rgb(223,47,67)"
             ],
             [
              0.6274509803921569,
              "rgb(236,76,61)"
             ],
             [
              0.6901960784313725,
              "rgb(242,107,73)"
             ],
             [
              0.7529411764705882,
              "rgb(244,135,95)"
             ],
             [
              0.8156862745098039,
              "rgb(245,162,122)"
             ],
             [
              0.8784313725490196,
              "rgb(246,188,153)"
             ],
             [
              0.9411764705882353,
              "rgb(247,212,187)"
             ],
             [
              1,
              "rgb(250,234,220)"
             ]
            ],
            "type": "contour"
           }
          ],
          "contourcarpet": [
           {
            "colorbar": {
             "outlinewidth": 0,
             "tickcolor": "rgb(36,36,36)",
             "ticklen": 8,
             "ticks": "outside",
             "tickwidth": 2
            },
            "type": "contourcarpet"
           }
          ],
          "heatmap": [
           {
            "colorbar": {
             "outlinewidth": 0,
             "tickcolor": "rgb(36,36,36)",
             "ticklen": 8,
             "ticks": "outside",
             "tickwidth": 2
            },
            "colorscale": [
             [
              0,
              "rgb(2,4,25)"
             ],
             [
              0.06274509803921569,
              "rgb(24,15,41)"
             ],
             [
              0.12549019607843137,
              "rgb(47,23,57)"
             ],
             [
              0.18823529411764706,
              "rgb(71,28,72)"
             ],
             [
              0.25098039215686274,
              "rgb(97,30,82)"
             ],
             [
              0.3137254901960784,
              "rgb(123,30,89)"
             ],
             [
              0.3764705882352941,
              "rgb(150,27,91)"
             ],
             [
              0.4392156862745098,
              "rgb(177,22,88)"
             ],
             [
              0.5019607843137255,
              "rgb(203,26,79)"
             ],
             [
              0.5647058823529412,
              "rgb(223,47,67)"
             ],
             [
              0.6274509803921569,
              "rgb(236,76,61)"
             ],
             [
              0.6901960784313725,
              "rgb(242,107,73)"
             ],
             [
              0.7529411764705882,
              "rgb(244,135,95)"
             ],
             [
              0.8156862745098039,
              "rgb(245,162,122)"
             ],
             [
              0.8784313725490196,
              "rgb(246,188,153)"
             ],
             [
              0.9411764705882353,
              "rgb(247,212,187)"
             ],
             [
              1,
              "rgb(250,234,220)"
             ]
            ],
            "type": "heatmap"
           }
          ],
          "heatmapgl": [
           {
            "colorbar": {
             "outlinewidth": 0,
             "tickcolor": "rgb(36,36,36)",
             "ticklen": 8,
             "ticks": "outside",
             "tickwidth": 2
            },
            "colorscale": [
             [
              0,
              "rgb(2,4,25)"
             ],
             [
              0.06274509803921569,
              "rgb(24,15,41)"
             ],
             [
              0.12549019607843137,
              "rgb(47,23,57)"
             ],
             [
              0.18823529411764706,
              "rgb(71,28,72)"
             ],
             [
              0.25098039215686274,
              "rgb(97,30,82)"
             ],
             [
              0.3137254901960784,
              "rgb(123,30,89)"
             ],
             [
              0.3764705882352941,
              "rgb(150,27,91)"
             ],
             [
              0.4392156862745098,
              "rgb(177,22,88)"
             ],
             [
              0.5019607843137255,
              "rgb(203,26,79)"
             ],
             [
              0.5647058823529412,
              "rgb(223,47,67)"
             ],
             [
              0.6274509803921569,
              "rgb(236,76,61)"
             ],
             [
              0.6901960784313725,
              "rgb(242,107,73)"
             ],
             [
              0.7529411764705882,
              "rgb(244,135,95)"
             ],
             [
              0.8156862745098039,
              "rgb(245,162,122)"
             ],
             [
              0.8784313725490196,
              "rgb(246,188,153)"
             ],
             [
              0.9411764705882353,
              "rgb(247,212,187)"
             ],
             [
              1,
              "rgb(250,234,220)"
             ]
            ],
            "type": "heatmapgl"
           }
          ],
          "histogram": [
           {
            "marker": {
             "pattern": {
              "fillmode": "overlay",
              "size": 10,
              "solidity": 0.2
             }
            },
            "type": "histogram"
           }
          ],
          "histogram2d": [
           {
            "colorbar": {
             "outlinewidth": 0,
             "tickcolor": "rgb(36,36,36)",
             "ticklen": 8,
             "ticks": "outside",
             "tickwidth": 2
            },
            "colorscale": [
             [
              0,
              "rgb(2,4,25)"
             ],
             [
              0.06274509803921569,
              "rgb(24,15,41)"
             ],
             [
              0.12549019607843137,
              "rgb(47,23,57)"
             ],
             [
              0.18823529411764706,
              "rgb(71,28,72)"
             ],
             [
              0.25098039215686274,
              "rgb(97,30,82)"
             ],
             [
              0.3137254901960784,
              "rgb(123,30,89)"
             ],
             [
              0.3764705882352941,
              "rgb(150,27,91)"
             ],
             [
              0.4392156862745098,
              "rgb(177,22,88)"
             ],
             [
              0.5019607843137255,
              "rgb(203,26,79)"
             ],
             [
              0.5647058823529412,
              "rgb(223,47,67)"
             ],
             [
              0.6274509803921569,
              "rgb(236,76,61)"
             ],
             [
              0.6901960784313725,
              "rgb(242,107,73)"
             ],
             [
              0.7529411764705882,
              "rgb(244,135,95)"
             ],
             [
              0.8156862745098039,
              "rgb(245,162,122)"
             ],
             [
              0.8784313725490196,
              "rgb(246,188,153)"
             ],
             [
              0.9411764705882353,
              "rgb(247,212,187)"
             ],
             [
              1,
              "rgb(250,234,220)"
             ]
            ],
            "type": "histogram2d"
           }
          ],
          "histogram2dcontour": [
           {
            "colorbar": {
             "outlinewidth": 0,
             "tickcolor": "rgb(36,36,36)",
             "ticklen": 8,
             "ticks": "outside",
             "tickwidth": 2
            },
            "colorscale": [
             [
              0,
              "rgb(2,4,25)"
             ],
             [
              0.06274509803921569,
              "rgb(24,15,41)"
             ],
             [
              0.12549019607843137,
              "rgb(47,23,57)"
             ],
             [
              0.18823529411764706,
              "rgb(71,28,72)"
             ],
             [
              0.25098039215686274,
              "rgb(97,30,82)"
             ],
             [
              0.3137254901960784,
              "rgb(123,30,89)"
             ],
             [
              0.3764705882352941,
              "rgb(150,27,91)"
             ],
             [
              0.4392156862745098,
              "rgb(177,22,88)"
             ],
             [
              0.5019607843137255,
              "rgb(203,26,79)"
             ],
             [
              0.5647058823529412,
              "rgb(223,47,67)"
             ],
             [
              0.6274509803921569,
              "rgb(236,76,61)"
             ],
             [
              0.6901960784313725,
              "rgb(242,107,73)"
             ],
             [
              0.7529411764705882,
              "rgb(244,135,95)"
             ],
             [
              0.8156862745098039,
              "rgb(245,162,122)"
             ],
             [
              0.8784313725490196,
              "rgb(246,188,153)"
             ],
             [
              0.9411764705882353,
              "rgb(247,212,187)"
             ],
             [
              1,
              "rgb(250,234,220)"
             ]
            ],
            "type": "histogram2dcontour"
           }
          ],
          "mesh3d": [
           {
            "colorbar": {
             "outlinewidth": 0,
             "tickcolor": "rgb(36,36,36)",
             "ticklen": 8,
             "ticks": "outside",
             "tickwidth": 2
            },
            "type": "mesh3d"
           }
          ],
          "parcoords": [
           {
            "line": {
             "colorbar": {
              "outlinewidth": 0,
              "tickcolor": "rgb(36,36,36)",
              "ticklen": 8,
              "ticks": "outside",
              "tickwidth": 2
             }
            },
            "type": "parcoords"
           }
          ],
          "pie": [
           {
            "automargin": true,
            "type": "pie"
           }
          ],
          "scatter": [
           {
            "fillpattern": {
             "fillmode": "overlay",
             "size": 10,
             "solidity": 0.2
            },
            "type": "scatter"
           }
          ],
          "scatter3d": [
           {
            "line": {
             "colorbar": {
              "outlinewidth": 0,
              "tickcolor": "rgb(36,36,36)",
              "ticklen": 8,
              "ticks": "outside",
              "tickwidth": 2
             }
            },
            "marker": {
             "colorbar": {
              "outlinewidth": 0,
              "tickcolor": "rgb(36,36,36)",
              "ticklen": 8,
              "ticks": "outside",
              "tickwidth": 2
             }
            },
            "type": "scatter3d"
           }
          ],
          "scattercarpet": [
           {
            "marker": {
             "colorbar": {
              "outlinewidth": 0,
              "tickcolor": "rgb(36,36,36)",
              "ticklen": 8,
              "ticks": "outside",
              "tickwidth": 2
             }
            },
            "type": "scattercarpet"
           }
          ],
          "scattergeo": [
           {
            "marker": {
             "colorbar": {
              "outlinewidth": 0,
              "tickcolor": "rgb(36,36,36)",
              "ticklen": 8,
              "ticks": "outside",
              "tickwidth": 2
             }
            },
            "type": "scattergeo"
           }
          ],
          "scattergl": [
           {
            "marker": {
             "colorbar": {
              "outlinewidth": 0,
              "tickcolor": "rgb(36,36,36)",
              "ticklen": 8,
              "ticks": "outside",
              "tickwidth": 2
             }
            },
            "type": "scattergl"
           }
          ],
          "scattermapbox": [
           {
            "marker": {
             "colorbar": {
              "outlinewidth": 0,
              "tickcolor": "rgb(36,36,36)",
              "ticklen": 8,
              "ticks": "outside",
              "tickwidth": 2
             }
            },
            "type": "scattermapbox"
           }
          ],
          "scatterpolar": [
           {
            "marker": {
             "colorbar": {
              "outlinewidth": 0,
              "tickcolor": "rgb(36,36,36)",
              "ticklen": 8,
              "ticks": "outside",
              "tickwidth": 2
             }
            },
            "type": "scatterpolar"
           }
          ],
          "scatterpolargl": [
           {
            "marker": {
             "colorbar": {
              "outlinewidth": 0,
              "tickcolor": "rgb(36,36,36)",
              "ticklen": 8,
              "ticks": "outside",
              "tickwidth": 2
             }
            },
            "type": "scatterpolargl"
           }
          ],
          "scatterternary": [
           {
            "marker": {
             "colorbar": {
              "outlinewidth": 0,
              "tickcolor": "rgb(36,36,36)",
              "ticklen": 8,
              "ticks": "outside",
              "tickwidth": 2
             }
            },
            "type": "scatterternary"
           }
          ],
          "surface": [
           {
            "colorbar": {
             "outlinewidth": 0,
             "tickcolor": "rgb(36,36,36)",
             "ticklen": 8,
             "ticks": "outside",
             "tickwidth": 2
            },
            "colorscale": [
             [
              0,
              "rgb(2,4,25)"
             ],
             [
              0.06274509803921569,
              "rgb(24,15,41)"
             ],
             [
              0.12549019607843137,
              "rgb(47,23,57)"
             ],
             [
              0.18823529411764706,
              "rgb(71,28,72)"
             ],
             [
              0.25098039215686274,
              "rgb(97,30,82)"
             ],
             [
              0.3137254901960784,
              "rgb(123,30,89)"
             ],
             [
              0.3764705882352941,
              "rgb(150,27,91)"
             ],
             [
              0.4392156862745098,
              "rgb(177,22,88)"
             ],
             [
              0.5019607843137255,
              "rgb(203,26,79)"
             ],
             [
              0.5647058823529412,
              "rgb(223,47,67)"
             ],
             [
              0.6274509803921569,
              "rgb(236,76,61)"
             ],
             [
              0.6901960784313725,
              "rgb(242,107,73)"
             ],
             [
              0.7529411764705882,
              "rgb(244,135,95)"
             ],
             [
              0.8156862745098039,
              "rgb(245,162,122)"
             ],
             [
              0.8784313725490196,
              "rgb(246,188,153)"
             ],
             [
              0.9411764705882353,
              "rgb(247,212,187)"
             ],
             [
              1,
              "rgb(250,234,220)"
             ]
            ],
            "type": "surface"
           }
          ],
          "table": [
           {
            "cells": {
             "fill": {
              "color": "rgb(231,231,240)"
             },
             "line": {
              "color": "white"
             }
            },
            "header": {
             "fill": {
              "color": "rgb(183,183,191)"
             },
             "line": {
              "color": "white"
             }
            },
            "type": "table"
           }
          ]
         },
         "layout": {
          "annotationdefaults": {
           "arrowcolor": "rgb(67,103,167)"
          },
          "autotypenumbers": "strict",
          "coloraxis": {
           "colorbar": {
            "outlinewidth": 0,
            "tickcolor": "rgb(36,36,36)",
            "ticklen": 8,
            "ticks": "outside",
            "tickwidth": 2
           }
          },
          "colorscale": {
           "sequential": [
            [
             0,
             "rgb(2,4,25)"
            ],
            [
             0.06274509803921569,
             "rgb(24,15,41)"
            ],
            [
             0.12549019607843137,
             "rgb(47,23,57)"
            ],
            [
             0.18823529411764706,
             "rgb(71,28,72)"
            ],
            [
             0.25098039215686274,
             "rgb(97,30,82)"
            ],
            [
             0.3137254901960784,
             "rgb(123,30,89)"
            ],
            [
             0.3764705882352941,
             "rgb(150,27,91)"
            ],
            [
             0.4392156862745098,
             "rgb(177,22,88)"
            ],
            [
             0.5019607843137255,
             "rgb(203,26,79)"
            ],
            [
             0.5647058823529412,
             "rgb(223,47,67)"
            ],
            [
             0.6274509803921569,
             "rgb(236,76,61)"
            ],
            [
             0.6901960784313725,
             "rgb(242,107,73)"
            ],
            [
             0.7529411764705882,
             "rgb(244,135,95)"
            ],
            [
             0.8156862745098039,
             "rgb(245,162,122)"
            ],
            [
             0.8784313725490196,
             "rgb(246,188,153)"
            ],
            [
             0.9411764705882353,
             "rgb(247,212,187)"
            ],
            [
             1,
             "rgb(250,234,220)"
            ]
           ],
           "sequentialminus": [
            [
             0,
             "rgb(2,4,25)"
            ],
            [
             0.06274509803921569,
             "rgb(24,15,41)"
            ],
            [
             0.12549019607843137,
             "rgb(47,23,57)"
            ],
            [
             0.18823529411764706,
             "rgb(71,28,72)"
            ],
            [
             0.25098039215686274,
             "rgb(97,30,82)"
            ],
            [
             0.3137254901960784,
             "rgb(123,30,89)"
            ],
            [
             0.3764705882352941,
             "rgb(150,27,91)"
            ],
            [
             0.4392156862745098,
             "rgb(177,22,88)"
            ],
            [
             0.5019607843137255,
             "rgb(203,26,79)"
            ],
            [
             0.5647058823529412,
             "rgb(223,47,67)"
            ],
            [
             0.6274509803921569,
             "rgb(236,76,61)"
            ],
            [
             0.6901960784313725,
             "rgb(242,107,73)"
            ],
            [
             0.7529411764705882,
             "rgb(244,135,95)"
            ],
            [
             0.8156862745098039,
             "rgb(245,162,122)"
            ],
            [
             0.8784313725490196,
             "rgb(246,188,153)"
            ],
            [
             0.9411764705882353,
             "rgb(247,212,187)"
            ],
            [
             1,
             "rgb(250,234,220)"
            ]
           ]
          },
          "colorway": [
           "rgb(76,114,176)",
           "rgb(221,132,82)",
           "rgb(85,168,104)",
           "rgb(196,78,82)",
           "rgb(129,114,179)",
           "rgb(147,120,96)",
           "rgb(218,139,195)",
           "rgb(140,140,140)",
           "rgb(204,185,116)",
           "rgb(100,181,205)"
          ],
          "font": {
           "color": "rgb(36,36,36)"
          },
          "geo": {
           "bgcolor": "white",
           "lakecolor": "white",
           "landcolor": "rgb(234,234,242)",
           "showlakes": true,
           "showland": true,
           "subunitcolor": "white"
          },
          "hoverlabel": {
           "align": "left"
          },
          "hovermode": "closest",
          "paper_bgcolor": "white",
          "plot_bgcolor": "rgb(234,234,242)",
          "polar": {
           "angularaxis": {
            "gridcolor": "white",
            "linecolor": "white",
            "showgrid": true,
            "ticks": ""
           },
           "bgcolor": "rgb(234,234,242)",
           "radialaxis": {
            "gridcolor": "white",
            "linecolor": "white",
            "showgrid": true,
            "ticks": ""
           }
          },
          "scene": {
           "xaxis": {
            "backgroundcolor": "rgb(234,234,242)",
            "gridcolor": "white",
            "gridwidth": 2,
            "linecolor": "white",
            "showbackground": true,
            "showgrid": true,
            "ticks": "",
            "zerolinecolor": "white"
           },
           "yaxis": {
            "backgroundcolor": "rgb(234,234,242)",
            "gridcolor": "white",
            "gridwidth": 2,
            "linecolor": "white",
            "showbackground": true,
            "showgrid": true,
            "ticks": "",
            "zerolinecolor": "white"
           },
           "zaxis": {
            "backgroundcolor": "rgb(234,234,242)",
            "gridcolor": "white",
            "gridwidth": 2,
            "linecolor": "white",
            "showbackground": true,
            "showgrid": true,
            "ticks": "",
            "zerolinecolor": "white"
           }
          },
          "shapedefaults": {
           "fillcolor": "rgb(67,103,167)",
           "line": {
            "width": 0
           },
           "opacity": 0.5
          },
          "ternary": {
           "aaxis": {
            "gridcolor": "white",
            "linecolor": "white",
            "showgrid": true,
            "ticks": ""
           },
           "baxis": {
            "gridcolor": "white",
            "linecolor": "white",
            "showgrid": true,
            "ticks": ""
           },
           "bgcolor": "rgb(234,234,242)",
           "caxis": {
            "gridcolor": "white",
            "linecolor": "white",
            "showgrid": true,
            "ticks": ""
           }
          },
          "xaxis": {
           "automargin": true,
           "gridcolor": "white",
           "linecolor": "white",
           "showgrid": true,
           "ticks": "",
           "title": {
            "standoff": 15
           },
           "zerolinecolor": "white"
          },
          "yaxis": {
           "automargin": true,
           "gridcolor": "white",
           "linecolor": "white",
           "showgrid": true,
           "ticks": "",
           "title": {
            "standoff": 15
           },
           "zerolinecolor": "white"
          }
         }
        },
        "title": {
         "text": "<b>Phase 1 Subscription Rate (%)</b>"
        },
        "width": 1200,
        "xaxis": {
         "anchor": "y",
         "domain": [
          0,
          1
         ],
         "showgrid": false,
         "title": {
          "text": "Percentage Subscribed (%)"
         }
        },
        "yaxis": {
         "anchor": "x",
         "categoryarray": [
          "Girls School",
          "Boys School",
          "Co-Ed School"
         ],
         "categoryorder": "array",
         "domain": [
          0,
          1
         ],
         "showgrid": false,
         "title": {
          "text": ""
         }
        }
       }
      }
     },
     "metadata": {},
     "output_type": "display_data"
    }
   ],
   "source": [
    "plot_phase_stripplot('Phase1_sub_apply', 'Phase 1', 'GEP')"
   ]
  },
  {
   "attachments": {},
   "cell_type": "markdown",
   "metadata": {},
   "source": [
    "**Phase 2A**\n",
    "- Parent or sibling is a former student of the primary school, including those who have joined the alumni association of the primary school as a member\n",
    "- Whose parent is a member of the School Advisory or Management Committee. \n",
    "- Whose parent is a staff member of the primary school. \n",
    "- From the MOE Kindergarten under the purview of and located within the primary school. "
   ]
  },
  {
   "cell_type": "code",
   "execution_count": 23,
   "metadata": {},
   "outputs": [
    {
     "data": {
      "application/vnd.plotly.v1+json": {
       "config": {
        "plotlyServerURL": "https://plot.ly"
       },
       "data": [
        {
         "alignmentgroup": "True",
         "boxpoints": "all",
         "customdata": [
          [
           "Admiralty Primary School",
           "Co-Ed School",
           "No",
           "Government School"
          ],
          [
           "Ahmad Ibrahim Primary School",
           "Co-Ed School",
           "No",
           "Government School"
          ],
          [
           "Ai Tong School",
           "Co-Ed School",
           "No",
           "Government-Aided School"
          ],
          [
           "Alexandra Primary School",
           "Co-Ed School",
           "No",
           "Government School"
          ],
          [
           "Anchor Green Primary School",
           "Co-Ed School",
           "No",
           "Government School"
          ],
          [
           "Anderson Primary School",
           "Co-Ed School",
           "No",
           "Government School"
          ],
          [
           "Ang Mo Kio Primary School",
           "Co-Ed School",
           "No",
           "Government School"
          ],
          [
           "Anglo-Chinese School (Junior)",
           "Boys School",
           "No",
           "Government-Aided School"
          ],
          [
           "Angsana Primary School",
           "Co-Ed School",
           "No",
           "Government School"
          ],
          [
           "Beacon Primary School",
           "Co-Ed School",
           "No",
           "Government School"
          ],
          [
           "Bedok Green Primary School",
           "Co-Ed School",
           "No",
           "Government School"
          ],
          [
           "Bendemeer Primary School",
           "Co-Ed School",
           "No",
           "Government School"
          ],
          [
           "Blangah Rise Primary School",
           "Co-Ed School",
           "No",
           "Government School"
          ],
          [
           "Boon Lay Garden Primary School",
           "Co-Ed School",
           "No",
           "Government School"
          ],
          [
           "Bukit Panjang Primary School",
           "Co-Ed School",
           "No",
           "Government School"
          ],
          [
           "Bukit Timah Primary School",
           "Co-Ed School",
           "No",
           "Government School"
          ],
          [
           "Bukit View Primary School",
           "Co-Ed School",
           "No",
           "Government School"
          ],
          [
           "CHIJ (Katong) Primary",
           "Girls School",
           "No",
           "Government-Aided School"
          ],
          [
           "CHIJ (Kellock)",
           "Girls School",
           "No",
           "Government-Aided School"
          ],
          [
           "CHIJ Our Lady Queen of Peace",
           "Girls School",
           "No",
           "Government-Aided School"
          ],
          [
           "CHIJ Our Lady of Good Counsel",
           "Girls School",
           "No",
           "Government-Aided School"
          ],
          [
           "CHIJ Our Lady of the Nativity",
           "Girls School",
           "No",
           "Government-Aided School"
          ],
          [
           "CHIJ Primary (Toa Payoh)",
           "Girls School",
           "No",
           "Government-Aided School"
          ],
          [
           "CHIJ St. Nicholas Girls' School (Primary Section)",
           "Girls School",
           "No",
           "Government-Aided School / Autonomous"
          ],
          [
           "Canberra Primary School",
           "Co-Ed School",
           "No",
           "Government School"
          ],
          [
           "Canossa Catholic Primary School",
           "Co-Ed School",
           "No",
           "Government-Aided School"
          ],
          [
           "Cantonment Primary School",
           "Co-Ed School",
           "No",
           "Government School"
          ],
          [
           "Casuarina Primary School",
           "Co-Ed School",
           "No",
           "Government School"
          ],
          [
           "Cedar Primary School",
           "Co-Ed School",
           "No",
           "Government School"
          ],
          [
           "Changkat Primary School",
           "Co-Ed School",
           "No",
           "Government School"
          ],
          [
           "Chongfu School",
           "Co-Ed School",
           "No",
           "Government-Aided School"
          ],
          [
           "Chongzheng Primary School",
           "Co-Ed School",
           "No",
           "Government School"
          ],
          [
           "Chua Chu Kang Primary School",
           "Co-Ed School",
           "No",
           "Government School"
          ],
          [
           "Clementi Primary School",
           "Co-Ed School",
           "No",
           "Government School"
          ],
          [
           "Compassvale Primary School",
           "Co-Ed School",
           "No",
           "Government School"
          ],
          [
           "Concord Primary School",
           "Co-Ed School",
           "No",
           "Government School"
          ],
          [
           "Corporation Primary School",
           "Co-Ed School",
           "No",
           "Government School"
          ],
          [
           "Damai Primary School",
           "Co-Ed School",
           "No",
           "Government School"
          ],
          [
           "Dazhong Primary School",
           "Co-Ed School",
           "No",
           "Government School"
          ],
          [
           "De La Salle School",
           "Co-Ed School",
           "No",
           "Government-Aided School"
          ],
          [
           "East Spring Primary School",
           "Co-Ed School",
           "No",
           "Government School"
          ],
          [
           "Edgefield Primary School",
           "Co-Ed School",
           "No",
           "Government School"
          ],
          [
           "Elias Park Primary School",
           "Co-Ed School",
           "No",
           "Government School"
          ],
          [
           "Endeavour Primary School",
           "Co-Ed School",
           "No",
           "Government School"
          ],
          [
           "Evergreen Primary School",
           "Co-Ed School",
           "No",
           "Government School"
          ],
          [
           "Fairfield Methodist School (Primary)",
           "Co-Ed School",
           "No",
           "Government-Aided School"
          ],
          [
           "Farrer Park Primary School",
           "Co-Ed School",
           "No",
           "Government School"
          ],
          [
           "Fengshan Primary School",
           "Co-Ed School",
           "No",
           "Government School"
          ],
          [
           "Fern Green Primary School",
           "Co-Ed School",
           "No",
           "Government School"
          ],
          [
           "Fernvale Primary School",
           "Co-Ed School",
           "No",
           "Government School"
          ],
          [
           "First Toa Payoh Primary School",
           "Co-Ed School",
           "No",
           "Government School"
          ],
          [
           "Frontier Primary School",
           "Co-Ed School",
           "No",
           "Government School"
          ],
          [
           "Fuchun Primary School",
           "Co-Ed School",
           "No",
           "Government School"
          ],
          [
           "Fuhua Primary School",
           "Co-Ed School",
           "No",
           "Government School"
          ],
          [
           "Gan Eng Seng Primary School",
           "Co-Ed School",
           "No",
           "Government School"
          ],
          [
           "Geylang Methodist School (Primary)",
           "Co-Ed School",
           "No",
           "Government-Aided School"
          ],
          [
           "Gongshang Primary School",
           "Co-Ed School",
           "No",
           "Government School"
          ],
          [
           "Greendale Primary School",
           "Co-Ed School",
           "No",
           "Government School"
          ],
          [
           "Greenridge Primary School",
           "Co-Ed School",
           "No",
           "Government School"
          ],
          [
           "Greenwood Primary School",
           "Co-Ed School",
           "No",
           "Government School"
          ],
          [
           "Haig Girls' School",
           "Girls School",
           "No",
           "Government School"
          ],
          [
           "Holy Innocents' Primary School",
           "Co-Ed School",
           "No",
           "Government-Aided School"
          ],
          [
           "Hong Wen School",
           "Co-Ed School",
           "No",
           "Government-Aided School"
          ],
          [
           "Horizon Primary School",
           "Co-Ed School",
           "No",
           "Government School"
          ],
          [
           "Hougang Primary School",
           "Co-Ed School",
           "No",
           "Government School"
          ],
          [
           "Huamin Primary School",
           "Co-Ed School",
           "No",
           "Government School"
          ],
          [
           "Innova Primary School",
           "Co-Ed School",
           "No",
           "Government School"
          ],
          [
           "Jiemin Primary School",
           "Co-Ed School",
           "No",
           "Government School"
          ],
          [
           "Jing Shan Primary School",
           "Co-Ed School",
           "No",
           "Government School"
          ],
          [
           "Junyuan Primary School",
           "Co-Ed School",
           "No",
           "Government School"
          ],
          [
           "Jurong Primary School",
           "Co-Ed School",
           "No",
           "Government School"
          ],
          [
           "Jurong West Primary School",
           "Co-Ed School",
           "No",
           "Government School"
          ],
          [
           "Keming Primary School",
           "Co-Ed School",
           "No",
           "Government School"
          ],
          [
           "Kheng Cheng School",
           "Co-Ed School",
           "No",
           "Government-Aided School"
          ],
          [
           "Kong Hwa School",
           "Co-Ed School",
           "No",
           "Government-Aided School"
          ],
          [
           "Kranji Primary School",
           "Co-Ed School",
           "No",
           "Government School"
          ],
          [
           "Kuo Chuan Presbyterian Primary School",
           "Co-Ed School",
           "No",
           "Government-Aided School"
          ],
          [
           "Lakeside Primary School",
           "Co-Ed School",
           "No",
           "Government School"
          ],
          [
           "Lianhua Primary School",
           "Co-Ed School",
           "No",
           "Government School"
          ],
          [
           "Maha Bodhi School",
           "Co-Ed School",
           "No",
           "Government-Aided School"
          ],
          [
           "Maris Stella High School (Primary Section)",
           "Boys School",
           "No",
           "Government-Aided School / Autonomous"
          ],
          [
           "Marsiling Primary School",
           "Co-Ed School",
           "No",
           "Government School"
          ],
          [
           "Marymount Convent School",
           "Girls School",
           "No",
           "Government-Aided School"
          ],
          [
           "Mayflower Primary School",
           "Co-Ed School",
           "No",
           "Government School"
          ],
          [
           "Mee Toh School",
           "Co-Ed School",
           "No",
           "Government-Aided School"
          ],
          [
           "Meridian Primary School",
           "Co-Ed School",
           "No",
           "Government School"
          ],
          [
           "Methodist Girls' School (Primary)",
           "Girls School",
           "No",
           "Government-Aided School"
          ],
          [
           "Montfort Junior School",
           "Boys School",
           "No",
           "Government-Aided School"
          ],
          [
           "Nan Chiau Primary School",
           "Co-Ed School",
           "No",
           "Government-Aided School"
          ],
          [
           "Naval Base Primary School",
           "Co-Ed School",
           "No",
           "Government School"
          ],
          [
           "New Town Primary School",
           "Co-Ed School",
           "No",
           "Government School"
          ],
          [
           "Ngee Ann Primary School",
           "Co-Ed School",
           "No",
           "Government-Aided School"
          ],
          [
           "North Spring Primary School",
           "Co-Ed School",
           "No",
           "Government School"
          ],
          [
           "North View Primary School",
           "Co-Ed School",
           "No",
           "Government School"
          ],
          [
           "North Vista Primary School",
           "Co-Ed School",
           "No",
           "Government School"
          ],
          [
           "Northland Primary School",
           "Co-Ed School",
           "No",
           "Government School"
          ],
          [
           "Northoaks Primary School",
           "Co-Ed School",
           "No",
           "Government School"
          ],
          [
           "Northshore Primary School",
           "Co-Ed School",
           "No",
           "Government School"
          ],
          [
           "Oasis Primary School",
           "Co-Ed School",
           "No",
           "Government School"
          ],
          [
           "Opera Estate Primary School",
           "Co-Ed School",
           "No",
           "Government School"
          ],
          [
           "Palm View Primary School",
           "Co-Ed School",
           "No",
           "Government School"
          ],
          [
           "Park View Primary School",
           "Co-Ed School",
           "No",
           "Government School"
          ],
          [
           "Pasir Ris Primary School",
           "Co-Ed School",
           "No",
           "Government School"
          ],
          [
           "Paya Lebar Methodist Girls' School (Primary)",
           "Girls School",
           "No",
           "Government-Aided School"
          ],
          [
           "Pei Chun Public School",
           "Co-Ed School",
           "No",
           "Government-Aided School"
          ],
          [
           "Pei Hwa Presbyterian Primary School",
           "Co-Ed School",
           "No",
           "Government-Aided School"
          ],
          [
           "Pei Tong Primary School",
           "Co-Ed School",
           "No",
           "Government School"
          ],
          [
           "Peiying Primary School",
           "Co-Ed School",
           "No",
           "Government School"
          ],
          [
           "Poi Ching School",
           "Co-Ed School",
           "No",
           "Government-Aided School"
          ],
          [
           "Princess Elizabeth Primary School",
           "Co-Ed School",
           "No",
           "Government School"
          ],
          [
           "Punggol Cove Primary School",
           "Co-Ed School",
           "No",
           "Government School"
          ],
          [
           "Punggol Green Primary School",
           "Co-Ed School",
           "No",
           "Government School"
          ],
          [
           "Punggol Primary School",
           "Co-Ed School",
           "No",
           "Government School"
          ],
          [
           "Punggol View Primary School",
           "Co-Ed School",
           "No",
           "Government School"
          ],
          [
           "Qifa Primary School",
           "Co-Ed School",
           "No",
           "Government School"
          ],
          [
           "Qihua Primary School",
           "Co-Ed School",
           "No",
           "Government School"
          ],
          [
           "Queenstown Primary School",
           "Co-Ed School",
           "No",
           "Government School"
          ],
          [
           "Radin Mas Primary School",
           "Co-Ed School",
           "No",
           "Government School"
          ],
          [
           "Red Swastika School",
           "Co-Ed School",
           "No",
           "Government-Aided School"
          ],
          [
           "River Valley Primary School",
           "Co-Ed School",
           "No",
           "Government School"
          ],
          [
           "Riverside Primary School",
           "Co-Ed School",
           "No",
           "Government School"
          ],
          [
           "Rivervale Primary School",
           "Co-Ed School",
           "No",
           "Government School"
          ],
          [
           "Rulang Primary School",
           "Co-Ed School",
           "No",
           "Government School"
          ],
          [
           "Sembawang Primary School",
           "Co-Ed School",
           "No",
           "Government School"
          ],
          [
           "Seng Kang Primary School",
           "Co-Ed School",
           "No",
           "Government School"
          ],
          [
           "Sengkang Green Primary School",
           "Co-Ed School",
           "No",
           "Government School"
          ],
          [
           "Shuqun Primary School",
           "Co-Ed School",
           "No",
           "Government School"
          ],
          [
           "Si Ling Primary School",
           "Co-Ed School",
           "No",
           "Government School"
          ],
          [
           "Singapore Chinese Girls' Primary School",
           "Girls School",
           "No",
           "Government-Aided School"
          ],
          [
           "South View Primary School",
           "Co-Ed School",
           "No",
           "Government School"
          ],
          [
           "Springdale Primary School",
           "Co-Ed School",
           "No",
           "Government School"
          ],
          [
           "St. Andrew's Junior School",
           "Boys School",
           "No",
           "Government-Aided School"
          ],
          [
           "St. Anthony's Canossian Primary School",
           "Girls School",
           "No",
           "Government-Aided School"
          ],
          [
           "St. Anthony's Primary School",
           "Co-Ed School",
           "No",
           "Government-Aided School"
          ],
          [
           "St. Gabriel's Primary School",
           "Boys School",
           "No",
           "Government-Aided School"
          ],
          [
           "St. Joseph's Institution Junior",
           "Boys School",
           "No",
           "Government-Aided School"
          ],
          [
           "St. Margaret's Primary School",
           "Girls School",
           "No",
           "Government-Aided School"
          ],
          [
           "St. Stephen's School",
           "Boys School",
           "No",
           "Government-Aided School"
          ],
          [
           "Tampines North Primary School",
           "Co-Ed School",
           "No",
           "Government School"
          ],
          [
           "Tampines Primary School",
           "Co-Ed School",
           "No",
           "Government School"
          ],
          [
           "Tanjong Katong Primary School",
           "Co-Ed School",
           "No",
           "Government School"
          ],
          [
           "Teck Ghee Primary School",
           "Co-Ed School",
           "No",
           "Government School"
          ],
          [
           "Teck Whye Primary School",
           "Co-Ed School",
           "No",
           "Government School"
          ],
          [
           "Telok Kurau Primary School",
           "Co-Ed School",
           "No",
           "Government School"
          ],
          [
           "Temasek Primary School",
           "Co-Ed School",
           "No",
           "Government School"
          ],
          [
           "Townsville Primary School",
           "Co-Ed School",
           "No",
           "Government School"
          ],
          [
           "Unity Primary School",
           "Co-Ed School",
           "No",
           "Government School"
          ],
          [
           "Valour Primary School",
           "Co-Ed School",
           "No",
           "Government School"
          ],
          [
           "Waterway Primary School",
           "Co-Ed School",
           "No",
           "Government School"
          ],
          [
           "Wellington Primary School",
           "Co-Ed School",
           "No",
           "Government School"
          ],
          [
           "West Grove Primary School",
           "Co-Ed School",
           "No",
           "Government School"
          ],
          [
           "West Spring Primary School",
           "Co-Ed School",
           "No",
           "Government School"
          ],
          [
           "West View Primary School",
           "Co-Ed School",
           "No",
           "Government School"
          ],
          [
           "Westwood Primary School",
           "Co-Ed School",
           "No",
           "Government School"
          ],
          [
           "White Sands Primary School",
           "Co-Ed School",
           "No",
           "Government School"
          ],
          [
           "Woodgrove Primary School",
           "Co-Ed School",
           "No",
           "Government School"
          ],
          [
           "Woodlands Primary School",
           "Co-Ed School",
           "No",
           "Government School"
          ],
          [
           "Woodlands Ring Primary School",
           "Co-Ed School",
           "No",
           "Government School"
          ],
          [
           "Xinghua Primary School",
           "Co-Ed School",
           "No",
           "Government School"
          ],
          [
           "Xingnan Primary School",
           "Co-Ed School",
           "No",
           "Government School"
          ],
          [
           "Xinmin Primary School",
           "Co-Ed School",
           "No",
           "Government School"
          ],
          [
           "Xishan Primary School",
           "Co-Ed School",
           "No",
           "Government School"
          ],
          [
           "Yangzheng Primary School",
           "Co-Ed School",
           "No",
           "Government School"
          ],
          [
           "Yew Tee Primary School",
           "Co-Ed School",
           "No",
           "Government School"
          ],
          [
           "Yio Chu Kang Primary School",
           "Co-Ed School",
           "No",
           "Government School"
          ],
          [
           "Yishun Primary School",
           "Co-Ed School",
           "No",
           "Government School"
          ],
          [
           "Yu Neng Primary School",
           "Co-Ed School",
           "No",
           "Government School"
          ],
          [
           "Yuhua Primary School",
           "Co-Ed School",
           "No",
           "Government School"
          ],
          [
           "Yumin Primary School",
           "Co-Ed School",
           "No",
           "Government School"
          ],
          [
           "Zhangde Primary School",
           "Co-Ed School",
           "No",
           "Government School"
          ],
          [
           "Zhenghua Primary School",
           "Co-Ed School",
           "No",
           "Government School"
          ],
          [
           "Zhonghua Primary School",
           "Co-Ed School",
           "No",
           "Government School"
          ]
         ],
         "fillcolor": "rgba(255,255,255,0)",
         "hoveron": "points",
         "hovertemplate": "School: %{customdata[0]}<br>Category: %{y}<br>Percentage: %{x:.1f}%<br>GEP: %{customdata[2]}</br>",
         "legendgroup": "No",
         "line": {
          "color": "rgba(255,255,255,0)"
         },
         "marker": {
          "color": "blue",
          "size": 8
         },
         "name": "No",
         "offsetgroup": "No",
         "orientation": "h",
         "pointpos": 0,
         "showlegend": true,
         "type": "box",
         "x": [
          84.0909090909091,
          6.756756756756757,
          132.72727272727275,
          13.846153846153848,
          43.80952380952381,
          61.01694915254237,
          12.745098039215684,
          84.84848484848484,
          12.34567901234568,
          8.536585365853659,
          15.59633027522936,
          6.41025641025641,
          14.634146341463412,
          6.285714285714287,
          68.75,
          8.450704225352112,
          6.593406593406594,
          32.67326732673268,
          14.285714285714285,
          4.878048780487805,
          35.08771929824561,
          18.0327868852459,
          77.89473684210526,
          124.44444444444444,
          26.595744680851062,
          23.07692307692308,
          2.631578947368421,
          40,
          13.60544217687075,
          12.371134020618555,
          86.13861386138613,
          121.875,
          46.96969696969697,
          12.318840579710146,
          14.634146341463412,
          27.27272727272727,
          6.122448979591836,
          6.451612903225806,
          78.43137254901961,
          16.831683168316832,
          17.1875,
          16.129032258064516,
          25,
          6.796116504854369,
          20.73170731707317,
          111.36363636363636,
          23.25581395348837,
          61.11111111111112,
          78.68852459016394,
          39.77272727272727,
          8.333333333333332,
          131.42857142857142,
          12.12121212121212,
          40.54054054054054,
          3.7037037037037033,
          31.77570093457944,
          196.61016949152545,
          23.157894736842103,
          17.391304347826086,
          7.0588235294117645,
          26.881720430107524,
          117.04545454545456,
          37.66233766233766,
          116.45569620253164,
          12.195121951219512,
          64.76190476190476,
          15.555555555555555,
          47.82608695652174,
          62.85714285714285,
          44.680851063829785,
          52.5,
          36.36363636363637,
          81.66666666666667,
          15.306122448979592,
          67.56756756756756,
          33.89830508474576,
          58.44155844155844,
          30.26315789473684,
          5.88235294117647,
          63.76811594202898,
          82.8125,
          12.5,
          4.72972972972973,
          26.666666666666668,
          27.64227642276423,
          35.2112676056338,
          128.9855072463768,
          14.0625,
          36.08247422680412,
          57.54716981132076,
          3.418803418803419,
          29.47368421052631,
          8.235294117647058,
          15.151515151515152,
          43.56435643564357,
          103.33333333333334,
          3.816793893129771,
          21.08843537414966,
          131.4814814814815,
          14.285714285714285,
          10.227272727272728,
          17.24137931034483,
          89.1891891891892,
          52.67175572519084,
          121.69811320754718,
          254.54545454545453,
          27.56410256410257,
          26.5625,
          29.59183673469388,
          142.85714285714286,
          63.73626373626373,
          145.58823529411765,
          47.82608695652174,
          126.15384615384616,
          37.06896551724138,
          15.702479338842975,
          21.62162162162162,
          112.72727272727272,
          146.875,
          75.38461538461539,
          153.19148936170214,
          29.78723404255319,
          118.88888888888889,
          15.09433962264151,
          4.444444444444445,
          90.9090909090909,
          58.333333333333336,
          17.77777777777778,
          102.5974025974026,
          121.79487179487178,
          74.74747474747475,
          55.932203389830505,
          6.04026845637584,
          52.05479452054794,
          32.78688524590164,
          52.33644859813084,
          30.23255813953488,
          13.10344827586207,
          13.131313131313131,
          74.15730337078652,
          49.09090909090909,
          16.883116883116884,
          9.75609756097561,
          54.90196078431373,
          126.53061224489797,
          11.538461538461538,
          13.513513513513514,
          66.95652173913044,
          77,
          102.53164556962024,
          13.636363636363637,
          126.3157894736842,
          54.71698113207547,
          139.1891891891892,
          17.857142857142858,
          52.94117647058824,
          44.06779661016949,
          19.8019801980198,
          5.524861878453039,
          16.33986928104575,
          83.33333333333334,
          16.39344262295082,
          87.87878787878788,
          4.819277108433735,
          5.88235294117647,
          27.27272727272727,
          102.38095238095238,
          11.88118811881188,
          18.33333333333333,
          24.444444444444443,
          66.29213483146067,
          9.67741935483871
         ],
         "x0": " ",
         "xaxis": "x",
         "y": [
          "Co-Ed School",
          "Co-Ed School",
          "Co-Ed School",
          "Co-Ed School",
          "Co-Ed School",
          "Co-Ed School",
          "Co-Ed School",
          "Boys School",
          "Co-Ed School",
          "Co-Ed School",
          "Co-Ed School",
          "Co-Ed School",
          "Co-Ed School",
          "Co-Ed School",
          "Co-Ed School",
          "Co-Ed School",
          "Co-Ed School",
          "Girls School",
          "Girls School",
          "Girls School",
          "Girls School",
          "Girls School",
          "Girls School",
          "Girls School",
          "Co-Ed School",
          "Co-Ed School",
          "Co-Ed School",
          "Co-Ed School",
          "Co-Ed School",
          "Co-Ed School",
          "Co-Ed School",
          "Co-Ed School",
          "Co-Ed School",
          "Co-Ed School",
          "Co-Ed School",
          "Co-Ed School",
          "Co-Ed School",
          "Co-Ed School",
          "Co-Ed School",
          "Co-Ed School",
          "Co-Ed School",
          "Co-Ed School",
          "Co-Ed School",
          "Co-Ed School",
          "Co-Ed School",
          "Co-Ed School",
          "Co-Ed School",
          "Co-Ed School",
          "Co-Ed School",
          "Co-Ed School",
          "Co-Ed School",
          "Co-Ed School",
          "Co-Ed School",
          "Co-Ed School",
          "Co-Ed School",
          "Co-Ed School",
          "Co-Ed School",
          "Co-Ed School",
          "Co-Ed School",
          "Co-Ed School",
          "Girls School",
          "Co-Ed School",
          "Co-Ed School",
          "Co-Ed School",
          "Co-Ed School",
          "Co-Ed School",
          "Co-Ed School",
          "Co-Ed School",
          "Co-Ed School",
          "Co-Ed School",
          "Co-Ed School",
          "Co-Ed School",
          "Co-Ed School",
          "Co-Ed School",
          "Co-Ed School",
          "Co-Ed School",
          "Co-Ed School",
          "Co-Ed School",
          "Co-Ed School",
          "Co-Ed School",
          "Boys School",
          "Co-Ed School",
          "Girls School",
          "Co-Ed School",
          "Co-Ed School",
          "Co-Ed School",
          "Girls School",
          "Boys School",
          "Co-Ed School",
          "Co-Ed School",
          "Co-Ed School",
          "Co-Ed School",
          "Co-Ed School",
          "Co-Ed School",
          "Co-Ed School",
          "Co-Ed School",
          "Co-Ed School",
          "Co-Ed School",
          "Co-Ed School",
          "Co-Ed School",
          "Co-Ed School",
          "Co-Ed School",
          "Co-Ed School",
          "Girls School",
          "Co-Ed School",
          "Co-Ed School",
          "Co-Ed School",
          "Co-Ed School",
          "Co-Ed School",
          "Co-Ed School",
          "Co-Ed School",
          "Co-Ed School",
          "Co-Ed School",
          "Co-Ed School",
          "Co-Ed School",
          "Co-Ed School",
          "Co-Ed School",
          "Co-Ed School",
          "Co-Ed School",
          "Co-Ed School",
          "Co-Ed School",
          "Co-Ed School",
          "Co-Ed School",
          "Co-Ed School",
          "Co-Ed School",
          "Co-Ed School",
          "Co-Ed School",
          "Co-Ed School",
          "Girls School",
          "Co-Ed School",
          "Co-Ed School",
          "Boys School",
          "Girls School",
          "Co-Ed School",
          "Boys School",
          "Boys School",
          "Girls School",
          "Boys School",
          "Co-Ed School",
          "Co-Ed School",
          "Co-Ed School",
          "Co-Ed School",
          "Co-Ed School",
          "Co-Ed School",
          "Co-Ed School",
          "Co-Ed School",
          "Co-Ed School",
          "Co-Ed School",
          "Co-Ed School",
          "Co-Ed School",
          "Co-Ed School",
          "Co-Ed School",
          "Co-Ed School",
          "Co-Ed School",
          "Co-Ed School",
          "Co-Ed School",
          "Co-Ed School",
          "Co-Ed School",
          "Co-Ed School",
          "Co-Ed School",
          "Co-Ed School",
          "Co-Ed School",
          "Co-Ed School",
          "Co-Ed School",
          "Co-Ed School",
          "Co-Ed School",
          "Co-Ed School",
          "Co-Ed School",
          "Co-Ed School",
          "Co-Ed School",
          "Co-Ed School",
          "Co-Ed School"
         ],
         "y0": " ",
         "yaxis": "y"
        },
        {
         "alignmentgroup": "True",
         "boxpoints": "all",
         "customdata": [
          [
           "Anglo-Chinese School (Primary)",
           "Boys School",
           "Yes",
           "Government-Aided School"
          ],
          [
           "Catholic High School (Primary Section)",
           "Boys School",
           "Yes",
           "Government-Aided School / Autonomous"
          ],
          [
           "Henry Park Primary School",
           "Co-Ed School",
           "Yes",
           "Government School"
          ],
          [
           "Nan Hua Primary School",
           "Co-Ed School",
           "Yes",
           "Government-Aided School"
          ],
          [
           "Nanyang Primary School",
           "Co-Ed School",
           "Yes",
           "Government-Aided School"
          ],
          [
           "Raffles Girls' Primary School",
           "Girls School",
           "Yes",
           "Government School"
          ],
          [
           "Rosyth School",
           "Co-Ed School",
           "Yes",
           "Government School"
          ],
          [
           "St. Hilda's Primary School",
           "Co-Ed School",
           "Yes",
           "Government-Aided School"
          ],
          [
           "Tao Nan School",
           "Co-Ed School",
           "Yes",
           "Government-Aided School"
          ]
         ],
         "fillcolor": "rgba(255,255,255,0)",
         "hoveron": "points",
         "hovertemplate": "School: %{customdata[0]}<br>Category: %{y}<br>Percentage: %{x:.1f}%<br>GEP: %{customdata[2]}</br>",
         "legendgroup": "Yes",
         "line": {
          "color": "rgba(255,255,255,0)"
         },
         "marker": {
          "color": "red",
          "size": 8
         },
         "name": "Yes",
         "offsetgroup": "Yes",
         "orientation": "h",
         "pointpos": 0,
         "showlegend": true,
         "type": "box",
         "x": [
          80.50847457627118,
          135.45454545454544,
          127.5229357798165,
          144.15584415584414,
          118.5897435897436,
          42.97520661157025,
          154.7945205479452,
          136.23188405797103,
          93.38235294117648
         ],
         "x0": " ",
         "xaxis": "x",
         "y": [
          "Boys School",
          "Boys School",
          "Co-Ed School",
          "Co-Ed School",
          "Co-Ed School",
          "Girls School",
          "Co-Ed School",
          "Co-Ed School",
          "Co-Ed School"
         ],
         "y0": " ",
         "yaxis": "y"
        }
       ],
       "layout": {
        "boxmode": "overlay",
        "height": 500,
        "legend": {
         "title": {
          "text": "GEP"
         },
         "tracegroupgap": 0
        },
        "showlegend": true,
        "template": {
         "data": {
          "bar": [
           {
            "error_x": {
             "color": "rgb(36,36,36)"
            },
            "error_y": {
             "color": "rgb(36,36,36)"
            },
            "marker": {
             "line": {
              "color": "rgb(234,234,242)",
              "width": 0.5
             },
             "pattern": {
              "fillmode": "overlay",
              "size": 10,
              "solidity": 0.2
             }
            },
            "type": "bar"
           }
          ],
          "barpolar": [
           {
            "marker": {
             "line": {
              "color": "rgb(234,234,242)",
              "width": 0.5
             },
             "pattern": {
              "fillmode": "overlay",
              "size": 10,
              "solidity": 0.2
             }
            },
            "type": "barpolar"
           }
          ],
          "carpet": [
           {
            "aaxis": {
             "endlinecolor": "rgb(36,36,36)",
             "gridcolor": "white",
             "linecolor": "white",
             "minorgridcolor": "white",
             "startlinecolor": "rgb(36,36,36)"
            },
            "baxis": {
             "endlinecolor": "rgb(36,36,36)",
             "gridcolor": "white",
             "linecolor": "white",
             "minorgridcolor": "white",
             "startlinecolor": "rgb(36,36,36)"
            },
            "type": "carpet"
           }
          ],
          "choropleth": [
           {
            "colorbar": {
             "outlinewidth": 0,
             "tickcolor": "rgb(36,36,36)",
             "ticklen": 8,
             "ticks": "outside",
             "tickwidth": 2
            },
            "type": "choropleth"
           }
          ],
          "contour": [
           {
            "colorbar": {
             "outlinewidth": 0,
             "tickcolor": "rgb(36,36,36)",
             "ticklen": 8,
             "ticks": "outside",
             "tickwidth": 2
            },
            "colorscale": [
             [
              0,
              "rgb(2,4,25)"
             ],
             [
              0.06274509803921569,
              "rgb(24,15,41)"
             ],
             [
              0.12549019607843137,
              "rgb(47,23,57)"
             ],
             [
              0.18823529411764706,
              "rgb(71,28,72)"
             ],
             [
              0.25098039215686274,
              "rgb(97,30,82)"
             ],
             [
              0.3137254901960784,
              "rgb(123,30,89)"
             ],
             [
              0.3764705882352941,
              "rgb(150,27,91)"
             ],
             [
              0.4392156862745098,
              "rgb(177,22,88)"
             ],
             [
              0.5019607843137255,
              "rgb(203,26,79)"
             ],
             [
              0.5647058823529412,
              "rgb(223,47,67)"
             ],
             [
              0.6274509803921569,
              "rgb(236,76,61)"
             ],
             [
              0.6901960784313725,
              "rgb(242,107,73)"
             ],
             [
              0.7529411764705882,
              "rgb(244,135,95)"
             ],
             [
              0.8156862745098039,
              "rgb(245,162,122)"
             ],
             [
              0.8784313725490196,
              "rgb(246,188,153)"
             ],
             [
              0.9411764705882353,
              "rgb(247,212,187)"
             ],
             [
              1,
              "rgb(250,234,220)"
             ]
            ],
            "type": "contour"
           }
          ],
          "contourcarpet": [
           {
            "colorbar": {
             "outlinewidth": 0,
             "tickcolor": "rgb(36,36,36)",
             "ticklen": 8,
             "ticks": "outside",
             "tickwidth": 2
            },
            "type": "contourcarpet"
           }
          ],
          "heatmap": [
           {
            "colorbar": {
             "outlinewidth": 0,
             "tickcolor": "rgb(36,36,36)",
             "ticklen": 8,
             "ticks": "outside",
             "tickwidth": 2
            },
            "colorscale": [
             [
              0,
              "rgb(2,4,25)"
             ],
             [
              0.06274509803921569,
              "rgb(24,15,41)"
             ],
             [
              0.12549019607843137,
              "rgb(47,23,57)"
             ],
             [
              0.18823529411764706,
              "rgb(71,28,72)"
             ],
             [
              0.25098039215686274,
              "rgb(97,30,82)"
             ],
             [
              0.3137254901960784,
              "rgb(123,30,89)"
             ],
             [
              0.3764705882352941,
              "rgb(150,27,91)"
             ],
             [
              0.4392156862745098,
              "rgb(177,22,88)"
             ],
             [
              0.5019607843137255,
              "rgb(203,26,79)"
             ],
             [
              0.5647058823529412,
              "rgb(223,47,67)"
             ],
             [
              0.6274509803921569,
              "rgb(236,76,61)"
             ],
             [
              0.6901960784313725,
              "rgb(242,107,73)"
             ],
             [
              0.7529411764705882,
              "rgb(244,135,95)"
             ],
             [
              0.8156862745098039,
              "rgb(245,162,122)"
             ],
             [
              0.8784313725490196,
              "rgb(246,188,153)"
             ],
             [
              0.9411764705882353,
              "rgb(247,212,187)"
             ],
             [
              1,
              "rgb(250,234,220)"
             ]
            ],
            "type": "heatmap"
           }
          ],
          "heatmapgl": [
           {
            "colorbar": {
             "outlinewidth": 0,
             "tickcolor": "rgb(36,36,36)",
             "ticklen": 8,
             "ticks": "outside",
             "tickwidth": 2
            },
            "colorscale": [
             [
              0,
              "rgb(2,4,25)"
             ],
             [
              0.06274509803921569,
              "rgb(24,15,41)"
             ],
             [
              0.12549019607843137,
              "rgb(47,23,57)"
             ],
             [
              0.18823529411764706,
              "rgb(71,28,72)"
             ],
             [
              0.25098039215686274,
              "rgb(97,30,82)"
             ],
             [
              0.3137254901960784,
              "rgb(123,30,89)"
             ],
             [
              0.3764705882352941,
              "rgb(150,27,91)"
             ],
             [
              0.4392156862745098,
              "rgb(177,22,88)"
             ],
             [
              0.5019607843137255,
              "rgb(203,26,79)"
             ],
             [
              0.5647058823529412,
              "rgb(223,47,67)"
             ],
             [
              0.6274509803921569,
              "rgb(236,76,61)"
             ],
             [
              0.6901960784313725,
              "rgb(242,107,73)"
             ],
             [
              0.7529411764705882,
              "rgb(244,135,95)"
             ],
             [
              0.8156862745098039,
              "rgb(245,162,122)"
             ],
             [
              0.8784313725490196,
              "rgb(246,188,153)"
             ],
             [
              0.9411764705882353,
              "rgb(247,212,187)"
             ],
             [
              1,
              "rgb(250,234,220)"
             ]
            ],
            "type": "heatmapgl"
           }
          ],
          "histogram": [
           {
            "marker": {
             "pattern": {
              "fillmode": "overlay",
              "size": 10,
              "solidity": 0.2
             }
            },
            "type": "histogram"
           }
          ],
          "histogram2d": [
           {
            "colorbar": {
             "outlinewidth": 0,
             "tickcolor": "rgb(36,36,36)",
             "ticklen": 8,
             "ticks": "outside",
             "tickwidth": 2
            },
            "colorscale": [
             [
              0,
              "rgb(2,4,25)"
             ],
             [
              0.06274509803921569,
              "rgb(24,15,41)"
             ],
             [
              0.12549019607843137,
              "rgb(47,23,57)"
             ],
             [
              0.18823529411764706,
              "rgb(71,28,72)"
             ],
             [
              0.25098039215686274,
              "rgb(97,30,82)"
             ],
             [
              0.3137254901960784,
              "rgb(123,30,89)"
             ],
             [
              0.3764705882352941,
              "rgb(150,27,91)"
             ],
             [
              0.4392156862745098,
              "rgb(177,22,88)"
             ],
             [
              0.5019607843137255,
              "rgb(203,26,79)"
             ],
             [
              0.5647058823529412,
              "rgb(223,47,67)"
             ],
             [
              0.6274509803921569,
              "rgb(236,76,61)"
             ],
             [
              0.6901960784313725,
              "rgb(242,107,73)"
             ],
             [
              0.7529411764705882,
              "rgb(244,135,95)"
             ],
             [
              0.8156862745098039,
              "rgb(245,162,122)"
             ],
             [
              0.8784313725490196,
              "rgb(246,188,153)"
             ],
             [
              0.9411764705882353,
              "rgb(247,212,187)"
             ],
             [
              1,
              "rgb(250,234,220)"
             ]
            ],
            "type": "histogram2d"
           }
          ],
          "histogram2dcontour": [
           {
            "colorbar": {
             "outlinewidth": 0,
             "tickcolor": "rgb(36,36,36)",
             "ticklen": 8,
             "ticks": "outside",
             "tickwidth": 2
            },
            "colorscale": [
             [
              0,
              "rgb(2,4,25)"
             ],
             [
              0.06274509803921569,
              "rgb(24,15,41)"
             ],
             [
              0.12549019607843137,
              "rgb(47,23,57)"
             ],
             [
              0.18823529411764706,
              "rgb(71,28,72)"
             ],
             [
              0.25098039215686274,
              "rgb(97,30,82)"
             ],
             [
              0.3137254901960784,
              "rgb(123,30,89)"
             ],
             [
              0.3764705882352941,
              "rgb(150,27,91)"
             ],
             [
              0.4392156862745098,
              "rgb(177,22,88)"
             ],
             [
              0.5019607843137255,
              "rgb(203,26,79)"
             ],
             [
              0.5647058823529412,
              "rgb(223,47,67)"
             ],
             [
              0.6274509803921569,
              "rgb(236,76,61)"
             ],
             [
              0.6901960784313725,
              "rgb(242,107,73)"
             ],
             [
              0.7529411764705882,
              "rgb(244,135,95)"
             ],
             [
              0.8156862745098039,
              "rgb(245,162,122)"
             ],
             [
              0.8784313725490196,
              "rgb(246,188,153)"
             ],
             [
              0.9411764705882353,
              "rgb(247,212,187)"
             ],
             [
              1,
              "rgb(250,234,220)"
             ]
            ],
            "type": "histogram2dcontour"
           }
          ],
          "mesh3d": [
           {
            "colorbar": {
             "outlinewidth": 0,
             "tickcolor": "rgb(36,36,36)",
             "ticklen": 8,
             "ticks": "outside",
             "tickwidth": 2
            },
            "type": "mesh3d"
           }
          ],
          "parcoords": [
           {
            "line": {
             "colorbar": {
              "outlinewidth": 0,
              "tickcolor": "rgb(36,36,36)",
              "ticklen": 8,
              "ticks": "outside",
              "tickwidth": 2
             }
            },
            "type": "parcoords"
           }
          ],
          "pie": [
           {
            "automargin": true,
            "type": "pie"
           }
          ],
          "scatter": [
           {
            "fillpattern": {
             "fillmode": "overlay",
             "size": 10,
             "solidity": 0.2
            },
            "type": "scatter"
           }
          ],
          "scatter3d": [
           {
            "line": {
             "colorbar": {
              "outlinewidth": 0,
              "tickcolor": "rgb(36,36,36)",
              "ticklen": 8,
              "ticks": "outside",
              "tickwidth": 2
             }
            },
            "marker": {
             "colorbar": {
              "outlinewidth": 0,
              "tickcolor": "rgb(36,36,36)",
              "ticklen": 8,
              "ticks": "outside",
              "tickwidth": 2
             }
            },
            "type": "scatter3d"
           }
          ],
          "scattercarpet": [
           {
            "marker": {
             "colorbar": {
              "outlinewidth": 0,
              "tickcolor": "rgb(36,36,36)",
              "ticklen": 8,
              "ticks": "outside",
              "tickwidth": 2
             }
            },
            "type": "scattercarpet"
           }
          ],
          "scattergeo": [
           {
            "marker": {
             "colorbar": {
              "outlinewidth": 0,
              "tickcolor": "rgb(36,36,36)",
              "ticklen": 8,
              "ticks": "outside",
              "tickwidth": 2
             }
            },
            "type": "scattergeo"
           }
          ],
          "scattergl": [
           {
            "marker": {
             "colorbar": {
              "outlinewidth": 0,
              "tickcolor": "rgb(36,36,36)",
              "ticklen": 8,
              "ticks": "outside",
              "tickwidth": 2
             }
            },
            "type": "scattergl"
           }
          ],
          "scattermapbox": [
           {
            "marker": {
             "colorbar": {
              "outlinewidth": 0,
              "tickcolor": "rgb(36,36,36)",
              "ticklen": 8,
              "ticks": "outside",
              "tickwidth": 2
             }
            },
            "type": "scattermapbox"
           }
          ],
          "scatterpolar": [
           {
            "marker": {
             "colorbar": {
              "outlinewidth": 0,
              "tickcolor": "rgb(36,36,36)",
              "ticklen": 8,
              "ticks": "outside",
              "tickwidth": 2
             }
            },
            "type": "scatterpolar"
           }
          ],
          "scatterpolargl": [
           {
            "marker": {
             "colorbar": {
              "outlinewidth": 0,
              "tickcolor": "rgb(36,36,36)",
              "ticklen": 8,
              "ticks": "outside",
              "tickwidth": 2
             }
            },
            "type": "scatterpolargl"
           }
          ],
          "scatterternary": [
           {
            "marker": {
             "colorbar": {
              "outlinewidth": 0,
              "tickcolor": "rgb(36,36,36)",
              "ticklen": 8,
              "ticks": "outside",
              "tickwidth": 2
             }
            },
            "type": "scatterternary"
           }
          ],
          "surface": [
           {
            "colorbar": {
             "outlinewidth": 0,
             "tickcolor": "rgb(36,36,36)",
             "ticklen": 8,
             "ticks": "outside",
             "tickwidth": 2
            },
            "colorscale": [
             [
              0,
              "rgb(2,4,25)"
             ],
             [
              0.06274509803921569,
              "rgb(24,15,41)"
             ],
             [
              0.12549019607843137,
              "rgb(47,23,57)"
             ],
             [
              0.18823529411764706,
              "rgb(71,28,72)"
             ],
             [
              0.25098039215686274,
              "rgb(97,30,82)"
             ],
             [
              0.3137254901960784,
              "rgb(123,30,89)"
             ],
             [
              0.3764705882352941,
              "rgb(150,27,91)"
             ],
             [
              0.4392156862745098,
              "rgb(177,22,88)"
             ],
             [
              0.5019607843137255,
              "rgb(203,26,79)"
             ],
             [
              0.5647058823529412,
              "rgb(223,47,67)"
             ],
             [
              0.6274509803921569,
              "rgb(236,76,61)"
             ],
             [
              0.6901960784313725,
              "rgb(242,107,73)"
             ],
             [
              0.7529411764705882,
              "rgb(244,135,95)"
             ],
             [
              0.8156862745098039,
              "rgb(245,162,122)"
             ],
             [
              0.8784313725490196,
              "rgb(246,188,153)"
             ],
             [
              0.9411764705882353,
              "rgb(247,212,187)"
             ],
             [
              1,
              "rgb(250,234,220)"
             ]
            ],
            "type": "surface"
           }
          ],
          "table": [
           {
            "cells": {
             "fill": {
              "color": "rgb(231,231,240)"
             },
             "line": {
              "color": "white"
             }
            },
            "header": {
             "fill": {
              "color": "rgb(183,183,191)"
             },
             "line": {
              "color": "white"
             }
            },
            "type": "table"
           }
          ]
         },
         "layout": {
          "annotationdefaults": {
           "arrowcolor": "rgb(67,103,167)"
          },
          "autotypenumbers": "strict",
          "coloraxis": {
           "colorbar": {
            "outlinewidth": 0,
            "tickcolor": "rgb(36,36,36)",
            "ticklen": 8,
            "ticks": "outside",
            "tickwidth": 2
           }
          },
          "colorscale": {
           "sequential": [
            [
             0,
             "rgb(2,4,25)"
            ],
            [
             0.06274509803921569,
             "rgb(24,15,41)"
            ],
            [
             0.12549019607843137,
             "rgb(47,23,57)"
            ],
            [
             0.18823529411764706,
             "rgb(71,28,72)"
            ],
            [
             0.25098039215686274,
             "rgb(97,30,82)"
            ],
            [
             0.3137254901960784,
             "rgb(123,30,89)"
            ],
            [
             0.3764705882352941,
             "rgb(150,27,91)"
            ],
            [
             0.4392156862745098,
             "rgb(177,22,88)"
            ],
            [
             0.5019607843137255,
             "rgb(203,26,79)"
            ],
            [
             0.5647058823529412,
             "rgb(223,47,67)"
            ],
            [
             0.6274509803921569,
             "rgb(236,76,61)"
            ],
            [
             0.6901960784313725,
             "rgb(242,107,73)"
            ],
            [
             0.7529411764705882,
             "rgb(244,135,95)"
            ],
            [
             0.8156862745098039,
             "rgb(245,162,122)"
            ],
            [
             0.8784313725490196,
             "rgb(246,188,153)"
            ],
            [
             0.9411764705882353,
             "rgb(247,212,187)"
            ],
            [
             1,
             "rgb(250,234,220)"
            ]
           ],
           "sequentialminus": [
            [
             0,
             "rgb(2,4,25)"
            ],
            [
             0.06274509803921569,
             "rgb(24,15,41)"
            ],
            [
             0.12549019607843137,
             "rgb(47,23,57)"
            ],
            [
             0.18823529411764706,
             "rgb(71,28,72)"
            ],
            [
             0.25098039215686274,
             "rgb(97,30,82)"
            ],
            [
             0.3137254901960784,
             "rgb(123,30,89)"
            ],
            [
             0.3764705882352941,
             "rgb(150,27,91)"
            ],
            [
             0.4392156862745098,
             "rgb(177,22,88)"
            ],
            [
             0.5019607843137255,
             "rgb(203,26,79)"
            ],
            [
             0.5647058823529412,
             "rgb(223,47,67)"
            ],
            [
             0.6274509803921569,
             "rgb(236,76,61)"
            ],
            [
             0.6901960784313725,
             "rgb(242,107,73)"
            ],
            [
             0.7529411764705882,
             "rgb(244,135,95)"
            ],
            [
             0.8156862745098039,
             "rgb(245,162,122)"
            ],
            [
             0.8784313725490196,
             "rgb(246,188,153)"
            ],
            [
             0.9411764705882353,
             "rgb(247,212,187)"
            ],
            [
             1,
             "rgb(250,234,220)"
            ]
           ]
          },
          "colorway": [
           "rgb(76,114,176)",
           "rgb(221,132,82)",
           "rgb(85,168,104)",
           "rgb(196,78,82)",
           "rgb(129,114,179)",
           "rgb(147,120,96)",
           "rgb(218,139,195)",
           "rgb(140,140,140)",
           "rgb(204,185,116)",
           "rgb(100,181,205)"
          ],
          "font": {
           "color": "rgb(36,36,36)"
          },
          "geo": {
           "bgcolor": "white",
           "lakecolor": "white",
           "landcolor": "rgb(234,234,242)",
           "showlakes": true,
           "showland": true,
           "subunitcolor": "white"
          },
          "hoverlabel": {
           "align": "left"
          },
          "hovermode": "closest",
          "paper_bgcolor": "white",
          "plot_bgcolor": "rgb(234,234,242)",
          "polar": {
           "angularaxis": {
            "gridcolor": "white",
            "linecolor": "white",
            "showgrid": true,
            "ticks": ""
           },
           "bgcolor": "rgb(234,234,242)",
           "radialaxis": {
            "gridcolor": "white",
            "linecolor": "white",
            "showgrid": true,
            "ticks": ""
           }
          },
          "scene": {
           "xaxis": {
            "backgroundcolor": "rgb(234,234,242)",
            "gridcolor": "white",
            "gridwidth": 2,
            "linecolor": "white",
            "showbackground": true,
            "showgrid": true,
            "ticks": "",
            "zerolinecolor": "white"
           },
           "yaxis": {
            "backgroundcolor": "rgb(234,234,242)",
            "gridcolor": "white",
            "gridwidth": 2,
            "linecolor": "white",
            "showbackground": true,
            "showgrid": true,
            "ticks": "",
            "zerolinecolor": "white"
           },
           "zaxis": {
            "backgroundcolor": "rgb(234,234,242)",
            "gridcolor": "white",
            "gridwidth": 2,
            "linecolor": "white",
            "showbackground": true,
            "showgrid": true,
            "ticks": "",
            "zerolinecolor": "white"
           }
          },
          "shapedefaults": {
           "fillcolor": "rgb(67,103,167)",
           "line": {
            "width": 0
           },
           "opacity": 0.5
          },
          "ternary": {
           "aaxis": {
            "gridcolor": "white",
            "linecolor": "white",
            "showgrid": true,
            "ticks": ""
           },
           "baxis": {
            "gridcolor": "white",
            "linecolor": "white",
            "showgrid": true,
            "ticks": ""
           },
           "bgcolor": "rgb(234,234,242)",
           "caxis": {
            "gridcolor": "white",
            "linecolor": "white",
            "showgrid": true,
            "ticks": ""
           }
          },
          "xaxis": {
           "automargin": true,
           "gridcolor": "white",
           "linecolor": "white",
           "showgrid": true,
           "ticks": "",
           "title": {
            "standoff": 15
           },
           "zerolinecolor": "white"
          },
          "yaxis": {
           "automargin": true,
           "gridcolor": "white",
           "linecolor": "white",
           "showgrid": true,
           "ticks": "",
           "title": {
            "standoff": 15
           },
           "zerolinecolor": "white"
          }
         }
        },
        "title": {
         "text": "<b>Phase 2A Subscription Rate (%)</b>"
        },
        "width": 1200,
        "xaxis": {
         "anchor": "y",
         "domain": [
          0,
          1
         ],
         "showgrid": false,
         "title": {
          "text": "Percentage Subscribed (%)"
         }
        },
        "yaxis": {
         "anchor": "x",
         "categoryarray": [
          "Girls School",
          "Boys School",
          "Co-Ed School"
         ],
         "categoryorder": "array",
         "domain": [
          0,
          1
         ],
         "showgrid": false,
         "title": {
          "text": ""
         }
        }
       }
      }
     },
     "metadata": {},
     "output_type": "display_data"
    }
   ],
   "source": [
    "plot_phase_stripplot('Phase2A_sub_apply', 'Phase 2A', 'GEP')"
   ]
  },
  {
   "attachments": {},
   "cell_type": "markdown",
   "metadata": {},
   "source": [
    "**Phase 2B**\n",
    "- Whose parent has joined the primary school as a parent volunteer not later than 1 July of the year before P1 registration and has given at least 40 hours of voluntary service to the school by 30 June of the year of P1 registration.\n",
    "- Whose parent is a member endorsed by the church or clan directly connected with the primary school.\n",
    "- Whose parent is endorsed as an active community leader.\n",
    "- We will reserve 20 places in each primary school for Phase 2B to ensure continued access to all primary schools.\n",
    "- Children who gain priority admission into a school under the \"Parent is endorsed as an active community leader\" eligibility and the school is within 2km of their address used for registration is required to reside at that address for at least 30 months from the start of the P1 Registration Exercise"
   ]
  },
  {
   "cell_type": "code",
   "execution_count": 24,
   "metadata": {},
   "outputs": [
    {
     "data": {
      "application/vnd.plotly.v1+json": {
       "config": {
        "plotlyServerURL": "https://plot.ly"
       },
       "data": [
        {
         "alignmentgroup": "True",
         "boxpoints": "all",
         "customdata": [
          [
           "Admiralty Primary School",
           "Co-Ed School",
           "No",
           "Government School"
          ],
          [
           "Ahmad Ibrahim Primary School",
           "Co-Ed School",
           "No",
           "Government School"
          ],
          [
           "Ai Tong School",
           "Co-Ed School",
           "No",
           "Government-Aided School"
          ],
          [
           "Alexandra Primary School",
           "Co-Ed School",
           "No",
           "Government School"
          ],
          [
           "Anchor Green Primary School",
           "Co-Ed School",
           "No",
           "Government School"
          ],
          [
           "Anderson Primary School",
           "Co-Ed School",
           "No",
           "Government School"
          ],
          [
           "Ang Mo Kio Primary School",
           "Co-Ed School",
           "No",
           "Government School"
          ],
          [
           "Anglo-Chinese School (Junior)",
           "Boys School",
           "No",
           "Government-Aided School"
          ],
          [
           "Angsana Primary School",
           "Co-Ed School",
           "No",
           "Government School"
          ],
          [
           "Beacon Primary School",
           "Co-Ed School",
           "No",
           "Government School"
          ],
          [
           "Bedok Green Primary School",
           "Co-Ed School",
           "No",
           "Government School"
          ],
          [
           "Bendemeer Primary School",
           "Co-Ed School",
           "No",
           "Government School"
          ],
          [
           "Blangah Rise Primary School",
           "Co-Ed School",
           "No",
           "Government School"
          ],
          [
           "Boon Lay Garden Primary School",
           "Co-Ed School",
           "No",
           "Government School"
          ],
          [
           "Bukit Panjang Primary School",
           "Co-Ed School",
           "No",
           "Government School"
          ],
          [
           "Bukit Timah Primary School",
           "Co-Ed School",
           "No",
           "Government School"
          ],
          [
           "Bukit View Primary School",
           "Co-Ed School",
           "No",
           "Government School"
          ],
          [
           "CHIJ (Katong) Primary",
           "Girls School",
           "No",
           "Government-Aided School"
          ],
          [
           "CHIJ (Kellock)",
           "Girls School",
           "No",
           "Government-Aided School"
          ],
          [
           "CHIJ Our Lady Queen of Peace",
           "Girls School",
           "No",
           "Government-Aided School"
          ],
          [
           "CHIJ Our Lady of Good Counsel",
           "Girls School",
           "No",
           "Government-Aided School"
          ],
          [
           "CHIJ Our Lady of the Nativity",
           "Girls School",
           "No",
           "Government-Aided School"
          ],
          [
           "CHIJ Primary (Toa Payoh)",
           "Girls School",
           "No",
           "Government-Aided School"
          ],
          [
           "CHIJ St. Nicholas Girls' School (Primary Section)",
           "Girls School",
           "No",
           "Government-Aided School / Autonomous"
          ],
          [
           "Canberra Primary School",
           "Co-Ed School",
           "No",
           "Government School"
          ],
          [
           "Canossa Catholic Primary School",
           "Co-Ed School",
           "No",
           "Government-Aided School"
          ],
          [
           "Cantonment Primary School",
           "Co-Ed School",
           "No",
           "Government School"
          ],
          [
           "Casuarina Primary School",
           "Co-Ed School",
           "No",
           "Government School"
          ],
          [
           "Cedar Primary School",
           "Co-Ed School",
           "No",
           "Government School"
          ],
          [
           "Changkat Primary School",
           "Co-Ed School",
           "No",
           "Government School"
          ],
          [
           "Chongfu School",
           "Co-Ed School",
           "No",
           "Government-Aided School"
          ],
          [
           "Chongzheng Primary School",
           "Co-Ed School",
           "No",
           "Government School"
          ],
          [
           "Chua Chu Kang Primary School",
           "Co-Ed School",
           "No",
           "Government School"
          ],
          [
           "Clementi Primary School",
           "Co-Ed School",
           "No",
           "Government School"
          ],
          [
           "Compassvale Primary School",
           "Co-Ed School",
           "No",
           "Government School"
          ],
          [
           "Concord Primary School",
           "Co-Ed School",
           "No",
           "Government School"
          ],
          [
           "Corporation Primary School",
           "Co-Ed School",
           "No",
           "Government School"
          ],
          [
           "Damai Primary School",
           "Co-Ed School",
           "No",
           "Government School"
          ],
          [
           "Dazhong Primary School",
           "Co-Ed School",
           "No",
           "Government School"
          ],
          [
           "De La Salle School",
           "Co-Ed School",
           "No",
           "Government-Aided School"
          ],
          [
           "East Spring Primary School",
           "Co-Ed School",
           "No",
           "Government School"
          ],
          [
           "Edgefield Primary School",
           "Co-Ed School",
           "No",
           "Government School"
          ],
          [
           "Elias Park Primary School",
           "Co-Ed School",
           "No",
           "Government School"
          ],
          [
           "Endeavour Primary School",
           "Co-Ed School",
           "No",
           "Government School"
          ],
          [
           "Evergreen Primary School",
           "Co-Ed School",
           "No",
           "Government School"
          ],
          [
           "Fairfield Methodist School (Primary)",
           "Co-Ed School",
           "No",
           "Government-Aided School"
          ],
          [
           "Farrer Park Primary School",
           "Co-Ed School",
           "No",
           "Government School"
          ],
          [
           "Fengshan Primary School",
           "Co-Ed School",
           "No",
           "Government School"
          ],
          [
           "Fern Green Primary School",
           "Co-Ed School",
           "No",
           "Government School"
          ],
          [
           "Fernvale Primary School",
           "Co-Ed School",
           "No",
           "Government School"
          ],
          [
           "First Toa Payoh Primary School",
           "Co-Ed School",
           "No",
           "Government School"
          ],
          [
           "Frontier Primary School",
           "Co-Ed School",
           "No",
           "Government School"
          ],
          [
           "Fuchun Primary School",
           "Co-Ed School",
           "No",
           "Government School"
          ],
          [
           "Fuhua Primary School",
           "Co-Ed School",
           "No",
           "Government School"
          ],
          [
           "Gan Eng Seng Primary School",
           "Co-Ed School",
           "No",
           "Government School"
          ],
          [
           "Geylang Methodist School (Primary)",
           "Co-Ed School",
           "No",
           "Government-Aided School"
          ],
          [
           "Gongshang Primary School",
           "Co-Ed School",
           "No",
           "Government School"
          ],
          [
           "Greendale Primary School",
           "Co-Ed School",
           "No",
           "Government School"
          ],
          [
           "Greenridge Primary School",
           "Co-Ed School",
           "No",
           "Government School"
          ],
          [
           "Greenwood Primary School",
           "Co-Ed School",
           "No",
           "Government School"
          ],
          [
           "Haig Girls' School",
           "Girls School",
           "No",
           "Government School"
          ],
          [
           "Holy Innocents' Primary School",
           "Co-Ed School",
           "No",
           "Government-Aided School"
          ],
          [
           "Hong Wen School",
           "Co-Ed School",
           "No",
           "Government-Aided School"
          ],
          [
           "Horizon Primary School",
           "Co-Ed School",
           "No",
           "Government School"
          ],
          [
           "Hougang Primary School",
           "Co-Ed School",
           "No",
           "Government School"
          ],
          [
           "Huamin Primary School",
           "Co-Ed School",
           "No",
           "Government School"
          ],
          [
           "Innova Primary School",
           "Co-Ed School",
           "No",
           "Government School"
          ],
          [
           "Jiemin Primary School",
           "Co-Ed School",
           "No",
           "Government School"
          ],
          [
           "Jing Shan Primary School",
           "Co-Ed School",
           "No",
           "Government School"
          ],
          [
           "Junyuan Primary School",
           "Co-Ed School",
           "No",
           "Government School"
          ],
          [
           "Jurong Primary School",
           "Co-Ed School",
           "No",
           "Government School"
          ],
          [
           "Jurong West Primary School",
           "Co-Ed School",
           "No",
           "Government School"
          ],
          [
           "Keming Primary School",
           "Co-Ed School",
           "No",
           "Government School"
          ],
          [
           "Kheng Cheng School",
           "Co-Ed School",
           "No",
           "Government-Aided School"
          ],
          [
           "Kong Hwa School",
           "Co-Ed School",
           "No",
           "Government-Aided School"
          ],
          [
           "Kranji Primary School",
           "Co-Ed School",
           "No",
           "Government School"
          ],
          [
           "Kuo Chuan Presbyterian Primary School",
           "Co-Ed School",
           "No",
           "Government-Aided School"
          ],
          [
           "Lakeside Primary School",
           "Co-Ed School",
           "No",
           "Government School"
          ],
          [
           "Lianhua Primary School",
           "Co-Ed School",
           "No",
           "Government School"
          ],
          [
           "Maha Bodhi School",
           "Co-Ed School",
           "No",
           "Government-Aided School"
          ],
          [
           "Maris Stella High School (Primary Section)",
           "Boys School",
           "No",
           "Government-Aided School / Autonomous"
          ],
          [
           "Marsiling Primary School",
           "Co-Ed School",
           "No",
           "Government School"
          ],
          [
           "Marymount Convent School",
           "Girls School",
           "No",
           "Government-Aided School"
          ],
          [
           "Mayflower Primary School",
           "Co-Ed School",
           "No",
           "Government School"
          ],
          [
           "Mee Toh School",
           "Co-Ed School",
           "No",
           "Government-Aided School"
          ],
          [
           "Meridian Primary School",
           "Co-Ed School",
           "No",
           "Government School"
          ],
          [
           "Methodist Girls' School (Primary)",
           "Girls School",
           "No",
           "Government-Aided School"
          ],
          [
           "Montfort Junior School",
           "Boys School",
           "No",
           "Government-Aided School"
          ],
          [
           "Nan Chiau Primary School",
           "Co-Ed School",
           "No",
           "Government-Aided School"
          ],
          [
           "Naval Base Primary School",
           "Co-Ed School",
           "No",
           "Government School"
          ],
          [
           "New Town Primary School",
           "Co-Ed School",
           "No",
           "Government School"
          ],
          [
           "Ngee Ann Primary School",
           "Co-Ed School",
           "No",
           "Government-Aided School"
          ],
          [
           "North Spring Primary School",
           "Co-Ed School",
           "No",
           "Government School"
          ],
          [
           "North View Primary School",
           "Co-Ed School",
           "No",
           "Government School"
          ],
          [
           "North Vista Primary School",
           "Co-Ed School",
           "No",
           "Government School"
          ],
          [
           "Northland Primary School",
           "Co-Ed School",
           "No",
           "Government School"
          ],
          [
           "Northoaks Primary School",
           "Co-Ed School",
           "No",
           "Government School"
          ],
          [
           "Northshore Primary School",
           "Co-Ed School",
           "No",
           "Government School"
          ],
          [
           "Oasis Primary School",
           "Co-Ed School",
           "No",
           "Government School"
          ],
          [
           "Opera Estate Primary School",
           "Co-Ed School",
           "No",
           "Government School"
          ],
          [
           "Palm View Primary School",
           "Co-Ed School",
           "No",
           "Government School"
          ],
          [
           "Park View Primary School",
           "Co-Ed School",
           "No",
           "Government School"
          ],
          [
           "Pasir Ris Primary School",
           "Co-Ed School",
           "No",
           "Government School"
          ],
          [
           "Paya Lebar Methodist Girls' School (Primary)",
           "Girls School",
           "No",
           "Government-Aided School"
          ],
          [
           "Pei Chun Public School",
           "Co-Ed School",
           "No",
           "Government-Aided School"
          ],
          [
           "Pei Hwa Presbyterian Primary School",
           "Co-Ed School",
           "No",
           "Government-Aided School"
          ],
          [
           "Pei Tong Primary School",
           "Co-Ed School",
           "No",
           "Government School"
          ],
          [
           "Peiying Primary School",
           "Co-Ed School",
           "No",
           "Government School"
          ],
          [
           "Poi Ching School",
           "Co-Ed School",
           "No",
           "Government-Aided School"
          ],
          [
           "Princess Elizabeth Primary School",
           "Co-Ed School",
           "No",
           "Government School"
          ],
          [
           "Punggol Cove Primary School",
           "Co-Ed School",
           "No",
           "Government School"
          ],
          [
           "Punggol Green Primary School",
           "Co-Ed School",
           "No",
           "Government School"
          ],
          [
           "Punggol Primary School",
           "Co-Ed School",
           "No",
           "Government School"
          ],
          [
           "Punggol View Primary School",
           "Co-Ed School",
           "No",
           "Government School"
          ],
          [
           "Qifa Primary School",
           "Co-Ed School",
           "No",
           "Government School"
          ],
          [
           "Qihua Primary School",
           "Co-Ed School",
           "No",
           "Government School"
          ],
          [
           "Queenstown Primary School",
           "Co-Ed School",
           "No",
           "Government School"
          ],
          [
           "Radin Mas Primary School",
           "Co-Ed School",
           "No",
           "Government School"
          ],
          [
           "Red Swastika School",
           "Co-Ed School",
           "No",
           "Government-Aided School"
          ],
          [
           "River Valley Primary School",
           "Co-Ed School",
           "No",
           "Government School"
          ],
          [
           "Riverside Primary School",
           "Co-Ed School",
           "No",
           "Government School"
          ],
          [
           "Rivervale Primary School",
           "Co-Ed School",
           "No",
           "Government School"
          ],
          [
           "Rulang Primary School",
           "Co-Ed School",
           "No",
           "Government School"
          ],
          [
           "Sembawang Primary School",
           "Co-Ed School",
           "No",
           "Government School"
          ],
          [
           "Seng Kang Primary School",
           "Co-Ed School",
           "No",
           "Government School"
          ],
          [
           "Sengkang Green Primary School",
           "Co-Ed School",
           "No",
           "Government School"
          ],
          [
           "Shuqun Primary School",
           "Co-Ed School",
           "No",
           "Government School"
          ],
          [
           "Si Ling Primary School",
           "Co-Ed School",
           "No",
           "Government School"
          ],
          [
           "Singapore Chinese Girls' Primary School",
           "Girls School",
           "No",
           "Government-Aided School"
          ],
          [
           "South View Primary School",
           "Co-Ed School",
           "No",
           "Government School"
          ],
          [
           "Springdale Primary School",
           "Co-Ed School",
           "No",
           "Government School"
          ],
          [
           "St. Andrew's Junior School",
           "Boys School",
           "No",
           "Government-Aided School"
          ],
          [
           "St. Anthony's Canossian Primary School",
           "Girls School",
           "No",
           "Government-Aided School"
          ],
          [
           "St. Anthony's Primary School",
           "Co-Ed School",
           "No",
           "Government-Aided School"
          ],
          [
           "St. Gabriel's Primary School",
           "Boys School",
           "No",
           "Government-Aided School"
          ],
          [
           "St. Joseph's Institution Junior",
           "Boys School",
           "No",
           "Government-Aided School"
          ],
          [
           "St. Margaret's Primary School",
           "Girls School",
           "No",
           "Government-Aided School"
          ],
          [
           "St. Stephen's School",
           "Boys School",
           "No",
           "Government-Aided School"
          ],
          [
           "Tampines North Primary School",
           "Co-Ed School",
           "No",
           "Government School"
          ],
          [
           "Tampines Primary School",
           "Co-Ed School",
           "No",
           "Government School"
          ],
          [
           "Tanjong Katong Primary School",
           "Co-Ed School",
           "No",
           "Government School"
          ],
          [
           "Teck Ghee Primary School",
           "Co-Ed School",
           "No",
           "Government School"
          ],
          [
           "Teck Whye Primary School",
           "Co-Ed School",
           "No",
           "Government School"
          ],
          [
           "Telok Kurau Primary School",
           "Co-Ed School",
           "No",
           "Government School"
          ],
          [
           "Temasek Primary School",
           "Co-Ed School",
           "No",
           "Government School"
          ],
          [
           "Townsville Primary School",
           "Co-Ed School",
           "No",
           "Government School"
          ],
          [
           "Unity Primary School",
           "Co-Ed School",
           "No",
           "Government School"
          ],
          [
           "Valour Primary School",
           "Co-Ed School",
           "No",
           "Government School"
          ],
          [
           "Waterway Primary School",
           "Co-Ed School",
           "No",
           "Government School"
          ],
          [
           "Wellington Primary School",
           "Co-Ed School",
           "No",
           "Government School"
          ],
          [
           "West Grove Primary School",
           "Co-Ed School",
           "No",
           "Government School"
          ],
          [
           "West Spring Primary School",
           "Co-Ed School",
           "No",
           "Government School"
          ],
          [
           "West View Primary School",
           "Co-Ed School",
           "No",
           "Government School"
          ],
          [
           "Westwood Primary School",
           "Co-Ed School",
           "No",
           "Government School"
          ],
          [
           "White Sands Primary School",
           "Co-Ed School",
           "No",
           "Government School"
          ],
          [
           "Woodgrove Primary School",
           "Co-Ed School",
           "No",
           "Government School"
          ],
          [
           "Woodlands Primary School",
           "Co-Ed School",
           "No",
           "Government School"
          ],
          [
           "Woodlands Ring Primary School",
           "Co-Ed School",
           "No",
           "Government School"
          ],
          [
           "Xinghua Primary School",
           "Co-Ed School",
           "No",
           "Government School"
          ],
          [
           "Xingnan Primary School",
           "Co-Ed School",
           "No",
           "Government School"
          ],
          [
           "Xinmin Primary School",
           "Co-Ed School",
           "No",
           "Government School"
          ],
          [
           "Xishan Primary School",
           "Co-Ed School",
           "No",
           "Government School"
          ],
          [
           "Yangzheng Primary School",
           "Co-Ed School",
           "No",
           "Government School"
          ],
          [
           "Yew Tee Primary School",
           "Co-Ed School",
           "No",
           "Government School"
          ],
          [
           "Yio Chu Kang Primary School",
           "Co-Ed School",
           "No",
           "Government School"
          ],
          [
           "Yishun Primary School",
           "Co-Ed School",
           "No",
           "Government School"
          ],
          [
           "Yu Neng Primary School",
           "Co-Ed School",
           "No",
           "Government School"
          ],
          [
           "Yuhua Primary School",
           "Co-Ed School",
           "No",
           "Government School"
          ],
          [
           "Yumin Primary School",
           "Co-Ed School",
           "No",
           "Government School"
          ],
          [
           "Zhangde Primary School",
           "Co-Ed School",
           "No",
           "Government School"
          ],
          [
           "Zhenghua Primary School",
           "Co-Ed School",
           "No",
           "Government School"
          ],
          [
           "Zhonghua Primary School",
           "Co-Ed School",
           "No",
           "Government School"
          ]
         ],
         "fillcolor": "rgba(255,255,255,0)",
         "hoveron": "points",
         "hovertemplate": "School: %{customdata[0]}<br>Category: %{y}<br>Percentage: %{x:.1f}%<br>GEP: %{customdata[2]}</br>",
         "legendgroup": "No",
         "line": {
          "color": "rgba(255,255,255,0)"
         },
         "marker": {
          "color": "blue",
          "size": 8
         },
         "name": "No",
         "offsetgroup": "No",
         "orientation": "h",
         "pointpos": 0,
         "showlegend": true,
         "type": "box",
         "x": [
          222.72727272727272,
          0,
          240,
          10.256410256410255,
          0,
          75,
          0,
          211.11111111111111,
          0,
          0,
          0,
          0,
          0,
          0,
          72.41379310344827,
          2.380952380952381,
          0,
          37.2093023255814,
          34.78260869565217,
          26.08695652173913,
          62.5,
          98.14814814814817,
          148.14814814814815,
          230,
          44.18604651162791,
          59.25925925925925,
          0,
          0,
          0,
          0,
          204,
          35,
          78.125,
          0,
          38.63636363636363,
          7.6923076923076925,
          1.96078431372549,
          0,
          0,
          25,
          0,
          0,
          6.666666666666667,
          5.769230769230769,
          0,
          165,
          2.380952380952381,
          4,
          8,
          2.631578947368421,
          0,
          70,
          2.0408163265306123,
          0,
          0,
          9.090909090909092,
          75,
          0,
          0,
          2.1739130434782608,
          2.3255813953488373,
          238.0952380952381,
          75,
          95,
          56.25,
          6.25,
          42.42424242424242,
          3.571428571428571,
          4.166666666666666,
          0,
          0,
          14.814814814814811,
          79.16666666666666,
          8.333333333333332,
          203.125,
          0,
          174.19354838709677,
          0,
          1.2658227848101269,
          89.1891891891892,
          166.66666666666669,
          0,
          19.402985074626866,
          0,
          100,
          0,
          395,
          39.47368421052632,
          192.6829268292683,
          2.857142857142857,
          0,
          9.523809523809524,
          0,
          0,
          0,
          110,
          0,
          1.694915254237288,
          0,
          2.7777777777777777,
          2.1739130434782608,
          2.7777777777777777,
          104.76190476190476,
          114.6341463414634,
          135,
          185,
          0,
          0,
          62.7906976744186,
          25,
          3.225806451612903,
          20,
          21.428571428571427,
          0,
          50,
          9.25925925925926,
          0,
          100,
          130,
          76.92307692307693,
          10,
          38.70967741935484,
          170,
          2.857142857142857,
          0,
          91.30434782608695,
          36.66666666666666,
          0,
          170,
          150,
          0,
          83.78378378378379,
          8.955223880597014,
          121.875,
          70.58823529411765,
          221.0526315789474,
          47.5,
          37.096774193548384,
          0,
          7.142857142857142,
          46.66666666666666,
          14.634146341463412,
          0,
          7.142857142857142,
          50,
          6.976744186046512,
          0,
          6.0606060606060606,
          3.571428571428571,
          20,
          15.384615384615383,
          0,
          0,
          55.00000000000001,
          40,
          20,
          41.935483870967744,
          0,
          0,
          1.5873015873015872,
          133.33333333333331,
          2.702702702702702,
          40.909090909090914,
          2.1739130434782608,
          0,
          0,
          50,
          0,
          0,
          3.225806451612903,
          0,
          2.564102564102564
         ],
         "x0": " ",
         "xaxis": "x",
         "y": [
          "Co-Ed School",
          "Co-Ed School",
          "Co-Ed School",
          "Co-Ed School",
          "Co-Ed School",
          "Co-Ed School",
          "Co-Ed School",
          "Boys School",
          "Co-Ed School",
          "Co-Ed School",
          "Co-Ed School",
          "Co-Ed School",
          "Co-Ed School",
          "Co-Ed School",
          "Co-Ed School",
          "Co-Ed School",
          "Co-Ed School",
          "Girls School",
          "Girls School",
          "Girls School",
          "Girls School",
          "Girls School",
          "Girls School",
          "Girls School",
          "Co-Ed School",
          "Co-Ed School",
          "Co-Ed School",
          "Co-Ed School",
          "Co-Ed School",
          "Co-Ed School",
          "Co-Ed School",
          "Co-Ed School",
          "Co-Ed School",
          "Co-Ed School",
          "Co-Ed School",
          "Co-Ed School",
          "Co-Ed School",
          "Co-Ed School",
          "Co-Ed School",
          "Co-Ed School",
          "Co-Ed School",
          "Co-Ed School",
          "Co-Ed School",
          "Co-Ed School",
          "Co-Ed School",
          "Co-Ed School",
          "Co-Ed School",
          "Co-Ed School",
          "Co-Ed School",
          "Co-Ed School",
          "Co-Ed School",
          "Co-Ed School",
          "Co-Ed School",
          "Co-Ed School",
          "Co-Ed School",
          "Co-Ed School",
          "Co-Ed School",
          "Co-Ed School",
          "Co-Ed School",
          "Co-Ed School",
          "Girls School",
          "Co-Ed School",
          "Co-Ed School",
          "Co-Ed School",
          "Co-Ed School",
          "Co-Ed School",
          "Co-Ed School",
          "Co-Ed School",
          "Co-Ed School",
          "Co-Ed School",
          "Co-Ed School",
          "Co-Ed School",
          "Co-Ed School",
          "Co-Ed School",
          "Co-Ed School",
          "Co-Ed School",
          "Co-Ed School",
          "Co-Ed School",
          "Co-Ed School",
          "Co-Ed School",
          "Boys School",
          "Co-Ed School",
          "Girls School",
          "Co-Ed School",
          "Co-Ed School",
          "Co-Ed School",
          "Girls School",
          "Boys School",
          "Co-Ed School",
          "Co-Ed School",
          "Co-Ed School",
          "Co-Ed School",
          "Co-Ed School",
          "Co-Ed School",
          "Co-Ed School",
          "Co-Ed School",
          "Co-Ed School",
          "Co-Ed School",
          "Co-Ed School",
          "Co-Ed School",
          "Co-Ed School",
          "Co-Ed School",
          "Co-Ed School",
          "Girls School",
          "Co-Ed School",
          "Co-Ed School",
          "Co-Ed School",
          "Co-Ed School",
          "Co-Ed School",
          "Co-Ed School",
          "Co-Ed School",
          "Co-Ed School",
          "Co-Ed School",
          "Co-Ed School",
          "Co-Ed School",
          "Co-Ed School",
          "Co-Ed School",
          "Co-Ed School",
          "Co-Ed School",
          "Co-Ed School",
          "Co-Ed School",
          "Co-Ed School",
          "Co-Ed School",
          "Co-Ed School",
          "Co-Ed School",
          "Co-Ed School",
          "Co-Ed School",
          "Co-Ed School",
          "Girls School",
          "Co-Ed School",
          "Co-Ed School",
          "Boys School",
          "Girls School",
          "Co-Ed School",
          "Boys School",
          "Boys School",
          "Girls School",
          "Boys School",
          "Co-Ed School",
          "Co-Ed School",
          "Co-Ed School",
          "Co-Ed School",
          "Co-Ed School",
          "Co-Ed School",
          "Co-Ed School",
          "Co-Ed School",
          "Co-Ed School",
          "Co-Ed School",
          "Co-Ed School",
          "Co-Ed School",
          "Co-Ed School",
          "Co-Ed School",
          "Co-Ed School",
          "Co-Ed School",
          "Co-Ed School",
          "Co-Ed School",
          "Co-Ed School",
          "Co-Ed School",
          "Co-Ed School",
          "Co-Ed School",
          "Co-Ed School",
          "Co-Ed School",
          "Co-Ed School",
          "Co-Ed School",
          "Co-Ed School",
          "Co-Ed School",
          "Co-Ed School",
          "Co-Ed School",
          "Co-Ed School",
          "Co-Ed School",
          "Co-Ed School",
          "Co-Ed School"
         ],
         "y0": " ",
         "yaxis": "y"
        },
        {
         "alignmentgroup": "True",
         "boxpoints": "all",
         "customdata": [
          [
           "Anglo-Chinese School (Primary)",
           "Boys School",
           "Yes",
           "Government-Aided School"
          ],
          [
           "Catholic High School (Primary Section)",
           "Boys School",
           "Yes",
           "Government-Aided School / Autonomous"
          ],
          [
           "Henry Park Primary School",
           "Co-Ed School",
           "Yes",
           "Government School"
          ],
          [
           "Nan Hua Primary School",
           "Co-Ed School",
           "Yes",
           "Government-Aided School"
          ],
          [
           "Nanyang Primary School",
           "Co-Ed School",
           "Yes",
           "Government-Aided School"
          ],
          [
           "Raffles Girls' Primary School",
           "Girls School",
           "Yes",
           "Government School"
          ],
          [
           "Rosyth School",
           "Co-Ed School",
           "Yes",
           "Government School"
          ],
          [
           "St. Hilda's Primary School",
           "Co-Ed School",
           "Yes",
           "Government-Aided School"
          ],
          [
           "Tao Nan School",
           "Co-Ed School",
           "Yes",
           "Government-Aided School"
          ]
         ],
         "fillcolor": "rgba(255,255,255,0)",
         "hoveron": "points",
         "hovertemplate": "School: %{customdata[0]}<br>Category: %{y}<br>Percentage: %{x:.1f}%<br>GEP: %{customdata[2]}</br>",
         "legendgroup": "Yes",
         "line": {
          "color": "rgba(255,255,255,0)"
         },
         "marker": {
          "color": "red",
          "size": 8
         },
         "name": "Yes",
         "offsetgroup": "Yes",
         "orientation": "h",
         "pointpos": 0,
         "showlegend": true,
         "type": "box",
         "x": [
          196.42857142857144,
          215,
          138.0952380952381,
          190,
          185,
          90.69767441860463,
          120,
          200,
          265.2173913043478
         ],
         "x0": " ",
         "xaxis": "x",
         "y": [
          "Boys School",
          "Boys School",
          "Co-Ed School",
          "Co-Ed School",
          "Co-Ed School",
          "Girls School",
          "Co-Ed School",
          "Co-Ed School",
          "Co-Ed School"
         ],
         "y0": " ",
         "yaxis": "y"
        }
       ],
       "layout": {
        "boxmode": "overlay",
        "height": 500,
        "legend": {
         "title": {
          "text": "GEP"
         },
         "tracegroupgap": 0
        },
        "showlegend": true,
        "template": {
         "data": {
          "bar": [
           {
            "error_x": {
             "color": "rgb(36,36,36)"
            },
            "error_y": {
             "color": "rgb(36,36,36)"
            },
            "marker": {
             "line": {
              "color": "rgb(234,234,242)",
              "width": 0.5
             },
             "pattern": {
              "fillmode": "overlay",
              "size": 10,
              "solidity": 0.2
             }
            },
            "type": "bar"
           }
          ],
          "barpolar": [
           {
            "marker": {
             "line": {
              "color": "rgb(234,234,242)",
              "width": 0.5
             },
             "pattern": {
              "fillmode": "overlay",
              "size": 10,
              "solidity": 0.2
             }
            },
            "type": "barpolar"
           }
          ],
          "carpet": [
           {
            "aaxis": {
             "endlinecolor": "rgb(36,36,36)",
             "gridcolor": "white",
             "linecolor": "white",
             "minorgridcolor": "white",
             "startlinecolor": "rgb(36,36,36)"
            },
            "baxis": {
             "endlinecolor": "rgb(36,36,36)",
             "gridcolor": "white",
             "linecolor": "white",
             "minorgridcolor": "white",
             "startlinecolor": "rgb(36,36,36)"
            },
            "type": "carpet"
           }
          ],
          "choropleth": [
           {
            "colorbar": {
             "outlinewidth": 0,
             "tickcolor": "rgb(36,36,36)",
             "ticklen": 8,
             "ticks": "outside",
             "tickwidth": 2
            },
            "type": "choropleth"
           }
          ],
          "contour": [
           {
            "colorbar": {
             "outlinewidth": 0,
             "tickcolor": "rgb(36,36,36)",
             "ticklen": 8,
             "ticks": "outside",
             "tickwidth": 2
            },
            "colorscale": [
             [
              0,
              "rgb(2,4,25)"
             ],
             [
              0.06274509803921569,
              "rgb(24,15,41)"
             ],
             [
              0.12549019607843137,
              "rgb(47,23,57)"
             ],
             [
              0.18823529411764706,
              "rgb(71,28,72)"
             ],
             [
              0.25098039215686274,
              "rgb(97,30,82)"
             ],
             [
              0.3137254901960784,
              "rgb(123,30,89)"
             ],
             [
              0.3764705882352941,
              "rgb(150,27,91)"
             ],
             [
              0.4392156862745098,
              "rgb(177,22,88)"
             ],
             [
              0.5019607843137255,
              "rgb(203,26,79)"
             ],
             [
              0.5647058823529412,
              "rgb(223,47,67)"
             ],
             [
              0.6274509803921569,
              "rgb(236,76,61)"
             ],
             [
              0.6901960784313725,
              "rgb(242,107,73)"
             ],
             [
              0.7529411764705882,
              "rgb(244,135,95)"
             ],
             [
              0.8156862745098039,
              "rgb(245,162,122)"
             ],
             [
              0.8784313725490196,
              "rgb(246,188,153)"
             ],
             [
              0.9411764705882353,
              "rgb(247,212,187)"
             ],
             [
              1,
              "rgb(250,234,220)"
             ]
            ],
            "type": "contour"
           }
          ],
          "contourcarpet": [
           {
            "colorbar": {
             "outlinewidth": 0,
             "tickcolor": "rgb(36,36,36)",
             "ticklen": 8,
             "ticks": "outside",
             "tickwidth": 2
            },
            "type": "contourcarpet"
           }
          ],
          "heatmap": [
           {
            "colorbar": {
             "outlinewidth": 0,
             "tickcolor": "rgb(36,36,36)",
             "ticklen": 8,
             "ticks": "outside",
             "tickwidth": 2
            },
            "colorscale": [
             [
              0,
              "rgb(2,4,25)"
             ],
             [
              0.06274509803921569,
              "rgb(24,15,41)"
             ],
             [
              0.12549019607843137,
              "rgb(47,23,57)"
             ],
             [
              0.18823529411764706,
              "rgb(71,28,72)"
             ],
             [
              0.25098039215686274,
              "rgb(97,30,82)"
             ],
             [
              0.3137254901960784,
              "rgb(123,30,89)"
             ],
             [
              0.3764705882352941,
              "rgb(150,27,91)"
             ],
             [
              0.4392156862745098,
              "rgb(177,22,88)"
             ],
             [
              0.5019607843137255,
              "rgb(203,26,79)"
             ],
             [
              0.5647058823529412,
              "rgb(223,47,67)"
             ],
             [
              0.6274509803921569,
              "rgb(236,76,61)"
             ],
             [
              0.6901960784313725,
              "rgb(242,107,73)"
             ],
             [
              0.7529411764705882,
              "rgb(244,135,95)"
             ],
             [
              0.8156862745098039,
              "rgb(245,162,122)"
             ],
             [
              0.8784313725490196,
              "rgb(246,188,153)"
             ],
             [
              0.9411764705882353,
              "rgb(247,212,187)"
             ],
             [
              1,
              "rgb(250,234,220)"
             ]
            ],
            "type": "heatmap"
           }
          ],
          "heatmapgl": [
           {
            "colorbar": {
             "outlinewidth": 0,
             "tickcolor": "rgb(36,36,36)",
             "ticklen": 8,
             "ticks": "outside",
             "tickwidth": 2
            },
            "colorscale": [
             [
              0,
              "rgb(2,4,25)"
             ],
             [
              0.06274509803921569,
              "rgb(24,15,41)"
             ],
             [
              0.12549019607843137,
              "rgb(47,23,57)"
             ],
             [
              0.18823529411764706,
              "rgb(71,28,72)"
             ],
             [
              0.25098039215686274,
              "rgb(97,30,82)"
             ],
             [
              0.3137254901960784,
              "rgb(123,30,89)"
             ],
             [
              0.3764705882352941,
              "rgb(150,27,91)"
             ],
             [
              0.4392156862745098,
              "rgb(177,22,88)"
             ],
             [
              0.5019607843137255,
              "rgb(203,26,79)"
             ],
             [
              0.5647058823529412,
              "rgb(223,47,67)"
             ],
             [
              0.6274509803921569,
              "rgb(236,76,61)"
             ],
             [
              0.6901960784313725,
              "rgb(242,107,73)"
             ],
             [
              0.7529411764705882,
              "rgb(244,135,95)"
             ],
             [
              0.8156862745098039,
              "rgb(245,162,122)"
             ],
             [
              0.8784313725490196,
              "rgb(246,188,153)"
             ],
             [
              0.9411764705882353,
              "rgb(247,212,187)"
             ],
             [
              1,
              "rgb(250,234,220)"
             ]
            ],
            "type": "heatmapgl"
           }
          ],
          "histogram": [
           {
            "marker": {
             "pattern": {
              "fillmode": "overlay",
              "size": 10,
              "solidity": 0.2
             }
            },
            "type": "histogram"
           }
          ],
          "histogram2d": [
           {
            "colorbar": {
             "outlinewidth": 0,
             "tickcolor": "rgb(36,36,36)",
             "ticklen": 8,
             "ticks": "outside",
             "tickwidth": 2
            },
            "colorscale": [
             [
              0,
              "rgb(2,4,25)"
             ],
             [
              0.06274509803921569,
              "rgb(24,15,41)"
             ],
             [
              0.12549019607843137,
              "rgb(47,23,57)"
             ],
             [
              0.18823529411764706,
              "rgb(71,28,72)"
             ],
             [
              0.25098039215686274,
              "rgb(97,30,82)"
             ],
             [
              0.3137254901960784,
              "rgb(123,30,89)"
             ],
             [
              0.3764705882352941,
              "rgb(150,27,91)"
             ],
             [
              0.4392156862745098,
              "rgb(177,22,88)"
             ],
             [
              0.5019607843137255,
              "rgb(203,26,79)"
             ],
             [
              0.5647058823529412,
              "rgb(223,47,67)"
             ],
             [
              0.6274509803921569,
              "rgb(236,76,61)"
             ],
             [
              0.6901960784313725,
              "rgb(242,107,73)"
             ],
             [
              0.7529411764705882,
              "rgb(244,135,95)"
             ],
             [
              0.8156862745098039,
              "rgb(245,162,122)"
             ],
             [
              0.8784313725490196,
              "rgb(246,188,153)"
             ],
             [
              0.9411764705882353,
              "rgb(247,212,187)"
             ],
             [
              1,
              "rgb(250,234,220)"
             ]
            ],
            "type": "histogram2d"
           }
          ],
          "histogram2dcontour": [
           {
            "colorbar": {
             "outlinewidth": 0,
             "tickcolor": "rgb(36,36,36)",
             "ticklen": 8,
             "ticks": "outside",
             "tickwidth": 2
            },
            "colorscale": [
             [
              0,
              "rgb(2,4,25)"
             ],
             [
              0.06274509803921569,
              "rgb(24,15,41)"
             ],
             [
              0.12549019607843137,
              "rgb(47,23,57)"
             ],
             [
              0.18823529411764706,
              "rgb(71,28,72)"
             ],
             [
              0.25098039215686274,
              "rgb(97,30,82)"
             ],
             [
              0.3137254901960784,
              "rgb(123,30,89)"
             ],
             [
              0.3764705882352941,
              "rgb(150,27,91)"
             ],
             [
              0.4392156862745098,
              "rgb(177,22,88)"
             ],
             [
              0.5019607843137255,
              "rgb(203,26,79)"
             ],
             [
              0.5647058823529412,
              "rgb(223,47,67)"
             ],
             [
              0.6274509803921569,
              "rgb(236,76,61)"
             ],
             [
              0.6901960784313725,
              "rgb(242,107,73)"
             ],
             [
              0.7529411764705882,
              "rgb(244,135,95)"
             ],
             [
              0.8156862745098039,
              "rgb(245,162,122)"
             ],
             [
              0.8784313725490196,
              "rgb(246,188,153)"
             ],
             [
              0.9411764705882353,
              "rgb(247,212,187)"
             ],
             [
              1,
              "rgb(250,234,220)"
             ]
            ],
            "type": "histogram2dcontour"
           }
          ],
          "mesh3d": [
           {
            "colorbar": {
             "outlinewidth": 0,
             "tickcolor": "rgb(36,36,36)",
             "ticklen": 8,
             "ticks": "outside",
             "tickwidth": 2
            },
            "type": "mesh3d"
           }
          ],
          "parcoords": [
           {
            "line": {
             "colorbar": {
              "outlinewidth": 0,
              "tickcolor": "rgb(36,36,36)",
              "ticklen": 8,
              "ticks": "outside",
              "tickwidth": 2
             }
            },
            "type": "parcoords"
           }
          ],
          "pie": [
           {
            "automargin": true,
            "type": "pie"
           }
          ],
          "scatter": [
           {
            "fillpattern": {
             "fillmode": "overlay",
             "size": 10,
             "solidity": 0.2
            },
            "type": "scatter"
           }
          ],
          "scatter3d": [
           {
            "line": {
             "colorbar": {
              "outlinewidth": 0,
              "tickcolor": "rgb(36,36,36)",
              "ticklen": 8,
              "ticks": "outside",
              "tickwidth": 2
             }
            },
            "marker": {
             "colorbar": {
              "outlinewidth": 0,
              "tickcolor": "rgb(36,36,36)",
              "ticklen": 8,
              "ticks": "outside",
              "tickwidth": 2
             }
            },
            "type": "scatter3d"
           }
          ],
          "scattercarpet": [
           {
            "marker": {
             "colorbar": {
              "outlinewidth": 0,
              "tickcolor": "rgb(36,36,36)",
              "ticklen": 8,
              "ticks": "outside",
              "tickwidth": 2
             }
            },
            "type": "scattercarpet"
           }
          ],
          "scattergeo": [
           {
            "marker": {
             "colorbar": {
              "outlinewidth": 0,
              "tickcolor": "rgb(36,36,36)",
              "ticklen": 8,
              "ticks": "outside",
              "tickwidth": 2
             }
            },
            "type": "scattergeo"
           }
          ],
          "scattergl": [
           {
            "marker": {
             "colorbar": {
              "outlinewidth": 0,
              "tickcolor": "rgb(36,36,36)",
              "ticklen": 8,
              "ticks": "outside",
              "tickwidth": 2
             }
            },
            "type": "scattergl"
           }
          ],
          "scattermapbox": [
           {
            "marker": {
             "colorbar": {
              "outlinewidth": 0,
              "tickcolor": "rgb(36,36,36)",
              "ticklen": 8,
              "ticks": "outside",
              "tickwidth": 2
             }
            },
            "type": "scattermapbox"
           }
          ],
          "scatterpolar": [
           {
            "marker": {
             "colorbar": {
              "outlinewidth": 0,
              "tickcolor": "rgb(36,36,36)",
              "ticklen": 8,
              "ticks": "outside",
              "tickwidth": 2
             }
            },
            "type": "scatterpolar"
           }
          ],
          "scatterpolargl": [
           {
            "marker": {
             "colorbar": {
              "outlinewidth": 0,
              "tickcolor": "rgb(36,36,36)",
              "ticklen": 8,
              "ticks": "outside",
              "tickwidth": 2
             }
            },
            "type": "scatterpolargl"
           }
          ],
          "scatterternary": [
           {
            "marker": {
             "colorbar": {
              "outlinewidth": 0,
              "tickcolor": "rgb(36,36,36)",
              "ticklen": 8,
              "ticks": "outside",
              "tickwidth": 2
             }
            },
            "type": "scatterternary"
           }
          ],
          "surface": [
           {
            "colorbar": {
             "outlinewidth": 0,
             "tickcolor": "rgb(36,36,36)",
             "ticklen": 8,
             "ticks": "outside",
             "tickwidth": 2
            },
            "colorscale": [
             [
              0,
              "rgb(2,4,25)"
             ],
             [
              0.06274509803921569,
              "rgb(24,15,41)"
             ],
             [
              0.12549019607843137,
              "rgb(47,23,57)"
             ],
             [
              0.18823529411764706,
              "rgb(71,28,72)"
             ],
             [
              0.25098039215686274,
              "rgb(97,30,82)"
             ],
             [
              0.3137254901960784,
              "rgb(123,30,89)"
             ],
             [
              0.3764705882352941,
              "rgb(150,27,91)"
             ],
             [
              0.4392156862745098,
              "rgb(177,22,88)"
             ],
             [
              0.5019607843137255,
              "rgb(203,26,79)"
             ],
             [
              0.5647058823529412,
              "rgb(223,47,67)"
             ],
             [
              0.6274509803921569,
              "rgb(236,76,61)"
             ],
             [
              0.6901960784313725,
              "rgb(242,107,73)"
             ],
             [
              0.7529411764705882,
              "rgb(244,135,95)"
             ],
             [
              0.8156862745098039,
              "rgb(245,162,122)"
             ],
             [
              0.8784313725490196,
              "rgb(246,188,153)"
             ],
             [
              0.9411764705882353,
              "rgb(247,212,187)"
             ],
             [
              1,
              "rgb(250,234,220)"
             ]
            ],
            "type": "surface"
           }
          ],
          "table": [
           {
            "cells": {
             "fill": {
              "color": "rgb(231,231,240)"
             },
             "line": {
              "color": "white"
             }
            },
            "header": {
             "fill": {
              "color": "rgb(183,183,191)"
             },
             "line": {
              "color": "white"
             }
            },
            "type": "table"
           }
          ]
         },
         "layout": {
          "annotationdefaults": {
           "arrowcolor": "rgb(67,103,167)"
          },
          "autotypenumbers": "strict",
          "coloraxis": {
           "colorbar": {
            "outlinewidth": 0,
            "tickcolor": "rgb(36,36,36)",
            "ticklen": 8,
            "ticks": "outside",
            "tickwidth": 2
           }
          },
          "colorscale": {
           "sequential": [
            [
             0,
             "rgb(2,4,25)"
            ],
            [
             0.06274509803921569,
             "rgb(24,15,41)"
            ],
            [
             0.12549019607843137,
             "rgb(47,23,57)"
            ],
            [
             0.18823529411764706,
             "rgb(71,28,72)"
            ],
            [
             0.25098039215686274,
             "rgb(97,30,82)"
            ],
            [
             0.3137254901960784,
             "rgb(123,30,89)"
            ],
            [
             0.3764705882352941,
             "rgb(150,27,91)"
            ],
            [
             0.4392156862745098,
             "rgb(177,22,88)"
            ],
            [
             0.5019607843137255,
             "rgb(203,26,79)"
            ],
            [
             0.5647058823529412,
             "rgb(223,47,67)"
            ],
            [
             0.6274509803921569,
             "rgb(236,76,61)"
            ],
            [
             0.6901960784313725,
             "rgb(242,107,73)"
            ],
            [
             0.7529411764705882,
             "rgb(244,135,95)"
            ],
            [
             0.8156862745098039,
             "rgb(245,162,122)"
            ],
            [
             0.8784313725490196,
             "rgb(246,188,153)"
            ],
            [
             0.9411764705882353,
             "rgb(247,212,187)"
            ],
            [
             1,
             "rgb(250,234,220)"
            ]
           ],
           "sequentialminus": [
            [
             0,
             "rgb(2,4,25)"
            ],
            [
             0.06274509803921569,
             "rgb(24,15,41)"
            ],
            [
             0.12549019607843137,
             "rgb(47,23,57)"
            ],
            [
             0.18823529411764706,
             "rgb(71,28,72)"
            ],
            [
             0.25098039215686274,
             "rgb(97,30,82)"
            ],
            [
             0.3137254901960784,
             "rgb(123,30,89)"
            ],
            [
             0.3764705882352941,
             "rgb(150,27,91)"
            ],
            [
             0.4392156862745098,
             "rgb(177,22,88)"
            ],
            [
             0.5019607843137255,
             "rgb(203,26,79)"
            ],
            [
             0.5647058823529412,
             "rgb(223,47,67)"
            ],
            [
             0.6274509803921569,
             "rgb(236,76,61)"
            ],
            [
             0.6901960784313725,
             "rgb(242,107,73)"
            ],
            [
             0.7529411764705882,
             "rgb(244,135,95)"
            ],
            [
             0.8156862745098039,
             "rgb(245,162,122)"
            ],
            [
             0.8784313725490196,
             "rgb(246,188,153)"
            ],
            [
             0.9411764705882353,
             "rgb(247,212,187)"
            ],
            [
             1,
             "rgb(250,234,220)"
            ]
           ]
          },
          "colorway": [
           "rgb(76,114,176)",
           "rgb(221,132,82)",
           "rgb(85,168,104)",
           "rgb(196,78,82)",
           "rgb(129,114,179)",
           "rgb(147,120,96)",
           "rgb(218,139,195)",
           "rgb(140,140,140)",
           "rgb(204,185,116)",
           "rgb(100,181,205)"
          ],
          "font": {
           "color": "rgb(36,36,36)"
          },
          "geo": {
           "bgcolor": "white",
           "lakecolor": "white",
           "landcolor": "rgb(234,234,242)",
           "showlakes": true,
           "showland": true,
           "subunitcolor": "white"
          },
          "hoverlabel": {
           "align": "left"
          },
          "hovermode": "closest",
          "paper_bgcolor": "white",
          "plot_bgcolor": "rgb(234,234,242)",
          "polar": {
           "angularaxis": {
            "gridcolor": "white",
            "linecolor": "white",
            "showgrid": true,
            "ticks": ""
           },
           "bgcolor": "rgb(234,234,242)",
           "radialaxis": {
            "gridcolor": "white",
            "linecolor": "white",
            "showgrid": true,
            "ticks": ""
           }
          },
          "scene": {
           "xaxis": {
            "backgroundcolor": "rgb(234,234,242)",
            "gridcolor": "white",
            "gridwidth": 2,
            "linecolor": "white",
            "showbackground": true,
            "showgrid": true,
            "ticks": "",
            "zerolinecolor": "white"
           },
           "yaxis": {
            "backgroundcolor": "rgb(234,234,242)",
            "gridcolor": "white",
            "gridwidth": 2,
            "linecolor": "white",
            "showbackground": true,
            "showgrid": true,
            "ticks": "",
            "zerolinecolor": "white"
           },
           "zaxis": {
            "backgroundcolor": "rgb(234,234,242)",
            "gridcolor": "white",
            "gridwidth": 2,
            "linecolor": "white",
            "showbackground": true,
            "showgrid": true,
            "ticks": "",
            "zerolinecolor": "white"
           }
          },
          "shapedefaults": {
           "fillcolor": "rgb(67,103,167)",
           "line": {
            "width": 0
           },
           "opacity": 0.5
          },
          "ternary": {
           "aaxis": {
            "gridcolor": "white",
            "linecolor": "white",
            "showgrid": true,
            "ticks": ""
           },
           "baxis": {
            "gridcolor": "white",
            "linecolor": "white",
            "showgrid": true,
            "ticks": ""
           },
           "bgcolor": "rgb(234,234,242)",
           "caxis": {
            "gridcolor": "white",
            "linecolor": "white",
            "showgrid": true,
            "ticks": ""
           }
          },
          "xaxis": {
           "automargin": true,
           "gridcolor": "white",
           "linecolor": "white",
           "showgrid": true,
           "ticks": "",
           "title": {
            "standoff": 15
           },
           "zerolinecolor": "white"
          },
          "yaxis": {
           "automargin": true,
           "gridcolor": "white",
           "linecolor": "white",
           "showgrid": true,
           "ticks": "",
           "title": {
            "standoff": 15
           },
           "zerolinecolor": "white"
          }
         }
        },
        "title": {
         "text": "<b>Phase 2B Subscription Rate (%)</b>"
        },
        "width": 1200,
        "xaxis": {
         "anchor": "y",
         "domain": [
          0,
          1
         ],
         "showgrid": false,
         "title": {
          "text": "Percentage Subscribed (%)"
         }
        },
        "yaxis": {
         "anchor": "x",
         "categoryarray": [
          "Girls School",
          "Boys School",
          "Co-Ed School"
         ],
         "categoryorder": "array",
         "domain": [
          0,
          1
         ],
         "showgrid": false,
         "title": {
          "text": ""
         }
        }
       }
      }
     },
     "metadata": {},
     "output_type": "display_data"
    }
   ],
   "source": [
    "plot_phase_stripplot('Phase2B_sub_apply', 'Phase 2B', 'GEP')"
   ]
  },
  {
   "attachments": {},
   "cell_type": "markdown",
   "metadata": {},
   "source": [
    "**Phase 2C**\n",
    "- For a child who is not yet registered in a primary school.\n",
    "- We will reserve 40 places in each primary school for Phase 2C to ensure continued open access to all primary schools."
   ]
  },
  {
   "cell_type": "code",
   "execution_count": 25,
   "metadata": {},
   "outputs": [
    {
     "data": {
      "application/vnd.plotly.v1+json": {
       "config": {
        "plotlyServerURL": "https://plot.ly"
       },
       "data": [
        {
         "alignmentgroup": "True",
         "boxpoints": "all",
         "customdata": [
          [
           "Admiralty Primary School",
           "Co-Ed School",
           "No",
           "Government School"
          ],
          [
           "Ahmad Ibrahim Primary School",
           "Co-Ed School",
           "No",
           "Government School"
          ],
          [
           "Ai Tong School",
           "Co-Ed School",
           "No",
           "Government-Aided School"
          ],
          [
           "Alexandra Primary School",
           "Co-Ed School",
           "No",
           "Government School"
          ],
          [
           "Anchor Green Primary School",
           "Co-Ed School",
           "No",
           "Government School"
          ],
          [
           "Anderson Primary School",
           "Co-Ed School",
           "No",
           "Government School"
          ],
          [
           "Ang Mo Kio Primary School",
           "Co-Ed School",
           "No",
           "Government School"
          ],
          [
           "Anglo-Chinese School (Junior)",
           "Boys School",
           "No",
           "Government-Aided School"
          ],
          [
           "Angsana Primary School",
           "Co-Ed School",
           "No",
           "Government School"
          ],
          [
           "Beacon Primary School",
           "Co-Ed School",
           "No",
           "Government School"
          ],
          [
           "Bedok Green Primary School",
           "Co-Ed School",
           "No",
           "Government School"
          ],
          [
           "Bendemeer Primary School",
           "Co-Ed School",
           "No",
           "Government School"
          ],
          [
           "Blangah Rise Primary School",
           "Co-Ed School",
           "No",
           "Government School"
          ],
          [
           "Boon Lay Garden Primary School",
           "Co-Ed School",
           "No",
           "Government School"
          ],
          [
           "Bukit Panjang Primary School",
           "Co-Ed School",
           "No",
           "Government School"
          ],
          [
           "Bukit Timah Primary School",
           "Co-Ed School",
           "No",
           "Government School"
          ],
          [
           "Bukit View Primary School",
           "Co-Ed School",
           "No",
           "Government School"
          ],
          [
           "CHIJ (Katong) Primary",
           "Girls School",
           "No",
           "Government-Aided School"
          ],
          [
           "CHIJ (Kellock)",
           "Girls School",
           "No",
           "Government-Aided School"
          ],
          [
           "CHIJ Our Lady Queen of Peace",
           "Girls School",
           "No",
           "Government-Aided School"
          ],
          [
           "CHIJ Our Lady of Good Counsel",
           "Girls School",
           "No",
           "Government-Aided School"
          ],
          [
           "CHIJ Our Lady of the Nativity",
           "Girls School",
           "No",
           "Government-Aided School"
          ],
          [
           "CHIJ Primary (Toa Payoh)",
           "Girls School",
           "No",
           "Government-Aided School"
          ],
          [
           "CHIJ St. Nicholas Girls' School (Primary Section)",
           "Girls School",
           "No",
           "Government-Aided School / Autonomous"
          ],
          [
           "Canberra Primary School",
           "Co-Ed School",
           "No",
           "Government School"
          ],
          [
           "Canossa Catholic Primary School",
           "Co-Ed School",
           "No",
           "Government-Aided School"
          ],
          [
           "Cantonment Primary School",
           "Co-Ed School",
           "No",
           "Government School"
          ],
          [
           "Casuarina Primary School",
           "Co-Ed School",
           "No",
           "Government School"
          ],
          [
           "Cedar Primary School",
           "Co-Ed School",
           "No",
           "Government School"
          ],
          [
           "Changkat Primary School",
           "Co-Ed School",
           "No",
           "Government School"
          ],
          [
           "Chongfu School",
           "Co-Ed School",
           "No",
           "Government-Aided School"
          ],
          [
           "Chongzheng Primary School",
           "Co-Ed School",
           "No",
           "Government School"
          ],
          [
           "Chua Chu Kang Primary School",
           "Co-Ed School",
           "No",
           "Government School"
          ],
          [
           "Clementi Primary School",
           "Co-Ed School",
           "No",
           "Government School"
          ],
          [
           "Compassvale Primary School",
           "Co-Ed School",
           "No",
           "Government School"
          ],
          [
           "Concord Primary School",
           "Co-Ed School",
           "No",
           "Government School"
          ],
          [
           "Corporation Primary School",
           "Co-Ed School",
           "No",
           "Government School"
          ],
          [
           "Damai Primary School",
           "Co-Ed School",
           "No",
           "Government School"
          ],
          [
           "Dazhong Primary School",
           "Co-Ed School",
           "No",
           "Government School"
          ],
          [
           "De La Salle School",
           "Co-Ed School",
           "No",
           "Government-Aided School"
          ],
          [
           "East Spring Primary School",
           "Co-Ed School",
           "No",
           "Government School"
          ],
          [
           "Edgefield Primary School",
           "Co-Ed School",
           "No",
           "Government School"
          ],
          [
           "Elias Park Primary School",
           "Co-Ed School",
           "No",
           "Government School"
          ],
          [
           "Endeavour Primary School",
           "Co-Ed School",
           "No",
           "Government School"
          ],
          [
           "Evergreen Primary School",
           "Co-Ed School",
           "No",
           "Government School"
          ],
          [
           "Fairfield Methodist School (Primary)",
           "Co-Ed School",
           "No",
           "Government-Aided School"
          ],
          [
           "Farrer Park Primary School",
           "Co-Ed School",
           "No",
           "Government School"
          ],
          [
           "Fengshan Primary School",
           "Co-Ed School",
           "No",
           "Government School"
          ],
          [
           "Fern Green Primary School",
           "Co-Ed School",
           "No",
           "Government School"
          ],
          [
           "Fernvale Primary School",
           "Co-Ed School",
           "No",
           "Government School"
          ],
          [
           "First Toa Payoh Primary School",
           "Co-Ed School",
           "No",
           "Government School"
          ],
          [
           "Frontier Primary School",
           "Co-Ed School",
           "No",
           "Government School"
          ],
          [
           "Fuchun Primary School",
           "Co-Ed School",
           "No",
           "Government School"
          ],
          [
           "Fuhua Primary School",
           "Co-Ed School",
           "No",
           "Government School"
          ],
          [
           "Gan Eng Seng Primary School",
           "Co-Ed School",
           "No",
           "Government School"
          ],
          [
           "Geylang Methodist School (Primary)",
           "Co-Ed School",
           "No",
           "Government-Aided School"
          ],
          [
           "Gongshang Primary School",
           "Co-Ed School",
           "No",
           "Government School"
          ],
          [
           "Greendale Primary School",
           "Co-Ed School",
           "No",
           "Government School"
          ],
          [
           "Greenridge Primary School",
           "Co-Ed School",
           "No",
           "Government School"
          ],
          [
           "Greenwood Primary School",
           "Co-Ed School",
           "No",
           "Government School"
          ],
          [
           "Haig Girls' School",
           "Girls School",
           "No",
           "Government School"
          ],
          [
           "Holy Innocents' Primary School",
           "Co-Ed School",
           "No",
           "Government-Aided School"
          ],
          [
           "Hong Wen School",
           "Co-Ed School",
           "No",
           "Government-Aided School"
          ],
          [
           "Horizon Primary School",
           "Co-Ed School",
           "No",
           "Government School"
          ],
          [
           "Hougang Primary School",
           "Co-Ed School",
           "No",
           "Government School"
          ],
          [
           "Huamin Primary School",
           "Co-Ed School",
           "No",
           "Government School"
          ],
          [
           "Innova Primary School",
           "Co-Ed School",
           "No",
           "Government School"
          ],
          [
           "Jiemin Primary School",
           "Co-Ed School",
           "No",
           "Government School"
          ],
          [
           "Jing Shan Primary School",
           "Co-Ed School",
           "No",
           "Government School"
          ],
          [
           "Junyuan Primary School",
           "Co-Ed School",
           "No",
           "Government School"
          ],
          [
           "Jurong Primary School",
           "Co-Ed School",
           "No",
           "Government School"
          ],
          [
           "Jurong West Primary School",
           "Co-Ed School",
           "No",
           "Government School"
          ],
          [
           "Keming Primary School",
           "Co-Ed School",
           "No",
           "Government School"
          ],
          [
           "Kheng Cheng School",
           "Co-Ed School",
           "No",
           "Government-Aided School"
          ],
          [
           "Kong Hwa School",
           "Co-Ed School",
           "No",
           "Government-Aided School"
          ],
          [
           "Kranji Primary School",
           "Co-Ed School",
           "No",
           "Government School"
          ],
          [
           "Kuo Chuan Presbyterian Primary School",
           "Co-Ed School",
           "No",
           "Government-Aided School"
          ],
          [
           "Lakeside Primary School",
           "Co-Ed School",
           "No",
           "Government School"
          ],
          [
           "Lianhua Primary School",
           "Co-Ed School",
           "No",
           "Government School"
          ],
          [
           "Maha Bodhi School",
           "Co-Ed School",
           "No",
           "Government-Aided School"
          ],
          [
           "Maris Stella High School (Primary Section)",
           "Boys School",
           "No",
           "Government-Aided School / Autonomous"
          ],
          [
           "Marsiling Primary School",
           "Co-Ed School",
           "No",
           "Government School"
          ],
          [
           "Marymount Convent School",
           "Girls School",
           "No",
           "Government-Aided School"
          ],
          [
           "Mayflower Primary School",
           "Co-Ed School",
           "No",
           "Government School"
          ],
          [
           "Mee Toh School",
           "Co-Ed School",
           "No",
           "Government-Aided School"
          ],
          [
           "Meridian Primary School",
           "Co-Ed School",
           "No",
           "Government School"
          ],
          [
           "Methodist Girls' School (Primary)",
           "Girls School",
           "No",
           "Government-Aided School"
          ],
          [
           "Montfort Junior School",
           "Boys School",
           "No",
           "Government-Aided School"
          ],
          [
           "Nan Chiau Primary School",
           "Co-Ed School",
           "No",
           "Government-Aided School"
          ],
          [
           "Naval Base Primary School",
           "Co-Ed School",
           "No",
           "Government School"
          ],
          [
           "New Town Primary School",
           "Co-Ed School",
           "No",
           "Government School"
          ],
          [
           "Ngee Ann Primary School",
           "Co-Ed School",
           "No",
           "Government-Aided School"
          ],
          [
           "North Spring Primary School",
           "Co-Ed School",
           "No",
           "Government School"
          ],
          [
           "North View Primary School",
           "Co-Ed School",
           "No",
           "Government School"
          ],
          [
           "North Vista Primary School",
           "Co-Ed School",
           "No",
           "Government School"
          ],
          [
           "Northland Primary School",
           "Co-Ed School",
           "No",
           "Government School"
          ],
          [
           "Northoaks Primary School",
           "Co-Ed School",
           "No",
           "Government School"
          ],
          [
           "Northshore Primary School",
           "Co-Ed School",
           "No",
           "Government School"
          ],
          [
           "Oasis Primary School",
           "Co-Ed School",
           "No",
           "Government School"
          ],
          [
           "Opera Estate Primary School",
           "Co-Ed School",
           "No",
           "Government School"
          ],
          [
           "Palm View Primary School",
           "Co-Ed School",
           "No",
           "Government School"
          ],
          [
           "Park View Primary School",
           "Co-Ed School",
           "No",
           "Government School"
          ],
          [
           "Pasir Ris Primary School",
           "Co-Ed School",
           "No",
           "Government School"
          ],
          [
           "Paya Lebar Methodist Girls' School (Primary)",
           "Girls School",
           "No",
           "Government-Aided School"
          ],
          [
           "Pei Chun Public School",
           "Co-Ed School",
           "No",
           "Government-Aided School"
          ],
          [
           "Pei Hwa Presbyterian Primary School",
           "Co-Ed School",
           "No",
           "Government-Aided School"
          ],
          [
           "Pei Tong Primary School",
           "Co-Ed School",
           "No",
           "Government School"
          ],
          [
           "Peiying Primary School",
           "Co-Ed School",
           "No",
           "Government School"
          ],
          [
           "Poi Ching School",
           "Co-Ed School",
           "No",
           "Government-Aided School"
          ],
          [
           "Princess Elizabeth Primary School",
           "Co-Ed School",
           "No",
           "Government School"
          ],
          [
           "Punggol Cove Primary School",
           "Co-Ed School",
           "No",
           "Government School"
          ],
          [
           "Punggol Green Primary School",
           "Co-Ed School",
           "No",
           "Government School"
          ],
          [
           "Punggol Primary School",
           "Co-Ed School",
           "No",
           "Government School"
          ],
          [
           "Punggol View Primary School",
           "Co-Ed School",
           "No",
           "Government School"
          ],
          [
           "Qifa Primary School",
           "Co-Ed School",
           "No",
           "Government School"
          ],
          [
           "Qihua Primary School",
           "Co-Ed School",
           "No",
           "Government School"
          ],
          [
           "Queenstown Primary School",
           "Co-Ed School",
           "No",
           "Government School"
          ],
          [
           "Radin Mas Primary School",
           "Co-Ed School",
           "No",
           "Government School"
          ],
          [
           "Red Swastika School",
           "Co-Ed School",
           "No",
           "Government-Aided School"
          ],
          [
           "River Valley Primary School",
           "Co-Ed School",
           "No",
           "Government School"
          ],
          [
           "Riverside Primary School",
           "Co-Ed School",
           "No",
           "Government School"
          ],
          [
           "Rivervale Primary School",
           "Co-Ed School",
           "No",
           "Government School"
          ],
          [
           "Rulang Primary School",
           "Co-Ed School",
           "No",
           "Government School"
          ],
          [
           "Sembawang Primary School",
           "Co-Ed School",
           "No",
           "Government School"
          ],
          [
           "Seng Kang Primary School",
           "Co-Ed School",
           "No",
           "Government School"
          ],
          [
           "Sengkang Green Primary School",
           "Co-Ed School",
           "No",
           "Government School"
          ],
          [
           "Shuqun Primary School",
           "Co-Ed School",
           "No",
           "Government School"
          ],
          [
           "Si Ling Primary School",
           "Co-Ed School",
           "No",
           "Government School"
          ],
          [
           "Singapore Chinese Girls' Primary School",
           "Girls School",
           "No",
           "Government-Aided School"
          ],
          [
           "South View Primary School",
           "Co-Ed School",
           "No",
           "Government School"
          ],
          [
           "Springdale Primary School",
           "Co-Ed School",
           "No",
           "Government School"
          ],
          [
           "St. Andrew's Junior School",
           "Boys School",
           "No",
           "Government-Aided School"
          ],
          [
           "St. Anthony's Canossian Primary School",
           "Girls School",
           "No",
           "Government-Aided School"
          ],
          [
           "St. Anthony's Primary School",
           "Co-Ed School",
           "No",
           "Government-Aided School"
          ],
          [
           "St. Gabriel's Primary School",
           "Boys School",
           "No",
           "Government-Aided School"
          ],
          [
           "St. Joseph's Institution Junior",
           "Boys School",
           "No",
           "Government-Aided School"
          ],
          [
           "St. Margaret's Primary School",
           "Girls School",
           "No",
           "Government-Aided School"
          ],
          [
           "St. Stephen's School",
           "Boys School",
           "No",
           "Government-Aided School"
          ],
          [
           "Tampines North Primary School",
           "Co-Ed School",
           "No",
           "Government School"
          ],
          [
           "Tampines Primary School",
           "Co-Ed School",
           "No",
           "Government School"
          ],
          [
           "Tanjong Katong Primary School",
           "Co-Ed School",
           "No",
           "Government School"
          ],
          [
           "Teck Ghee Primary School",
           "Co-Ed School",
           "No",
           "Government School"
          ],
          [
           "Teck Whye Primary School",
           "Co-Ed School",
           "No",
           "Government School"
          ],
          [
           "Telok Kurau Primary School",
           "Co-Ed School",
           "No",
           "Government School"
          ],
          [
           "Temasek Primary School",
           "Co-Ed School",
           "No",
           "Government School"
          ],
          [
           "Townsville Primary School",
           "Co-Ed School",
           "No",
           "Government School"
          ],
          [
           "Unity Primary School",
           "Co-Ed School",
           "No",
           "Government School"
          ],
          [
           "Valour Primary School",
           "Co-Ed School",
           "No",
           "Government School"
          ],
          [
           "Waterway Primary School",
           "Co-Ed School",
           "No",
           "Government School"
          ],
          [
           "Wellington Primary School",
           "Co-Ed School",
           "No",
           "Government School"
          ],
          [
           "West Grove Primary School",
           "Co-Ed School",
           "No",
           "Government School"
          ],
          [
           "West Spring Primary School",
           "Co-Ed School",
           "No",
           "Government School"
          ],
          [
           "West View Primary School",
           "Co-Ed School",
           "No",
           "Government School"
          ],
          [
           "Westwood Primary School",
           "Co-Ed School",
           "No",
           "Government School"
          ],
          [
           "White Sands Primary School",
           "Co-Ed School",
           "No",
           "Government School"
          ],
          [
           "Woodgrove Primary School",
           "Co-Ed School",
           "No",
           "Government School"
          ],
          [
           "Woodlands Primary School",
           "Co-Ed School",
           "No",
           "Government School"
          ],
          [
           "Woodlands Ring Primary School",
           "Co-Ed School",
           "No",
           "Government School"
          ],
          [
           "Xinghua Primary School",
           "Co-Ed School",
           "No",
           "Government School"
          ],
          [
           "Xingnan Primary School",
           "Co-Ed School",
           "No",
           "Government School"
          ],
          [
           "Xinmin Primary School",
           "Co-Ed School",
           "No",
           "Government School"
          ],
          [
           "Xishan Primary School",
           "Co-Ed School",
           "No",
           "Government School"
          ],
          [
           "Yangzheng Primary School",
           "Co-Ed School",
           "No",
           "Government School"
          ],
          [
           "Yew Tee Primary School",
           "Co-Ed School",
           "No",
           "Government School"
          ],
          [
           "Yio Chu Kang Primary School",
           "Co-Ed School",
           "No",
           "Government School"
          ],
          [
           "Yishun Primary School",
           "Co-Ed School",
           "No",
           "Government School"
          ],
          [
           "Yu Neng Primary School",
           "Co-Ed School",
           "No",
           "Government School"
          ],
          [
           "Yuhua Primary School",
           "Co-Ed School",
           "No",
           "Government School"
          ],
          [
           "Yumin Primary School",
           "Co-Ed School",
           "No",
           "Government School"
          ],
          [
           "Zhangde Primary School",
           "Co-Ed School",
           "No",
           "Government School"
          ],
          [
           "Zhenghua Primary School",
           "Co-Ed School",
           "No",
           "Government School"
          ],
          [
           "Zhonghua Primary School",
           "Co-Ed School",
           "No",
           "Government School"
          ]
         ],
         "fillcolor": "rgba(255,255,255,0)",
         "hoveron": "points",
         "hovertemplate": "School: %{customdata[0]}<br>Category: %{y}<br>Percentage: %{x:.1f}%<br>GEP: %{customdata[2]}</br>",
         "legendgroup": "No",
         "line": {
          "color": "rgba(255,255,255,0)"
         },
         "marker": {
          "color": "blue",
          "size": 8
         },
         "name": "No",
         "offsetgroup": "No",
         "orientation": "h",
         "pointpos": 0,
         "showlegend": true,
         "type": "box",
         "x": [
          231.1111111111111,
          24.031007751937985,
          204.7619047619048,
          129.20353982300884,
          20,
          137.5,
          32.88590604026846,
          130.18867924528303,
          84.65346534653465,
          24.444444444444443,
          21.052631578947366,
          44.3609022556391,
          25,
          16.88888888888889,
          123.07692307692308,
          65.32258064516128,
          13.478260869565217,
          47.32142857142857,
          62.60162601626016,
          65.07936507936508,
          76.25,
          107.27272727272728,
          125.92592592592592,
          157.5,
          130.35714285714286,
          93.75,
          31.61764705882353,
          65.47619047619048,
          22.459893048128343,
          33.56164383561644,
          320.4081632653061,
          161.11111111111111,
          177.14285714285714,
          38.79781420765027,
          121.73913043478262,
          92.10526315789474,
          35.76158940397351,
          20.454545454545457,
          90.41095890410958,
          78.19548872180451,
          51.32743362831859,
          61.15107913669065,
          148.31460674157304,
          37.908496732026144,
          47.2,
          217.0731707317073,
          39.2,
          130.13698630136986,
          123.28767123287672,
          69.02654867256636,
          3.149606299212598,
          184.7826086956522,
          35.374149659863946,
          74.69879518072288,
          25,
          101.55038759689924,
          237.77777777777777,
          23.308270676691727,
          29.914529914529915,
          77.53623188405797,
          92.1259842519685,
          240.47619047619045,
          162.65060240963857,
          183.3333333333333,
          144.30379746835442,
          118.75,
          102.38095238095238,
          74.69879518072288,
          93.05555555555556,
          68.75,
          67.07317073170732,
          119.23076923076924,
          228.30188679245285,
          78.72340425531915,
          201.5625,
          16.161616161616163,
          128.3582089552239,
          109.73451327433628,
          13.617021276595745,
          144.30379746835442,
          166.07142857142858,
          59.85401459854016,
          36.17021276595745,
          33.04347826086956,
          148.5148514851485,
          20.37037037037037,
          175,
          28.71287128712871,
          338.2716049382716,
          110.47619047619048,
          11.560693641618498,
          104.06504065040652,
          26.618705035971225,
          82.63888888888889,
          36.75213675213676,
          473.8095238095238,
          7.526881720430108,
          42.85714285714285,
          133.33333333333331,
          65.42056074766354,
          40.57971014492754,
          53.70370370370371,
          186.04651162790697,
          135.80246913580248,
          184.44444444444449,
          212.19512195121956,
          19.428571428571427,
          42.05607476635514,
          189.4230769230769,
          505.4545454545455,
          88.17204301075269,
          226.78571428571428,
          165.3846153846154,
          121.31147540983606,
          118.018018018018,
          35.44303797468354,
          95.0413223140496,
          205,
          192.8571428571429,
          154.23728813559322,
          143.10344827586206,
          155.55555555555557,
          237.5,
          117.3076923076923,
          12.837837837837837,
          244.89795918367344,
          134.17721518987344,
          17.525773195876287,
          182.5,
          442.5,
          93.10344827586206,
          151.21951219512195,
          21.1340206185567,
          161.53846153846155,
          100,
          135.8974358974359,
          120.7920792079208,
          40.49079754601227,
          31.506849315068493,
          94.18604651162792,
          130.66666666666666,
          77.96610169491525,
          15.69767441860465,
          86.74698795180723,
          301.96078431372547,
          16.666666666666664,
          41.935483870967744,
          125,
          128.91566265060243,
          181.0344827586207,
          67.3469387755102,
          170.96774193548387,
          41.66666666666667,
          163.26530612244898,
          121.73913043478262,
          146.47887323943664,
          140,
          46.80851063829788,
          15.086206896551724,
          34.22459893048128,
          156,
          53.63636363636364,
          174.13793103448276,
          43.47826086956522,
          25.53191489361702,
          42,
          159.6153846153846,
          19.33333333333333,
          18.34862385321101,
          98.9247311827957,
          75.55555555555556,
          6.086956521739131
         ],
         "x0": " ",
         "xaxis": "x",
         "y": [
          "Co-Ed School",
          "Co-Ed School",
          "Co-Ed School",
          "Co-Ed School",
          "Co-Ed School",
          "Co-Ed School",
          "Co-Ed School",
          "Boys School",
          "Co-Ed School",
          "Co-Ed School",
          "Co-Ed School",
          "Co-Ed School",
          "Co-Ed School",
          "Co-Ed School",
          "Co-Ed School",
          "Co-Ed School",
          "Co-Ed School",
          "Girls School",
          "Girls School",
          "Girls School",
          "Girls School",
          "Girls School",
          "Girls School",
          "Girls School",
          "Co-Ed School",
          "Co-Ed School",
          "Co-Ed School",
          "Co-Ed School",
          "Co-Ed School",
          "Co-Ed School",
          "Co-Ed School",
          "Co-Ed School",
          "Co-Ed School",
          "Co-Ed School",
          "Co-Ed School",
          "Co-Ed School",
          "Co-Ed School",
          "Co-Ed School",
          "Co-Ed School",
          "Co-Ed School",
          "Co-Ed School",
          "Co-Ed School",
          "Co-Ed School",
          "Co-Ed School",
          "Co-Ed School",
          "Co-Ed School",
          "Co-Ed School",
          "Co-Ed School",
          "Co-Ed School",
          "Co-Ed School",
          "Co-Ed School",
          "Co-Ed School",
          "Co-Ed School",
          "Co-Ed School",
          "Co-Ed School",
          "Co-Ed School",
          "Co-Ed School",
          "Co-Ed School",
          "Co-Ed School",
          "Co-Ed School",
          "Girls School",
          "Co-Ed School",
          "Co-Ed School",
          "Co-Ed School",
          "Co-Ed School",
          "Co-Ed School",
          "Co-Ed School",
          "Co-Ed School",
          "Co-Ed School",
          "Co-Ed School",
          "Co-Ed School",
          "Co-Ed School",
          "Co-Ed School",
          "Co-Ed School",
          "Co-Ed School",
          "Co-Ed School",
          "Co-Ed School",
          "Co-Ed School",
          "Co-Ed School",
          "Co-Ed School",
          "Boys School",
          "Co-Ed School",
          "Girls School",
          "Co-Ed School",
          "Co-Ed School",
          "Co-Ed School",
          "Girls School",
          "Boys School",
          "Co-Ed School",
          "Co-Ed School",
          "Co-Ed School",
          "Co-Ed School",
          "Co-Ed School",
          "Co-Ed School",
          "Co-Ed School",
          "Co-Ed School",
          "Co-Ed School",
          "Co-Ed School",
          "Co-Ed School",
          "Co-Ed School",
          "Co-Ed School",
          "Co-Ed School",
          "Co-Ed School",
          "Girls School",
          "Co-Ed School",
          "Co-Ed School",
          "Co-Ed School",
          "Co-Ed School",
          "Co-Ed School",
          "Co-Ed School",
          "Co-Ed School",
          "Co-Ed School",
          "Co-Ed School",
          "Co-Ed School",
          "Co-Ed School",
          "Co-Ed School",
          "Co-Ed School",
          "Co-Ed School",
          "Co-Ed School",
          "Co-Ed School",
          "Co-Ed School",
          "Co-Ed School",
          "Co-Ed School",
          "Co-Ed School",
          "Co-Ed School",
          "Co-Ed School",
          "Co-Ed School",
          "Co-Ed School",
          "Girls School",
          "Co-Ed School",
          "Co-Ed School",
          "Boys School",
          "Girls School",
          "Co-Ed School",
          "Boys School",
          "Boys School",
          "Girls School",
          "Boys School",
          "Co-Ed School",
          "Co-Ed School",
          "Co-Ed School",
          "Co-Ed School",
          "Co-Ed School",
          "Co-Ed School",
          "Co-Ed School",
          "Co-Ed School",
          "Co-Ed School",
          "Co-Ed School",
          "Co-Ed School",
          "Co-Ed School",
          "Co-Ed School",
          "Co-Ed School",
          "Co-Ed School",
          "Co-Ed School",
          "Co-Ed School",
          "Co-Ed School",
          "Co-Ed School",
          "Co-Ed School",
          "Co-Ed School",
          "Co-Ed School",
          "Co-Ed School",
          "Co-Ed School",
          "Co-Ed School",
          "Co-Ed School",
          "Co-Ed School",
          "Co-Ed School",
          "Co-Ed School",
          "Co-Ed School",
          "Co-Ed School",
          "Co-Ed School",
          "Co-Ed School",
          "Co-Ed School"
         ],
         "y0": " ",
         "yaxis": "y"
        },
        {
         "alignmentgroup": "True",
         "boxpoints": "all",
         "customdata": [
          [
           "Anglo-Chinese School (Primary)",
           "Boys School",
           "Yes",
           "Government-Aided School"
          ],
          [
           "Catholic High School (Primary Section)",
           "Boys School",
           "Yes",
           "Government-Aided School / Autonomous"
          ],
          [
           "Henry Park Primary School",
           "Co-Ed School",
           "Yes",
           "Government School"
          ],
          [
           "Nan Hua Primary School",
           "Co-Ed School",
           "Yes",
           "Government-Aided School"
          ],
          [
           "Nanyang Primary School",
           "Co-Ed School",
           "Yes",
           "Government-Aided School"
          ],
          [
           "Raffles Girls' Primary School",
           "Girls School",
           "Yes",
           "Government School"
          ],
          [
           "Rosyth School",
           "Co-Ed School",
           "Yes",
           "Government School"
          ],
          [
           "St. Hilda's Primary School",
           "Co-Ed School",
           "Yes",
           "Government-Aided School"
          ],
          [
           "Tao Nan School",
           "Co-Ed School",
           "Yes",
           "Government-Aided School"
          ]
         ],
         "fillcolor": "rgba(255,255,255,0)",
         "hoveron": "points",
         "hovertemplate": "School: %{customdata[0]}<br>Category: %{y}<br>Percentage: %{x:.1f}%<br>GEP: %{customdata[2]}</br>",
         "legendgroup": "Yes",
         "line": {
          "color": "rgba(255,255,255,0)"
         },
         "marker": {
          "color": "red",
          "size": 8
         },
         "name": "Yes",
         "offsetgroup": "Yes",
         "orientation": "h",
         "pointpos": 0,
         "showlegend": true,
         "type": "box",
         "x": [
          125.45454545454548,
          170,
          200,
          477.50000000000006,
          217.0731707317073,
          138.88888888888889,
          304.8780487804878,
          351.219512195122,
          210.6382978723404
         ],
         "x0": " ",
         "xaxis": "x",
         "y": [
          "Boys School",
          "Boys School",
          "Co-Ed School",
          "Co-Ed School",
          "Co-Ed School",
          "Girls School",
          "Co-Ed School",
          "Co-Ed School",
          "Co-Ed School"
         ],
         "y0": " ",
         "yaxis": "y"
        }
       ],
       "layout": {
        "boxmode": "overlay",
        "height": 500,
        "legend": {
         "title": {
          "text": "GEP"
         },
         "tracegroupgap": 0
        },
        "showlegend": true,
        "template": {
         "data": {
          "bar": [
           {
            "error_x": {
             "color": "rgb(36,36,36)"
            },
            "error_y": {
             "color": "rgb(36,36,36)"
            },
            "marker": {
             "line": {
              "color": "rgb(234,234,242)",
              "width": 0.5
             },
             "pattern": {
              "fillmode": "overlay",
              "size": 10,
              "solidity": 0.2
             }
            },
            "type": "bar"
           }
          ],
          "barpolar": [
           {
            "marker": {
             "line": {
              "color": "rgb(234,234,242)",
              "width": 0.5
             },
             "pattern": {
              "fillmode": "overlay",
              "size": 10,
              "solidity": 0.2
             }
            },
            "type": "barpolar"
           }
          ],
          "carpet": [
           {
            "aaxis": {
             "endlinecolor": "rgb(36,36,36)",
             "gridcolor": "white",
             "linecolor": "white",
             "minorgridcolor": "white",
             "startlinecolor": "rgb(36,36,36)"
            },
            "baxis": {
             "endlinecolor": "rgb(36,36,36)",
             "gridcolor": "white",
             "linecolor": "white",
             "minorgridcolor": "white",
             "startlinecolor": "rgb(36,36,36)"
            },
            "type": "carpet"
           }
          ],
          "choropleth": [
           {
            "colorbar": {
             "outlinewidth": 0,
             "tickcolor": "rgb(36,36,36)",
             "ticklen": 8,
             "ticks": "outside",
             "tickwidth": 2
            },
            "type": "choropleth"
           }
          ],
          "contour": [
           {
            "colorbar": {
             "outlinewidth": 0,
             "tickcolor": "rgb(36,36,36)",
             "ticklen": 8,
             "ticks": "outside",
             "tickwidth": 2
            },
            "colorscale": [
             [
              0,
              "rgb(2,4,25)"
             ],
             [
              0.06274509803921569,
              "rgb(24,15,41)"
             ],
             [
              0.12549019607843137,
              "rgb(47,23,57)"
             ],
             [
              0.18823529411764706,
              "rgb(71,28,72)"
             ],
             [
              0.25098039215686274,
              "rgb(97,30,82)"
             ],
             [
              0.3137254901960784,
              "rgb(123,30,89)"
             ],
             [
              0.3764705882352941,
              "rgb(150,27,91)"
             ],
             [
              0.4392156862745098,
              "rgb(177,22,88)"
             ],
             [
              0.5019607843137255,
              "rgb(203,26,79)"
             ],
             [
              0.5647058823529412,
              "rgb(223,47,67)"
             ],
             [
              0.6274509803921569,
              "rgb(236,76,61)"
             ],
             [
              0.6901960784313725,
              "rgb(242,107,73)"
             ],
             [
              0.7529411764705882,
              "rgb(244,135,95)"
             ],
             [
              0.8156862745098039,
              "rgb(245,162,122)"
             ],
             [
              0.8784313725490196,
              "rgb(246,188,153)"
             ],
             [
              0.9411764705882353,
              "rgb(247,212,187)"
             ],
             [
              1,
              "rgb(250,234,220)"
             ]
            ],
            "type": "contour"
           }
          ],
          "contourcarpet": [
           {
            "colorbar": {
             "outlinewidth": 0,
             "tickcolor": "rgb(36,36,36)",
             "ticklen": 8,
             "ticks": "outside",
             "tickwidth": 2
            },
            "type": "contourcarpet"
           }
          ],
          "heatmap": [
           {
            "colorbar": {
             "outlinewidth": 0,
             "tickcolor": "rgb(36,36,36)",
             "ticklen": 8,
             "ticks": "outside",
             "tickwidth": 2
            },
            "colorscale": [
             [
              0,
              "rgb(2,4,25)"
             ],
             [
              0.06274509803921569,
              "rgb(24,15,41)"
             ],
             [
              0.12549019607843137,
              "rgb(47,23,57)"
             ],
             [
              0.18823529411764706,
              "rgb(71,28,72)"
             ],
             [
              0.25098039215686274,
              "rgb(97,30,82)"
             ],
             [
              0.3137254901960784,
              "rgb(123,30,89)"
             ],
             [
              0.3764705882352941,
              "rgb(150,27,91)"
             ],
             [
              0.4392156862745098,
              "rgb(177,22,88)"
             ],
             [
              0.5019607843137255,
              "rgb(203,26,79)"
             ],
             [
              0.5647058823529412,
              "rgb(223,47,67)"
             ],
             [
              0.6274509803921569,
              "rgb(236,76,61)"
             ],
             [
              0.6901960784313725,
              "rgb(242,107,73)"
             ],
             [
              0.7529411764705882,
              "rgb(244,135,95)"
             ],
             [
              0.8156862745098039,
              "rgb(245,162,122)"
             ],
             [
              0.8784313725490196,
              "rgb(246,188,153)"
             ],
             [
              0.9411764705882353,
              "rgb(247,212,187)"
             ],
             [
              1,
              "rgb(250,234,220)"
             ]
            ],
            "type": "heatmap"
           }
          ],
          "heatmapgl": [
           {
            "colorbar": {
             "outlinewidth": 0,
             "tickcolor": "rgb(36,36,36)",
             "ticklen": 8,
             "ticks": "outside",
             "tickwidth": 2
            },
            "colorscale": [
             [
              0,
              "rgb(2,4,25)"
             ],
             [
              0.06274509803921569,
              "rgb(24,15,41)"
             ],
             [
              0.12549019607843137,
              "rgb(47,23,57)"
             ],
             [
              0.18823529411764706,
              "rgb(71,28,72)"
             ],
             [
              0.25098039215686274,
              "rgb(97,30,82)"
             ],
             [
              0.3137254901960784,
              "rgb(123,30,89)"
             ],
             [
              0.3764705882352941,
              "rgb(150,27,91)"
             ],
             [
              0.4392156862745098,
              "rgb(177,22,88)"
             ],
             [
              0.5019607843137255,
              "rgb(203,26,79)"
             ],
             [
              0.5647058823529412,
              "rgb(223,47,67)"
             ],
             [
              0.6274509803921569,
              "rgb(236,76,61)"
             ],
             [
              0.6901960784313725,
              "rgb(242,107,73)"
             ],
             [
              0.7529411764705882,
              "rgb(244,135,95)"
             ],
             [
              0.8156862745098039,
              "rgb(245,162,122)"
             ],
             [
              0.8784313725490196,
              "rgb(246,188,153)"
             ],
             [
              0.9411764705882353,
              "rgb(247,212,187)"
             ],
             [
              1,
              "rgb(250,234,220)"
             ]
            ],
            "type": "heatmapgl"
           }
          ],
          "histogram": [
           {
            "marker": {
             "pattern": {
              "fillmode": "overlay",
              "size": 10,
              "solidity": 0.2
             }
            },
            "type": "histogram"
           }
          ],
          "histogram2d": [
           {
            "colorbar": {
             "outlinewidth": 0,
             "tickcolor": "rgb(36,36,36)",
             "ticklen": 8,
             "ticks": "outside",
             "tickwidth": 2
            },
            "colorscale": [
             [
              0,
              "rgb(2,4,25)"
             ],
             [
              0.06274509803921569,
              "rgb(24,15,41)"
             ],
             [
              0.12549019607843137,
              "rgb(47,23,57)"
             ],
             [
              0.18823529411764706,
              "rgb(71,28,72)"
             ],
             [
              0.25098039215686274,
              "rgb(97,30,82)"
             ],
             [
              0.3137254901960784,
              "rgb(123,30,89)"
             ],
             [
              0.3764705882352941,
              "rgb(150,27,91)"
             ],
             [
              0.4392156862745098,
              "rgb(177,22,88)"
             ],
             [
              0.5019607843137255,
              "rgb(203,26,79)"
             ],
             [
              0.5647058823529412,
              "rgb(223,47,67)"
             ],
             [
              0.6274509803921569,
              "rgb(236,76,61)"
             ],
             [
              0.6901960784313725,
              "rgb(242,107,73)"
             ],
             [
              0.7529411764705882,
              "rgb(244,135,95)"
             ],
             [
              0.8156862745098039,
              "rgb(245,162,122)"
             ],
             [
              0.8784313725490196,
              "rgb(246,188,153)"
             ],
             [
              0.9411764705882353,
              "rgb(247,212,187)"
             ],
             [
              1,
              "rgb(250,234,220)"
             ]
            ],
            "type": "histogram2d"
           }
          ],
          "histogram2dcontour": [
           {
            "colorbar": {
             "outlinewidth": 0,
             "tickcolor": "rgb(36,36,36)",
             "ticklen": 8,
             "ticks": "outside",
             "tickwidth": 2
            },
            "colorscale": [
             [
              0,
              "rgb(2,4,25)"
             ],
             [
              0.06274509803921569,
              "rgb(24,15,41)"
             ],
             [
              0.12549019607843137,
              "rgb(47,23,57)"
             ],
             [
              0.18823529411764706,
              "rgb(71,28,72)"
             ],
             [
              0.25098039215686274,
              "rgb(97,30,82)"
             ],
             [
              0.3137254901960784,
              "rgb(123,30,89)"
             ],
             [
              0.3764705882352941,
              "rgb(150,27,91)"
             ],
             [
              0.4392156862745098,
              "rgb(177,22,88)"
             ],
             [
              0.5019607843137255,
              "rgb(203,26,79)"
             ],
             [
              0.5647058823529412,
              "rgb(223,47,67)"
             ],
             [
              0.6274509803921569,
              "rgb(236,76,61)"
             ],
             [
              0.6901960784313725,
              "rgb(242,107,73)"
             ],
             [
              0.7529411764705882,
              "rgb(244,135,95)"
             ],
             [
              0.8156862745098039,
              "rgb(245,162,122)"
             ],
             [
              0.8784313725490196,
              "rgb(246,188,153)"
             ],
             [
              0.9411764705882353,
              "rgb(247,212,187)"
             ],
             [
              1,
              "rgb(250,234,220)"
             ]
            ],
            "type": "histogram2dcontour"
           }
          ],
          "mesh3d": [
           {
            "colorbar": {
             "outlinewidth": 0,
             "tickcolor": "rgb(36,36,36)",
             "ticklen": 8,
             "ticks": "outside",
             "tickwidth": 2
            },
            "type": "mesh3d"
           }
          ],
          "parcoords": [
           {
            "line": {
             "colorbar": {
              "outlinewidth": 0,
              "tickcolor": "rgb(36,36,36)",
              "ticklen": 8,
              "ticks": "outside",
              "tickwidth": 2
             }
            },
            "type": "parcoords"
           }
          ],
          "pie": [
           {
            "automargin": true,
            "type": "pie"
           }
          ],
          "scatter": [
           {
            "fillpattern": {
             "fillmode": "overlay",
             "size": 10,
             "solidity": 0.2
            },
            "type": "scatter"
           }
          ],
          "scatter3d": [
           {
            "line": {
             "colorbar": {
              "outlinewidth": 0,
              "tickcolor": "rgb(36,36,36)",
              "ticklen": 8,
              "ticks": "outside",
              "tickwidth": 2
             }
            },
            "marker": {
             "colorbar": {
              "outlinewidth": 0,
              "tickcolor": "rgb(36,36,36)",
              "ticklen": 8,
              "ticks": "outside",
              "tickwidth": 2
             }
            },
            "type": "scatter3d"
           }
          ],
          "scattercarpet": [
           {
            "marker": {
             "colorbar": {
              "outlinewidth": 0,
              "tickcolor": "rgb(36,36,36)",
              "ticklen": 8,
              "ticks": "outside",
              "tickwidth": 2
             }
            },
            "type": "scattercarpet"
           }
          ],
          "scattergeo": [
           {
            "marker": {
             "colorbar": {
              "outlinewidth": 0,
              "tickcolor": "rgb(36,36,36)",
              "ticklen": 8,
              "ticks": "outside",
              "tickwidth": 2
             }
            },
            "type": "scattergeo"
           }
          ],
          "scattergl": [
           {
            "marker": {
             "colorbar": {
              "outlinewidth": 0,
              "tickcolor": "rgb(36,36,36)",
              "ticklen": 8,
              "ticks": "outside",
              "tickwidth": 2
             }
            },
            "type": "scattergl"
           }
          ],
          "scattermapbox": [
           {
            "marker": {
             "colorbar": {
              "outlinewidth": 0,
              "tickcolor": "rgb(36,36,36)",
              "ticklen": 8,
              "ticks": "outside",
              "tickwidth": 2
             }
            },
            "type": "scattermapbox"
           }
          ],
          "scatterpolar": [
           {
            "marker": {
             "colorbar": {
              "outlinewidth": 0,
              "tickcolor": "rgb(36,36,36)",
              "ticklen": 8,
              "ticks": "outside",
              "tickwidth": 2
             }
            },
            "type": "scatterpolar"
           }
          ],
          "scatterpolargl": [
           {
            "marker": {
             "colorbar": {
              "outlinewidth": 0,
              "tickcolor": "rgb(36,36,36)",
              "ticklen": 8,
              "ticks": "outside",
              "tickwidth": 2
             }
            },
            "type": "scatterpolargl"
           }
          ],
          "scatterternary": [
           {
            "marker": {
             "colorbar": {
              "outlinewidth": 0,
              "tickcolor": "rgb(36,36,36)",
              "ticklen": 8,
              "ticks": "outside",
              "tickwidth": 2
             }
            },
            "type": "scatterternary"
           }
          ],
          "surface": [
           {
            "colorbar": {
             "outlinewidth": 0,
             "tickcolor": "rgb(36,36,36)",
             "ticklen": 8,
             "ticks": "outside",
             "tickwidth": 2
            },
            "colorscale": [
             [
              0,
              "rgb(2,4,25)"
             ],
             [
              0.06274509803921569,
              "rgb(24,15,41)"
             ],
             [
              0.12549019607843137,
              "rgb(47,23,57)"
             ],
             [
              0.18823529411764706,
              "rgb(71,28,72)"
             ],
             [
              0.25098039215686274,
              "rgb(97,30,82)"
             ],
             [
              0.3137254901960784,
              "rgb(123,30,89)"
             ],
             [
              0.3764705882352941,
              "rgb(150,27,91)"
             ],
             [
              0.4392156862745098,
              "rgb(177,22,88)"
             ],
             [
              0.5019607843137255,
              "rgb(203,26,79)"
             ],
             [
              0.5647058823529412,
              "rgb(223,47,67)"
             ],
             [
              0.6274509803921569,
              "rgb(236,76,61)"
             ],
             [
              0.6901960784313725,
              "rgb(242,107,73)"
             ],
             [
              0.7529411764705882,
              "rgb(244,135,95)"
             ],
             [
              0.8156862745098039,
              "rgb(245,162,122)"
             ],
             [
              0.8784313725490196,
              "rgb(246,188,153)"
             ],
             [
              0.9411764705882353,
              "rgb(247,212,187)"
             ],
             [
              1,
              "rgb(250,234,220)"
             ]
            ],
            "type": "surface"
           }
          ],
          "table": [
           {
            "cells": {
             "fill": {
              "color": "rgb(231,231,240)"
             },
             "line": {
              "color": "white"
             }
            },
            "header": {
             "fill": {
              "color": "rgb(183,183,191)"
             },
             "line": {
              "color": "white"
             }
            },
            "type": "table"
           }
          ]
         },
         "layout": {
          "annotationdefaults": {
           "arrowcolor": "rgb(67,103,167)"
          },
          "autotypenumbers": "strict",
          "coloraxis": {
           "colorbar": {
            "outlinewidth": 0,
            "tickcolor": "rgb(36,36,36)",
            "ticklen": 8,
            "ticks": "outside",
            "tickwidth": 2
           }
          },
          "colorscale": {
           "sequential": [
            [
             0,
             "rgb(2,4,25)"
            ],
            [
             0.06274509803921569,
             "rgb(24,15,41)"
            ],
            [
             0.12549019607843137,
             "rgb(47,23,57)"
            ],
            [
             0.18823529411764706,
             "rgb(71,28,72)"
            ],
            [
             0.25098039215686274,
             "rgb(97,30,82)"
            ],
            [
             0.3137254901960784,
             "rgb(123,30,89)"
            ],
            [
             0.3764705882352941,
             "rgb(150,27,91)"
            ],
            [
             0.4392156862745098,
             "rgb(177,22,88)"
            ],
            [
             0.5019607843137255,
             "rgb(203,26,79)"
            ],
            [
             0.5647058823529412,
             "rgb(223,47,67)"
            ],
            [
             0.6274509803921569,
             "rgb(236,76,61)"
            ],
            [
             0.6901960784313725,
             "rgb(242,107,73)"
            ],
            [
             0.7529411764705882,
             "rgb(244,135,95)"
            ],
            [
             0.8156862745098039,
             "rgb(245,162,122)"
            ],
            [
             0.8784313725490196,
             "rgb(246,188,153)"
            ],
            [
             0.9411764705882353,
             "rgb(247,212,187)"
            ],
            [
             1,
             "rgb(250,234,220)"
            ]
           ],
           "sequentialminus": [
            [
             0,
             "rgb(2,4,25)"
            ],
            [
             0.06274509803921569,
             "rgb(24,15,41)"
            ],
            [
             0.12549019607843137,
             "rgb(47,23,57)"
            ],
            [
             0.18823529411764706,
             "rgb(71,28,72)"
            ],
            [
             0.25098039215686274,
             "rgb(97,30,82)"
            ],
            [
             0.3137254901960784,
             "rgb(123,30,89)"
            ],
            [
             0.3764705882352941,
             "rgb(150,27,91)"
            ],
            [
             0.4392156862745098,
             "rgb(177,22,88)"
            ],
            [
             0.5019607843137255,
             "rgb(203,26,79)"
            ],
            [
             0.5647058823529412,
             "rgb(223,47,67)"
            ],
            [
             0.6274509803921569,
             "rgb(236,76,61)"
            ],
            [
             0.6901960784313725,
             "rgb(242,107,73)"
            ],
            [
             0.7529411764705882,
             "rgb(244,135,95)"
            ],
            [
             0.8156862745098039,
             "rgb(245,162,122)"
            ],
            [
             0.8784313725490196,
             "rgb(246,188,153)"
            ],
            [
             0.9411764705882353,
             "rgb(247,212,187)"
            ],
            [
             1,
             "rgb(250,234,220)"
            ]
           ]
          },
          "colorway": [
           "rgb(76,114,176)",
           "rgb(221,132,82)",
           "rgb(85,168,104)",
           "rgb(196,78,82)",
           "rgb(129,114,179)",
           "rgb(147,120,96)",
           "rgb(218,139,195)",
           "rgb(140,140,140)",
           "rgb(204,185,116)",
           "rgb(100,181,205)"
          ],
          "font": {
           "color": "rgb(36,36,36)"
          },
          "geo": {
           "bgcolor": "white",
           "lakecolor": "white",
           "landcolor": "rgb(234,234,242)",
           "showlakes": true,
           "showland": true,
           "subunitcolor": "white"
          },
          "hoverlabel": {
           "align": "left"
          },
          "hovermode": "closest",
          "paper_bgcolor": "white",
          "plot_bgcolor": "rgb(234,234,242)",
          "polar": {
           "angularaxis": {
            "gridcolor": "white",
            "linecolor": "white",
            "showgrid": true,
            "ticks": ""
           },
           "bgcolor": "rgb(234,234,242)",
           "radialaxis": {
            "gridcolor": "white",
            "linecolor": "white",
            "showgrid": true,
            "ticks": ""
           }
          },
          "scene": {
           "xaxis": {
            "backgroundcolor": "rgb(234,234,242)",
            "gridcolor": "white",
            "gridwidth": 2,
            "linecolor": "white",
            "showbackground": true,
            "showgrid": true,
            "ticks": "",
            "zerolinecolor": "white"
           },
           "yaxis": {
            "backgroundcolor": "rgb(234,234,242)",
            "gridcolor": "white",
            "gridwidth": 2,
            "linecolor": "white",
            "showbackground": true,
            "showgrid": true,
            "ticks": "",
            "zerolinecolor": "white"
           },
           "zaxis": {
            "backgroundcolor": "rgb(234,234,242)",
            "gridcolor": "white",
            "gridwidth": 2,
            "linecolor": "white",
            "showbackground": true,
            "showgrid": true,
            "ticks": "",
            "zerolinecolor": "white"
           }
          },
          "shapedefaults": {
           "fillcolor": "rgb(67,103,167)",
           "line": {
            "width": 0
           },
           "opacity": 0.5
          },
          "ternary": {
           "aaxis": {
            "gridcolor": "white",
            "linecolor": "white",
            "showgrid": true,
            "ticks": ""
           },
           "baxis": {
            "gridcolor": "white",
            "linecolor": "white",
            "showgrid": true,
            "ticks": ""
           },
           "bgcolor": "rgb(234,234,242)",
           "caxis": {
            "gridcolor": "white",
            "linecolor": "white",
            "showgrid": true,
            "ticks": ""
           }
          },
          "xaxis": {
           "automargin": true,
           "gridcolor": "white",
           "linecolor": "white",
           "showgrid": true,
           "ticks": "",
           "title": {
            "standoff": 15
           },
           "zerolinecolor": "white"
          },
          "yaxis": {
           "automargin": true,
           "gridcolor": "white",
           "linecolor": "white",
           "showgrid": true,
           "ticks": "",
           "title": {
            "standoff": 15
           },
           "zerolinecolor": "white"
          }
         }
        },
        "title": {
         "text": "<b>Phase 2C Subscription Rate (%)</b>"
        },
        "width": 1200,
        "xaxis": {
         "anchor": "y",
         "domain": [
          0,
          1
         ],
         "showgrid": false,
         "title": {
          "text": "Percentage Subscribed (%)"
         }
        },
        "yaxis": {
         "anchor": "x",
         "categoryarray": [
          "Girls School",
          "Boys School",
          "Co-Ed School"
         ],
         "categoryorder": "array",
         "domain": [
          0,
          1
         ],
         "showgrid": false,
         "title": {
          "text": ""
         }
        }
       }
      }
     },
     "metadata": {},
     "output_type": "display_data"
    }
   ],
   "source": [
    "plot_phase_stripplot('Phase2C_sub_apply', 'Phase 2C', 'GEP')"
   ]
  },
  {
   "cell_type": "code",
   "execution_count": 26,
   "metadata": {},
   "outputs": [
    {
     "data": {
      "application/vnd.plotly.v1+json": {
       "config": {
        "plotlyServerURL": "https://plot.ly"
       },
       "data": [
        {
         "alignmentgroup": "True",
         "boxpoints": "all",
         "customdata": [
          [
           "Admiralty Primary School"
          ],
          [
           "Ahmad Ibrahim Primary School"
          ],
          [
           "Ai Tong School"
          ],
          [
           "Alexandra Primary School"
          ],
          [
           "Anchor Green Primary School"
          ],
          [
           "Anderson Primary School"
          ],
          [
           "Ang Mo Kio Primary School"
          ],
          [
           "Anglo-Chinese School (Junior)"
          ],
          [
           "Anglo-Chinese School (Primary)"
          ],
          [
           "Angsana Primary School"
          ],
          [
           "Beacon Primary School"
          ],
          [
           "Bedok Green Primary School"
          ],
          [
           "Bendemeer Primary School"
          ],
          [
           "Blangah Rise Primary School"
          ],
          [
           "Boon Lay Garden Primary School"
          ],
          [
           "Bukit Panjang Primary School"
          ],
          [
           "Bukit Timah Primary School"
          ],
          [
           "Bukit View Primary School"
          ],
          [
           "CHIJ (Katong) Primary"
          ],
          [
           "CHIJ (Kellock)"
          ],
          [
           "CHIJ Our Lady Queen of Peace"
          ],
          [
           "CHIJ Our Lady of Good Counsel"
          ],
          [
           "CHIJ Our Lady of the Nativity"
          ],
          [
           "CHIJ Primary (Toa Payoh)"
          ],
          [
           "CHIJ St. Nicholas Girls' School (Primary Section)"
          ],
          [
           "Canberra Primary School"
          ],
          [
           "Canossa Catholic Primary School"
          ],
          [
           "Cantonment Primary School"
          ],
          [
           "Casuarina Primary School"
          ],
          [
           "Catholic High School (Primary Section)"
          ],
          [
           "Cedar Primary School"
          ],
          [
           "Changkat Primary School"
          ],
          [
           "Chongfu School"
          ],
          [
           "Chongzheng Primary School"
          ],
          [
           "Chua Chu Kang Primary School"
          ],
          [
           "Clementi Primary School"
          ],
          [
           "Compassvale Primary School"
          ],
          [
           "Concord Primary School"
          ],
          [
           "Corporation Primary School"
          ],
          [
           "Damai Primary School"
          ],
          [
           "Dazhong Primary School"
          ],
          [
           "De La Salle School"
          ],
          [
           "East Spring Primary School"
          ],
          [
           "Edgefield Primary School"
          ],
          [
           "Elias Park Primary School"
          ],
          [
           "Endeavour Primary School"
          ],
          [
           "Evergreen Primary School"
          ],
          [
           "Fairfield Methodist School (Primary)"
          ],
          [
           "Fengshan Primary School"
          ],
          [
           "Fern Green Primary School"
          ],
          [
           "Fernvale Primary School"
          ],
          [
           "First Toa Payoh Primary School"
          ],
          [
           "Frontier Primary School"
          ],
          [
           "Fuchun Primary School"
          ],
          [
           "Fuhua Primary School"
          ],
          [
           "Gan Eng Seng Primary School"
          ],
          [
           "Geylang Methodist School (Primary)"
          ],
          [
           "Gongshang Primary School"
          ],
          [
           "Greendale Primary School"
          ],
          [
           "Greenridge Primary School"
          ],
          [
           "Greenwood Primary School"
          ],
          [
           "Haig Girls' School"
          ],
          [
           "Henry Park Primary School"
          ],
          [
           "Holy Innocents' Primary School"
          ],
          [
           "Hong Wen School"
          ],
          [
           "Horizon Primary School"
          ],
          [
           "Hougang Primary School"
          ],
          [
           "Huamin Primary School"
          ],
          [
           "Innova Primary School"
          ],
          [
           "Jiemin Primary School"
          ],
          [
           "Jing Shan Primary School"
          ],
          [
           "Junyuan Primary School"
          ],
          [
           "Jurong Primary School"
          ],
          [
           "Jurong West Primary School"
          ],
          [
           "Keming Primary School"
          ],
          [
           "Kheng Cheng School"
          ],
          [
           "Kong Hwa School"
          ],
          [
           "Kranji Primary School"
          ],
          [
           "Kuo Chuan Presbyterian Primary School"
          ],
          [
           "Lakeside Primary School"
          ],
          [
           "Lianhua Primary School"
          ],
          [
           "Maha Bodhi School"
          ],
          [
           "Maris Stella High School (Primary Section)"
          ],
          [
           "Marsiling Primary School"
          ],
          [
           "Marymount Convent School"
          ],
          [
           "Mayflower Primary School"
          ],
          [
           "Mee Toh School"
          ],
          [
           "Methodist Girls' School (Primary)"
          ],
          [
           "Montfort Junior School"
          ],
          [
           "Nan Chiau Primary School"
          ],
          [
           "Nanyang Primary School"
          ],
          [
           "Naval Base Primary School"
          ],
          [
           "New Town Primary School"
          ],
          [
           "Ngee Ann Primary School"
          ],
          [
           "North Spring Primary School"
          ],
          [
           "North View Primary School"
          ],
          [
           "North Vista Primary School"
          ],
          [
           "Northland Primary School"
          ],
          [
           "Palm View Primary School"
          ],
          [
           "Park View Primary School"
          ],
          [
           "Pasir Ris Primary School"
          ],
          [
           "Paya Lebar Methodist Girls' School (Primary)"
          ],
          [
           "Pei Chun Public School"
          ],
          [
           "Pei Hwa Presbyterian Primary School"
          ],
          [
           "Pei Tong Primary School"
          ],
          [
           "Peiying Primary School"
          ],
          [
           "Poi Ching School"
          ],
          [
           "Punggol Cove Primary School"
          ],
          [
           "Punggol Green Primary School"
          ],
          [
           "Punggol Primary School"
          ],
          [
           "Punggol View Primary School"
          ],
          [
           "Qifa Primary School"
          ],
          [
           "Qihua Primary School"
          ],
          [
           "Queenstown Primary School"
          ],
          [
           "Radin Mas Primary School"
          ],
          [
           "Raffles Girls' Primary School"
          ],
          [
           "Red Swastika School"
          ],
          [
           "River Valley Primary School"
          ],
          [
           "Riverside Primary School"
          ],
          [
           "Rivervale Primary School"
          ],
          [
           "Rosyth School"
          ],
          [
           "Rulang Primary School"
          ],
          [
           "Sembawang Primary School"
          ],
          [
           "Sengkang Green Primary School"
          ],
          [
           "Shuqun Primary School"
          ],
          [
           "Si Ling Primary School"
          ],
          [
           "Singapore Chinese Girls' Primary School"
          ],
          [
           "South View Primary School"
          ],
          [
           "Springdale Primary School"
          ],
          [
           "St. Andrew's Junior School"
          ],
          [
           "St. Anthony's Canossian Primary School"
          ],
          [
           "St. Anthony's Primary School"
          ],
          [
           "St. Gabriel's Primary School"
          ],
          [
           "St. Hilda's Primary School"
          ],
          [
           "St. Joseph's Institution Junior"
          ],
          [
           "St. Margaret's Primary School"
          ],
          [
           "St. Stephen's School"
          ],
          [
           "Tampines North Primary School"
          ],
          [
           "Tampines Primary School"
          ],
          [
           "Tanjong Katong Primary School"
          ],
          [
           "Tao Nan School"
          ],
          [
           "Teck Ghee Primary School"
          ],
          [
           "Teck Whye Primary School"
          ],
          [
           "Telok Kurau Primary School"
          ],
          [
           "Temasek Primary School"
          ],
          [
           "Townsville Primary School"
          ],
          [
           "Unity Primary School"
          ],
          [
           "Waterway Primary School"
          ],
          [
           "Wellington Primary School"
          ],
          [
           "West Grove Primary School"
          ],
          [
           "West Spring Primary School"
          ],
          [
           "West View Primary School"
          ],
          [
           "Westwood Primary School"
          ],
          [
           "White Sands Primary School"
          ],
          [
           "Woodgrove Primary School"
          ],
          [
           "Woodlands Primary School"
          ],
          [
           "Woodlands Ring Primary School"
          ],
          [
           "Xinghua Primary School"
          ],
          [
           "Xingnan Primary School"
          ],
          [
           "Xinmin Primary School"
          ],
          [
           "Xishan Primary School"
          ],
          [
           "Yangzheng Primary School"
          ],
          [
           "Yew Tee Primary School"
          ],
          [
           "Yio Chu Kang Primary School"
          ],
          [
           "Yishun Primary School"
          ],
          [
           "Yu Neng Primary School"
          ],
          [
           "Yuhua Primary School"
          ],
          [
           "Yumin Primary School"
          ],
          [
           "Zhangde Primary School"
          ],
          [
           "Zhenghua Primary School"
          ],
          [
           "Zhonghua Primary School"
          ]
         ],
         "hovertemplate": "=%{x}<br>CCA Score=%{y}<br>Name=%{customdata[0]}<extra></extra>",
         "legendgroup": "",
         "marker": {
          "color": "rgb(76,114,176)"
         },
         "name": "",
         "notched": false,
         "offsetgroup": "",
         "orientation": "v",
         "showlegend": false,
         "type": "box",
         "x": [
          "Government School",
          "Government School",
          "Government-Aided School",
          "Government School",
          "Government School",
          "Government School",
          "Government School",
          "Government-Aided School",
          "Government-Aided School",
          "Government School",
          "Government School",
          "Government School",
          "Government School",
          "Government School",
          "Government School",
          "Government School",
          "Government School",
          "Government School",
          "Government-Aided School",
          "Government-Aided School",
          "Government-Aided School",
          "Government-Aided School",
          "Government-Aided School",
          "Government-Aided School",
          "Government-Aided School / Autonomous",
          "Government School",
          "Government-Aided School",
          "Government School",
          "Government School",
          "Government-Aided School / Autonomous",
          "Government School",
          "Government School",
          "Government-Aided School",
          "Government School",
          "Government School",
          "Government School",
          "Government School",
          "Government School",
          "Government School",
          "Government School",
          "Government School",
          "Government-Aided School",
          "Government School",
          "Government School",
          "Government School",
          "Government School",
          "Government School",
          "Government-Aided School",
          "Government School",
          "Government School",
          "Government School",
          "Government School",
          "Government School",
          "Government School",
          "Government School",
          "Government School",
          "Government-Aided School",
          "Government School",
          "Government School",
          "Government School",
          "Government School",
          "Government School",
          "Government School",
          "Government-Aided School",
          "Government-Aided School",
          "Government School",
          "Government School",
          "Government School",
          "Government School",
          "Government School",
          "Government School",
          "Government School",
          "Government School",
          "Government School",
          "Government School",
          "Government-Aided School",
          "Government-Aided School",
          "Government School",
          "Government-Aided School",
          "Government School",
          "Government School",
          "Government-Aided School",
          "Government-Aided School / Autonomous",
          "Government School",
          "Government-Aided School",
          "Government School",
          "Government-Aided School",
          "Government-Aided School",
          "Government-Aided School",
          "Government-Aided School",
          "Government-Aided School",
          "Government School",
          "Government School",
          "Government-Aided School",
          "Government School",
          "Government School",
          "Government School",
          "Government School",
          "Government School",
          "Government School",
          "Government School",
          "Government-Aided School",
          "Government-Aided School",
          "Government-Aided School",
          "Government School",
          "Government School",
          "Government-Aided School",
          "Government School",
          "Government School",
          "Government School",
          "Government School",
          "Government School",
          "Government School",
          "Government School",
          "Government School",
          "Government School",
          "Government-Aided School",
          "Government School",
          "Government School",
          "Government School",
          "Government School",
          "Government School",
          "Government School",
          "Government School",
          "Government School",
          "Government School",
          "Government-Aided School",
          "Government School",
          "Government School",
          "Government-Aided School",
          "Government-Aided School",
          "Government-Aided School",
          "Government-Aided School",
          "Government-Aided School",
          "Government-Aided School",
          "Government-Aided School",
          "Government-Aided School",
          "Government School",
          "Government School",
          "Government School",
          "Government-Aided School",
          "Government School",
          "Government School",
          "Government School",
          "Government School",
          "Government School",
          "Government School",
          "Government School",
          "Government School",
          "Government School",
          "Government School",
          "Government School",
          "Government School",
          "Government School",
          "Government School",
          "Government School",
          "Government School",
          "Government School",
          "Government School",
          "Government School",
          "Government School",
          "Government School",
          "Government School",
          "Government School",
          "Government School",
          "Government School",
          "Government School",
          "Government School",
          "Government School",
          "Government School",
          "Government School"
         ],
         "x0": " ",
         "xaxis": "x",
         "y": [
          1803,
          1074,
          933,
          1745,
          1281,
          1344,
          1073,
          1610,
          2096,
          1048,
          1165,
          1057,
          784,
          619,
          1454,
          1763,
          1354,
          1553,
          1547,
          949,
          751,
          928,
          793,
          1101,
          1698,
          1557,
          825,
          926,
          1136,
          1130,
          1656,
          773,
          1994,
          1523,
          1084,
          1693,
          1633,
          708,
          1056,
          1131,
          776,
          537,
          821,
          791,
          731,
          1592,
          540,
          1166,
          1653,
          743,
          1033,
          515,
          1402,
          744,
          939,
          1277,
          1402,
          992,
          1518,
          1796,
          1710,
          1514,
          1567,
          1826,
          1611,
          2241,
          2035,
          1463,
          1224,
          1307,
          1005,
          1418,
          1621,
          809,
          681,
          537,
          1494,
          579,
          1998,
          1874,
          1450,
          2103,
          2297,
          1437,
          947,
          1590,
          1424,
          1765,
          739,
          1209,
          1905,
          765,
          1197,
          1849,
          1119,
          1235,
          904,
          1354,
          1245,
          1113,
          698,
          1506,
          1034,
          1599,
          1610,
          1286,
          1546,
          990,
          1171,
          1634,
          478,
          1123,
          145,
          1801,
          1024,
          1500,
          1438,
          1062,
          1249,
          1212,
          2126,
          1450,
          1795,
          1337,
          1463,
          568,
          1527,
          1833,
          1259,
          1382,
          925,
          1332,
          1005,
          1690,
          785,
          692,
          1105,
          823,
          1244,
          639,
          1496,
          1134,
          1235,
          1567,
          1168,
          1207,
          1203,
          692,
          915,
          1158,
          1258,
          789,
          662,
          999,
          1684,
          1395,
          716,
          1007,
          1056,
          995,
          1611,
          1250,
          1202,
          1126,
          1049,
          1122,
          916,
          954,
          1770,
          1100,
          513
         ],
         "y0": " ",
         "yaxis": "y"
        }
       ],
       "layout": {
        "boxmode": "group",
        "height": 800,
        "legend": {
         "tracegroupgap": 0
        },
        "template": {
         "data": {
          "bar": [
           {
            "error_x": {
             "color": "rgb(36,36,36)"
            },
            "error_y": {
             "color": "rgb(36,36,36)"
            },
            "marker": {
             "line": {
              "color": "rgb(234,234,242)",
              "width": 0.5
             },
             "pattern": {
              "fillmode": "overlay",
              "size": 10,
              "solidity": 0.2
             }
            },
            "type": "bar"
           }
          ],
          "barpolar": [
           {
            "marker": {
             "line": {
              "color": "rgb(234,234,242)",
              "width": 0.5
             },
             "pattern": {
              "fillmode": "overlay",
              "size": 10,
              "solidity": 0.2
             }
            },
            "type": "barpolar"
           }
          ],
          "carpet": [
           {
            "aaxis": {
             "endlinecolor": "rgb(36,36,36)",
             "gridcolor": "white",
             "linecolor": "white",
             "minorgridcolor": "white",
             "startlinecolor": "rgb(36,36,36)"
            },
            "baxis": {
             "endlinecolor": "rgb(36,36,36)",
             "gridcolor": "white",
             "linecolor": "white",
             "minorgridcolor": "white",
             "startlinecolor": "rgb(36,36,36)"
            },
            "type": "carpet"
           }
          ],
          "choropleth": [
           {
            "colorbar": {
             "outlinewidth": 0,
             "tickcolor": "rgb(36,36,36)",
             "ticklen": 8,
             "ticks": "outside",
             "tickwidth": 2
            },
            "type": "choropleth"
           }
          ],
          "contour": [
           {
            "colorbar": {
             "outlinewidth": 0,
             "tickcolor": "rgb(36,36,36)",
             "ticklen": 8,
             "ticks": "outside",
             "tickwidth": 2
            },
            "colorscale": [
             [
              0,
              "rgb(2,4,25)"
             ],
             [
              0.06274509803921569,
              "rgb(24,15,41)"
             ],
             [
              0.12549019607843137,
              "rgb(47,23,57)"
             ],
             [
              0.18823529411764706,
              "rgb(71,28,72)"
             ],
             [
              0.25098039215686274,
              "rgb(97,30,82)"
             ],
             [
              0.3137254901960784,
              "rgb(123,30,89)"
             ],
             [
              0.3764705882352941,
              "rgb(150,27,91)"
             ],
             [
              0.4392156862745098,
              "rgb(177,22,88)"
             ],
             [
              0.5019607843137255,
              "rgb(203,26,79)"
             ],
             [
              0.5647058823529412,
              "rgb(223,47,67)"
             ],
             [
              0.6274509803921569,
              "rgb(236,76,61)"
             ],
             [
              0.6901960784313725,
              "rgb(242,107,73)"
             ],
             [
              0.7529411764705882,
              "rgb(244,135,95)"
             ],
             [
              0.8156862745098039,
              "rgb(245,162,122)"
             ],
             [
              0.8784313725490196,
              "rgb(246,188,153)"
             ],
             [
              0.9411764705882353,
              "rgb(247,212,187)"
             ],
             [
              1,
              "rgb(250,234,220)"
             ]
            ],
            "type": "contour"
           }
          ],
          "contourcarpet": [
           {
            "colorbar": {
             "outlinewidth": 0,
             "tickcolor": "rgb(36,36,36)",
             "ticklen": 8,
             "ticks": "outside",
             "tickwidth": 2
            },
            "type": "contourcarpet"
           }
          ],
          "heatmap": [
           {
            "colorbar": {
             "outlinewidth": 0,
             "tickcolor": "rgb(36,36,36)",
             "ticklen": 8,
             "ticks": "outside",
             "tickwidth": 2
            },
            "colorscale": [
             [
              0,
              "rgb(2,4,25)"
             ],
             [
              0.06274509803921569,
              "rgb(24,15,41)"
             ],
             [
              0.12549019607843137,
              "rgb(47,23,57)"
             ],
             [
              0.18823529411764706,
              "rgb(71,28,72)"
             ],
             [
              0.25098039215686274,
              "rgb(97,30,82)"
             ],
             [
              0.3137254901960784,
              "rgb(123,30,89)"
             ],
             [
              0.3764705882352941,
              "rgb(150,27,91)"
             ],
             [
              0.4392156862745098,
              "rgb(177,22,88)"
             ],
             [
              0.5019607843137255,
              "rgb(203,26,79)"
             ],
             [
              0.5647058823529412,
              "rgb(223,47,67)"
             ],
             [
              0.6274509803921569,
              "rgb(236,76,61)"
             ],
             [
              0.6901960784313725,
              "rgb(242,107,73)"
             ],
             [
              0.7529411764705882,
              "rgb(244,135,95)"
             ],
             [
              0.8156862745098039,
              "rgb(245,162,122)"
             ],
             [
              0.8784313725490196,
              "rgb(246,188,153)"
             ],
             [
              0.9411764705882353,
              "rgb(247,212,187)"
             ],
             [
              1,
              "rgb(250,234,220)"
             ]
            ],
            "type": "heatmap"
           }
          ],
          "heatmapgl": [
           {
            "colorbar": {
             "outlinewidth": 0,
             "tickcolor": "rgb(36,36,36)",
             "ticklen": 8,
             "ticks": "outside",
             "tickwidth": 2
            },
            "colorscale": [
             [
              0,
              "rgb(2,4,25)"
             ],
             [
              0.06274509803921569,
              "rgb(24,15,41)"
             ],
             [
              0.12549019607843137,
              "rgb(47,23,57)"
             ],
             [
              0.18823529411764706,
              "rgb(71,28,72)"
             ],
             [
              0.25098039215686274,
              "rgb(97,30,82)"
             ],
             [
              0.3137254901960784,
              "rgb(123,30,89)"
             ],
             [
              0.3764705882352941,
              "rgb(150,27,91)"
             ],
             [
              0.4392156862745098,
              "rgb(177,22,88)"
             ],
             [
              0.5019607843137255,
              "rgb(203,26,79)"
             ],
             [
              0.5647058823529412,
              "rgb(223,47,67)"
             ],
             [
              0.6274509803921569,
              "rgb(236,76,61)"
             ],
             [
              0.6901960784313725,
              "rgb(242,107,73)"
             ],
             [
              0.7529411764705882,
              "rgb(244,135,95)"
             ],
             [
              0.8156862745098039,
              "rgb(245,162,122)"
             ],
             [
              0.8784313725490196,
              "rgb(246,188,153)"
             ],
             [
              0.9411764705882353,
              "rgb(247,212,187)"
             ],
             [
              1,
              "rgb(250,234,220)"
             ]
            ],
            "type": "heatmapgl"
           }
          ],
          "histogram": [
           {
            "marker": {
             "pattern": {
              "fillmode": "overlay",
              "size": 10,
              "solidity": 0.2
             }
            },
            "type": "histogram"
           }
          ],
          "histogram2d": [
           {
            "colorbar": {
             "outlinewidth": 0,
             "tickcolor": "rgb(36,36,36)",
             "ticklen": 8,
             "ticks": "outside",
             "tickwidth": 2
            },
            "colorscale": [
             [
              0,
              "rgb(2,4,25)"
             ],
             [
              0.06274509803921569,
              "rgb(24,15,41)"
             ],
             [
              0.12549019607843137,
              "rgb(47,23,57)"
             ],
             [
              0.18823529411764706,
              "rgb(71,28,72)"
             ],
             [
              0.25098039215686274,
              "rgb(97,30,82)"
             ],
             [
              0.3137254901960784,
              "rgb(123,30,89)"
             ],
             [
              0.3764705882352941,
              "rgb(150,27,91)"
             ],
             [
              0.4392156862745098,
              "rgb(177,22,88)"
             ],
             [
              0.5019607843137255,
              "rgb(203,26,79)"
             ],
             [
              0.5647058823529412,
              "rgb(223,47,67)"
             ],
             [
              0.6274509803921569,
              "rgb(236,76,61)"
             ],
             [
              0.6901960784313725,
              "rgb(242,107,73)"
             ],
             [
              0.7529411764705882,
              "rgb(244,135,95)"
             ],
             [
              0.8156862745098039,
              "rgb(245,162,122)"
             ],
             [
              0.8784313725490196,
              "rgb(246,188,153)"
             ],
             [
              0.9411764705882353,
              "rgb(247,212,187)"
             ],
             [
              1,
              "rgb(250,234,220)"
             ]
            ],
            "type": "histogram2d"
           }
          ],
          "histogram2dcontour": [
           {
            "colorbar": {
             "outlinewidth": 0,
             "tickcolor": "rgb(36,36,36)",
             "ticklen": 8,
             "ticks": "outside",
             "tickwidth": 2
            },
            "colorscale": [
             [
              0,
              "rgb(2,4,25)"
             ],
             [
              0.06274509803921569,
              "rgb(24,15,41)"
             ],
             [
              0.12549019607843137,
              "rgb(47,23,57)"
             ],
             [
              0.18823529411764706,
              "rgb(71,28,72)"
             ],
             [
              0.25098039215686274,
              "rgb(97,30,82)"
             ],
             [
              0.3137254901960784,
              "rgb(123,30,89)"
             ],
             [
              0.3764705882352941,
              "rgb(150,27,91)"
             ],
             [
              0.4392156862745098,
              "rgb(177,22,88)"
             ],
             [
              0.5019607843137255,
              "rgb(203,26,79)"
             ],
             [
              0.5647058823529412,
              "rgb(223,47,67)"
             ],
             [
              0.6274509803921569,
              "rgb(236,76,61)"
             ],
             [
              0.6901960784313725,
              "rgb(242,107,73)"
             ],
             [
              0.7529411764705882,
              "rgb(244,135,95)"
             ],
             [
              0.8156862745098039,
              "rgb(245,162,122)"
             ],
             [
              0.8784313725490196,
              "rgb(246,188,153)"
             ],
             [
              0.9411764705882353,
              "rgb(247,212,187)"
             ],
             [
              1,
              "rgb(250,234,220)"
             ]
            ],
            "type": "histogram2dcontour"
           }
          ],
          "mesh3d": [
           {
            "colorbar": {
             "outlinewidth": 0,
             "tickcolor": "rgb(36,36,36)",
             "ticklen": 8,
             "ticks": "outside",
             "tickwidth": 2
            },
            "type": "mesh3d"
           }
          ],
          "parcoords": [
           {
            "line": {
             "colorbar": {
              "outlinewidth": 0,
              "tickcolor": "rgb(36,36,36)",
              "ticklen": 8,
              "ticks": "outside",
              "tickwidth": 2
             }
            },
            "type": "parcoords"
           }
          ],
          "pie": [
           {
            "automargin": true,
            "type": "pie"
           }
          ],
          "scatter": [
           {
            "fillpattern": {
             "fillmode": "overlay",
             "size": 10,
             "solidity": 0.2
            },
            "type": "scatter"
           }
          ],
          "scatter3d": [
           {
            "line": {
             "colorbar": {
              "outlinewidth": 0,
              "tickcolor": "rgb(36,36,36)",
              "ticklen": 8,
              "ticks": "outside",
              "tickwidth": 2
             }
            },
            "marker": {
             "colorbar": {
              "outlinewidth": 0,
              "tickcolor": "rgb(36,36,36)",
              "ticklen": 8,
              "ticks": "outside",
              "tickwidth": 2
             }
            },
            "type": "scatter3d"
           }
          ],
          "scattercarpet": [
           {
            "marker": {
             "colorbar": {
              "outlinewidth": 0,
              "tickcolor": "rgb(36,36,36)",
              "ticklen": 8,
              "ticks": "outside",
              "tickwidth": 2
             }
            },
            "type": "scattercarpet"
           }
          ],
          "scattergeo": [
           {
            "marker": {
             "colorbar": {
              "outlinewidth": 0,
              "tickcolor": "rgb(36,36,36)",
              "ticklen": 8,
              "ticks": "outside",
              "tickwidth": 2
             }
            },
            "type": "scattergeo"
           }
          ],
          "scattergl": [
           {
            "marker": {
             "colorbar": {
              "outlinewidth": 0,
              "tickcolor": "rgb(36,36,36)",
              "ticklen": 8,
              "ticks": "outside",
              "tickwidth": 2
             }
            },
            "type": "scattergl"
           }
          ],
          "scattermapbox": [
           {
            "marker": {
             "colorbar": {
              "outlinewidth": 0,
              "tickcolor": "rgb(36,36,36)",
              "ticklen": 8,
              "ticks": "outside",
              "tickwidth": 2
             }
            },
            "type": "scattermapbox"
           }
          ],
          "scatterpolar": [
           {
            "marker": {
             "colorbar": {
              "outlinewidth": 0,
              "tickcolor": "rgb(36,36,36)",
              "ticklen": 8,
              "ticks": "outside",
              "tickwidth": 2
             }
            },
            "type": "scatterpolar"
           }
          ],
          "scatterpolargl": [
           {
            "marker": {
             "colorbar": {
              "outlinewidth": 0,
              "tickcolor": "rgb(36,36,36)",
              "ticklen": 8,
              "ticks": "outside",
              "tickwidth": 2
             }
            },
            "type": "scatterpolargl"
           }
          ],
          "scatterternary": [
           {
            "marker": {
             "colorbar": {
              "outlinewidth": 0,
              "tickcolor": "rgb(36,36,36)",
              "ticklen": 8,
              "ticks": "outside",
              "tickwidth": 2
             }
            },
            "type": "scatterternary"
           }
          ],
          "surface": [
           {
            "colorbar": {
             "outlinewidth": 0,
             "tickcolor": "rgb(36,36,36)",
             "ticklen": 8,
             "ticks": "outside",
             "tickwidth": 2
            },
            "colorscale": [
             [
              0,
              "rgb(2,4,25)"
             ],
             [
              0.06274509803921569,
              "rgb(24,15,41)"
             ],
             [
              0.12549019607843137,
              "rgb(47,23,57)"
             ],
             [
              0.18823529411764706,
              "rgb(71,28,72)"
             ],
             [
              0.25098039215686274,
              "rgb(97,30,82)"
             ],
             [
              0.3137254901960784,
              "rgb(123,30,89)"
             ],
             [
              0.3764705882352941,
              "rgb(150,27,91)"
             ],
             [
              0.4392156862745098,
              "rgb(177,22,88)"
             ],
             [
              0.5019607843137255,
              "rgb(203,26,79)"
             ],
             [
              0.5647058823529412,
              "rgb(223,47,67)"
             ],
             [
              0.6274509803921569,
              "rgb(236,76,61)"
             ],
             [
              0.6901960784313725,
              "rgb(242,107,73)"
             ],
             [
              0.7529411764705882,
              "rgb(244,135,95)"
             ],
             [
              0.8156862745098039,
              "rgb(245,162,122)"
             ],
             [
              0.8784313725490196,
              "rgb(246,188,153)"
             ],
             [
              0.9411764705882353,
              "rgb(247,212,187)"
             ],
             [
              1,
              "rgb(250,234,220)"
             ]
            ],
            "type": "surface"
           }
          ],
          "table": [
           {
            "cells": {
             "fill": {
              "color": "rgb(231,231,240)"
             },
             "line": {
              "color": "white"
             }
            },
            "header": {
             "fill": {
              "color": "rgb(183,183,191)"
             },
             "line": {
              "color": "white"
             }
            },
            "type": "table"
           }
          ]
         },
         "layout": {
          "annotationdefaults": {
           "arrowcolor": "rgb(67,103,167)"
          },
          "autotypenumbers": "strict",
          "coloraxis": {
           "colorbar": {
            "outlinewidth": 0,
            "tickcolor": "rgb(36,36,36)",
            "ticklen": 8,
            "ticks": "outside",
            "tickwidth": 2
           }
          },
          "colorscale": {
           "sequential": [
            [
             0,
             "rgb(2,4,25)"
            ],
            [
             0.06274509803921569,
             "rgb(24,15,41)"
            ],
            [
             0.12549019607843137,
             "rgb(47,23,57)"
            ],
            [
             0.18823529411764706,
             "rgb(71,28,72)"
            ],
            [
             0.25098039215686274,
             "rgb(97,30,82)"
            ],
            [
             0.3137254901960784,
             "rgb(123,30,89)"
            ],
            [
             0.3764705882352941,
             "rgb(150,27,91)"
            ],
            [
             0.4392156862745098,
             "rgb(177,22,88)"
            ],
            [
             0.5019607843137255,
             "rgb(203,26,79)"
            ],
            [
             0.5647058823529412,
             "rgb(223,47,67)"
            ],
            [
             0.6274509803921569,
             "rgb(236,76,61)"
            ],
            [
             0.6901960784313725,
             "rgb(242,107,73)"
            ],
            [
             0.7529411764705882,
             "rgb(244,135,95)"
            ],
            [
             0.8156862745098039,
             "rgb(245,162,122)"
            ],
            [
             0.8784313725490196,
             "rgb(246,188,153)"
            ],
            [
             0.9411764705882353,
             "rgb(247,212,187)"
            ],
            [
             1,
             "rgb(250,234,220)"
            ]
           ],
           "sequentialminus": [
            [
             0,
             "rgb(2,4,25)"
            ],
            [
             0.06274509803921569,
             "rgb(24,15,41)"
            ],
            [
             0.12549019607843137,
             "rgb(47,23,57)"
            ],
            [
             0.18823529411764706,
             "rgb(71,28,72)"
            ],
            [
             0.25098039215686274,
             "rgb(97,30,82)"
            ],
            [
             0.3137254901960784,
             "rgb(123,30,89)"
            ],
            [
             0.3764705882352941,
             "rgb(150,27,91)"
            ],
            [
             0.4392156862745098,
             "rgb(177,22,88)"
            ],
            [
             0.5019607843137255,
             "rgb(203,26,79)"
            ],
            [
             0.5647058823529412,
             "rgb(223,47,67)"
            ],
            [
             0.6274509803921569,
             "rgb(236,76,61)"
            ],
            [
             0.6901960784313725,
             "rgb(242,107,73)"
            ],
            [
             0.7529411764705882,
             "rgb(244,135,95)"
            ],
            [
             0.8156862745098039,
             "rgb(245,162,122)"
            ],
            [
             0.8784313725490196,
             "rgb(246,188,153)"
            ],
            [
             0.9411764705882353,
             "rgb(247,212,187)"
            ],
            [
             1,
             "rgb(250,234,220)"
            ]
           ]
          },
          "colorway": [
           "rgb(76,114,176)",
           "rgb(221,132,82)",
           "rgb(85,168,104)",
           "rgb(196,78,82)",
           "rgb(129,114,179)",
           "rgb(147,120,96)",
           "rgb(218,139,195)",
           "rgb(140,140,140)",
           "rgb(204,185,116)",
           "rgb(100,181,205)"
          ],
          "font": {
           "color": "rgb(36,36,36)"
          },
          "geo": {
           "bgcolor": "white",
           "lakecolor": "white",
           "landcolor": "rgb(234,234,242)",
           "showlakes": true,
           "showland": true,
           "subunitcolor": "white"
          },
          "hoverlabel": {
           "align": "left"
          },
          "hovermode": "closest",
          "paper_bgcolor": "white",
          "plot_bgcolor": "rgb(234,234,242)",
          "polar": {
           "angularaxis": {
            "gridcolor": "white",
            "linecolor": "white",
            "showgrid": true,
            "ticks": ""
           },
           "bgcolor": "rgb(234,234,242)",
           "radialaxis": {
            "gridcolor": "white",
            "linecolor": "white",
            "showgrid": true,
            "ticks": ""
           }
          },
          "scene": {
           "xaxis": {
            "backgroundcolor": "rgb(234,234,242)",
            "gridcolor": "white",
            "gridwidth": 2,
            "linecolor": "white",
            "showbackground": true,
            "showgrid": true,
            "ticks": "",
            "zerolinecolor": "white"
           },
           "yaxis": {
            "backgroundcolor": "rgb(234,234,242)",
            "gridcolor": "white",
            "gridwidth": 2,
            "linecolor": "white",
            "showbackground": true,
            "showgrid": true,
            "ticks": "",
            "zerolinecolor": "white"
           },
           "zaxis": {
            "backgroundcolor": "rgb(234,234,242)",
            "gridcolor": "white",
            "gridwidth": 2,
            "linecolor": "white",
            "showbackground": true,
            "showgrid": true,
            "ticks": "",
            "zerolinecolor": "white"
           }
          },
          "shapedefaults": {
           "fillcolor": "rgb(67,103,167)",
           "line": {
            "width": 0
           },
           "opacity": 0.5
          },
          "ternary": {
           "aaxis": {
            "gridcolor": "white",
            "linecolor": "white",
            "showgrid": true,
            "ticks": ""
           },
           "baxis": {
            "gridcolor": "white",
            "linecolor": "white",
            "showgrid": true,
            "ticks": ""
           },
           "bgcolor": "rgb(234,234,242)",
           "caxis": {
            "gridcolor": "white",
            "linecolor": "white",
            "showgrid": true,
            "ticks": ""
           }
          },
          "xaxis": {
           "automargin": true,
           "gridcolor": "white",
           "linecolor": "white",
           "showgrid": true,
           "ticks": "",
           "title": {
            "standoff": 15
           },
           "zerolinecolor": "white"
          },
          "yaxis": {
           "automargin": true,
           "gridcolor": "white",
           "linecolor": "white",
           "showgrid": true,
           "ticks": "",
           "title": {
            "standoff": 15
           },
           "zerolinecolor": "white"
          }
         }
        },
        "title": {
         "text": "CCA Score by School Type"
        },
        "width": 1200,
        "xaxis": {
         "anchor": "y",
         "domain": [
          0,
          1
         ],
         "title": {
          "text": ""
         }
        },
        "yaxis": {
         "anchor": "x",
         "domain": [
          0,
          1
         ],
         "title": {
          "text": "CCA Score"
         }
        }
       }
      }
     },
     "metadata": {},
     "output_type": "display_data"
    }
   ],
   "source": [
    "fig = px.box(df_school_cca,\n",
    "           x='School_Type',\n",
    "           y='CCA_Sum_Score',\n",
    "           points=\"all\",\n",
    "           width=1200,\n",
    "           height=800,\n",
    "           title=\"CCA Score by School Type\",\n",
    "           labels={'School_Type':'',\n",
    "                   'CCA_Sum_Score': 'CCA Score'},\n",
    "           template=\"seaborn\",\n",
    "           hover_data = ['Name', 'School_Type'])\n",
    "fig.show()"
   ]
  },
  {
   "cell_type": "code",
   "execution_count": 27,
   "metadata": {},
   "outputs": [
    {
     "data": {
      "application/vnd.plotly.v1+json": {
       "config": {
        "plotlyServerURL": "https://plot.ly"
       },
       "data": [
        {
         "alignmentgroup": "True",
         "boxpoints": "all",
         "customdata": [
          [
           "Admiralty Primary School",
           "Government School"
          ],
          [
           "Ahmad Ibrahim Primary School",
           "Government School"
          ],
          [
           "Ai Tong School",
           "Government-Aided School"
          ],
          [
           "Alexandra Primary School",
           "Government School"
          ],
          [
           "Anchor Green Primary School",
           "Government School"
          ],
          [
           "Anderson Primary School",
           "Government School"
          ],
          [
           "Ang Mo Kio Primary School",
           "Government School"
          ],
          [
           "Anglo-Chinese School (Junior)",
           "Government-Aided School"
          ],
          [
           "Anglo-Chinese School (Primary)",
           "Government-Aided School"
          ],
          [
           "Angsana Primary School",
           "Government School"
          ],
          [
           "Beacon Primary School",
           "Government School"
          ],
          [
           "Bedok Green Primary School",
           "Government School"
          ],
          [
           "Bendemeer Primary School",
           "Government School"
          ],
          [
           "Blangah Rise Primary School",
           "Government School"
          ],
          [
           "Boon Lay Garden Primary School",
           "Government School"
          ],
          [
           "Bukit Panjang Primary School",
           "Government School"
          ],
          [
           "Bukit Timah Primary School",
           "Government School"
          ],
          [
           "Bukit View Primary School",
           "Government School"
          ],
          [
           "CHIJ (Katong) Primary",
           "Government-Aided School"
          ],
          [
           "CHIJ (Kellock)",
           "Government-Aided School"
          ],
          [
           "CHIJ Our Lady Queen of Peace",
           "Government-Aided School"
          ],
          [
           "CHIJ Our Lady of Good Counsel",
           "Government-Aided School"
          ],
          [
           "CHIJ Our Lady of the Nativity",
           "Government-Aided School"
          ],
          [
           "CHIJ Primary (Toa Payoh)",
           "Government-Aided School"
          ],
          [
           "CHIJ St. Nicholas Girls' School (Primary Section)",
           "Government-Aided School / Autonomous"
          ],
          [
           "Canberra Primary School",
           "Government School"
          ],
          [
           "Canossa Catholic Primary School",
           "Government-Aided School"
          ],
          [
           "Cantonment Primary School",
           "Government School"
          ],
          [
           "Casuarina Primary School",
           "Government School"
          ],
          [
           "Catholic High School (Primary Section)",
           "Government-Aided School / Autonomous"
          ],
          [
           "Cedar Primary School",
           "Government School"
          ],
          [
           "Changkat Primary School",
           "Government School"
          ],
          [
           "Chongfu School",
           "Government-Aided School"
          ],
          [
           "Chongzheng Primary School",
           "Government School"
          ],
          [
           "Chua Chu Kang Primary School",
           "Government School"
          ],
          [
           "Clementi Primary School",
           "Government School"
          ],
          [
           "Compassvale Primary School",
           "Government School"
          ],
          [
           "Concord Primary School",
           "Government School"
          ],
          [
           "Corporation Primary School",
           "Government School"
          ],
          [
           "Damai Primary School",
           "Government School"
          ],
          [
           "Dazhong Primary School",
           "Government School"
          ],
          [
           "De La Salle School",
           "Government-Aided School"
          ],
          [
           "East Spring Primary School",
           "Government School"
          ],
          [
           "Edgefield Primary School",
           "Government School"
          ],
          [
           "Elias Park Primary School",
           "Government School"
          ],
          [
           "Endeavour Primary School",
           "Government School"
          ],
          [
           "Evergreen Primary School",
           "Government School"
          ],
          [
           "Fairfield Methodist School (Primary)",
           "Government-Aided School"
          ],
          [
           "Fengshan Primary School",
           "Government School"
          ],
          [
           "Fern Green Primary School",
           "Government School"
          ],
          [
           "Fernvale Primary School",
           "Government School"
          ],
          [
           "First Toa Payoh Primary School",
           "Government School"
          ],
          [
           "Frontier Primary School",
           "Government School"
          ],
          [
           "Fuchun Primary School",
           "Government School"
          ],
          [
           "Fuhua Primary School",
           "Government School"
          ],
          [
           "Gan Eng Seng Primary School",
           "Government School"
          ],
          [
           "Geylang Methodist School (Primary)",
           "Government-Aided School"
          ],
          [
           "Gongshang Primary School",
           "Government School"
          ],
          [
           "Greendale Primary School",
           "Government School"
          ],
          [
           "Greenridge Primary School",
           "Government School"
          ],
          [
           "Greenwood Primary School",
           "Government School"
          ],
          [
           "Haig Girls' School",
           "Government School"
          ],
          [
           "Henry Park Primary School",
           "Government School"
          ],
          [
           "Holy Innocents' Primary School",
           "Government-Aided School"
          ],
          [
           "Hong Wen School",
           "Government-Aided School"
          ],
          [
           "Horizon Primary School",
           "Government School"
          ],
          [
           "Hougang Primary School",
           "Government School"
          ],
          [
           "Huamin Primary School",
           "Government School"
          ],
          [
           "Innova Primary School",
           "Government School"
          ],
          [
           "Jiemin Primary School",
           "Government School"
          ],
          [
           "Jing Shan Primary School",
           "Government School"
          ],
          [
           "Junyuan Primary School",
           "Government School"
          ],
          [
           "Jurong Primary School",
           "Government School"
          ],
          [
           "Jurong West Primary School",
           "Government School"
          ],
          [
           "Keming Primary School",
           "Government School"
          ],
          [
           "Kheng Cheng School",
           "Government-Aided School"
          ],
          [
           "Kong Hwa School",
           "Government-Aided School"
          ],
          [
           "Kranji Primary School",
           "Government School"
          ],
          [
           "Kuo Chuan Presbyterian Primary School",
           "Government-Aided School"
          ],
          [
           "Lakeside Primary School",
           "Government School"
          ],
          [
           "Lianhua Primary School",
           "Government School"
          ],
          [
           "Maha Bodhi School",
           "Government-Aided School"
          ],
          [
           "Maris Stella High School (Primary Section)",
           "Government-Aided School / Autonomous"
          ],
          [
           "Marsiling Primary School",
           "Government School"
          ],
          [
           "Marymount Convent School",
           "Government-Aided School"
          ],
          [
           "Mayflower Primary School",
           "Government School"
          ],
          [
           "Mee Toh School",
           "Government-Aided School"
          ],
          [
           "Methodist Girls' School (Primary)",
           "Government-Aided School"
          ],
          [
           "Montfort Junior School",
           "Government-Aided School"
          ],
          [
           "Nan Chiau Primary School",
           "Government-Aided School"
          ],
          [
           "Nanyang Primary School",
           "Government-Aided School"
          ],
          [
           "Naval Base Primary School",
           "Government School"
          ],
          [
           "New Town Primary School",
           "Government School"
          ],
          [
           "Ngee Ann Primary School",
           "Government-Aided School"
          ],
          [
           "North Spring Primary School",
           "Government School"
          ],
          [
           "North View Primary School",
           "Government School"
          ],
          [
           "North Vista Primary School",
           "Government School"
          ],
          [
           "Northland Primary School",
           "Government School"
          ],
          [
           "Palm View Primary School",
           "Government School"
          ],
          [
           "Park View Primary School",
           "Government School"
          ],
          [
           "Pasir Ris Primary School",
           "Government School"
          ],
          [
           "Paya Lebar Methodist Girls' School (Primary)",
           "Government-Aided School"
          ],
          [
           "Pei Chun Public School",
           "Government-Aided School"
          ],
          [
           "Pei Hwa Presbyterian Primary School",
           "Government-Aided School"
          ],
          [
           "Pei Tong Primary School",
           "Government School"
          ],
          [
           "Peiying Primary School",
           "Government School"
          ],
          [
           "Poi Ching School",
           "Government-Aided School"
          ],
          [
           "Punggol Cove Primary School",
           "Government School"
          ],
          [
           "Punggol Green Primary School",
           "Government School"
          ],
          [
           "Punggol Primary School",
           "Government School"
          ],
          [
           "Punggol View Primary School",
           "Government School"
          ],
          [
           "Qifa Primary School",
           "Government School"
          ],
          [
           "Qihua Primary School",
           "Government School"
          ],
          [
           "Queenstown Primary School",
           "Government School"
          ],
          [
           "Radin Mas Primary School",
           "Government School"
          ],
          [
           "Raffles Girls' Primary School",
           "Government School"
          ],
          [
           "Red Swastika School",
           "Government-Aided School"
          ],
          [
           "River Valley Primary School",
           "Government School"
          ],
          [
           "Riverside Primary School",
           "Government School"
          ],
          [
           "Rivervale Primary School",
           "Government School"
          ],
          [
           "Rosyth School",
           "Government School"
          ],
          [
           "Rulang Primary School",
           "Government School"
          ],
          [
           "Sembawang Primary School",
           "Government School"
          ],
          [
           "Sengkang Green Primary School",
           "Government School"
          ],
          [
           "Shuqun Primary School",
           "Government School"
          ],
          [
           "Si Ling Primary School",
           "Government School"
          ],
          [
           "Singapore Chinese Girls' Primary School",
           "Government-Aided School"
          ],
          [
           "South View Primary School",
           "Government School"
          ],
          [
           "Springdale Primary School",
           "Government School"
          ],
          [
           "St. Andrew's Junior School",
           "Government-Aided School"
          ],
          [
           "St. Anthony's Canossian Primary School",
           "Government-Aided School"
          ],
          [
           "St. Anthony's Primary School",
           "Government-Aided School"
          ],
          [
           "St. Gabriel's Primary School",
           "Government-Aided School"
          ],
          [
           "St. Hilda's Primary School",
           "Government-Aided School"
          ],
          [
           "St. Joseph's Institution Junior",
           "Government-Aided School"
          ],
          [
           "St. Margaret's Primary School",
           "Government-Aided School"
          ],
          [
           "St. Stephen's School",
           "Government-Aided School"
          ],
          [
           "Tampines North Primary School",
           "Government School"
          ],
          [
           "Tampines Primary School",
           "Government School"
          ],
          [
           "Tanjong Katong Primary School",
           "Government School"
          ],
          [
           "Tao Nan School",
           "Government-Aided School"
          ],
          [
           "Teck Ghee Primary School",
           "Government School"
          ],
          [
           "Teck Whye Primary School",
           "Government School"
          ],
          [
           "Telok Kurau Primary School",
           "Government School"
          ],
          [
           "Temasek Primary School",
           "Government School"
          ],
          [
           "Townsville Primary School",
           "Government School"
          ],
          [
           "Unity Primary School",
           "Government School"
          ],
          [
           "Waterway Primary School",
           "Government School"
          ],
          [
           "Wellington Primary School",
           "Government School"
          ],
          [
           "West Grove Primary School",
           "Government School"
          ],
          [
           "West Spring Primary School",
           "Government School"
          ],
          [
           "West View Primary School",
           "Government School"
          ],
          [
           "Westwood Primary School",
           "Government School"
          ],
          [
           "White Sands Primary School",
           "Government School"
          ],
          [
           "Woodgrove Primary School",
           "Government School"
          ],
          [
           "Woodlands Primary School",
           "Government School"
          ],
          [
           "Woodlands Ring Primary School",
           "Government School"
          ],
          [
           "Xinghua Primary School",
           "Government School"
          ],
          [
           "Xingnan Primary School",
           "Government School"
          ],
          [
           "Xinmin Primary School",
           "Government School"
          ],
          [
           "Xishan Primary School",
           "Government School"
          ],
          [
           "Yangzheng Primary School",
           "Government School"
          ],
          [
           "Yew Tee Primary School",
           "Government School"
          ],
          [
           "Yio Chu Kang Primary School",
           "Government School"
          ],
          [
           "Yishun Primary School",
           "Government School"
          ],
          [
           "Yu Neng Primary School",
           "Government School"
          ],
          [
           "Yuhua Primary School",
           "Government School"
          ],
          [
           "Yumin Primary School",
           "Government School"
          ],
          [
           "Zhangde Primary School",
           "Government School"
          ],
          [
           "Zhenghua Primary School",
           "Government School"
          ],
          [
           "Zhonghua Primary School",
           "Government School"
          ]
         ],
         "hovertemplate": "=%{x}<br>CCA Score=%{y}<br>Name=%{customdata[0]}<br>School_Type=%{customdata[1]}<extra></extra>",
         "legendgroup": "",
         "marker": {
          "color": "rgb(76,114,176)"
         },
         "name": "",
         "notched": false,
         "offsetgroup": "",
         "orientation": "v",
         "showlegend": false,
         "type": "box",
         "x": [
          "Co-Ed School",
          "Co-Ed School",
          "Co-Ed School",
          "Co-Ed School",
          "Co-Ed School",
          "Co-Ed School",
          "Co-Ed School",
          "Boys School",
          "Boys School",
          "Co-Ed School",
          "Co-Ed School",
          "Co-Ed School",
          "Co-Ed School",
          "Co-Ed School",
          "Co-Ed School",
          "Co-Ed School",
          "Co-Ed School",
          "Co-Ed School",
          "Girls School",
          "Girls School",
          "Girls School",
          "Girls School",
          "Girls School",
          "Girls School",
          "Girls School",
          "Co-Ed School",
          "Co-Ed School",
          "Co-Ed School",
          "Co-Ed School",
          "Boys School",
          "Co-Ed School",
          "Co-Ed School",
          "Co-Ed School",
          "Co-Ed School",
          "Co-Ed School",
          "Co-Ed School",
          "Co-Ed School",
          "Co-Ed School",
          "Co-Ed School",
          "Co-Ed School",
          "Co-Ed School",
          "Co-Ed School",
          "Co-Ed School",
          "Co-Ed School",
          "Co-Ed School",
          "Co-Ed School",
          "Co-Ed School",
          "Co-Ed School",
          "Co-Ed School",
          "Co-Ed School",
          "Co-Ed School",
          "Co-Ed School",
          "Co-Ed School",
          "Co-Ed School",
          "Co-Ed School",
          "Co-Ed School",
          "Co-Ed School",
          "Co-Ed School",
          "Co-Ed School",
          "Co-Ed School",
          "Co-Ed School",
          "Girls School",
          "Co-Ed School",
          "Co-Ed School",
          "Co-Ed School",
          "Co-Ed School",
          "Co-Ed School",
          "Co-Ed School",
          "Co-Ed School",
          "Co-Ed School",
          "Co-Ed School",
          "Co-Ed School",
          "Co-Ed School",
          "Co-Ed School",
          "Co-Ed School",
          "Co-Ed School",
          "Co-Ed School",
          "Co-Ed School",
          "Co-Ed School",
          "Co-Ed School",
          "Co-Ed School",
          "Co-Ed School",
          "Boys School",
          "Co-Ed School",
          "Girls School",
          "Co-Ed School",
          "Co-Ed School",
          "Girls School",
          "Boys School",
          "Co-Ed School",
          "Co-Ed School",
          "Co-Ed School",
          "Co-Ed School",
          "Co-Ed School",
          "Co-Ed School",
          "Co-Ed School",
          "Co-Ed School",
          "Co-Ed School",
          "Co-Ed School",
          "Co-Ed School",
          "Co-Ed School",
          "Girls School",
          "Co-Ed School",
          "Co-Ed School",
          "Co-Ed School",
          "Co-Ed School",
          "Co-Ed School",
          "Co-Ed School",
          "Co-Ed School",
          "Co-Ed School",
          "Co-Ed School",
          "Co-Ed School",
          "Co-Ed School",
          "Co-Ed School",
          "Co-Ed School",
          "Girls School",
          "Co-Ed School",
          "Co-Ed School",
          "Co-Ed School",
          "Co-Ed School",
          "Co-Ed School",
          "Co-Ed School",
          "Co-Ed School",
          "Co-Ed School",
          "Co-Ed School",
          "Co-Ed School",
          "Girls School",
          "Co-Ed School",
          "Co-Ed School",
          "Boys School",
          "Girls School",
          "Co-Ed School",
          "Boys School",
          "Co-Ed School",
          "Boys School",
          "Girls School",
          "Boys School",
          "Co-Ed School",
          "Co-Ed School",
          "Co-Ed School",
          "Co-Ed School",
          "Co-Ed School",
          "Co-Ed School",
          "Co-Ed School",
          "Co-Ed School",
          "Co-Ed School",
          "Co-Ed School",
          "Co-Ed School",
          "Co-Ed School",
          "Co-Ed School",
          "Co-Ed School",
          "Co-Ed School",
          "Co-Ed School",
          "Co-Ed School",
          "Co-Ed School",
          "Co-Ed School",
          "Co-Ed School",
          "Co-Ed School",
          "Co-Ed School",
          "Co-Ed School",
          "Co-Ed School",
          "Co-Ed School",
          "Co-Ed School",
          "Co-Ed School",
          "Co-Ed School",
          "Co-Ed School",
          "Co-Ed School",
          "Co-Ed School",
          "Co-Ed School",
          "Co-Ed School",
          "Co-Ed School"
         ],
         "x0": " ",
         "xaxis": "x",
         "y": [
          1803,
          1074,
          933,
          1745,
          1281,
          1344,
          1073,
          1610,
          2096,
          1048,
          1165,
          1057,
          784,
          619,
          1454,
          1763,
          1354,
          1553,
          1547,
          949,
          751,
          928,
          793,
          1101,
          1698,
          1557,
          825,
          926,
          1136,
          1130,
          1656,
          773,
          1994,
          1523,
          1084,
          1693,
          1633,
          708,
          1056,
          1131,
          776,
          537,
          821,
          791,
          731,
          1592,
          540,
          1166,
          1653,
          743,
          1033,
          515,
          1402,
          744,
          939,
          1277,
          1402,
          992,
          1518,
          1796,
          1710,
          1514,
          1567,
          1826,
          1611,
          2241,
          2035,
          1463,
          1224,
          1307,
          1005,
          1418,
          1621,
          809,
          681,
          537,
          1494,
          579,
          1998,
          1874,
          1450,
          2103,
          2297,
          1437,
          947,
          1590,
          1424,
          1765,
          739,
          1209,
          1905,
          765,
          1197,
          1849,
          1119,
          1235,
          904,
          1354,
          1245,
          1113,
          698,
          1506,
          1034,
          1599,
          1610,
          1286,
          1546,
          990,
          1171,
          1634,
          478,
          1123,
          145,
          1801,
          1024,
          1500,
          1438,
          1062,
          1249,
          1212,
          2126,
          1450,
          1795,
          1337,
          1463,
          568,
          1527,
          1833,
          1259,
          1382,
          925,
          1332,
          1005,
          1690,
          785,
          692,
          1105,
          823,
          1244,
          639,
          1496,
          1134,
          1235,
          1567,
          1168,
          1207,
          1203,
          692,
          915,
          1158,
          1258,
          789,
          662,
          999,
          1684,
          1395,
          716,
          1007,
          1056,
          995,
          1611,
          1250,
          1202,
          1126,
          1049,
          1122,
          916,
          954,
          1770,
          1100,
          513
         ],
         "y0": " ",
         "yaxis": "y"
        }
       ],
       "layout": {
        "boxmode": "group",
        "height": 800,
        "legend": {
         "tracegroupgap": 0
        },
        "template": {
         "data": {
          "bar": [
           {
            "error_x": {
             "color": "rgb(36,36,36)"
            },
            "error_y": {
             "color": "rgb(36,36,36)"
            },
            "marker": {
             "line": {
              "color": "rgb(234,234,242)",
              "width": 0.5
             },
             "pattern": {
              "fillmode": "overlay",
              "size": 10,
              "solidity": 0.2
             }
            },
            "type": "bar"
           }
          ],
          "barpolar": [
           {
            "marker": {
             "line": {
              "color": "rgb(234,234,242)",
              "width": 0.5
             },
             "pattern": {
              "fillmode": "overlay",
              "size": 10,
              "solidity": 0.2
             }
            },
            "type": "barpolar"
           }
          ],
          "carpet": [
           {
            "aaxis": {
             "endlinecolor": "rgb(36,36,36)",
             "gridcolor": "white",
             "linecolor": "white",
             "minorgridcolor": "white",
             "startlinecolor": "rgb(36,36,36)"
            },
            "baxis": {
             "endlinecolor": "rgb(36,36,36)",
             "gridcolor": "white",
             "linecolor": "white",
             "minorgridcolor": "white",
             "startlinecolor": "rgb(36,36,36)"
            },
            "type": "carpet"
           }
          ],
          "choropleth": [
           {
            "colorbar": {
             "outlinewidth": 0,
             "tickcolor": "rgb(36,36,36)",
             "ticklen": 8,
             "ticks": "outside",
             "tickwidth": 2
            },
            "type": "choropleth"
           }
          ],
          "contour": [
           {
            "colorbar": {
             "outlinewidth": 0,
             "tickcolor": "rgb(36,36,36)",
             "ticklen": 8,
             "ticks": "outside",
             "tickwidth": 2
            },
            "colorscale": [
             [
              0,
              "rgb(2,4,25)"
             ],
             [
              0.06274509803921569,
              "rgb(24,15,41)"
             ],
             [
              0.12549019607843137,
              "rgb(47,23,57)"
             ],
             [
              0.18823529411764706,
              "rgb(71,28,72)"
             ],
             [
              0.25098039215686274,
              "rgb(97,30,82)"
             ],
             [
              0.3137254901960784,
              "rgb(123,30,89)"
             ],
             [
              0.3764705882352941,
              "rgb(150,27,91)"
             ],
             [
              0.4392156862745098,
              "rgb(177,22,88)"
             ],
             [
              0.5019607843137255,
              "rgb(203,26,79)"
             ],
             [
              0.5647058823529412,
              "rgb(223,47,67)"
             ],
             [
              0.6274509803921569,
              "rgb(236,76,61)"
             ],
             [
              0.6901960784313725,
              "rgb(242,107,73)"
             ],
             [
              0.7529411764705882,
              "rgb(244,135,95)"
             ],
             [
              0.8156862745098039,
              "rgb(245,162,122)"
             ],
             [
              0.8784313725490196,
              "rgb(246,188,153)"
             ],
             [
              0.9411764705882353,
              "rgb(247,212,187)"
             ],
             [
              1,
              "rgb(250,234,220)"
             ]
            ],
            "type": "contour"
           }
          ],
          "contourcarpet": [
           {
            "colorbar": {
             "outlinewidth": 0,
             "tickcolor": "rgb(36,36,36)",
             "ticklen": 8,
             "ticks": "outside",
             "tickwidth": 2
            },
            "type": "contourcarpet"
           }
          ],
          "heatmap": [
           {
            "colorbar": {
             "outlinewidth": 0,
             "tickcolor": "rgb(36,36,36)",
             "ticklen": 8,
             "ticks": "outside",
             "tickwidth": 2
            },
            "colorscale": [
             [
              0,
              "rgb(2,4,25)"
             ],
             [
              0.06274509803921569,
              "rgb(24,15,41)"
             ],
             [
              0.12549019607843137,
              "rgb(47,23,57)"
             ],
             [
              0.18823529411764706,
              "rgb(71,28,72)"
             ],
             [
              0.25098039215686274,
              "rgb(97,30,82)"
             ],
             [
              0.3137254901960784,
              "rgb(123,30,89)"
             ],
             [
              0.3764705882352941,
              "rgb(150,27,91)"
             ],
             [
              0.4392156862745098,
              "rgb(177,22,88)"
             ],
             [
              0.5019607843137255,
              "rgb(203,26,79)"
             ],
             [
              0.5647058823529412,
              "rgb(223,47,67)"
             ],
             [
              0.6274509803921569,
              "rgb(236,76,61)"
             ],
             [
              0.6901960784313725,
              "rgb(242,107,73)"
             ],
             [
              0.7529411764705882,
              "rgb(244,135,95)"
             ],
             [
              0.8156862745098039,
              "rgb(245,162,122)"
             ],
             [
              0.8784313725490196,
              "rgb(246,188,153)"
             ],
             [
              0.9411764705882353,
              "rgb(247,212,187)"
             ],
             [
              1,
              "rgb(250,234,220)"
             ]
            ],
            "type": "heatmap"
           }
          ],
          "heatmapgl": [
           {
            "colorbar": {
             "outlinewidth": 0,
             "tickcolor": "rgb(36,36,36)",
             "ticklen": 8,
             "ticks": "outside",
             "tickwidth": 2
            },
            "colorscale": [
             [
              0,
              "rgb(2,4,25)"
             ],
             [
              0.06274509803921569,
              "rgb(24,15,41)"
             ],
             [
              0.12549019607843137,
              "rgb(47,23,57)"
             ],
             [
              0.18823529411764706,
              "rgb(71,28,72)"
             ],
             [
              0.25098039215686274,
              "rgb(97,30,82)"
             ],
             [
              0.3137254901960784,
              "rgb(123,30,89)"
             ],
             [
              0.3764705882352941,
              "rgb(150,27,91)"
             ],
             [
              0.4392156862745098,
              "rgb(177,22,88)"
             ],
             [
              0.5019607843137255,
              "rgb(203,26,79)"
             ],
             [
              0.5647058823529412,
              "rgb(223,47,67)"
             ],
             [
              0.6274509803921569,
              "rgb(236,76,61)"
             ],
             [
              0.6901960784313725,
              "rgb(242,107,73)"
             ],
             [
              0.7529411764705882,
              "rgb(244,135,95)"
             ],
             [
              0.8156862745098039,
              "rgb(245,162,122)"
             ],
             [
              0.8784313725490196,
              "rgb(246,188,153)"
             ],
             [
              0.9411764705882353,
              "rgb(247,212,187)"
             ],
             [
              1,
              "rgb(250,234,220)"
             ]
            ],
            "type": "heatmapgl"
           }
          ],
          "histogram": [
           {
            "marker": {
             "pattern": {
              "fillmode": "overlay",
              "size": 10,
              "solidity": 0.2
             }
            },
            "type": "histogram"
           }
          ],
          "histogram2d": [
           {
            "colorbar": {
             "outlinewidth": 0,
             "tickcolor": "rgb(36,36,36)",
             "ticklen": 8,
             "ticks": "outside",
             "tickwidth": 2
            },
            "colorscale": [
             [
              0,
              "rgb(2,4,25)"
             ],
             [
              0.06274509803921569,
              "rgb(24,15,41)"
             ],
             [
              0.12549019607843137,
              "rgb(47,23,57)"
             ],
             [
              0.18823529411764706,
              "rgb(71,28,72)"
             ],
             [
              0.25098039215686274,
              "rgb(97,30,82)"
             ],
             [
              0.3137254901960784,
              "rgb(123,30,89)"
             ],
             [
              0.3764705882352941,
              "rgb(150,27,91)"
             ],
             [
              0.4392156862745098,
              "rgb(177,22,88)"
             ],
             [
              0.5019607843137255,
              "rgb(203,26,79)"
             ],
             [
              0.5647058823529412,
              "rgb(223,47,67)"
             ],
             [
              0.6274509803921569,
              "rgb(236,76,61)"
             ],
             [
              0.6901960784313725,
              "rgb(242,107,73)"
             ],
             [
              0.7529411764705882,
              "rgb(244,135,95)"
             ],
             [
              0.8156862745098039,
              "rgb(245,162,122)"
             ],
             [
              0.8784313725490196,
              "rgb(246,188,153)"
             ],
             [
              0.9411764705882353,
              "rgb(247,212,187)"
             ],
             [
              1,
              "rgb(250,234,220)"
             ]
            ],
            "type": "histogram2d"
           }
          ],
          "histogram2dcontour": [
           {
            "colorbar": {
             "outlinewidth": 0,
             "tickcolor": "rgb(36,36,36)",
             "ticklen": 8,
             "ticks": "outside",
             "tickwidth": 2
            },
            "colorscale": [
             [
              0,
              "rgb(2,4,25)"
             ],
             [
              0.06274509803921569,
              "rgb(24,15,41)"
             ],
             [
              0.12549019607843137,
              "rgb(47,23,57)"
             ],
             [
              0.18823529411764706,
              "rgb(71,28,72)"
             ],
             [
              0.25098039215686274,
              "rgb(97,30,82)"
             ],
             [
              0.3137254901960784,
              "rgb(123,30,89)"
             ],
             [
              0.3764705882352941,
              "rgb(150,27,91)"
             ],
             [
              0.4392156862745098,
              "rgb(177,22,88)"
             ],
             [
              0.5019607843137255,
              "rgb(203,26,79)"
             ],
             [
              0.5647058823529412,
              "rgb(223,47,67)"
             ],
             [
              0.6274509803921569,
              "rgb(236,76,61)"
             ],
             [
              0.6901960784313725,
              "rgb(242,107,73)"
             ],
             [
              0.7529411764705882,
              "rgb(244,135,95)"
             ],
             [
              0.8156862745098039,
              "rgb(245,162,122)"
             ],
             [
              0.8784313725490196,
              "rgb(246,188,153)"
             ],
             [
              0.9411764705882353,
              "rgb(247,212,187)"
             ],
             [
              1,
              "rgb(250,234,220)"
             ]
            ],
            "type": "histogram2dcontour"
           }
          ],
          "mesh3d": [
           {
            "colorbar": {
             "outlinewidth": 0,
             "tickcolor": "rgb(36,36,36)",
             "ticklen": 8,
             "ticks": "outside",
             "tickwidth": 2
            },
            "type": "mesh3d"
           }
          ],
          "parcoords": [
           {
            "line": {
             "colorbar": {
              "outlinewidth": 0,
              "tickcolor": "rgb(36,36,36)",
              "ticklen": 8,
              "ticks": "outside",
              "tickwidth": 2
             }
            },
            "type": "parcoords"
           }
          ],
          "pie": [
           {
            "automargin": true,
            "type": "pie"
           }
          ],
          "scatter": [
           {
            "fillpattern": {
             "fillmode": "overlay",
             "size": 10,
             "solidity": 0.2
            },
            "type": "scatter"
           }
          ],
          "scatter3d": [
           {
            "line": {
             "colorbar": {
              "outlinewidth": 0,
              "tickcolor": "rgb(36,36,36)",
              "ticklen": 8,
              "ticks": "outside",
              "tickwidth": 2
             }
            },
            "marker": {
             "colorbar": {
              "outlinewidth": 0,
              "tickcolor": "rgb(36,36,36)",
              "ticklen": 8,
              "ticks": "outside",
              "tickwidth": 2
             }
            },
            "type": "scatter3d"
           }
          ],
          "scattercarpet": [
           {
            "marker": {
             "colorbar": {
              "outlinewidth": 0,
              "tickcolor": "rgb(36,36,36)",
              "ticklen": 8,
              "ticks": "outside",
              "tickwidth": 2
             }
            },
            "type": "scattercarpet"
           }
          ],
          "scattergeo": [
           {
            "marker": {
             "colorbar": {
              "outlinewidth": 0,
              "tickcolor": "rgb(36,36,36)",
              "ticklen": 8,
              "ticks": "outside",
              "tickwidth": 2
             }
            },
            "type": "scattergeo"
           }
          ],
          "scattergl": [
           {
            "marker": {
             "colorbar": {
              "outlinewidth": 0,
              "tickcolor": "rgb(36,36,36)",
              "ticklen": 8,
              "ticks": "outside",
              "tickwidth": 2
             }
            },
            "type": "scattergl"
           }
          ],
          "scattermapbox": [
           {
            "marker": {
             "colorbar": {
              "outlinewidth": 0,
              "tickcolor": "rgb(36,36,36)",
              "ticklen": 8,
              "ticks": "outside",
              "tickwidth": 2
             }
            },
            "type": "scattermapbox"
           }
          ],
          "scatterpolar": [
           {
            "marker": {
             "colorbar": {
              "outlinewidth": 0,
              "tickcolor": "rgb(36,36,36)",
              "ticklen": 8,
              "ticks": "outside",
              "tickwidth": 2
             }
            },
            "type": "scatterpolar"
           }
          ],
          "scatterpolargl": [
           {
            "marker": {
             "colorbar": {
              "outlinewidth": 0,
              "tickcolor": "rgb(36,36,36)",
              "ticklen": 8,
              "ticks": "outside",
              "tickwidth": 2
             }
            },
            "type": "scatterpolargl"
           }
          ],
          "scatterternary": [
           {
            "marker": {
             "colorbar": {
              "outlinewidth": 0,
              "tickcolor": "rgb(36,36,36)",
              "ticklen": 8,
              "ticks": "outside",
              "tickwidth": 2
             }
            },
            "type": "scatterternary"
           }
          ],
          "surface": [
           {
            "colorbar": {
             "outlinewidth": 0,
             "tickcolor": "rgb(36,36,36)",
             "ticklen": 8,
             "ticks": "outside",
             "tickwidth": 2
            },
            "colorscale": [
             [
              0,
              "rgb(2,4,25)"
             ],
             [
              0.06274509803921569,
              "rgb(24,15,41)"
             ],
             [
              0.12549019607843137,
              "rgb(47,23,57)"
             ],
             [
              0.18823529411764706,
              "rgb(71,28,72)"
             ],
             [
              0.25098039215686274,
              "rgb(97,30,82)"
             ],
             [
              0.3137254901960784,
              "rgb(123,30,89)"
             ],
             [
              0.3764705882352941,
              "rgb(150,27,91)"
             ],
             [
              0.4392156862745098,
              "rgb(177,22,88)"
             ],
             [
              0.5019607843137255,
              "rgb(203,26,79)"
             ],
             [
              0.5647058823529412,
              "rgb(223,47,67)"
             ],
             [
              0.6274509803921569,
              "rgb(236,76,61)"
             ],
             [
              0.6901960784313725,
              "rgb(242,107,73)"
             ],
             [
              0.7529411764705882,
              "rgb(244,135,95)"
             ],
             [
              0.8156862745098039,
              "rgb(245,162,122)"
             ],
             [
              0.8784313725490196,
              "rgb(246,188,153)"
             ],
             [
              0.9411764705882353,
              "rgb(247,212,187)"
             ],
             [
              1,
              "rgb(250,234,220)"
             ]
            ],
            "type": "surface"
           }
          ],
          "table": [
           {
            "cells": {
             "fill": {
              "color": "rgb(231,231,240)"
             },
             "line": {
              "color": "white"
             }
            },
            "header": {
             "fill": {
              "color": "rgb(183,183,191)"
             },
             "line": {
              "color": "white"
             }
            },
            "type": "table"
           }
          ]
         },
         "layout": {
          "annotationdefaults": {
           "arrowcolor": "rgb(67,103,167)"
          },
          "autotypenumbers": "strict",
          "coloraxis": {
           "colorbar": {
            "outlinewidth": 0,
            "tickcolor": "rgb(36,36,36)",
            "ticklen": 8,
            "ticks": "outside",
            "tickwidth": 2
           }
          },
          "colorscale": {
           "sequential": [
            [
             0,
             "rgb(2,4,25)"
            ],
            [
             0.06274509803921569,
             "rgb(24,15,41)"
            ],
            [
             0.12549019607843137,
             "rgb(47,23,57)"
            ],
            [
             0.18823529411764706,
             "rgb(71,28,72)"
            ],
            [
             0.25098039215686274,
             "rgb(97,30,82)"
            ],
            [
             0.3137254901960784,
             "rgb(123,30,89)"
            ],
            [
             0.3764705882352941,
             "rgb(150,27,91)"
            ],
            [
             0.4392156862745098,
             "rgb(177,22,88)"
            ],
            [
             0.5019607843137255,
             "rgb(203,26,79)"
            ],
            [
             0.5647058823529412,
             "rgb(223,47,67)"
            ],
            [
             0.6274509803921569,
             "rgb(236,76,61)"
            ],
            [
             0.6901960784313725,
             "rgb(242,107,73)"
            ],
            [
             0.7529411764705882,
             "rgb(244,135,95)"
            ],
            [
             0.8156862745098039,
             "rgb(245,162,122)"
            ],
            [
             0.8784313725490196,
             "rgb(246,188,153)"
            ],
            [
             0.9411764705882353,
             "rgb(247,212,187)"
            ],
            [
             1,
             "rgb(250,234,220)"
            ]
           ],
           "sequentialminus": [
            [
             0,
             "rgb(2,4,25)"
            ],
            [
             0.06274509803921569,
             "rgb(24,15,41)"
            ],
            [
             0.12549019607843137,
             "rgb(47,23,57)"
            ],
            [
             0.18823529411764706,
             "rgb(71,28,72)"
            ],
            [
             0.25098039215686274,
             "rgb(97,30,82)"
            ],
            [
             0.3137254901960784,
             "rgb(123,30,89)"
            ],
            [
             0.3764705882352941,
             "rgb(150,27,91)"
            ],
            [
             0.4392156862745098,
             "rgb(177,22,88)"
            ],
            [
             0.5019607843137255,
             "rgb(203,26,79)"
            ],
            [
             0.5647058823529412,
             "rgb(223,47,67)"
            ],
            [
             0.6274509803921569,
             "rgb(236,76,61)"
            ],
            [
             0.6901960784313725,
             "rgb(242,107,73)"
            ],
            [
             0.7529411764705882,
             "rgb(244,135,95)"
            ],
            [
             0.8156862745098039,
             "rgb(245,162,122)"
            ],
            [
             0.8784313725490196,
             "rgb(246,188,153)"
            ],
            [
             0.9411764705882353,
             "rgb(247,212,187)"
            ],
            [
             1,
             "rgb(250,234,220)"
            ]
           ]
          },
          "colorway": [
           "rgb(76,114,176)",
           "rgb(221,132,82)",
           "rgb(85,168,104)",
           "rgb(196,78,82)",
           "rgb(129,114,179)",
           "rgb(147,120,96)",
           "rgb(218,139,195)",
           "rgb(140,140,140)",
           "rgb(204,185,116)",
           "rgb(100,181,205)"
          ],
          "font": {
           "color": "rgb(36,36,36)"
          },
          "geo": {
           "bgcolor": "white",
           "lakecolor": "white",
           "landcolor": "rgb(234,234,242)",
           "showlakes": true,
           "showland": true,
           "subunitcolor": "white"
          },
          "hoverlabel": {
           "align": "left"
          },
          "hovermode": "closest",
          "paper_bgcolor": "white",
          "plot_bgcolor": "rgb(234,234,242)",
          "polar": {
           "angularaxis": {
            "gridcolor": "white",
            "linecolor": "white",
            "showgrid": true,
            "ticks": ""
           },
           "bgcolor": "rgb(234,234,242)",
           "radialaxis": {
            "gridcolor": "white",
            "linecolor": "white",
            "showgrid": true,
            "ticks": ""
           }
          },
          "scene": {
           "xaxis": {
            "backgroundcolor": "rgb(234,234,242)",
            "gridcolor": "white",
            "gridwidth": 2,
            "linecolor": "white",
            "showbackground": true,
            "showgrid": true,
            "ticks": "",
            "zerolinecolor": "white"
           },
           "yaxis": {
            "backgroundcolor": "rgb(234,234,242)",
            "gridcolor": "white",
            "gridwidth": 2,
            "linecolor": "white",
            "showbackground": true,
            "showgrid": true,
            "ticks": "",
            "zerolinecolor": "white"
           },
           "zaxis": {
            "backgroundcolor": "rgb(234,234,242)",
            "gridcolor": "white",
            "gridwidth": 2,
            "linecolor": "white",
            "showbackground": true,
            "showgrid": true,
            "ticks": "",
            "zerolinecolor": "white"
           }
          },
          "shapedefaults": {
           "fillcolor": "rgb(67,103,167)",
           "line": {
            "width": 0
           },
           "opacity": 0.5
          },
          "ternary": {
           "aaxis": {
            "gridcolor": "white",
            "linecolor": "white",
            "showgrid": true,
            "ticks": ""
           },
           "baxis": {
            "gridcolor": "white",
            "linecolor": "white",
            "showgrid": true,
            "ticks": ""
           },
           "bgcolor": "rgb(234,234,242)",
           "caxis": {
            "gridcolor": "white",
            "linecolor": "white",
            "showgrid": true,
            "ticks": ""
           }
          },
          "xaxis": {
           "automargin": true,
           "gridcolor": "white",
           "linecolor": "white",
           "showgrid": true,
           "ticks": "",
           "title": {
            "standoff": 15
           },
           "zerolinecolor": "white"
          },
          "yaxis": {
           "automargin": true,
           "gridcolor": "white",
           "linecolor": "white",
           "showgrid": true,
           "ticks": "",
           "title": {
            "standoff": 15
           },
           "zerolinecolor": "white"
          }
         }
        },
        "title": {
         "text": "CCA Score by School Nature"
        },
        "width": 1200,
        "xaxis": {
         "anchor": "y",
         "domain": [
          0,
          1
         ],
         "title": {
          "text": ""
         }
        },
        "yaxis": {
         "anchor": "x",
         "domain": [
          0,
          1
         ],
         "title": {
          "text": "CCA Score"
         }
        }
       }
      }
     },
     "metadata": {},
     "output_type": "display_data"
    }
   ],
   "source": [
    "fig = px.box(df_school_cca,\n",
    "           x='School_Nature',\n",
    "           y='CCA_Sum_Score',\n",
    "           points=\"all\",\n",
    "           width=1200,\n",
    "           height=800,\n",
    "           title=\"CCA Score by School Nature\",\n",
    "           labels={'School_Nature':'',\n",
    "                   'CCA_Sum_Score': 'CCA Score'},\n",
    "           template=\"seaborn\",\n",
    "           hover_data = ['Name', 'School_Type'])\n",
    "fig.show()"
   ]
  },
  {
   "cell_type": "code",
   "execution_count": 7,
   "metadata": {},
   "outputs": [
    {
     "data": {
      "text/html": [
       "<div>\n",
       "<style scoped>\n",
       "    .dataframe tbody tr th:only-of-type {\n",
       "        vertical-align: middle;\n",
       "    }\n",
       "\n",
       "    .dataframe tbody tr th {\n",
       "        vertical-align: top;\n",
       "    }\n",
       "\n",
       "    .dataframe thead th {\n",
       "        text-align: right;\n",
       "    }\n",
       "</style>\n",
       "<table border=\"1\" class=\"dataframe\">\n",
       "  <thead>\n",
       "    <tr style=\"text-align: right;\">\n",
       "      <th></th>\n",
       "      <th>CCA</th>\n",
       "      <th>Count</th>\n",
       "      <th>Points</th>\n",
       "    </tr>\n",
       "  </thead>\n",
       "  <tbody>\n",
       "    <tr>\n",
       "      <th>0</th>\n",
       "      <td>Angklung/Kulintang Ensemble</td>\n",
       "      <td>23.0</td>\n",
       "      <td>134.0</td>\n",
       "    </tr>\n",
       "    <tr>\n",
       "      <th>1</th>\n",
       "      <td>Art and Crafts</td>\n",
       "      <td>156.0</td>\n",
       "      <td>1.0</td>\n",
       "    </tr>\n",
       "    <tr>\n",
       "      <th>2</th>\n",
       "      <td>Artistic Gymnastics</td>\n",
       "      <td>11.0</td>\n",
       "      <td>146.0</td>\n",
       "    </tr>\n",
       "    <tr>\n",
       "      <th>3</th>\n",
       "      <td>Artistic Swimming</td>\n",
       "      <td>1.0</td>\n",
       "      <td>156.0</td>\n",
       "    </tr>\n",
       "    <tr>\n",
       "      <th>4</th>\n",
       "      <td>Audio Visual Aid</td>\n",
       "      <td>4.0</td>\n",
       "      <td>153.0</td>\n",
       "    </tr>\n",
       "  </tbody>\n",
       "</table>\n",
       "</div>"
      ],
      "text/plain": [
       "                           CCA  Count  Points\n",
       "0  Angklung/Kulintang Ensemble   23.0   134.0\n",
       "1               Art and Crafts  156.0     1.0\n",
       "2          Artistic Gymnastics   11.0   146.0\n",
       "3            Artistic Swimming    1.0   156.0\n",
       "4             Audio Visual Aid    4.0   153.0"
      ]
     },
     "execution_count": 7,
     "metadata": {},
     "output_type": "execute_result"
    }
   ],
   "source": [
    "from utils import read_cca_points\n",
    "df_cca_points = read_cca_points()\n",
    "df_cca_points.head()"
   ]
  },
  {
   "cell_type": "code",
   "execution_count": 8,
   "metadata": {},
   "outputs": [],
   "source": [
    "# Read files\n",
    "df_school_vacancy = pd.read_csv(\"../data/raw/vacancy-data.csv\")\n",
    "df_school = pd.read_csv(\"../data/raw/school-details.csv\")\n",
    "df_gep = pd.read_csv(\"../data/raw/school-gep.csv\")\n",
    "df_ip = pd.read_csv(\"../data/raw/school-ip.csv\")"
   ]
  },
  {
   "cell_type": "code",
   "execution_count": 14,
   "metadata": {},
   "outputs": [],
   "source": [
    "from web_scrape.data_processing import preprocessing\n",
    "df_school_processed = preprocessing(df_school, df_gep, df_ip)\n",
    "# One hot encode all the CCAs\n",
    "df_school_cca = pd.concat([df_school_processed.loc[:, 'Name'], \n",
    "                            df_school_processed.CCA.str.get_dummies(sep='\\n')], axis=1)\n",
    "# Replace all 0 with nans\n",
    "cols = df_school_cca.columns.to_list()\n",
    "cols.remove('Name')\n",
    "df_school_cca[cols] = df_school_cca[cols].replace({0: np.nan})\n"
   ]
  },
  {
   "cell_type": "code",
   "execution_count": 24,
   "metadata": {},
   "outputs": [
    {
     "data": {
      "text/html": [
       "<div>\n",
       "<style scoped>\n",
       "    .dataframe tbody tr th:only-of-type {\n",
       "        vertical-align: middle;\n",
       "    }\n",
       "\n",
       "    .dataframe tbody tr th {\n",
       "        vertical-align: top;\n",
       "    }\n",
       "\n",
       "    .dataframe thead th {\n",
       "        text-align: right;\n",
       "    }\n",
       "</style>\n",
       "<table border=\"1\" class=\"dataframe\">\n",
       "  <thead>\n",
       "    <tr style=\"text-align: right;\">\n",
       "      <th></th>\n",
       "      <th>Name</th>\n",
       "      <th>CCA</th>\n",
       "      <th>Indicator</th>\n",
       "    </tr>\n",
       "  </thead>\n",
       "  <tbody>\n",
       "    <tr>\n",
       "      <th>0</th>\n",
       "      <td>Admiralty Primary School</td>\n",
       "      <td>Angklung/Kulintang Ensemble</td>\n",
       "      <td>NaN</td>\n",
       "    </tr>\n",
       "    <tr>\n",
       "      <th>1</th>\n",
       "      <td>Ahmad Ibrahim Primary School</td>\n",
       "      <td>Angklung/Kulintang Ensemble</td>\n",
       "      <td>1.0</td>\n",
       "    </tr>\n",
       "    <tr>\n",
       "      <th>2</th>\n",
       "      <td>Ai Tong School</td>\n",
       "      <td>Angklung/Kulintang Ensemble</td>\n",
       "      <td>NaN</td>\n",
       "    </tr>\n",
       "    <tr>\n",
       "      <th>3</th>\n",
       "      <td>Alexandra Primary School</td>\n",
       "      <td>Angklung/Kulintang Ensemble</td>\n",
       "      <td>NaN</td>\n",
       "    </tr>\n",
       "    <tr>\n",
       "      <th>4</th>\n",
       "      <td>Anchor Green Primary School</td>\n",
       "      <td>Angklung/Kulintang Ensemble</td>\n",
       "      <td>NaN</td>\n",
       "    </tr>\n",
       "  </tbody>\n",
       "</table>\n",
       "</div>"
      ],
      "text/plain": [
       "                           Name                          CCA  Indicator\n",
       "0      Admiralty Primary School  Angklung/Kulintang Ensemble        NaN\n",
       "1  Ahmad Ibrahim Primary School  Angklung/Kulintang Ensemble        1.0\n",
       "2                Ai Tong School  Angklung/Kulintang Ensemble        NaN\n",
       "3      Alexandra Primary School  Angklung/Kulintang Ensemble        NaN\n",
       "4   Anchor Green Primary School  Angklung/Kulintang Ensemble        NaN"
      ]
     },
     "execution_count": 24,
     "metadata": {},
     "output_type": "execute_result"
    }
   ],
   "source": [
    "df_melt_school_cca = pd.melt(df_school_cca, \n",
    "                             id_vars=['Name'], \n",
    "                             var_name='CCA',\n",
    "                             value_name='Indicator',\n",
    "                             value_vars=cols)\n",
    "df_melt_school_cca.head()"
   ]
  },
  {
   "cell_type": "code",
   "execution_count": 26,
   "metadata": {},
   "outputs": [
    {
     "data": {
      "text/html": [
       "<div>\n",
       "<style scoped>\n",
       "    .dataframe tbody tr th:only-of-type {\n",
       "        vertical-align: middle;\n",
       "    }\n",
       "\n",
       "    .dataframe tbody tr th {\n",
       "        vertical-align: top;\n",
       "    }\n",
       "\n",
       "    .dataframe thead th {\n",
       "        text-align: right;\n",
       "    }\n",
       "</style>\n",
       "<table border=\"1\" class=\"dataframe\">\n",
       "  <thead>\n",
       "    <tr style=\"text-align: right;\">\n",
       "      <th></th>\n",
       "      <th>Name</th>\n",
       "      <th>CCA</th>\n",
       "      <th>Indicator</th>\n",
       "    </tr>\n",
       "  </thead>\n",
       "  <tbody>\n",
       "    <tr>\n",
       "      <th>1</th>\n",
       "      <td>Ahmad Ibrahim Primary School</td>\n",
       "      <td>Angklung/Kulintang Ensemble</td>\n",
       "      <td>1.0</td>\n",
       "    </tr>\n",
       "    <tr>\n",
       "      <th>5</th>\n",
       "      <td>Anderson Primary School</td>\n",
       "      <td>Angklung/Kulintang Ensemble</td>\n",
       "      <td>1.0</td>\n",
       "    </tr>\n",
       "    <tr>\n",
       "      <th>11</th>\n",
       "      <td>Bedok Green Primary School</td>\n",
       "      <td>Angklung/Kulintang Ensemble</td>\n",
       "      <td>1.0</td>\n",
       "    </tr>\n",
       "    <tr>\n",
       "      <th>17</th>\n",
       "      <td>Bukit View Primary School</td>\n",
       "      <td>Angklung/Kulintang Ensemble</td>\n",
       "      <td>1.0</td>\n",
       "    </tr>\n",
       "    <tr>\n",
       "      <th>33</th>\n",
       "      <td>Chongzheng Primary School</td>\n",
       "      <td>Angklung/Kulintang Ensemble</td>\n",
       "      <td>1.0</td>\n",
       "    </tr>\n",
       "    <tr>\n",
       "      <th>43</th>\n",
       "      <td>Edgefield Primary School</td>\n",
       "      <td>Angklung/Kulintang Ensemble</td>\n",
       "      <td>1.0</td>\n",
       "    </tr>\n",
       "    <tr>\n",
       "      <th>57</th>\n",
       "      <td>Geylang Methodist School (Primary)</td>\n",
       "      <td>Angklung/Kulintang Ensemble</td>\n",
       "      <td>1.0</td>\n",
       "    </tr>\n",
       "    <tr>\n",
       "      <th>61</th>\n",
       "      <td>Greenwood Primary School</td>\n",
       "      <td>Angklung/Kulintang Ensemble</td>\n",
       "      <td>1.0</td>\n",
       "    </tr>\n",
       "    <tr>\n",
       "      <th>67</th>\n",
       "      <td>Hougang Primary School</td>\n",
       "      <td>Angklung/Kulintang Ensemble</td>\n",
       "      <td>1.0</td>\n",
       "    </tr>\n",
       "    <tr>\n",
       "      <th>68</th>\n",
       "      <td>Huamin Primary School</td>\n",
       "      <td>Angklung/Kulintang Ensemble</td>\n",
       "      <td>1.0</td>\n",
       "    </tr>\n",
       "    <tr>\n",
       "      <th>70</th>\n",
       "      <td>Jiemin Primary School</td>\n",
       "      <td>Angklung/Kulintang Ensemble</td>\n",
       "      <td>1.0</td>\n",
       "    </tr>\n",
       "    <tr>\n",
       "      <th>76</th>\n",
       "      <td>Kheng Cheng School</td>\n",
       "      <td>Angklung/Kulintang Ensemble</td>\n",
       "      <td>1.0</td>\n",
       "    </tr>\n",
       "    <tr>\n",
       "      <th>108</th>\n",
       "      <td>Paya Lebar Methodist Girls' School (Primary)</td>\n",
       "      <td>Angklung/Kulintang Ensemble</td>\n",
       "      <td>1.0</td>\n",
       "    </tr>\n",
       "    <tr>\n",
       "      <th>111</th>\n",
       "      <td>Pei Tong Primary School</td>\n",
       "      <td>Angklung/Kulintang Ensemble</td>\n",
       "      <td>1.0</td>\n",
       "    </tr>\n",
       "    <tr>\n",
       "      <th>112</th>\n",
       "      <td>Peiying Primary School</td>\n",
       "      <td>Angklung/Kulintang Ensemble</td>\n",
       "      <td>1.0</td>\n",
       "    </tr>\n",
       "    <tr>\n",
       "      <th>117</th>\n",
       "      <td>Punggol Primary School</td>\n",
       "      <td>Angklung/Kulintang Ensemble</td>\n",
       "      <td>1.0</td>\n",
       "    </tr>\n",
       "    <tr>\n",
       "      <th>146</th>\n",
       "      <td>Tampines North Primary School</td>\n",
       "      <td>Angklung/Kulintang Ensemble</td>\n",
       "      <td>1.0</td>\n",
       "    </tr>\n",
       "    <tr>\n",
       "      <th>154</th>\n",
       "      <td>Townsville Primary School</td>\n",
       "      <td>Angklung/Kulintang Ensemble</td>\n",
       "      <td>1.0</td>\n",
       "    </tr>\n",
       "    <tr>\n",
       "      <th>155</th>\n",
       "      <td>Unity Primary School</td>\n",
       "      <td>Angklung/Kulintang Ensemble</td>\n",
       "      <td>1.0</td>\n",
       "    </tr>\n",
       "    <tr>\n",
       "      <th>167</th>\n",
       "      <td>Xinghua Primary School</td>\n",
       "      <td>Angklung/Kulintang Ensemble</td>\n",
       "      <td>1.0</td>\n",
       "    </tr>\n",
       "    <tr>\n",
       "      <th>172</th>\n",
       "      <td>Yew Tee Primary School</td>\n",
       "      <td>Angklung/Kulintang Ensemble</td>\n",
       "      <td>1.0</td>\n",
       "    </tr>\n",
       "    <tr>\n",
       "      <th>173</th>\n",
       "      <td>Yio Chu Kang Primary School</td>\n",
       "      <td>Angklung/Kulintang Ensemble</td>\n",
       "      <td>1.0</td>\n",
       "    </tr>\n",
       "    <tr>\n",
       "      <th>176</th>\n",
       "      <td>Yuhua Primary School</td>\n",
       "      <td>Angklung/Kulintang Ensemble</td>\n",
       "      <td>1.0</td>\n",
       "    </tr>\n",
       "  </tbody>\n",
       "</table>\n",
       "</div>"
      ],
      "text/plain": [
       "                                             Name  \\\n",
       "1                    Ahmad Ibrahim Primary School   \n",
       "5                         Anderson Primary School   \n",
       "11                     Bedok Green Primary School   \n",
       "17                      Bukit View Primary School   \n",
       "33                      Chongzheng Primary School   \n",
       "43                       Edgefield Primary School   \n",
       "57             Geylang Methodist School (Primary)   \n",
       "61                       Greenwood Primary School   \n",
       "67                         Hougang Primary School   \n",
       "68                          Huamin Primary School   \n",
       "70                          Jiemin Primary School   \n",
       "76                             Kheng Cheng School   \n",
       "108  Paya Lebar Methodist Girls' School (Primary)   \n",
       "111                       Pei Tong Primary School   \n",
       "112                        Peiying Primary School   \n",
       "117                        Punggol Primary School   \n",
       "146                 Tampines North Primary School   \n",
       "154                     Townsville Primary School   \n",
       "155                          Unity Primary School   \n",
       "167                        Xinghua Primary School   \n",
       "172                        Yew Tee Primary School   \n",
       "173                   Yio Chu Kang Primary School   \n",
       "176                          Yuhua Primary School   \n",
       "\n",
       "                             CCA  Indicator  \n",
       "1    Angklung/Kulintang Ensemble        1.0  \n",
       "5    Angklung/Kulintang Ensemble        1.0  \n",
       "11   Angklung/Kulintang Ensemble        1.0  \n",
       "17   Angklung/Kulintang Ensemble        1.0  \n",
       "33   Angklung/Kulintang Ensemble        1.0  \n",
       "43   Angklung/Kulintang Ensemble        1.0  \n",
       "57   Angklung/Kulintang Ensemble        1.0  \n",
       "61   Angklung/Kulintang Ensemble        1.0  \n",
       "67   Angklung/Kulintang Ensemble        1.0  \n",
       "68   Angklung/Kulintang Ensemble        1.0  \n",
       "70   Angklung/Kulintang Ensemble        1.0  \n",
       "76   Angklung/Kulintang Ensemble        1.0  \n",
       "108  Angklung/Kulintang Ensemble        1.0  \n",
       "111  Angklung/Kulintang Ensemble        1.0  \n",
       "112  Angklung/Kulintang Ensemble        1.0  \n",
       "117  Angklung/Kulintang Ensemble        1.0  \n",
       "146  Angklung/Kulintang Ensemble        1.0  \n",
       "154  Angklung/Kulintang Ensemble        1.0  \n",
       "155  Angklung/Kulintang Ensemble        1.0  \n",
       "167  Angklung/Kulintang Ensemble        1.0  \n",
       "172  Angklung/Kulintang Ensemble        1.0  \n",
       "173  Angklung/Kulintang Ensemble        1.0  \n",
       "176  Angklung/Kulintang Ensemble        1.0  "
      ]
     },
     "execution_count": 26,
     "metadata": {},
     "output_type": "execute_result"
    }
   ],
   "source": [
    "df_melt_school_cca.query(\"CCA == 'Angklung/Kulintang Ensemble' and Indicator == 1.0\")"
   ]
  },
  {
   "attachments": {},
   "cell_type": "markdown",
   "metadata": {},
   "source": [
    "## Principal Component Analysis"
   ]
  },
  {
   "cell_type": "code",
   "execution_count": 28,
   "metadata": {},
   "outputs": [
    {
     "ename": "KeyError",
     "evalue": "\"['Phase1_2A_sub', 'Phase2B_sub', 'Phase2C_sub'] not in index\"",
     "output_type": "error",
     "traceback": [
      "\u001b[1;31m---------------------------------------------------------------------------\u001b[0m",
      "\u001b[1;31mKeyError\u001b[0m                                  Traceback (most recent call last)",
      "Cell \u001b[1;32mIn[28], line 2\u001b[0m\n\u001b[0;32m      1\u001b[0m \u001b[39m# Cluster\u001b[39;00m\n\u001b[1;32m----> 2\u001b[0m df_school_cluster \u001b[39m=\u001b[39m (df_school_full\n\u001b[0;32m      3\u001b[0m                     \u001b[39m.\u001b[39;49mquery(\u001b[39m\"\u001b[39;49m\u001b[39mCCA_Sum_Score != 0\u001b[39;49m\u001b[39m\"\u001b[39;49m)\n\u001b[0;32m      4\u001b[0m                     \u001b[39m.\u001b[39;49mloc[:,[\u001b[39m'\u001b[39;49m\u001b[39mName\u001b[39;49m\u001b[39m'\u001b[39;49m, \u001b[39m'\u001b[39;49m\u001b[39mCCA_Sum_Score\u001b[39;49m\u001b[39m'\u001b[39;49m, \u001b[39m'\u001b[39;49m\u001b[39mPhase1_2A_sub\u001b[39;49m\u001b[39m'\u001b[39;49m, \u001b[39m'\u001b[39;49m\u001b[39mPhase2B_sub\u001b[39;49m\u001b[39m'\u001b[39;49m, \u001b[39m'\u001b[39;49m\u001b[39mPhase2C_sub\u001b[39;49m\u001b[39m'\u001b[39;49m]]\n\u001b[0;32m      5\u001b[0m )\n",
      "File \u001b[1;32mc:\\Users\\Joanna\\anaconda3\\envs\\network-proj\\lib\\site-packages\\pandas\\core\\indexing.py:1067\u001b[0m, in \u001b[0;36m_LocationIndexer.__getitem__\u001b[1;34m(self, key)\u001b[0m\n\u001b[0;32m   1065\u001b[0m     \u001b[39mif\u001b[39;00m \u001b[39mself\u001b[39m\u001b[39m.\u001b[39m_is_scalar_access(key):\n\u001b[0;32m   1066\u001b[0m         \u001b[39mreturn\u001b[39;00m \u001b[39mself\u001b[39m\u001b[39m.\u001b[39mobj\u001b[39m.\u001b[39m_get_value(\u001b[39m*\u001b[39mkey, takeable\u001b[39m=\u001b[39m\u001b[39mself\u001b[39m\u001b[39m.\u001b[39m_takeable)\n\u001b[1;32m-> 1067\u001b[0m     \u001b[39mreturn\u001b[39;00m \u001b[39mself\u001b[39;49m\u001b[39m.\u001b[39;49m_getitem_tuple(key)\n\u001b[0;32m   1068\u001b[0m \u001b[39melse\u001b[39;00m:\n\u001b[0;32m   1069\u001b[0m     \u001b[39m# we by definition only have the 0th axis\u001b[39;00m\n\u001b[0;32m   1070\u001b[0m     axis \u001b[39m=\u001b[39m \u001b[39mself\u001b[39m\u001b[39m.\u001b[39maxis \u001b[39mor\u001b[39;00m \u001b[39m0\u001b[39m\n",
      "File \u001b[1;32mc:\\Users\\Joanna\\anaconda3\\envs\\network-proj\\lib\\site-packages\\pandas\\core\\indexing.py:1256\u001b[0m, in \u001b[0;36m_LocIndexer._getitem_tuple\u001b[1;34m(self, tup)\u001b[0m\n\u001b[0;32m   1253\u001b[0m \u001b[39mif\u001b[39;00m \u001b[39mself\u001b[39m\u001b[39m.\u001b[39m_multi_take_opportunity(tup):\n\u001b[0;32m   1254\u001b[0m     \u001b[39mreturn\u001b[39;00m \u001b[39mself\u001b[39m\u001b[39m.\u001b[39m_multi_take(tup)\n\u001b[1;32m-> 1256\u001b[0m \u001b[39mreturn\u001b[39;00m \u001b[39mself\u001b[39;49m\u001b[39m.\u001b[39;49m_getitem_tuple_same_dim(tup)\n",
      "File \u001b[1;32mc:\\Users\\Joanna\\anaconda3\\envs\\network-proj\\lib\\site-packages\\pandas\\core\\indexing.py:924\u001b[0m, in \u001b[0;36m_LocationIndexer._getitem_tuple_same_dim\u001b[1;34m(self, tup)\u001b[0m\n\u001b[0;32m    921\u001b[0m \u001b[39mif\u001b[39;00m com\u001b[39m.\u001b[39mis_null_slice(key):\n\u001b[0;32m    922\u001b[0m     \u001b[39mcontinue\u001b[39;00m\n\u001b[1;32m--> 924\u001b[0m retval \u001b[39m=\u001b[39m \u001b[39mgetattr\u001b[39;49m(retval, \u001b[39mself\u001b[39;49m\u001b[39m.\u001b[39;49mname)\u001b[39m.\u001b[39;49m_getitem_axis(key, axis\u001b[39m=\u001b[39;49mi)\n\u001b[0;32m    925\u001b[0m \u001b[39m# We should never have retval.ndim < self.ndim, as that should\u001b[39;00m\n\u001b[0;32m    926\u001b[0m \u001b[39m#  be handled by the _getitem_lowerdim call above.\u001b[39;00m\n\u001b[0;32m    927\u001b[0m \u001b[39massert\u001b[39;00m retval\u001b[39m.\u001b[39mndim \u001b[39m==\u001b[39m \u001b[39mself\u001b[39m\u001b[39m.\u001b[39mndim\n",
      "File \u001b[1;32mc:\\Users\\Joanna\\anaconda3\\envs\\network-proj\\lib\\site-packages\\pandas\\core\\indexing.py:1301\u001b[0m, in \u001b[0;36m_LocIndexer._getitem_axis\u001b[1;34m(self, key, axis)\u001b[0m\n\u001b[0;32m   1298\u001b[0m     \u001b[39mif\u001b[39;00m \u001b[39mhasattr\u001b[39m(key, \u001b[39m\"\u001b[39m\u001b[39mndim\u001b[39m\u001b[39m\"\u001b[39m) \u001b[39mand\u001b[39;00m key\u001b[39m.\u001b[39mndim \u001b[39m>\u001b[39m \u001b[39m1\u001b[39m:\n\u001b[0;32m   1299\u001b[0m         \u001b[39mraise\u001b[39;00m \u001b[39mValueError\u001b[39;00m(\u001b[39m\"\u001b[39m\u001b[39mCannot index with multidimensional key\u001b[39m\u001b[39m\"\u001b[39m)\n\u001b[1;32m-> 1301\u001b[0m     \u001b[39mreturn\u001b[39;00m \u001b[39mself\u001b[39;49m\u001b[39m.\u001b[39;49m_getitem_iterable(key, axis\u001b[39m=\u001b[39;49maxis)\n\u001b[0;32m   1303\u001b[0m \u001b[39m# nested tuple slicing\u001b[39;00m\n\u001b[0;32m   1304\u001b[0m \u001b[39mif\u001b[39;00m is_nested_tuple(key, labels):\n",
      "File \u001b[1;32mc:\\Users\\Joanna\\anaconda3\\envs\\network-proj\\lib\\site-packages\\pandas\\core\\indexing.py:1239\u001b[0m, in \u001b[0;36m_LocIndexer._getitem_iterable\u001b[1;34m(self, key, axis)\u001b[0m\n\u001b[0;32m   1236\u001b[0m \u001b[39mself\u001b[39m\u001b[39m.\u001b[39m_validate_key(key, axis)\n\u001b[0;32m   1238\u001b[0m \u001b[39m# A collection of keys\u001b[39;00m\n\u001b[1;32m-> 1239\u001b[0m keyarr, indexer \u001b[39m=\u001b[39m \u001b[39mself\u001b[39;49m\u001b[39m.\u001b[39;49m_get_listlike_indexer(key, axis)\n\u001b[0;32m   1240\u001b[0m \u001b[39mreturn\u001b[39;00m \u001b[39mself\u001b[39m\u001b[39m.\u001b[39mobj\u001b[39m.\u001b[39m_reindex_with_indexers(\n\u001b[0;32m   1241\u001b[0m     {axis: [keyarr, indexer]}, copy\u001b[39m=\u001b[39m\u001b[39mTrue\u001b[39;00m, allow_dups\u001b[39m=\u001b[39m\u001b[39mTrue\u001b[39;00m\n\u001b[0;32m   1242\u001b[0m )\n",
      "File \u001b[1;32mc:\\Users\\Joanna\\anaconda3\\envs\\network-proj\\lib\\site-packages\\pandas\\core\\indexing.py:1432\u001b[0m, in \u001b[0;36m_LocIndexer._get_listlike_indexer\u001b[1;34m(self, key, axis)\u001b[0m\n\u001b[0;32m   1429\u001b[0m ax \u001b[39m=\u001b[39m \u001b[39mself\u001b[39m\u001b[39m.\u001b[39mobj\u001b[39m.\u001b[39m_get_axis(axis)\n\u001b[0;32m   1430\u001b[0m axis_name \u001b[39m=\u001b[39m \u001b[39mself\u001b[39m\u001b[39m.\u001b[39mobj\u001b[39m.\u001b[39m_get_axis_name(axis)\n\u001b[1;32m-> 1432\u001b[0m keyarr, indexer \u001b[39m=\u001b[39m ax\u001b[39m.\u001b[39;49m_get_indexer_strict(key, axis_name)\n\u001b[0;32m   1434\u001b[0m \u001b[39mreturn\u001b[39;00m keyarr, indexer\n",
      "File \u001b[1;32mc:\\Users\\Joanna\\anaconda3\\envs\\network-proj\\lib\\site-packages\\pandas\\core\\indexes\\base.py:6070\u001b[0m, in \u001b[0;36mIndex._get_indexer_strict\u001b[1;34m(self, key, axis_name)\u001b[0m\n\u001b[0;32m   6067\u001b[0m \u001b[39melse\u001b[39;00m:\n\u001b[0;32m   6068\u001b[0m     keyarr, indexer, new_indexer \u001b[39m=\u001b[39m \u001b[39mself\u001b[39m\u001b[39m.\u001b[39m_reindex_non_unique(keyarr)\n\u001b[1;32m-> 6070\u001b[0m \u001b[39mself\u001b[39;49m\u001b[39m.\u001b[39;49m_raise_if_missing(keyarr, indexer, axis_name)\n\u001b[0;32m   6072\u001b[0m keyarr \u001b[39m=\u001b[39m \u001b[39mself\u001b[39m\u001b[39m.\u001b[39mtake(indexer)\n\u001b[0;32m   6073\u001b[0m \u001b[39mif\u001b[39;00m \u001b[39misinstance\u001b[39m(key, Index):\n\u001b[0;32m   6074\u001b[0m     \u001b[39m# GH 42790 - Preserve name from an Index\u001b[39;00m\n",
      "File \u001b[1;32mc:\\Users\\Joanna\\anaconda3\\envs\\network-proj\\lib\\site-packages\\pandas\\core\\indexes\\base.py:6133\u001b[0m, in \u001b[0;36mIndex._raise_if_missing\u001b[1;34m(self, key, indexer, axis_name)\u001b[0m\n\u001b[0;32m   6130\u001b[0m     \u001b[39mraise\u001b[39;00m \u001b[39mKeyError\u001b[39;00m(\u001b[39mf\u001b[39m\u001b[39m\"\u001b[39m\u001b[39mNone of [\u001b[39m\u001b[39m{\u001b[39;00mkey\u001b[39m}\u001b[39;00m\u001b[39m] are in the [\u001b[39m\u001b[39m{\u001b[39;00maxis_name\u001b[39m}\u001b[39;00m\u001b[39m]\u001b[39m\u001b[39m\"\u001b[39m)\n\u001b[0;32m   6132\u001b[0m not_found \u001b[39m=\u001b[39m \u001b[39mlist\u001b[39m(ensure_index(key)[missing_mask\u001b[39m.\u001b[39mnonzero()[\u001b[39m0\u001b[39m]]\u001b[39m.\u001b[39munique())\n\u001b[1;32m-> 6133\u001b[0m \u001b[39mraise\u001b[39;00m \u001b[39mKeyError\u001b[39;00m(\u001b[39mf\u001b[39m\u001b[39m\"\u001b[39m\u001b[39m{\u001b[39;00mnot_found\u001b[39m}\u001b[39;00m\u001b[39m not in index\u001b[39m\u001b[39m\"\u001b[39m)\n",
      "\u001b[1;31mKeyError\u001b[0m: \"['Phase1_2A_sub', 'Phase2B_sub', 'Phase2C_sub'] not in index\""
     ]
    }
   ],
   "source": [
    "# Cluster\n",
    "df_school_cluster = (df_school_full\n",
    "                    .query(\"CCA_Sum_Score != 0\")\n",
    "                    .loc[:,['Name', 'CCA_Sum_Score', 'Phase1_2A_sub', 'Phase2B_sub', 'Phase2C_sub']]\n",
    ")"
   ]
  },
  {
   "cell_type": "code",
   "execution_count": null,
   "metadata": {},
   "outputs": [
    {
     "data": {
      "text/html": [
       "<div>\n",
       "<style scoped>\n",
       "    .dataframe tbody tr th:only-of-type {\n",
       "        vertical-align: middle;\n",
       "    }\n",
       "\n",
       "    .dataframe tbody tr th {\n",
       "        vertical-align: top;\n",
       "    }\n",
       "\n",
       "    .dataframe thead th {\n",
       "        text-align: right;\n",
       "    }\n",
       "</style>\n",
       "<table border=\"1\" class=\"dataframe\">\n",
       "  <thead>\n",
       "    <tr style=\"text-align: right;\">\n",
       "      <th></th>\n",
       "      <th>CCA_Sum_Score</th>\n",
       "      <th>Phase1_2A_sub</th>\n",
       "      <th>Phase2B_sub</th>\n",
       "      <th>Phase2C_sub</th>\n",
       "    </tr>\n",
       "  </thead>\n",
       "  <tbody>\n",
       "    <tr>\n",
       "      <th>count</th>\n",
       "      <td>171.000000</td>\n",
       "      <td>171.000000</td>\n",
       "      <td>171.000000</td>\n",
       "      <td>171.000000</td>\n",
       "    </tr>\n",
       "    <tr>\n",
       "      <th>mean</th>\n",
       "      <td>1236.912281</td>\n",
       "      <td>69.439519</td>\n",
       "      <td>50.862754</td>\n",
       "      <td>111.063003</td>\n",
       "    </tr>\n",
       "    <tr>\n",
       "      <th>std</th>\n",
       "      <td>410.489691</td>\n",
       "      <td>22.686139</td>\n",
       "      <td>73.064521</td>\n",
       "      <td>82.957195</td>\n",
       "    </tr>\n",
       "    <tr>\n",
       "      <th>min</th>\n",
       "      <td>145.000000</td>\n",
       "      <td>21.666667</td>\n",
       "      <td>0.000000</td>\n",
       "      <td>3.149606</td>\n",
       "    </tr>\n",
       "    <tr>\n",
       "      <th>25%</th>\n",
       "      <td>943.000000</td>\n",
       "      <td>50.714286</td>\n",
       "      <td>0.000000</td>\n",
       "      <td>41.123188</td>\n",
       "    </tr>\n",
       "    <tr>\n",
       "      <th>50%</th>\n",
       "      <td>1207.000000</td>\n",
       "      <td>68.666667</td>\n",
       "      <td>9.259259</td>\n",
       "      <td>98.924731</td>\n",
       "    </tr>\n",
       "    <tr>\n",
       "      <th>75%</th>\n",
       "      <td>1546.500000</td>\n",
       "      <td>89.428571</td>\n",
       "      <td>75.961538</td>\n",
       "      <td>156.750000</td>\n",
       "    </tr>\n",
       "    <tr>\n",
       "      <th>max</th>\n",
       "      <td>2297.000000</td>\n",
       "      <td>100.833333</td>\n",
       "      <td>395.000000</td>\n",
       "      <td>473.809524</td>\n",
       "    </tr>\n",
       "  </tbody>\n",
       "</table>\n",
       "</div>"
      ],
      "text/plain": [
       "       CCA_Sum_Score  Phase1_2A_sub  Phase2B_sub  Phase2C_sub\n",
       "count     171.000000     171.000000   171.000000   171.000000\n",
       "mean     1236.912281      69.439519    50.862754   111.063003\n",
       "std       410.489691      22.686139    73.064521    82.957195\n",
       "min       145.000000      21.666667     0.000000     3.149606\n",
       "25%       943.000000      50.714286     0.000000    41.123188\n",
       "50%      1207.000000      68.666667     9.259259    98.924731\n",
       "75%      1546.500000      89.428571    75.961538   156.750000\n",
       "max      2297.000000     100.833333   395.000000   473.809524"
      ]
     },
     "execution_count": 29,
     "metadata": {},
     "output_type": "execute_result"
    }
   ],
   "source": [
    "df_school_cluster.describe()"
   ]
  },
  {
   "attachments": {},
   "cell_type": "markdown",
   "metadata": {},
   "source": [
    "Looking at our data, \n",
    "- ``CCA_Sum_Score`` is between [146, 2314], \n",
    "- ``Phase1_2A_sub`` is between [21, 100], \n",
    "- ``Phase2B_sub`` is between [0, 395]\n",
    "- ``Phase2C_sub`` is between [3, 473]\n",
    "\n",
    "We have to normalise our data before performing PCA. Since PCA finds the direction of maximum variance, if we do not normalise, ``CCA_Sum_Score`` is going to dominate PC1 because of the larger magnitude and hence larger range of variance."
   ]
  },
  {
   "cell_type": "code",
   "execution_count": null,
   "metadata": {},
   "outputs": [],
   "source": [
    "from sklearn.preprocessing import StandardScaler \n",
    "\n",
    "def pca_preprocessing(df):\n",
    "\n",
    "    # normalise numerical columns to have mean = 0 and standard deviation = 1\n",
    "    numerical_cols = ['Phase1_2A_sub', 'Phase2B_sub', 'Phase2C_sub']\n",
    "\n",
    "    df[numerical_cols] = df[numerical_cols].replace({np.nan: 0})\n",
    "\n",
    "    scaler = StandardScaler()\n",
    "    scaled_data = scaler.fit_transform(df[numerical_cols])\n",
    "    df_scaled = pd.DataFrame(scaled_data, columns=numerical_cols)\n",
    "    return df_scaled\n",
    "    \n"
   ]
  },
  {
   "cell_type": "code",
   "execution_count": null,
   "metadata": {},
   "outputs": [],
   "source": [
    "df_pca = pca_preprocessing(df_school_cluster)"
   ]
  },
  {
   "cell_type": "code",
   "execution_count": null,
   "metadata": {},
   "outputs": [
    {
     "data": {
      "text/html": [
       "<div>\n",
       "<style scoped>\n",
       "    .dataframe tbody tr th:only-of-type {\n",
       "        vertical-align: middle;\n",
       "    }\n",
       "\n",
       "    .dataframe tbody tr th {\n",
       "        vertical-align: top;\n",
       "    }\n",
       "\n",
       "    .dataframe thead th {\n",
       "        text-align: right;\n",
       "    }\n",
       "</style>\n",
       "<table border=\"1\" class=\"dataframe\">\n",
       "  <thead>\n",
       "    <tr style=\"text-align: right;\">\n",
       "      <th></th>\n",
       "      <th>Phase1_2A_sub</th>\n",
       "      <th>Phase2B_sub</th>\n",
       "      <th>Phase2C_sub</th>\n",
       "    </tr>\n",
       "  </thead>\n",
       "  <tbody>\n",
       "    <tr>\n",
       "      <th>0</th>\n",
       "      <td>1.174219</td>\n",
       "      <td>2.359138</td>\n",
       "      <td>1.451359</td>\n",
       "    </tr>\n",
       "    <tr>\n",
       "      <th>1</th>\n",
       "      <td>-0.995435</td>\n",
       "      <td>-0.698179</td>\n",
       "      <td>-1.052200</td>\n",
       "    </tr>\n",
       "    <tr>\n",
       "      <th>2</th>\n",
       "      <td>1.351056</td>\n",
       "      <td>2.596236</td>\n",
       "      <td>1.132802</td>\n",
       "    </tr>\n",
       "    <tr>\n",
       "      <th>3</th>\n",
       "      <td>-0.417314</td>\n",
       "      <td>-0.557392</td>\n",
       "      <td>0.219316</td>\n",
       "    </tr>\n",
       "    <tr>\n",
       "      <th>4</th>\n",
       "      <td>-0.098025</td>\n",
       "      <td>-0.698179</td>\n",
       "      <td>-1.100935</td>\n",
       "    </tr>\n",
       "  </tbody>\n",
       "</table>\n",
       "</div>"
      ],
      "text/plain": [
       "   Phase1_2A_sub  Phase2B_sub  Phase2C_sub\n",
       "0       1.174219     2.359138     1.451359\n",
       "1      -0.995435    -0.698179    -1.052200\n",
       "2       1.351056     2.596236     1.132802\n",
       "3      -0.417314    -0.557392     0.219316\n",
       "4      -0.098025    -0.698179    -1.100935"
      ]
     },
     "execution_count": 32,
     "metadata": {},
     "output_type": "execute_result"
    }
   ],
   "source": [
    "df_pca.head()"
   ]
  },
  {
   "cell_type": "code",
   "execution_count": null,
   "metadata": {},
   "outputs": [],
   "source": [
    "from sklearn.decomposition import PCA\n",
    "PCA = PCA(n_components=2)\n",
    "components = PCA.fit_transform(df_pca)"
   ]
  },
  {
   "cell_type": "code",
   "execution_count": null,
   "metadata": {},
   "outputs": [
    {
     "data": {
      "text/plain": [
       "array([[ 0.57860059,  0.54654075,  0.60540447],\n",
       "       [-0.56594776,  0.80352903, -0.18451078]])"
      ]
     },
     "execution_count": 34,
     "metadata": {},
     "output_type": "execute_result"
    }
   ],
   "source": [
    "# These are the weights\n",
    "# PC1 gives highest weight to Phase2C_sub\n",
    "# PC2 gives highest weight to \n",
    "PCA.components_"
   ]
  },
  {
   "cell_type": "code",
   "execution_count": null,
   "metadata": {},
   "outputs": [
    {
     "data": {
      "text/html": [
       "<div>\n",
       "<style scoped>\n",
       "    .dataframe tbody tr th:only-of-type {\n",
       "        vertical-align: middle;\n",
       "    }\n",
       "\n",
       "    .dataframe tbody tr th {\n",
       "        vertical-align: top;\n",
       "    }\n",
       "\n",
       "    .dataframe thead th {\n",
       "        text-align: right;\n",
       "    }\n",
       "</style>\n",
       "<table border=\"1\" class=\"dataframe\">\n",
       "  <thead>\n",
       "    <tr style=\"text-align: right;\">\n",
       "      <th></th>\n",
       "      <th>PC1</th>\n",
       "      <th>PC2</th>\n",
       "    </tr>\n",
       "  </thead>\n",
       "  <tbody>\n",
       "    <tr>\n",
       "      <th>0</th>\n",
       "      <td>77.906214</td>\n",
       "      <td>92.876854</td>\n",
       "    </tr>\n",
       "  </tbody>\n",
       "</table>\n",
       "</div>"
      ],
      "text/plain": [
       "         PC1        PC2\n",
       "0  77.906214  92.876854"
      ]
     },
     "execution_count": 35,
     "metadata": {},
     "output_type": "execute_result"
    }
   ],
   "source": [
    "# 2 PCs allows us to explain 83% of the total variation in the data\n",
    "pd.DataFrame(np.cumsum(PCA.explained_variance_ratio_)*100, index=['PC1', 'PC2']).T"
   ]
  },
  {
   "cell_type": "code",
   "execution_count": null,
   "metadata": {},
   "outputs": [],
   "source": [
    "pca_components = pd.DataFrame(data=components)\n",
    "pca_components_full = pd.concat([df_school_cluster.Name.reset_index(), pca_components], axis=1, ignore_index=True)\n",
    "pca_components_full = (pca_components_full\n",
    "                      .drop(0, axis=1)\n",
    "                      .rename(columns={1: 'Name',\n",
    "                                       2: 'PC1',\n",
    "                                       3: 'PC2'}))"
   ]
  },
  {
   "cell_type": "code",
   "execution_count": null,
   "metadata": {},
   "outputs": [],
   "source": [
    "from sklearn.cluster import KMeans\n",
    "kmeans = KMeans(n_clusters=3, init='k-means++', random_state=42, n_init=10, max_iter=300)\n",
    "kmeans.fit(pca_components)\n",
    "y_kmeans = kmeans.predict(pca_components)"
   ]
  },
  {
   "cell_type": "code",
   "execution_count": null,
   "metadata": {},
   "outputs": [
    {
     "data": {
      "application/vnd.plotly.v1+json": {
       "config": {
        "plotlyServerURL": "https://plot.ly"
       },
       "data": [
        {
         "customdata": [
          [
           "Admiralty Primary School"
          ],
          [
           "Ahmad Ibrahim Primary School"
          ],
          [
           "Ai Tong School"
          ],
          [
           "Alexandra Primary School"
          ],
          [
           "Anchor Green Primary School"
          ],
          [
           "Anderson Primary School"
          ],
          [
           "Ang Mo Kio Primary School"
          ],
          [
           "Anglo-Chinese School (Junior)"
          ],
          [
           "Anglo-Chinese School (Primary)"
          ],
          [
           "Angsana Primary School"
          ],
          [
           "Beacon Primary School"
          ],
          [
           "Bedok Green Primary School"
          ],
          [
           "Bendemeer Primary School"
          ],
          [
           "Blangah Rise Primary School"
          ],
          [
           "Boon Lay Garden Primary School"
          ],
          [
           "Bukit Panjang Primary School"
          ],
          [
           "Bukit Timah Primary School"
          ],
          [
           "Bukit View Primary School"
          ],
          [
           "Canberra Primary School"
          ],
          [
           "Canossa Catholic Primary School"
          ],
          [
           "Cantonment Primary School"
          ],
          [
           "Casuarina Primary School"
          ],
          [
           "Catholic High School (Primary Section)"
          ],
          [
           "Cedar Primary School"
          ],
          [
           "Changkat Primary School"
          ],
          [
           "CHIJ (Katong) Primary"
          ],
          [
           "CHIJ (Kellock)"
          ],
          [
           "CHIJ Our Lady of Good Counsel"
          ],
          [
           "CHIJ Our Lady of the Nativity"
          ],
          [
           "CHIJ Our Lady Queen of Peace"
          ],
          [
           "CHIJ Primary (Toa Payoh)"
          ],
          [
           "CHIJ St. Nicholas Girls' School (Primary Section)"
          ],
          [
           "Chongfu School"
          ],
          [
           "Chongzheng Primary School"
          ],
          [
           "Chua Chu Kang Primary School"
          ],
          [
           "Clementi Primary School"
          ],
          [
           "Compassvale Primary School"
          ],
          [
           "Concord Primary School"
          ],
          [
           "Corporation Primary School"
          ],
          [
           "Damai Primary School"
          ],
          [
           "Dazhong Primary School"
          ],
          [
           "De La Salle School"
          ],
          [
           "East Spring Primary School"
          ],
          [
           "Edgefield Primary School"
          ],
          [
           "Elias Park Primary School"
          ],
          [
           "Endeavour Primary School"
          ],
          [
           "Evergreen Primary School"
          ],
          [
           "Fairfield Methodist School (Primary)"
          ],
          [
           "Fengshan Primary School"
          ],
          [
           "Fern Green Primary School"
          ],
          [
           "Fernvale Primary School"
          ],
          [
           "First Toa Payoh Primary School"
          ],
          [
           "Frontier Primary School"
          ],
          [
           "Fuchun Primary School"
          ],
          [
           "Fuhua Primary School"
          ],
          [
           "Gan Eng Seng Primary School"
          ],
          [
           "Geylang Methodist School (Primary)"
          ],
          [
           "Gongshang Primary School"
          ],
          [
           "Greendale Primary School"
          ],
          [
           "Greenridge Primary School"
          ],
          [
           "Greenwood Primary School"
          ],
          [
           "Haig Girls' School"
          ],
          [
           "Henry Park Primary School"
          ],
          [
           "Holy Innocents' Primary School"
          ],
          [
           "Hong Wen School"
          ],
          [
           "Horizon Primary School"
          ],
          [
           "Hougang Primary School"
          ],
          [
           "Huamin Primary School"
          ],
          [
           "Innova Primary School"
          ],
          [
           "Jiemin Primary School"
          ],
          [
           "Jing Shan Primary School"
          ],
          [
           "Junyuan Primary School"
          ],
          [
           "Jurong Primary School"
          ],
          [
           "Jurong West Primary School"
          ],
          [
           "Keming Primary School"
          ],
          [
           "Kheng Cheng School"
          ],
          [
           "Kong Hwa School"
          ],
          [
           "Kranji Primary School"
          ],
          [
           "Kuo Chuan Presbyterian Primary School"
          ],
          [
           "Lakeside Primary School"
          ],
          [
           "Lianhua Primary School"
          ],
          [
           "Maha Bodhi School"
          ],
          [
           "Maris Stella High School (Primary Section)"
          ],
          [
           "Marsiling Primary School"
          ],
          [
           "Marymount Convent School"
          ],
          [
           "Mayflower Primary School"
          ],
          [
           "Mee Toh School"
          ],
          [
           "Methodist Girls' School (Primary)"
          ],
          [
           "Montfort Junior School"
          ],
          [
           "Nan Chiau Primary School"
          ],
          [
           "Nanyang Primary School"
          ],
          [
           "Naval Base Primary School"
          ],
          [
           "New Town Primary School"
          ],
          [
           "Ngee Ann Primary School"
          ],
          [
           "North Spring Primary School"
          ],
          [
           "North View Primary School"
          ],
          [
           "North Vista Primary School"
          ],
          [
           "Northland Primary School"
          ],
          [
           "Palm View Primary School"
          ],
          [
           "Park View Primary School"
          ],
          [
           "Pasir Ris Primary School"
          ],
          [
           "Paya Lebar Methodist Girls' School (Primary)"
          ],
          [
           "Pei Chun Public School"
          ],
          [
           "Pei Hwa Presbyterian Primary School"
          ],
          [
           "Pei Tong Primary School"
          ],
          [
           "Peiying Primary School"
          ],
          [
           "Poi Ching School"
          ],
          [
           "Punggol Cove Primary School"
          ],
          [
           "Punggol Green Primary School"
          ],
          [
           "Punggol Primary School"
          ],
          [
           "Punggol View Primary School"
          ],
          [
           "Qifa Primary School"
          ],
          [
           "Qihua Primary School"
          ],
          [
           "Queenstown Primary School"
          ],
          [
           "Radin Mas Primary School"
          ],
          [
           "Raffles Girls' Primary School"
          ],
          [
           "Red Swastika School"
          ],
          [
           "River Valley Primary School"
          ],
          [
           "Riverside Primary School"
          ],
          [
           "Rivervale Primary School"
          ],
          [
           "Rosyth School"
          ],
          [
           "Rulang Primary School"
          ],
          [
           "Sembawang Primary School"
          ],
          [
           "Sengkang Green Primary School"
          ],
          [
           "Shuqun Primary School"
          ],
          [
           "Si Ling Primary School"
          ],
          [
           "Singapore Chinese Girls' Primary School"
          ],
          [
           "South View Primary School"
          ],
          [
           "Springdale Primary School"
          ],
          [
           "St. Andrew's Junior School"
          ],
          [
           "St. Anthony's Canossian Primary School"
          ],
          [
           "St. Anthony's Primary School"
          ],
          [
           "St. Gabriel's Primary School"
          ],
          [
           "St. Hilda's Primary School"
          ],
          [
           "St. Joseph's Institution Junior"
          ],
          [
           "St. Margaret's Primary School"
          ],
          [
           "St. Stephen's School"
          ],
          [
           "Tampines North Primary School"
          ],
          [
           "Tampines Primary School"
          ],
          [
           "Tanjong Katong Primary School"
          ],
          [
           "Tao Nan School"
          ],
          [
           "Teck Ghee Primary School"
          ],
          [
           "Teck Whye Primary School"
          ],
          [
           "Telok Kurau Primary School"
          ],
          [
           "Temasek Primary School"
          ],
          [
           "Townsville Primary School"
          ],
          [
           "Unity Primary School"
          ],
          [
           "Waterway Primary School"
          ],
          [
           "Wellington Primary School"
          ],
          [
           "West Grove Primary School"
          ],
          [
           "West Spring Primary School"
          ],
          [
           "West View Primary School"
          ],
          [
           "Westwood Primary School"
          ],
          [
           "White Sands Primary School"
          ],
          [
           "Woodgrove Primary School"
          ],
          [
           "Woodlands Primary School"
          ],
          [
           "Woodlands Ring Primary School"
          ],
          [
           "Xinghua Primary School"
          ],
          [
           "Xingnan Primary School"
          ],
          [
           "Xinmin Primary School"
          ],
          [
           "Xishan Primary School"
          ],
          [
           "Yangzheng Primary School"
          ],
          [
           "Yew Tee Primary School"
          ],
          [
           "Yio Chu Kang Primary School"
          ],
          [
           "Yishun Primary School"
          ],
          [
           "Yu Neng Primary School"
          ],
          [
           "Yuhua Primary School"
          ],
          [
           "Yumin Primary School"
          ],
          [
           "Zhangde Primary School"
          ],
          [
           "Zhenghua Primary School"
          ],
          [
           "Zhonghua Primary School"
          ]
         ],
         "hovertemplate": "PC1=%{x}<br>PC2=%{y}<br>Name=%{customdata[0]}<br>color=%{marker.color}<extra></extra>",
         "legendgroup": "",
         "marker": {
          "color": [
           0,
           1,
           0,
           2,
           1,
           2,
           1,
           0,
           0,
           1,
           1,
           1,
           1,
           1,
           1,
           2,
           1,
           1,
           2,
           2,
           1,
           2,
           0,
           1,
           1,
           1,
           1,
           1,
           1,
           1,
           0,
           0,
           0,
           2,
           2,
           1,
           2,
           2,
           1,
           1,
           2,
           1,
           1,
           1,
           2,
           1,
           1,
           0,
           2,
           2,
           2,
           1,
           2,
           1,
           2,
           1,
           2,
           0,
           1,
           1,
           1,
           1,
           0,
           0,
           2,
           0,
           2,
           2,
           2,
           2,
           2,
           2,
           2,
           2,
           0,
           1,
           0,
           1,
           0,
           2,
           1,
           2,
           0,
           1,
           1,
           1,
           2,
           0,
           1,
           0,
           0,
           2,
           1,
           2,
           1,
           1,
           1,
           0,
           1,
           1,
           0,
           2,
           0,
           0,
           1,
           1,
           2,
           2,
           2,
           2,
           2,
           2,
           1,
           1,
           0,
           2,
           0,
           2,
           2,
           2,
           0,
           0,
           2,
           0,
           2,
           1,
           0,
           0,
           2,
           2,
           1,
           0,
           1,
           0,
           0,
           2,
           1,
           1,
           2,
           2,
           0,
           1,
           1,
           2,
           0,
           1,
           1,
           2,
           2,
           1,
           2,
           2,
           2,
           2,
           2,
           2,
           1,
           1,
           1,
           0,
           1,
           2,
           1,
           1,
           1,
           2,
           1,
           1,
           2,
           2,
           1
          ],
          "coloraxis": "coloraxis",
          "symbol": "circle"
         },
         "mode": "markers",
         "name": "",
         "orientation": "v",
         "showlegend": false,
         "type": "scatter",
         "x": [
          2.847427641975876,
          -1.5945493364299017,
          2.8864735490333997,
          -0.41332097348008606,
          -1.1048114038928256,
          0.76408388468676,
          -1.6897741202118322,
          1.880310367949998,
          1.6522737312599698,
          -1.4441990605899895,
          -1.5128171760458642,
          -1.5660642766018609,
          -1.5244563688906527,
          -1.7219133580787596,
          -2.0370753153883716,
          0.6760639941480621,
          -1.195758440466902,
          -2.1259871980848315,
          -0.10769752888024928,
          -0.13465352097035566,
          -1.7587422714843008,
          -0.5474298095789564,
          2.444487899270372,
          -2.053143188839334,
          -1.6166162686321177,
          -1.0296809865448249,
          -1.1187579946829216,
          -0.43737882689501834,
          -0.3123578741632073,
          -1.4033833664858495,
          1.2622498580961514,
          2.465530823602704,
          3.313621155087963,
          1.0503453708671853,
          0.9725232135719517,
          -1.535659070846957,
          -0.22662045979735093,
          -0.47671484882790743,
          -1.443695862247537,
          -1.8972908460433062,
          0.0479994512252223,
          -0.8465807561576318,
          -1.0799361326220087,
          -1.0736230880346567,
          0.08331856312558214,
          -1.4562536839355464,
          -1.175734188443793,
          2.4260969526375527,
          0.2713264109379779,
          0.37910104388277605,
          -0.6409673740715661,
          -2.2655336802172137,
          1.4648637485670848,
          -1.622145469883097,
          -0.33497703722872235,
          -1.7077025301674096,
          -0.4904766789205653,
          1.8902584480817675,
          -1.279549014074417,
          -1.1658265016544898,
          -0.9515981143338283,
          -1.0590232713025338,
          2.0871084979843184,
          3.1335845393808217,
          0.5388949825849997,
          1.6418115891850464,
          0.40767638470101164,
          0.07308934109953072,
          -0.15514908901394797,
          -0.3508158903264107,
          -0.06988472926427959,
          -0.6485233435858759,
          -0.32684197995872105,
          0.12342273389319695,
          1.6763025012483153,
          -0.9393321102337716,
          2.147906599385152,
          -1.4029111327938013,
          1.3788168908160237,
          -0.3627592585050787,
          -2.179423828233077,
          0.8388573726645213,
          1.7851510506801402,
          -1.2877525183809568,
          -2.0061804554815987,
          -1.2531135950738048,
          0.47590557320693866,
          3.8314830130791306,
          -1.46965202568593,
          2.8478747821210324,
          2.571711935241794,
          -0.09431177648276347,
          -2.2551300119771107,
          -0.5175464907918434,
          -1.5480622519891791,
          -1.0016139208153065,
          -0.9537770740823283,
          3.880405708243853,
          -1.2078804192549215,
          -1.0220276535794979,
          1.6496409104294432,
          0.6860180752629511,
          1.9500327255869934,
          2.543854283503476,
          -1.5844106070267878,
          -1.0297361172455206,
          0.4784063386286735,
          -0.18748062921132222,
          1.3971831399570855,
          0.48625533304598534,
          0.47514902244871565,
          -0.0226197017820462,
          -1.533380951515998,
          -0.7062017863576318,
          1.8379059009326197,
          0.4437667148528498,
          1.9740960832045373,
          1.020386172323835,
          0.709671561472894,
          0.4534487807723953,
          2.7189802386891726,
          2.6009359046903002,
          -0.35491856679572464,
          1.9600480439686971,
          0.2962656196869032,
          -1.3360832475871478,
          2.1983784775926063,
          3.9513328923089905,
          -0.02198792712988353,
          0.5836537416135738,
          -2.1804042825177814,
          1.1243607195566747,
          -0.31655414102732565,
          3.6583412064007006,
          1.5155394567181495,
          -0.33500137008333725,
          -1.628652062523151,
          -1.4042825274215442,
          0.017560926650214838,
          0.3821354165435461,
          3.041932058344099,
          -0.8237086098391525,
          -1.8610533204004458,
          -0.17680922168016092,
          2.1724729604364317,
          -1.7092496198777047,
          -1.1972133780014014,
          0.29017747422262313,
          1.0623195390462186,
          -1.154439549306352,
          0.8385944568458453,
          -0.7216970940368326,
          1.1948405005861629,
          -0.20217933655211792,
          0.48965559722566204,
          0.3637948535658767,
          -1.2212320712720768,
          -2.29056173324775,
          -1.5145907027490086,
          1.541754787027865,
          -1.0034072292663214,
          1.0919681764520788,
          -1.4254071804924642,
          -1.6875683786919304,
          -0.957999260965098,
          1.130614817495396,
          -1.7889684620201638,
          -1.322955203749613,
          -0.3892561416113999,
          -0.28607373072863856,
          -1.940581539260832
         ],
         "xaxis": "x",
         "y": [
          0.9632978160700522,
          0.19649908142526903,
          1.1125096912977628,
          -0.25216909274645316,
          -0.3023959637975925,
          -0.1737284608267777,
          0.33328257975825726,
          1.1985076754000563,
          1.128536936842296,
          0.34821254711776917,
          0.11859184865810203,
          0.1539580988270649,
          0.22813415435140189,
          0.32585355624321494,
          0.5941481988643258,
          -0.2062204759686723,
          0.053666456871439505,
          0.6643065842828428,
          0.0777953189072856,
          0.2006091998431278,
          0.3944919617208067,
          -0.6234607641047787,
          0.9143074645009822,
          0.6373212197893097,
          0.2650548956918384,
          0.4422292166250798,
          0.5600927965150704,
          0.46999218240096263,
          1.1553843139758806,
          0.6909838502943184,
          0.6255409509340574,
          1.1076385967456437,
          0.603414509849661,
          -1.0720826927456817,
          -0.12483111364849947,
          0.21167437054979013,
          0.04970755831346724,
          -0.42009660146279826,
          0.14277392677638437,
          0.4749937611993447,
          -1.0829789602601216,
          0.19103459765902622,
          -0.17233098745189826,
          -0.1300904492365869,
          -0.7096961777286288,
          0.23559158040026007,
          -0.09896976964748153,
          0.24589572351159744,
          -1.032161794056297,
          -1.0978643145400566,
          -0.46613405066689295,
          0.7498970151778482,
          -0.7179927398086928,
          0.31688174272595376,
          -0.7858143035299369,
          0.31195349053281946,
          -0.33439622784490913,
          -0.7810599662169232,
          -0.11517480499559057,
          -0.1938516932299134,
          -0.12876287187339708,
          0.05100409251317187,
          -0.0008596201381637504,
          1.01183262475752,
          0.17048996957104176,
          -0.4390142144081998,
          -0.13598225857516413,
          -0.8530522129542805,
          -0.04603135761002446,
          -0.704721874100849,
          -0.8781055942060844,
          -0.508443074484922,
          -0.8313541147459479,
          -0.7425970846406528,
          -0.5419511736839365,
          -0.021773572611044657,
          1.1418381200612826,
          -0.02973243044712902,
          1.0019119105495684,
          -0.585967184154024,
          0.7405091509188875,
          0.04729228890927824,
          0.6520782452519418,
          0.0729638595425352,
          1.0153500530014667,
          -0.09305246890978527,
          0.6216339028025035,
          2.8885224696778025,
          0.8224594115175475,
          0.9391435495847781,
          0.4708247123934729,
          -0.7924089751178235,
          0.7811746347639028,
          -0.28757348155175516,
          0.1637819609671325,
          -0.09462292352279243,
          -0.3675650955077613,
          -0.9215322300721005,
          -0.060224005046555895,
          -0.16623957629390146,
          -0.2539940067844118,
          0.6222633147757008,
          -0.00029976881335112496,
          0.4740318627228816,
          0.16389910234770802,
          -0.2671268313267481,
          0.137342890239319,
          -0.8044312231777669,
          -1.363180341774779,
          -0.7485461092345136,
          -1.3484954023472455,
          0.0405555825763343,
          0.36298607845465186,
          -0.3224499845360079,
          -0.4321969339531653,
          0.4347637334011631,
          -0.07421510481713352,
          -0.30661368826016017,
          -1.2868085172801569,
          -0.4474801184372294,
          -0.4343984491830432,
          0.26739305194265406,
          -0.5038322879010327,
          -0.5147538253441123,
          -0.43662270491583355,
          -0.08837571910459893,
          0.39008158095395284,
          -0.4104970570586144,
          -1.001252215445916,
          0.2317126177707709,
          0.9197542509800394,
          0.4533452529894717,
          0.6174253907605914,
          0.34461362740680446,
          1.7660428908311285,
          0.31385800817424325,
          0.9923705349343863,
          0.04723747554635402,
          -0.9034007835714357,
          -0.35423649815170166,
          1.4526049870610038,
          -0.022867733973217317,
          0.4161045873763852,
          -0.7499442862619,
          -1.1999786588371029,
          0.4005448964846765,
          -0.10390628959400691,
          -1.0644918707154656,
          -1.261123045474516,
          0.2620791765281396,
          -1.4592636622786044,
          -0.5703488467838701,
          -0.8354414572599254,
          0.05084816311681583,
          -0.8712883506088415,
          -0.37720025166903487,
          -0.05639627699064407,
          0.833206917274924,
          0.1976833059487228,
          0.22824909405089602,
          -0.1861636705431432,
          -0.9400549345254898,
          0.16683130025771878,
          0.2948811583157455,
          -0.33757130969171606,
          -0.8824487006459243,
          0.3635143108443036,
          -0.09716128535514872,
          -0.5540738481760911,
          -0.8294256764811854,
          0.4936249549545743
         ],
         "yaxis": "y"
        }
       ],
       "layout": {
        "coloraxis": {
         "colorbar": {
          "title": {
           "text": "color"
          }
         },
         "colorscale": [
          [
           0,
           "#0d0887"
          ],
          [
           0.1111111111111111,
           "#46039f"
          ],
          [
           0.2222222222222222,
           "#7201a8"
          ],
          [
           0.3333333333333333,
           "#9c179e"
          ],
          [
           0.4444444444444444,
           "#bd3786"
          ],
          [
           0.5555555555555556,
           "#d8576b"
          ],
          [
           0.6666666666666666,
           "#ed7953"
          ],
          [
           0.7777777777777778,
           "#fb9f3a"
          ],
          [
           0.8888888888888888,
           "#fdca26"
          ],
          [
           1,
           "#f0f921"
          ]
         ]
        },
        "legend": {
         "tracegroupgap": 0
        },
        "margin": {
         "t": 60
        },
        "template": {
         "data": {
          "bar": [
           {
            "error_x": {
             "color": "#2a3f5f"
            },
            "error_y": {
             "color": "#2a3f5f"
            },
            "marker": {
             "line": {
              "color": "#E5ECF6",
              "width": 0.5
             },
             "pattern": {
              "fillmode": "overlay",
              "size": 10,
              "solidity": 0.2
             }
            },
            "type": "bar"
           }
          ],
          "barpolar": [
           {
            "marker": {
             "line": {
              "color": "#E5ECF6",
              "width": 0.5
             },
             "pattern": {
              "fillmode": "overlay",
              "size": 10,
              "solidity": 0.2
             }
            },
            "type": "barpolar"
           }
          ],
          "carpet": [
           {
            "aaxis": {
             "endlinecolor": "#2a3f5f",
             "gridcolor": "white",
             "linecolor": "white",
             "minorgridcolor": "white",
             "startlinecolor": "#2a3f5f"
            },
            "baxis": {
             "endlinecolor": "#2a3f5f",
             "gridcolor": "white",
             "linecolor": "white",
             "minorgridcolor": "white",
             "startlinecolor": "#2a3f5f"
            },
            "type": "carpet"
           }
          ],
          "choropleth": [
           {
            "colorbar": {
             "outlinewidth": 0,
             "ticks": ""
            },
            "type": "choropleth"
           }
          ],
          "contour": [
           {
            "colorbar": {
             "outlinewidth": 0,
             "ticks": ""
            },
            "colorscale": [
             [
              0,
              "#0d0887"
             ],
             [
              0.1111111111111111,
              "#46039f"
             ],
             [
              0.2222222222222222,
              "#7201a8"
             ],
             [
              0.3333333333333333,
              "#9c179e"
             ],
             [
              0.4444444444444444,
              "#bd3786"
             ],
             [
              0.5555555555555556,
              "#d8576b"
             ],
             [
              0.6666666666666666,
              "#ed7953"
             ],
             [
              0.7777777777777778,
              "#fb9f3a"
             ],
             [
              0.8888888888888888,
              "#fdca26"
             ],
             [
              1,
              "#f0f921"
             ]
            ],
            "type": "contour"
           }
          ],
          "contourcarpet": [
           {
            "colorbar": {
             "outlinewidth": 0,
             "ticks": ""
            },
            "type": "contourcarpet"
           }
          ],
          "heatmap": [
           {
            "colorbar": {
             "outlinewidth": 0,
             "ticks": ""
            },
            "colorscale": [
             [
              0,
              "#0d0887"
             ],
             [
              0.1111111111111111,
              "#46039f"
             ],
             [
              0.2222222222222222,
              "#7201a8"
             ],
             [
              0.3333333333333333,
              "#9c179e"
             ],
             [
              0.4444444444444444,
              "#bd3786"
             ],
             [
              0.5555555555555556,
              "#d8576b"
             ],
             [
              0.6666666666666666,
              "#ed7953"
             ],
             [
              0.7777777777777778,
              "#fb9f3a"
             ],
             [
              0.8888888888888888,
              "#fdca26"
             ],
             [
              1,
              "#f0f921"
             ]
            ],
            "type": "heatmap"
           }
          ],
          "heatmapgl": [
           {
            "colorbar": {
             "outlinewidth": 0,
             "ticks": ""
            },
            "colorscale": [
             [
              0,
              "#0d0887"
             ],
             [
              0.1111111111111111,
              "#46039f"
             ],
             [
              0.2222222222222222,
              "#7201a8"
             ],
             [
              0.3333333333333333,
              "#9c179e"
             ],
             [
              0.4444444444444444,
              "#bd3786"
             ],
             [
              0.5555555555555556,
              "#d8576b"
             ],
             [
              0.6666666666666666,
              "#ed7953"
             ],
             [
              0.7777777777777778,
              "#fb9f3a"
             ],
             [
              0.8888888888888888,
              "#fdca26"
             ],
             [
              1,
              "#f0f921"
             ]
            ],
            "type": "heatmapgl"
           }
          ],
          "histogram": [
           {
            "marker": {
             "pattern": {
              "fillmode": "overlay",
              "size": 10,
              "solidity": 0.2
             }
            },
            "type": "histogram"
           }
          ],
          "histogram2d": [
           {
            "colorbar": {
             "outlinewidth": 0,
             "ticks": ""
            },
            "colorscale": [
             [
              0,
              "#0d0887"
             ],
             [
              0.1111111111111111,
              "#46039f"
             ],
             [
              0.2222222222222222,
              "#7201a8"
             ],
             [
              0.3333333333333333,
              "#9c179e"
             ],
             [
              0.4444444444444444,
              "#bd3786"
             ],
             [
              0.5555555555555556,
              "#d8576b"
             ],
             [
              0.6666666666666666,
              "#ed7953"
             ],
             [
              0.7777777777777778,
              "#fb9f3a"
             ],
             [
              0.8888888888888888,
              "#fdca26"
             ],
             [
              1,
              "#f0f921"
             ]
            ],
            "type": "histogram2d"
           }
          ],
          "histogram2dcontour": [
           {
            "colorbar": {
             "outlinewidth": 0,
             "ticks": ""
            },
            "colorscale": [
             [
              0,
              "#0d0887"
             ],
             [
              0.1111111111111111,
              "#46039f"
             ],
             [
              0.2222222222222222,
              "#7201a8"
             ],
             [
              0.3333333333333333,
              "#9c179e"
             ],
             [
              0.4444444444444444,
              "#bd3786"
             ],
             [
              0.5555555555555556,
              "#d8576b"
             ],
             [
              0.6666666666666666,
              "#ed7953"
             ],
             [
              0.7777777777777778,
              "#fb9f3a"
             ],
             [
              0.8888888888888888,
              "#fdca26"
             ],
             [
              1,
              "#f0f921"
             ]
            ],
            "type": "histogram2dcontour"
           }
          ],
          "mesh3d": [
           {
            "colorbar": {
             "outlinewidth": 0,
             "ticks": ""
            },
            "type": "mesh3d"
           }
          ],
          "parcoords": [
           {
            "line": {
             "colorbar": {
              "outlinewidth": 0,
              "ticks": ""
             }
            },
            "type": "parcoords"
           }
          ],
          "pie": [
           {
            "automargin": true,
            "type": "pie"
           }
          ],
          "scatter": [
           {
            "fillpattern": {
             "fillmode": "overlay",
             "size": 10,
             "solidity": 0.2
            },
            "type": "scatter"
           }
          ],
          "scatter3d": [
           {
            "line": {
             "colorbar": {
              "outlinewidth": 0,
              "ticks": ""
             }
            },
            "marker": {
             "colorbar": {
              "outlinewidth": 0,
              "ticks": ""
             }
            },
            "type": "scatter3d"
           }
          ],
          "scattercarpet": [
           {
            "marker": {
             "colorbar": {
              "outlinewidth": 0,
              "ticks": ""
             }
            },
            "type": "scattercarpet"
           }
          ],
          "scattergeo": [
           {
            "marker": {
             "colorbar": {
              "outlinewidth": 0,
              "ticks": ""
             }
            },
            "type": "scattergeo"
           }
          ],
          "scattergl": [
           {
            "marker": {
             "colorbar": {
              "outlinewidth": 0,
              "ticks": ""
             }
            },
            "type": "scattergl"
           }
          ],
          "scattermapbox": [
           {
            "marker": {
             "colorbar": {
              "outlinewidth": 0,
              "ticks": ""
             }
            },
            "type": "scattermapbox"
           }
          ],
          "scatterpolar": [
           {
            "marker": {
             "colorbar": {
              "outlinewidth": 0,
              "ticks": ""
             }
            },
            "type": "scatterpolar"
           }
          ],
          "scatterpolargl": [
           {
            "marker": {
             "colorbar": {
              "outlinewidth": 0,
              "ticks": ""
             }
            },
            "type": "scatterpolargl"
           }
          ],
          "scatterternary": [
           {
            "marker": {
             "colorbar": {
              "outlinewidth": 0,
              "ticks": ""
             }
            },
            "type": "scatterternary"
           }
          ],
          "surface": [
           {
            "colorbar": {
             "outlinewidth": 0,
             "ticks": ""
            },
            "colorscale": [
             [
              0,
              "#0d0887"
             ],
             [
              0.1111111111111111,
              "#46039f"
             ],
             [
              0.2222222222222222,
              "#7201a8"
             ],
             [
              0.3333333333333333,
              "#9c179e"
             ],
             [
              0.4444444444444444,
              "#bd3786"
             ],
             [
              0.5555555555555556,
              "#d8576b"
             ],
             [
              0.6666666666666666,
              "#ed7953"
             ],
             [
              0.7777777777777778,
              "#fb9f3a"
             ],
             [
              0.8888888888888888,
              "#fdca26"
             ],
             [
              1,
              "#f0f921"
             ]
            ],
            "type": "surface"
           }
          ],
          "table": [
           {
            "cells": {
             "fill": {
              "color": "#EBF0F8"
             },
             "line": {
              "color": "white"
             }
            },
            "header": {
             "fill": {
              "color": "#C8D4E3"
             },
             "line": {
              "color": "white"
             }
            },
            "type": "table"
           }
          ]
         },
         "layout": {
          "annotationdefaults": {
           "arrowcolor": "#2a3f5f",
           "arrowhead": 0,
           "arrowwidth": 1
          },
          "autotypenumbers": "strict",
          "coloraxis": {
           "colorbar": {
            "outlinewidth": 0,
            "ticks": ""
           }
          },
          "colorscale": {
           "diverging": [
            [
             0,
             "#8e0152"
            ],
            [
             0.1,
             "#c51b7d"
            ],
            [
             0.2,
             "#de77ae"
            ],
            [
             0.3,
             "#f1b6da"
            ],
            [
             0.4,
             "#fde0ef"
            ],
            [
             0.5,
             "#f7f7f7"
            ],
            [
             0.6,
             "#e6f5d0"
            ],
            [
             0.7,
             "#b8e186"
            ],
            [
             0.8,
             "#7fbc41"
            ],
            [
             0.9,
             "#4d9221"
            ],
            [
             1,
             "#276419"
            ]
           ],
           "sequential": [
            [
             0,
             "#0d0887"
            ],
            [
             0.1111111111111111,
             "#46039f"
            ],
            [
             0.2222222222222222,
             "#7201a8"
            ],
            [
             0.3333333333333333,
             "#9c179e"
            ],
            [
             0.4444444444444444,
             "#bd3786"
            ],
            [
             0.5555555555555556,
             "#d8576b"
            ],
            [
             0.6666666666666666,
             "#ed7953"
            ],
            [
             0.7777777777777778,
             "#fb9f3a"
            ],
            [
             0.8888888888888888,
             "#fdca26"
            ],
            [
             1,
             "#f0f921"
            ]
           ],
           "sequentialminus": [
            [
             0,
             "#0d0887"
            ],
            [
             0.1111111111111111,
             "#46039f"
            ],
            [
             0.2222222222222222,
             "#7201a8"
            ],
            [
             0.3333333333333333,
             "#9c179e"
            ],
            [
             0.4444444444444444,
             "#bd3786"
            ],
            [
             0.5555555555555556,
             "#d8576b"
            ],
            [
             0.6666666666666666,
             "#ed7953"
            ],
            [
             0.7777777777777778,
             "#fb9f3a"
            ],
            [
             0.8888888888888888,
             "#fdca26"
            ],
            [
             1,
             "#f0f921"
            ]
           ]
          },
          "colorway": [
           "#636efa",
           "#EF553B",
           "#00cc96",
           "#ab63fa",
           "#FFA15A",
           "#19d3f3",
           "#FF6692",
           "#B6E880",
           "#FF97FF",
           "#FECB52"
          ],
          "font": {
           "color": "#2a3f5f"
          },
          "geo": {
           "bgcolor": "white",
           "lakecolor": "white",
           "landcolor": "#E5ECF6",
           "showlakes": true,
           "showland": true,
           "subunitcolor": "white"
          },
          "hoverlabel": {
           "align": "left"
          },
          "hovermode": "closest",
          "mapbox": {
           "style": "light"
          },
          "paper_bgcolor": "white",
          "plot_bgcolor": "#E5ECF6",
          "polar": {
           "angularaxis": {
            "gridcolor": "white",
            "linecolor": "white",
            "ticks": ""
           },
           "bgcolor": "#E5ECF6",
           "radialaxis": {
            "gridcolor": "white",
            "linecolor": "white",
            "ticks": ""
           }
          },
          "scene": {
           "xaxis": {
            "backgroundcolor": "#E5ECF6",
            "gridcolor": "white",
            "gridwidth": 2,
            "linecolor": "white",
            "showbackground": true,
            "ticks": "",
            "zerolinecolor": "white"
           },
           "yaxis": {
            "backgroundcolor": "#E5ECF6",
            "gridcolor": "white",
            "gridwidth": 2,
            "linecolor": "white",
            "showbackground": true,
            "ticks": "",
            "zerolinecolor": "white"
           },
           "zaxis": {
            "backgroundcolor": "#E5ECF6",
            "gridcolor": "white",
            "gridwidth": 2,
            "linecolor": "white",
            "showbackground": true,
            "ticks": "",
            "zerolinecolor": "white"
           }
          },
          "shapedefaults": {
           "line": {
            "color": "#2a3f5f"
           }
          },
          "ternary": {
           "aaxis": {
            "gridcolor": "white",
            "linecolor": "white",
            "ticks": ""
           },
           "baxis": {
            "gridcolor": "white",
            "linecolor": "white",
            "ticks": ""
           },
           "bgcolor": "#E5ECF6",
           "caxis": {
            "gridcolor": "white",
            "linecolor": "white",
            "ticks": ""
           }
          },
          "title": {
           "x": 0.05
          },
          "xaxis": {
           "automargin": true,
           "gridcolor": "white",
           "linecolor": "white",
           "ticks": "",
           "title": {
            "standoff": 15
           },
           "zerolinecolor": "white",
           "zerolinewidth": 2
          },
          "yaxis": {
           "automargin": true,
           "gridcolor": "white",
           "linecolor": "white",
           "ticks": "",
           "title": {
            "standoff": 15
           },
           "zerolinecolor": "white",
           "zerolinewidth": 2
          }
         }
        },
        "xaxis": {
         "anchor": "y",
         "domain": [
          0,
          1
         ],
         "title": {
          "text": "PC1"
         }
        },
        "yaxis": {
         "anchor": "x",
         "domain": [
          0,
          1
         ],
         "title": {
          "text": "PC2"
         }
        }
       }
      }
     },
     "metadata": {},
     "output_type": "display_data"
    }
   ],
   "source": [
    "px.scatter(pca_components_full, x='PC1', y='PC2', hover_data=['Name'], color = y_kmeans )"
   ]
  },
  {
   "cell_type": "code",
   "execution_count": null,
   "metadata": {},
   "outputs": [],
   "source": [
    "def biplot(score,coeff,labels=None):\n",
    "    xs = score[:,0]\n",
    "    ys = score[:,1]\n",
    "    n = coeff.shape[0]\n",
    "    scalex = 1.0/(xs.max() - xs.min())\n",
    "    scaley = 1.0/(ys.max() - ys.min())\n",
    "    plt.scatter(xs * scalex,ys * scaley,s=5)\n",
    "    for i in range(n):\n",
    "        plt.arrow(0, 0, coeff[i,0], coeff[i,1],color = 'r',alpha = 0.5)\n",
    "        if labels is None:\n",
    "            plt.text(coeff[i,0]* 1.15, coeff[i,1] * 1.15, \"Var\"+str(i+1), color = 'green', ha = 'center', va = 'center')\n",
    "        else:\n",
    "            plt.text(coeff[i,0]* 1.15, coeff[i,1] * 1.15, labels[i], color = 'g', ha = 'center', va = 'center')\n",
    " \n",
    "    plt.xlabel(\"PC{}\".format(1))\n",
    "    plt.ylabel(\"PC{}\".format(2))\n",
    "    plt.grid()"
   ]
  },
  {
   "cell_type": "code",
   "execution_count": null,
   "metadata": {},
   "outputs": [
    {
     "data": {
      "image/png": "[encoded data removed]",
      "text/plain": [
       "<Figure size 1200x600 with 1 Axes>"
      ]
     },
     "metadata": {},
     "output_type": "display_data"
    }
   ],
   "source": [
    "plt.figure(figsize=(12, 6))\n",
    "biplot(components, np.transpose(PCA.components_), list(df_pca.columns))"
   ]
  },
  {
   "attachments": {},
   "cell_type": "markdown",
   "metadata": {},
   "source": [
    "## Vacancy"
   ]
  },
  {
   "cell_type": "code",
   "execution_count": null,
   "metadata": {},
   "outputs": [
    {
     "data": {
      "text/html": [
       "<div>\n",
       "<style scoped>\n",
       "    .dataframe tbody tr th:only-of-type {\n",
       "        vertical-align: middle;\n",
       "    }\n",
       "\n",
       "    .dataframe tbody tr th {\n",
       "        vertical-align: top;\n",
       "    }\n",
       "\n",
       "    .dataframe thead th {\n",
       "        text-align: right;\n",
       "    }\n",
       "</style>\n",
       "<table border=\"1\" class=\"dataframe\">\n",
       "  <thead>\n",
       "    <tr style=\"text-align: right;\">\n",
       "      <th></th>\n",
       "      <th>Name</th>\n",
       "      <th>School_Nature</th>\n",
       "      <th>School_Type</th>\n",
       "      <th>Affiliation</th>\n",
       "      <th>GEP</th>\n",
       "      <th>IP</th>\n",
       "      <th>Number_of_CCA</th>\n",
       "      <th>CCA_Sum_Score</th>\n",
       "      <th>Phase1_vac</th>\n",
       "      <th>Phase2A_vac</th>\n",
       "      <th>Phase2B_vac</th>\n",
       "      <th>Phase2C_vac</th>\n",
       "      <th>Phase2CS_vac</th>\n",
       "      <th>Phase3_vac</th>\n",
       "      <th>Phase1_applied</th>\n",
       "      <th>Phase2A_applied</th>\n",
       "      <th>Phase2B_applied</th>\n",
       "      <th>Phase2C_applied</th>\n",
       "      <th>Phase2CS_applied</th>\n",
       "      <th>Phase3_applied</th>\n",
       "      <th>Phase1_taken</th>\n",
       "      <th>Phase2A_taken</th>\n",
       "      <th>Phase2B_taken</th>\n",
       "      <th>Phase2C_taken</th>\n",
       "      <th>Phase2CS_taken</th>\n",
       "      <th>Phase3_taken</th>\n",
       "      <th>Phase1_sub_taken</th>\n",
       "      <th>Phase1_sub_apply</th>\n",
       "      <th>Phase2A_sub_taken</th>\n",
       "      <th>Phase2A_sub_apply</th>\n",
       "      <th>Phase2B_sub_taken</th>\n",
       "      <th>Phase2B_sub_apply</th>\n",
       "      <th>Phase2C_sub_taken</th>\n",
       "      <th>Phase2C_sub_apply</th>\n",
       "      <th>Phase1_2A_vac</th>\n",
       "    </tr>\n",
       "  </thead>\n",
       "  <tbody>\n",
       "    <tr>\n",
       "      <th>0</th>\n",
       "      <td>Admiralty Primary School</td>\n",
       "      <td>Co-Ed School</td>\n",
       "      <td>Government School</td>\n",
       "      <td>No</td>\n",
       "      <td>No</td>\n",
       "      <td>No</td>\n",
       "      <td>19</td>\n",
       "      <td>1803.0</td>\n",
       "      <td>150</td>\n",
       "      <td>44</td>\n",
       "      <td>22</td>\n",
       "      <td>45</td>\n",
       "      <td>0</td>\n",
       "      <td>0</td>\n",
       "      <td>107</td>\n",
       "      <td>37</td>\n",
       "      <td>49</td>\n",
       "      <td>104</td>\n",
       "      <td>0</td>\n",
       "      <td>-</td>\n",
       "      <td>107</td>\n",
       "      <td>37</td>\n",
       "      <td>22</td>\n",
       "      <td>45</td>\n",
       "      <td>0</td>\n",
       "      <td>-</td>\n",
       "      <td>71.333333</td>\n",
       "      <td>71.333333</td>\n",
       "      <td>84.090909</td>\n",
       "      <td>84.090909</td>\n",
       "      <td>100.00000</td>\n",
       "      <td>222.727273</td>\n",
       "      <td>100.000000</td>\n",
       "      <td>231.111111</td>\n",
       "      <td>7</td>\n",
       "    </tr>\n",
       "    <tr>\n",
       "      <th>1</th>\n",
       "      <td>Ahmad Ibrahim Primary School</td>\n",
       "      <td>Co-Ed School</td>\n",
       "      <td>Government School</td>\n",
       "      <td>No</td>\n",
       "      <td>No</td>\n",
       "      <td>No</td>\n",
       "      <td>12</td>\n",
       "      <td>1074.0</td>\n",
       "      <td>130</td>\n",
       "      <td>74</td>\n",
       "      <td>43</td>\n",
       "      <td>129</td>\n",
       "      <td>98</td>\n",
       "      <td>78</td>\n",
       "      <td>56</td>\n",
       "      <td>5</td>\n",
       "      <td>0</td>\n",
       "      <td>31</td>\n",
       "      <td>20</td>\n",
       "      <td>-</td>\n",
       "      <td>56</td>\n",
       "      <td>5</td>\n",
       "      <td>0</td>\n",
       "      <td>31</td>\n",
       "      <td>20</td>\n",
       "      <td>-</td>\n",
       "      <td>43.076923</td>\n",
       "      <td>43.076923</td>\n",
       "      <td>6.756757</td>\n",
       "      <td>6.756757</td>\n",
       "      <td>0.00000</td>\n",
       "      <td>0.000000</td>\n",
       "      <td>24.031008</td>\n",
       "      <td>24.031008</td>\n",
       "      <td>69</td>\n",
       "    </tr>\n",
       "    <tr>\n",
       "      <th>2</th>\n",
       "      <td>Ai Tong School</td>\n",
       "      <td>Co-Ed School</td>\n",
       "      <td>Government-Aided School</td>\n",
       "      <td>No</td>\n",
       "      <td>No</td>\n",
       "      <td>No</td>\n",
       "      <td>12</td>\n",
       "      <td>933.0</td>\n",
       "      <td>240</td>\n",
       "      <td>110</td>\n",
       "      <td>20</td>\n",
       "      <td>42</td>\n",
       "      <td>0</td>\n",
       "      <td>0</td>\n",
       "      <td>130</td>\n",
       "      <td>146</td>\n",
       "      <td>48</td>\n",
       "      <td>86</td>\n",
       "      <td>0</td>\n",
       "      <td>-</td>\n",
       "      <td>130</td>\n",
       "      <td>110</td>\n",
       "      <td>20</td>\n",
       "      <td>42</td>\n",
       "      <td>0</td>\n",
       "      <td>-</td>\n",
       "      <td>54.166667</td>\n",
       "      <td>54.166667</td>\n",
       "      <td>100.000000</td>\n",
       "      <td>132.727273</td>\n",
       "      <td>100.00000</td>\n",
       "      <td>240.000000</td>\n",
       "      <td>100.000000</td>\n",
       "      <td>204.761905</td>\n",
       "      <td>0</td>\n",
       "    </tr>\n",
       "    <tr>\n",
       "      <th>3</th>\n",
       "      <td>Alexandra Primary School</td>\n",
       "      <td>Co-Ed School</td>\n",
       "      <td>Government School</td>\n",
       "      <td>No</td>\n",
       "      <td>No</td>\n",
       "      <td>No</td>\n",
       "      <td>18</td>\n",
       "      <td>1745.0</td>\n",
       "      <td>140</td>\n",
       "      <td>65</td>\n",
       "      <td>39</td>\n",
       "      <td>113</td>\n",
       "      <td>0</td>\n",
       "      <td>0</td>\n",
       "      <td>75</td>\n",
       "      <td>9</td>\n",
       "      <td>4</td>\n",
       "      <td>146</td>\n",
       "      <td>0</td>\n",
       "      <td>-</td>\n",
       "      <td>75</td>\n",
       "      <td>9</td>\n",
       "      <td>4</td>\n",
       "      <td>113</td>\n",
       "      <td>0</td>\n",
       "      <td>-</td>\n",
       "      <td>53.571429</td>\n",
       "      <td>53.571429</td>\n",
       "      <td>13.846154</td>\n",
       "      <td>13.846154</td>\n",
       "      <td>10.25641</td>\n",
       "      <td>10.256410</td>\n",
       "      <td>100.000000</td>\n",
       "      <td>129.203540</td>\n",
       "      <td>56</td>\n",
       "    </tr>\n",
       "    <tr>\n",
       "      <th>4</th>\n",
       "      <td>Anchor Green Primary School</td>\n",
       "      <td>Co-Ed School</td>\n",
       "      <td>Government School</td>\n",
       "      <td>No</td>\n",
       "      <td>No</td>\n",
       "      <td>No</td>\n",
       "      <td>14</td>\n",
       "      <td>1281.0</td>\n",
       "      <td>180</td>\n",
       "      <td>105</td>\n",
       "      <td>40</td>\n",
       "      <td>120</td>\n",
       "      <td>96</td>\n",
       "      <td>0</td>\n",
       "      <td>75</td>\n",
       "      <td>46</td>\n",
       "      <td>0</td>\n",
       "      <td>24</td>\n",
       "      <td>108</td>\n",
       "      <td>-</td>\n",
       "      <td>75</td>\n",
       "      <td>46</td>\n",
       "      <td>0</td>\n",
       "      <td>24</td>\n",
       "      <td>96</td>\n",
       "      <td>-</td>\n",
       "      <td>41.666667</td>\n",
       "      <td>41.666667</td>\n",
       "      <td>43.809524</td>\n",
       "      <td>43.809524</td>\n",
       "      <td>0.00000</td>\n",
       "      <td>0.000000</td>\n",
       "      <td>20.000000</td>\n",
       "      <td>20.000000</td>\n",
       "      <td>59</td>\n",
       "    </tr>\n",
       "  </tbody>\n",
       "</table>\n",
       "</div>"
      ],
      "text/plain": [
       "                           Name School_Nature              School_Type  \\\n",
       "0      Admiralty Primary School  Co-Ed School        Government School   \n",
       "1  Ahmad Ibrahim Primary School  Co-Ed School        Government School   \n",
       "2                Ai Tong School  Co-Ed School  Government-Aided School   \n",
       "3      Alexandra Primary School  Co-Ed School        Government School   \n",
       "4   Anchor Green Primary School  Co-Ed School        Government School   \n",
       "\n",
       "  Affiliation GEP  IP  Number_of_CCA  CCA_Sum_Score  Phase1_vac  Phase2A_vac  \\\n",
       "0          No  No  No             19         1803.0         150           44   \n",
       "1          No  No  No             12         1074.0         130           74   \n",
       "2          No  No  No             12          933.0         240          110   \n",
       "3          No  No  No             18         1745.0         140           65   \n",
       "4          No  No  No             14         1281.0         180          105   \n",
       "\n",
       "   Phase2B_vac  Phase2C_vac  Phase2CS_vac  Phase3_vac  Phase1_applied  \\\n",
       "0           22           45             0           0             107   \n",
       "1           43          129            98          78              56   \n",
       "2           20           42             0           0             130   \n",
       "3           39          113             0           0              75   \n",
       "4           40          120            96           0              75   \n",
       "\n",
       "   Phase2A_applied  Phase2B_applied  Phase2C_applied  Phase2CS_applied  \\\n",
       "0               37               49              104                 0   \n",
       "1                5                0               31                20   \n",
       "2              146               48               86                 0   \n",
       "3                9                4              146                 0   \n",
       "4               46                0               24               108   \n",
       "\n",
       "  Phase3_applied  Phase1_taken  Phase2A_taken  Phase2B_taken  Phase2C_taken  \\\n",
       "0              -           107             37             22             45   \n",
       "1              -            56              5              0             31   \n",
       "2              -           130            110             20             42   \n",
       "3              -            75              9              4            113   \n",
       "4              -            75             46              0             24   \n",
       "\n",
       "   Phase2CS_taken Phase3_taken  Phase1_sub_taken  Phase1_sub_apply  \\\n",
       "0               0            -         71.333333         71.333333   \n",
       "1              20            -         43.076923         43.076923   \n",
       "2               0            -         54.166667         54.166667   \n",
       "3               0            -         53.571429         53.571429   \n",
       "4              96            -         41.666667         41.666667   \n",
       "\n",
       "   Phase2A_sub_taken  Phase2A_sub_apply  Phase2B_sub_taken  Phase2B_sub_apply  \\\n",
       "0          84.090909          84.090909          100.00000         222.727273   \n",
       "1           6.756757           6.756757            0.00000           0.000000   \n",
       "2         100.000000         132.727273          100.00000         240.000000   \n",
       "3          13.846154          13.846154           10.25641          10.256410   \n",
       "4          43.809524          43.809524            0.00000           0.000000   \n",
       "\n",
       "   Phase2C_sub_taken  Phase2C_sub_apply  Phase1_2A_vac  \n",
       "0         100.000000         231.111111              7  \n",
       "1          24.031008          24.031008             69  \n",
       "2         100.000000         204.761905              0  \n",
       "3         100.000000         129.203540             56  \n",
       "4          20.000000          20.000000             59  "
      ]
     },
     "execution_count": 13,
     "metadata": {},
     "output_type": "execute_result"
    }
   ],
   "source": [
    "df_school_full.head()"
   ]
  },
  {
   "attachments": {},
   "cell_type": "markdown",
   "metadata": {},
   "source": [
    "## Phase 1 Subscription Rate"
   ]
  },
  {
   "attachments": {},
   "cell_type": "markdown",
   "metadata": {},
   "source": [
    "### Count"
   ]
  },
  {
   "cell_type": "code",
   "execution_count": 160,
   "metadata": {},
   "outputs": [
    {
     "data": {
      "application/vnd.plotly.v1+json": {
       "config": {
        "plotlyServerURL": "https://plot.ly"
       },
       "data": [
        {
         "alignmentgroup": "True",
         "hovertemplate": "School: %{label} <br>Count: %{value:.1f}</br>",
         "legendgroup": "Phase1_applied",
         "marker": {
          "color": "grey",
          "pattern": {
           "shape": ""
          }
         },
         "name": "Subscribed in Phase 1",
         "offsetgroup": "Phase1_applied",
         "orientation": "h",
         "showlegend": true,
         "textfont": {
          "color": "white"
         },
         "textposition": "inside",
         "texttemplate": "%{x:f}",
         "type": "bar",
         "x": [
          107,
          56,
          130,
          75,
          75,
          91,
          48,
          78,
          62,
          58,
          68,
          71,
          52,
          19,
          65,
          100,
          59,
          58,
          39,
          49,
          38,
          33,
          58,
          55,
          60,
          86,
          34,
          44,
          60,
          70,
          33,
          53,
          139,
          89,
          114,
          82,
          98,
          103,
          82,
          57,
          89,
          79,
          66,
          87,
          80,
          77,
          68,
          123,
          45,
          84,
          120,
          92,
          18,
          80,
          51,
          83,
          36,
          103,
          91,
          85,
          81,
          95,
          37,
          131,
          122,
          74,
          101,
          99,
          115,
          75,
          74,
          55,
          86,
          80,
          87,
          100,
          83,
          99,
          31,
          103,
          104,
          53,
          132,
          82,
          62,
          32,
          55,
          117,
          59,
          81,
          26,
          143,
          104,
          175,
          115,
          33,
          86,
          65,
          81,
          79,
          120,
          29,
          33,
          136,
          74,
          93,
          62,
          83,
          79,
          134,
          121,
          64,
          66,
          83,
          98,
          99,
          122,
          84,
          125,
          104,
          59,
          76,
          85,
          89,
          116,
          85,
          103,
          103,
          137,
          120,
          87,
          60,
          111,
          68,
          45,
          55,
          132,
          121,
          62,
          31,
          87,
          29,
          141,
          73,
          46,
          35,
          81,
          92,
          85,
          164,
          73,
          58,
          79,
          91,
          42,
          76,
          105,
          120,
          101,
          70,
          123,
          47,
          106,
          64,
          87,
          91,
          79,
          39,
          87,
          79,
          69,
          68,
          67,
          55,
          65,
          78,
          49,
          60,
          75,
          91,
          28
         ],
         "xaxis": "x",
         "y": [
          "Admiralty Primary School",
          "Ahmad Ibrahim Primary School",
          "Ai Tong School",
          "Alexandra Primary School",
          "Anchor Green Primary School",
          "Anderson Primary School",
          "Ang Mo Kio Primary School",
          "Anglo-Chinese School (Junior)",
          "Anglo-Chinese School (Primary)",
          "Angsana Primary School",
          "Beacon Primary School",
          "Bedok Green Primary School",
          "Bendemeer Primary School",
          "Blangah Rise Primary School",
          "Boon Lay Garden Primary School",
          "Bukit Panjang Primary School",
          "Bukit Timah Primary School",
          "Bukit View Primary School",
          "CHIJ (Katong) Primary",
          "CHIJ (Kellock)",
          "CHIJ Our Lady Queen of Peace",
          "CHIJ Our Lady of Good Counsel",
          "CHIJ Our Lady of the Nativity",
          "CHIJ Primary (Toa Payoh)",
          "CHIJ St. Nicholas Girls' School (Primary Section)",
          "Canberra Primary School",
          "Canossa Catholic Primary School",
          "Cantonment Primary School",
          "Casuarina Primary School",
          "Catholic High School (Primary Section)",
          "Cedar Primary School",
          "Changkat Primary School",
          "Chongfu School",
          "Chongzheng Primary School",
          "Chua Chu Kang Primary School",
          "Clementi Primary School",
          "Compassvale Primary School",
          "Concord Primary School",
          "Corporation Primary School",
          "Damai Primary School",
          "Dazhong Primary School",
          "De La Salle School",
          "East Spring Primary School",
          "Edgefield Primary School",
          "Elias Park Primary School",
          "Endeavour Primary School",
          "Evergreen Primary School",
          "Fairfield Methodist School (Primary)",
          "Farrer Park Primary School",
          "Fengshan Primary School",
          "Fern Green Primary School",
          "Fernvale Primary School",
          "First Toa Payoh Primary School",
          "Frontier Primary School",
          "Fuchun Primary School",
          "Fuhua Primary School",
          "Gan Eng Seng Primary School",
          "Geylang Methodist School (Primary)",
          "Gongshang Primary School",
          "Greendale Primary School",
          "Greenridge Primary School",
          "Greenwood Primary School",
          "Haig Girls' School",
          "Henry Park Primary School",
          "Holy Innocents' Primary School",
          "Hong Wen School",
          "Horizon Primary School",
          "Hougang Primary School",
          "Huamin Primary School",
          "Innova Primary School",
          "Jiemin Primary School",
          "Jing Shan Primary School",
          "Junyuan Primary School",
          "Jurong Primary School",
          "Jurong West Primary School",
          "Keming Primary School",
          "Kheng Cheng School",
          "Kong Hwa School",
          "Kranji Primary School",
          "Kuo Chuan Presbyterian Primary School",
          "Lakeside Primary School",
          "Lianhua Primary School",
          "Maha Bodhi School",
          "Maris Stella High School (Primary Section)",
          "Marsiling Primary School",
          "Marymount Convent School",
          "Mayflower Primary School",
          "Mee Toh School",
          "Meridian Primary School",
          "Methodist Girls' School (Primary)",
          "Montfort Junior School",
          "Nan Chiau Primary School",
          "Nan Hua Primary School",
          "Nanyang Primary School",
          "Naval Base Primary School",
          "New Town Primary School",
          "Ngee Ann Primary School",
          "North Spring Primary School",
          "North View Primary School",
          "North Vista Primary School",
          "Northland Primary School",
          "Northoaks Primary School",
          "Northshore Primary School",
          "Oasis Primary School",
          "Opera Estate Primary School",
          "Palm View Primary School",
          "Park View Primary School",
          "Pasir Ris Primary School",
          "Paya Lebar Methodist Girls' School (Primary)",
          "Pei Chun Public School",
          "Pei Hwa Presbyterian Primary School",
          "Pei Tong Primary School",
          "Peiying Primary School",
          "Poi Ching School",
          "Princess Elizabeth Primary School",
          "Punggol Cove Primary School",
          "Punggol Green Primary School",
          "Punggol Primary School",
          "Punggol View Primary School",
          "Qifa Primary School",
          "Qihua Primary School",
          "Queenstown Primary School",
          "Radin Mas Primary School",
          "Raffles Girls' Primary School",
          "Red Swastika School",
          "River Valley Primary School",
          "Riverside Primary School",
          "Rivervale Primary School",
          "Rosyth School",
          "Rulang Primary School",
          "Sembawang Primary School",
          "Seng Kang Primary School",
          "Sengkang Green Primary School",
          "Shuqun Primary School",
          "Si Ling Primary School",
          "Singapore Chinese Girls' Primary School",
          "South View Primary School",
          "Springdale Primary School",
          "St. Andrew's Junior School",
          "St. Anthony's Canossian Primary School",
          "St. Anthony's Primary School",
          "St. Gabriel's Primary School",
          "St. Hilda's Primary School",
          "St. Joseph's Institution Junior",
          "St. Margaret's Primary School",
          "St. Stephen's School",
          "Tampines North Primary School",
          "Tampines Primary School",
          "Tanjong Katong Primary School",
          "Tao Nan School",
          "Teck Ghee Primary School",
          "Teck Whye Primary School",
          "Telok Kurau Primary School",
          "Temasek Primary School",
          "Townsville Primary School",
          "Unity Primary School",
          "Valour Primary School",
          "Waterway Primary School",
          "Wellington Primary School",
          "West Grove Primary School",
          "West Spring Primary School",
          "West View Primary School",
          "Westwood Primary School",
          "White Sands Primary School",
          "Woodgrove Primary School",
          "Woodlands Primary School",
          "Woodlands Ring Primary School",
          "Xinghua Primary School",
          "Xingnan Primary School",
          "Xinmin Primary School",
          "Xishan Primary School",
          "Yangzheng Primary School",
          "Yew Tee Primary School",
          "Yio Chu Kang Primary School",
          "Yishun Primary School",
          "Yu Neng Primary School",
          "Yuhua Primary School",
          "Yumin Primary School",
          "Zhangde Primary School",
          "Zhenghua Primary School",
          "Zhonghua Primary School"
         ],
         "yaxis": "y"
        },
        {
         "alignmentgroup": "True",
         "hovertemplate": "School: %{label} <br>Count: %{value:.1f}</br>",
         "legendgroup": "Phase2A_vac",
         "marker": {
          "color": "green",
          "pattern": {
           "shape": ""
          }
         },
         "name": "Remaining Vacancy for Phase 2A",
         "offsetgroup": "Phase2A_vac",
         "orientation": "h",
         "showlegend": true,
         "textfont": {
          "color": "white"
         },
         "textposition": "inside",
         "texttemplate": "%{x:f}",
         "type": "bar",
         "x": [
          44,
          74,
          110,
          65,
          105,
          59,
          102,
          132,
          118,
          162,
          82,
          109,
          78,
          41,
          175,
          80,
          71,
          182,
          101,
          91,
          82,
          57,
          122,
          95,
          90,
          94,
          26,
          76,
          40,
          110,
          147,
          97,
          101,
          32,
          66,
          138,
          82,
          77,
          98,
          124,
          51,
          101,
          64,
          93,
          40,
          103,
          82,
          88,
          86,
          36,
          61,
          88,
          72,
          70,
          99,
          37,
          54,
          107,
          59,
          95,
          69,
          85,
          93,
          109,
          88,
          77,
          79,
          41,
          105,
          45,
          46,
          35,
          94,
          40,
          33,
          60,
          98,
          111,
          59,
          77,
          76,
          187,
          138,
          128,
          88,
          148,
          75,
          123,
          71,
          69,
          64,
          97,
          77,
          156,
          106,
          117,
          95,
          85,
          99,
          101,
          60,
          131,
          147,
          54,
          56,
          88,
          58,
          37,
          131,
          106,
          44,
          156,
          64,
          98,
          42,
          91,
          68,
          46,
          65,
          116,
          121,
          74,
          55,
          121,
          64,
          65,
          47,
          47,
          73,
          90,
          53,
          90,
          110,
          72,
          45,
          77,
          78,
          99,
          118,
          149,
          73,
          61,
          69,
          107,
          86,
          145,
          99,
          89,
          55,
          136,
          77,
          123,
          51,
          49,
          78,
          74,
          115,
          100,
          79,
          110,
          57,
          53,
          74,
          56,
          34,
          59,
          101,
          181,
          153,
          72,
          61,
          33,
          83,
          85,
          55,
          42,
          101,
          60,
          45,
          89,
          62
         ],
         "xaxis": "x",
         "y": [
          "Admiralty Primary School",
          "Ahmad Ibrahim Primary School",
          "Ai Tong School",
          "Alexandra Primary School",
          "Anchor Green Primary School",
          "Anderson Primary School",
          "Ang Mo Kio Primary School",
          "Anglo-Chinese School (Junior)",
          "Anglo-Chinese School (Primary)",
          "Angsana Primary School",
          "Beacon Primary School",
          "Bedok Green Primary School",
          "Bendemeer Primary School",
          "Blangah Rise Primary School",
          "Boon Lay Garden Primary School",
          "Bukit Panjang Primary School",
          "Bukit Timah Primary School",
          "Bukit View Primary School",
          "CHIJ (Katong) Primary",
          "CHIJ (Kellock)",
          "CHIJ Our Lady Queen of Peace",
          "CHIJ Our Lady of Good Counsel",
          "CHIJ Our Lady of the Nativity",
          "CHIJ Primary (Toa Payoh)",
          "CHIJ St. Nicholas Girls' School (Primary Section)",
          "Canberra Primary School",
          "Canossa Catholic Primary School",
          "Cantonment Primary School",
          "Casuarina Primary School",
          "Catholic High School (Primary Section)",
          "Cedar Primary School",
          "Changkat Primary School",
          "Chongfu School",
          "Chongzheng Primary School",
          "Chua Chu Kang Primary School",
          "Clementi Primary School",
          "Compassvale Primary School",
          "Concord Primary School",
          "Corporation Primary School",
          "Damai Primary School",
          "Dazhong Primary School",
          "De La Salle School",
          "East Spring Primary School",
          "Edgefield Primary School",
          "Elias Park Primary School",
          "Endeavour Primary School",
          "Evergreen Primary School",
          "Fairfield Methodist School (Primary)",
          "Farrer Park Primary School",
          "Fengshan Primary School",
          "Fern Green Primary School",
          "Fernvale Primary School",
          "First Toa Payoh Primary School",
          "Frontier Primary School",
          "Fuchun Primary School",
          "Fuhua Primary School",
          "Gan Eng Seng Primary School",
          "Geylang Methodist School (Primary)",
          "Gongshang Primary School",
          "Greendale Primary School",
          "Greenridge Primary School",
          "Greenwood Primary School",
          "Haig Girls' School",
          "Henry Park Primary School",
          "Holy Innocents' Primary School",
          "Hong Wen School",
          "Horizon Primary School",
          "Hougang Primary School",
          "Huamin Primary School",
          "Innova Primary School",
          "Jiemin Primary School",
          "Jing Shan Primary School",
          "Junyuan Primary School",
          "Jurong Primary School",
          "Jurong West Primary School",
          "Keming Primary School",
          "Kheng Cheng School",
          "Kong Hwa School",
          "Kranji Primary School",
          "Kuo Chuan Presbyterian Primary School",
          "Lakeside Primary School",
          "Lianhua Primary School",
          "Maha Bodhi School",
          "Maris Stella High School (Primary Section)",
          "Marsiling Primary School",
          "Marymount Convent School",
          "Mayflower Primary School",
          "Mee Toh School",
          "Meridian Primary School",
          "Methodist Girls' School (Primary)",
          "Montfort Junior School",
          "Nan Chiau Primary School",
          "Nan Hua Primary School",
          "Nanyang Primary School",
          "Naval Base Primary School",
          "New Town Primary School",
          "Ngee Ann Primary School",
          "North Spring Primary School",
          "North View Primary School",
          "North Vista Primary School",
          "Northland Primary School",
          "Northoaks Primary School",
          "Northshore Primary School",
          "Oasis Primary School",
          "Opera Estate Primary School",
          "Palm View Primary School",
          "Park View Primary School",
          "Pasir Ris Primary School",
          "Paya Lebar Methodist Girls' School (Primary)",
          "Pei Chun Public School",
          "Pei Hwa Presbyterian Primary School",
          "Pei Tong Primary School",
          "Peiying Primary School",
          "Poi Ching School",
          "Princess Elizabeth Primary School",
          "Punggol Cove Primary School",
          "Punggol Green Primary School",
          "Punggol Primary School",
          "Punggol View Primary School",
          "Qifa Primary School",
          "Qihua Primary School",
          "Queenstown Primary School",
          "Radin Mas Primary School",
          "Raffles Girls' Primary School",
          "Red Swastika School",
          "River Valley Primary School",
          "Riverside Primary School",
          "Rivervale Primary School",
          "Rosyth School",
          "Rulang Primary School",
          "Sembawang Primary School",
          "Seng Kang Primary School",
          "Sengkang Green Primary School",
          "Shuqun Primary School",
          "Si Ling Primary School",
          "Singapore Chinese Girls' Primary School",
          "South View Primary School",
          "Springdale Primary School",
          "St. Andrew's Junior School",
          "St. Anthony's Canossian Primary School",
          "St. Anthony's Primary School",
          "St. Gabriel's Primary School",
          "St. Hilda's Primary School",
          "St. Joseph's Institution Junior",
          "St. Margaret's Primary School",
          "St. Stephen's School",
          "Tampines North Primary School",
          "Tampines Primary School",
          "Tanjong Katong Primary School",
          "Tao Nan School",
          "Teck Ghee Primary School",
          "Teck Whye Primary School",
          "Telok Kurau Primary School",
          "Temasek Primary School",
          "Townsville Primary School",
          "Unity Primary School",
          "Valour Primary School",
          "Waterway Primary School",
          "Wellington Primary School",
          "West Grove Primary School",
          "West Spring Primary School",
          "West View Primary School",
          "Westwood Primary School",
          "White Sands Primary School",
          "Woodgrove Primary School",
          "Woodlands Primary School",
          "Woodlands Ring Primary School",
          "Xinghua Primary School",
          "Xingnan Primary School",
          "Xinmin Primary School",
          "Xishan Primary School",
          "Yangzheng Primary School",
          "Yew Tee Primary School",
          "Yio Chu Kang Primary School",
          "Yishun Primary School",
          "Yu Neng Primary School",
          "Yuhua Primary School",
          "Yumin Primary School",
          "Zhangde Primary School",
          "Zhenghua Primary School",
          "Zhonghua Primary School"
         ],
         "yaxis": "y"
        }
       ],
       "layout": {
        "barmode": "relative",
        "height": 5000,
        "legend": {
         "title": {
          "text": "Legend"
         },
         "tracegroupgap": 0
        },
        "template": {
         "data": {
          "bar": [
           {
            "error_x": {
             "color": "#2a3f5f"
            },
            "error_y": {
             "color": "#2a3f5f"
            },
            "marker": {
             "line": {
              "color": "#E5ECF6",
              "width": 0.5
             },
             "pattern": {
              "fillmode": "overlay",
              "size": 10,
              "solidity": 0.2
             }
            },
            "type": "bar"
           }
          ],
          "barpolar": [
           {
            "marker": {
             "line": {
              "color": "#E5ECF6",
              "width": 0.5
             },
             "pattern": {
              "fillmode": "overlay",
              "size": 10,
              "solidity": 0.2
             }
            },
            "type": "barpolar"
           }
          ],
          "carpet": [
           {
            "aaxis": {
             "endlinecolor": "#2a3f5f",
             "gridcolor": "white",
             "linecolor": "white",
             "minorgridcolor": "white",
             "startlinecolor": "#2a3f5f"
            },
            "baxis": {
             "endlinecolor": "#2a3f5f",
             "gridcolor": "white",
             "linecolor": "white",
             "minorgridcolor": "white",
             "startlinecolor": "#2a3f5f"
            },
            "type": "carpet"
           }
          ],
          "choropleth": [
           {
            "colorbar": {
             "outlinewidth": 0,
             "ticks": ""
            },
            "type": "choropleth"
           }
          ],
          "contour": [
           {
            "colorbar": {
             "outlinewidth": 0,
             "ticks": ""
            },
            "colorscale": [
             [
              0,
              "#0d0887"
             ],
             [
              0.1111111111111111,
              "#46039f"
             ],
             [
              0.2222222222222222,
              "#7201a8"
             ],
             [
              0.3333333333333333,
              "#9c179e"
             ],
             [
              0.4444444444444444,
              "#bd3786"
             ],
             [
              0.5555555555555556,
              "#d8576b"
             ],
             [
              0.6666666666666666,
              "#ed7953"
             ],
             [
              0.7777777777777778,
              "#fb9f3a"
             ],
             [
              0.8888888888888888,
              "#fdca26"
             ],
             [
              1,
              "#f0f921"
             ]
            ],
            "type": "contour"
           }
          ],
          "contourcarpet": [
           {
            "colorbar": {
             "outlinewidth": 0,
             "ticks": ""
            },
            "type": "contourcarpet"
           }
          ],
          "heatmap": [
           {
            "colorbar": {
             "outlinewidth": 0,
             "ticks": ""
            },
            "colorscale": [
             [
              0,
              "#0d0887"
             ],
             [
              0.1111111111111111,
              "#46039f"
             ],
             [
              0.2222222222222222,
              "#7201a8"
             ],
             [
              0.3333333333333333,
              "#9c179e"
             ],
             [
              0.4444444444444444,
              "#bd3786"
             ],
             [
              0.5555555555555556,
              "#d8576b"
             ],
             [
              0.6666666666666666,
              "#ed7953"
             ],
             [
              0.7777777777777778,
              "#fb9f3a"
             ],
             [
              0.8888888888888888,
              "#fdca26"
             ],
             [
              1,
              "#f0f921"
             ]
            ],
            "type": "heatmap"
           }
          ],
          "heatmapgl": [
           {
            "colorbar": {
             "outlinewidth": 0,
             "ticks": ""
            },
            "colorscale": [
             [
              0,
              "#0d0887"
             ],
             [
              0.1111111111111111,
              "#46039f"
             ],
             [
              0.2222222222222222,
              "#7201a8"
             ],
             [
              0.3333333333333333,
              "#9c179e"
             ],
             [
              0.4444444444444444,
              "#bd3786"
             ],
             [
              0.5555555555555556,
              "#d8576b"
             ],
             [
              0.6666666666666666,
              "#ed7953"
             ],
             [
              0.7777777777777778,
              "#fb9f3a"
             ],
             [
              0.8888888888888888,
              "#fdca26"
             ],
             [
              1,
              "#f0f921"
             ]
            ],
            "type": "heatmapgl"
           }
          ],
          "histogram": [
           {
            "marker": {
             "pattern": {
              "fillmode": "overlay",
              "size": 10,
              "solidity": 0.2
             }
            },
            "type": "histogram"
           }
          ],
          "histogram2d": [
           {
            "colorbar": {
             "outlinewidth": 0,
             "ticks": ""
            },
            "colorscale": [
             [
              0,
              "#0d0887"
             ],
             [
              0.1111111111111111,
              "#46039f"
             ],
             [
              0.2222222222222222,
              "#7201a8"
             ],
             [
              0.3333333333333333,
              "#9c179e"
             ],
             [
              0.4444444444444444,
              "#bd3786"
             ],
             [
              0.5555555555555556,
              "#d8576b"
             ],
             [
              0.6666666666666666,
              "#ed7953"
             ],
             [
              0.7777777777777778,
              "#fb9f3a"
             ],
             [
              0.8888888888888888,
              "#fdca26"
             ],
             [
              1,
              "#f0f921"
             ]
            ],
            "type": "histogram2d"
           }
          ],
          "histogram2dcontour": [
           {
            "colorbar": {
             "outlinewidth": 0,
             "ticks": ""
            },
            "colorscale": [
             [
              0,
              "#0d0887"
             ],
             [
              0.1111111111111111,
              "#46039f"
             ],
             [
              0.2222222222222222,
              "#7201a8"
             ],
             [
              0.3333333333333333,
              "#9c179e"
             ],
             [
              0.4444444444444444,
              "#bd3786"
             ],
             [
              0.5555555555555556,
              "#d8576b"
             ],
             [
              0.6666666666666666,
              "#ed7953"
             ],
             [
              0.7777777777777778,
              "#fb9f3a"
             ],
             [
              0.8888888888888888,
              "#fdca26"
             ],
             [
              1,
              "#f0f921"
             ]
            ],
            "type": "histogram2dcontour"
           }
          ],
          "mesh3d": [
           {
            "colorbar": {
             "outlinewidth": 0,
             "ticks": ""
            },
            "type": "mesh3d"
           }
          ],
          "parcoords": [
           {
            "line": {
             "colorbar": {
              "outlinewidth": 0,
              "ticks": ""
             }
            },
            "type": "parcoords"
           }
          ],
          "pie": [
           {
            "automargin": true,
            "type": "pie"
           }
          ],
          "scatter": [
           {
            "fillpattern": {
             "fillmode": "overlay",
             "size": 10,
             "solidity": 0.2
            },
            "type": "scatter"
           }
          ],
          "scatter3d": [
           {
            "line": {
             "colorbar": {
              "outlinewidth": 0,
              "ticks": ""
             }
            },
            "marker": {
             "colorbar": {
              "outlinewidth": 0,
              "ticks": ""
             }
            },
            "type": "scatter3d"
           }
          ],
          "scattercarpet": [
           {
            "marker": {
             "colorbar": {
              "outlinewidth": 0,
              "ticks": ""
             }
            },
            "type": "scattercarpet"
           }
          ],
          "scattergeo": [
           {
            "marker": {
             "colorbar": {
              "outlinewidth": 0,
              "ticks": ""
             }
            },
            "type": "scattergeo"
           }
          ],
          "scattergl": [
           {
            "marker": {
             "colorbar": {
              "outlinewidth": 0,
              "ticks": ""
             }
            },
            "type": "scattergl"
           }
          ],
          "scattermapbox": [
           {
            "marker": {
             "colorbar": {
              "outlinewidth": 0,
              "ticks": ""
             }
            },
            "type": "scattermapbox"
           }
          ],
          "scatterpolar": [
           {
            "marker": {
             "colorbar": {
              "outlinewidth": 0,
              "ticks": ""
             }
            },
            "type": "scatterpolar"
           }
          ],
          "scatterpolargl": [
           {
            "marker": {
             "colorbar": {
              "outlinewidth": 0,
              "ticks": ""
             }
            },
            "type": "scatterpolargl"
           }
          ],
          "scatterternary": [
           {
            "marker": {
             "colorbar": {
              "outlinewidth": 0,
              "ticks": ""
             }
            },
            "type": "scatterternary"
           }
          ],
          "surface": [
           {
            "colorbar": {
             "outlinewidth": 0,
             "ticks": ""
            },
            "colorscale": [
             [
              0,
              "#0d0887"
             ],
             [
              0.1111111111111111,
              "#46039f"
             ],
             [
              0.2222222222222222,
              "#7201a8"
             ],
             [
              0.3333333333333333,
              "#9c179e"
             ],
             [
              0.4444444444444444,
              "#bd3786"
             ],
             [
              0.5555555555555556,
              "#d8576b"
             ],
             [
              0.6666666666666666,
              "#ed7953"
             ],
             [
              0.7777777777777778,
              "#fb9f3a"
             ],
             [
              0.8888888888888888,
              "#fdca26"
             ],
             [
              1,
              "#f0f921"
             ]
            ],
            "type": "surface"
           }
          ],
          "table": [
           {
            "cells": {
             "fill": {
              "color": "#EBF0F8"
             },
             "line": {
              "color": "white"
             }
            },
            "header": {
             "fill": {
              "color": "#C8D4E3"
             },
             "line": {
              "color": "white"
             }
            },
            "type": "table"
           }
          ]
         },
         "layout": {
          "annotationdefaults": {
           "arrowcolor": "#2a3f5f",
           "arrowhead": 0,
           "arrowwidth": 1
          },
          "autotypenumbers": "strict",
          "coloraxis": {
           "colorbar": {
            "outlinewidth": 0,
            "ticks": ""
           }
          },
          "colorscale": {
           "diverging": [
            [
             0,
             "#8e0152"
            ],
            [
             0.1,
             "#c51b7d"
            ],
            [
             0.2,
             "#de77ae"
            ],
            [
             0.3,
             "#f1b6da"
            ],
            [
             0.4,
             "#fde0ef"
            ],
            [
             0.5,
             "#f7f7f7"
            ],
            [
             0.6,
             "#e6f5d0"
            ],
            [
             0.7,
             "#b8e186"
            ],
            [
             0.8,
             "#7fbc41"
            ],
            [
             0.9,
             "#4d9221"
            ],
            [
             1,
             "#276419"
            ]
           ],
           "sequential": [
            [
             0,
             "#0d0887"
            ],
            [
             0.1111111111111111,
             "#46039f"
            ],
            [
             0.2222222222222222,
             "#7201a8"
            ],
            [
             0.3333333333333333,
             "#9c179e"
            ],
            [
             0.4444444444444444,
             "#bd3786"
            ],
            [
             0.5555555555555556,
             "#d8576b"
            ],
            [
             0.6666666666666666,
             "#ed7953"
            ],
            [
             0.7777777777777778,
             "#fb9f3a"
            ],
            [
             0.8888888888888888,
             "#fdca26"
            ],
            [
             1,
             "#f0f921"
            ]
           ],
           "sequentialminus": [
            [
             0,
             "#0d0887"
            ],
            [
             0.1111111111111111,
             "#46039f"
            ],
            [
             0.2222222222222222,
             "#7201a8"
            ],
            [
             0.3333333333333333,
             "#9c179e"
            ],
            [
             0.4444444444444444,
             "#bd3786"
            ],
            [
             0.5555555555555556,
             "#d8576b"
            ],
            [
             0.6666666666666666,
             "#ed7953"
            ],
            [
             0.7777777777777778,
             "#fb9f3a"
            ],
            [
             0.8888888888888888,
             "#fdca26"
            ],
            [
             1,
             "#f0f921"
            ]
           ]
          },
          "colorway": [
           "#636efa",
           "#EF553B",
           "#00cc96",
           "#ab63fa",
           "#FFA15A",
           "#19d3f3",
           "#FF6692",
           "#B6E880",
           "#FF97FF",
           "#FECB52"
          ],
          "font": {
           "color": "#2a3f5f"
          },
          "geo": {
           "bgcolor": "white",
           "lakecolor": "white",
           "landcolor": "#E5ECF6",
           "showlakes": true,
           "showland": true,
           "subunitcolor": "white"
          },
          "hoverlabel": {
           "align": "left"
          },
          "hovermode": "closest",
          "mapbox": {
           "style": "light"
          },
          "paper_bgcolor": "white",
          "plot_bgcolor": "#E5ECF6",
          "polar": {
           "angularaxis": {
            "gridcolor": "white",
            "linecolor": "white",
            "ticks": ""
           },
           "bgcolor": "#E5ECF6",
           "radialaxis": {
            "gridcolor": "white",
            "linecolor": "white",
            "ticks": ""
           }
          },
          "scene": {
           "xaxis": {
            "backgroundcolor": "#E5ECF6",
            "gridcolor": "white",
            "gridwidth": 2,
            "linecolor": "white",
            "showbackground": true,
            "ticks": "",
            "zerolinecolor": "white"
           },
           "yaxis": {
            "backgroundcolor": "#E5ECF6",
            "gridcolor": "white",
            "gridwidth": 2,
            "linecolor": "white",
            "showbackground": true,
            "ticks": "",
            "zerolinecolor": "white"
           },
           "zaxis": {
            "backgroundcolor": "#E5ECF6",
            "gridcolor": "white",
            "gridwidth": 2,
            "linecolor": "white",
            "showbackground": true,
            "ticks": "",
            "zerolinecolor": "white"
           }
          },
          "shapedefaults": {
           "line": {
            "color": "#2a3f5f"
           }
          },
          "ternary": {
           "aaxis": {
            "gridcolor": "white",
            "linecolor": "white",
            "ticks": ""
           },
           "baxis": {
            "gridcolor": "white",
            "linecolor": "white",
            "ticks": ""
           },
           "bgcolor": "#E5ECF6",
           "caxis": {
            "gridcolor": "white",
            "linecolor": "white",
            "ticks": ""
           }
          },
          "title": {
           "x": 0.05
          },
          "xaxis": {
           "automargin": true,
           "gridcolor": "white",
           "linecolor": "white",
           "ticks": "",
           "title": {
            "standoff": 15
           },
           "zerolinecolor": "white",
           "zerolinewidth": 2
          },
          "yaxis": {
           "automargin": true,
           "gridcolor": "white",
           "linecolor": "white",
           "ticks": "",
           "title": {
            "standoff": 15
           },
           "zerolinecolor": "white",
           "zerolinewidth": 2
          }
         }
        },
        "title": {
         "text": "<b>Phase 1 Subscription Rate (Count)</b>"
        },
        "width": 1200,
        "xaxis": {
         "anchor": "y",
         "domain": [
          0,
          1
         ],
         "title": {
          "text": "Count"
         }
        },
        "yaxis": {
         "anchor": "x",
         "categoryorder": "category descending",
         "domain": [
          0,
          1
         ],
         "title": {
          "text": ""
         }
        }
       }
      }
     },
     "metadata": {},
     "output_type": "display_data"
    }
   ],
   "source": [
    "color_discrete_map = {'Phase1_applied': 'grey',\n",
    "                      'Phase2A_vac': 'green'}\n",
    "\n",
    "fig = px.bar(df_school_full,\n",
    "       y='Name',\n",
    "       x=['Phase1_applied', 'Phase2A_vac'],\n",
    "       color_discrete_map = color_discrete_map,\n",
    "       text_auto='f',\n",
    "       title=\"<b>Phase 1 Subscription Rate (Count)</b>\",\n",
    "       labels={'Name': '',\n",
    "               'value': 'Count'},\n",
    "       width=1200,\n",
    "       height=5000)\n",
    "fig.update_traces(hovertemplate = \"School: %{label} <br>Count: %{value:.1f}</br>\")\n",
    "fig.update_layout(legend_title=\"Legend\",\n",
    "                  yaxis={'categoryorder':'category descending'})\n",
    "fig.update_traces(textposition='inside', textfont_color='white')\n",
    "newnames = {'Phase1_applied':'Subscribed in Phase 1', 'Phase2A_vac': 'Remaining Vacancy for Phase 2A'}\n",
    "fig.for_each_trace(lambda t: t.update(name = newnames[t.name]))"
   ]
  },
  {
   "attachments": {},
   "cell_type": "markdown",
   "metadata": {},
   "source": [
    "### Percentage"
   ]
  },
  {
   "cell_type": "code",
   "execution_count": 161,
   "metadata": {},
   "outputs": [],
   "source": [
    "# color_discrete_map = {'Phase1_sub_apply': 'grey',\n",
    "#                       'Phase1_2A_vac': 'green'}\n",
    "\n",
    "# fig = px.bar(df_school_full,\n",
    "#        y='Name',\n",
    "#        x=['Phase1_sub', 'After_Phase1_vac'],\n",
    "#        color_discrete_map = color_discrete_map,\n",
    "#        text_auto='.1f',\n",
    "#        title=\"<b>Phase 1 Subscription Rate (%)</b>\",\n",
    "#        labels={'Name': '',\n",
    "#                'value': 'Percentage (%)'},\n",
    "#        width=1200,\n",
    "#        height=5000)\n",
    "# fig.update_traces(hovertemplate = \"School: %{label}: <br>Percentage: %{value:.1f}%</br>\")\n",
    "# fig.update_layout(yaxis={'categoryorder':'category descending'},\n",
    "#                   legend_title=\"Legend\")\n",
    "# fig.update_traces(textposition='inside', textfont_color='white')\n",
    "# newnames = {'Phase1_sub':'Subscribed in Phase 1', 'After_Phase1_vac': 'Remaining Vacancy for Phase 2A'}\n",
    "# fig.for_each_trace(lambda t: t.update(name = newnames[t.name]))"
   ]
  },
  {
   "cell_type": "code",
   "execution_count": 162,
   "metadata": {},
   "outputs": [
    {
     "data": {
      "text/html": [
       "<div>\n",
       "<style scoped>\n",
       "    .dataframe tbody tr th:only-of-type {\n",
       "        vertical-align: middle;\n",
       "    }\n",
       "\n",
       "    .dataframe tbody tr th {\n",
       "        vertical-align: top;\n",
       "    }\n",
       "\n",
       "    .dataframe thead th {\n",
       "        text-align: right;\n",
       "    }\n",
       "</style>\n",
       "<table border=\"1\" class=\"dataframe\">\n",
       "  <thead>\n",
       "    <tr style=\"text-align: right;\">\n",
       "      <th></th>\n",
       "      <th>Name</th>\n",
       "      <th>School_Nature</th>\n",
       "      <th>School_Type</th>\n",
       "      <th>Affiliation</th>\n",
       "      <th>GEP</th>\n",
       "      <th>IP</th>\n",
       "      <th>Number_of_CCA</th>\n",
       "      <th>CCA_Sum_Score</th>\n",
       "      <th>Phase1_vac</th>\n",
       "      <th>Phase2A_vac</th>\n",
       "      <th>Phase2B_vac</th>\n",
       "      <th>Phase2C_vac</th>\n",
       "      <th>Phase2CS_vac</th>\n",
       "      <th>Phase3_vac</th>\n",
       "      <th>Phase1_applied</th>\n",
       "      <th>Phase2A_applied</th>\n",
       "      <th>Phase2B_applied</th>\n",
       "      <th>Phase2C_applied</th>\n",
       "      <th>Phase2CS_applied</th>\n",
       "      <th>Phase3_applied</th>\n",
       "      <th>Phase1_taken</th>\n",
       "      <th>Phase2A_taken</th>\n",
       "      <th>Phase2B_taken</th>\n",
       "      <th>Phase2C_taken</th>\n",
       "      <th>Phase2CS_taken</th>\n",
       "      <th>Phase3_taken</th>\n",
       "      <th>Phase1_sub_taken</th>\n",
       "      <th>Phase1_sub_apply</th>\n",
       "      <th>Phase2A_sub_taken</th>\n",
       "      <th>Phase2A_sub_apply</th>\n",
       "      <th>Phase2B_sub_taken</th>\n",
       "      <th>Phase2B_sub_apply</th>\n",
       "      <th>Phase2C_sub_taken</th>\n",
       "      <th>Phase2C_sub_apply</th>\n",
       "      <th>After_Phase1_2A_vac</th>\n",
       "      <th>After_Phase2B_vac</th>\n",
       "      <th>After_Phase2C_vac</th>\n",
       "      <th>Phase2A_oversub</th>\n",
       "      <th>Phase2B_oversub</th>\n",
       "      <th>Phase2C_oversub</th>\n",
       "      <th>Phase2A_oversub_count</th>\n",
       "      <th>Phase2B_oversub_count</th>\n",
       "      <th>Phase2C_oversub_count</th>\n",
       "    </tr>\n",
       "  </thead>\n",
       "  <tbody>\n",
       "    <tr>\n",
       "      <th>0</th>\n",
       "      <td>Admiralty Primary School</td>\n",
       "      <td>Co-Ed School</td>\n",
       "      <td>Government School</td>\n",
       "      <td>No</td>\n",
       "      <td>No</td>\n",
       "      <td>No</td>\n",
       "      <td>19</td>\n",
       "      <td>1803.0</td>\n",
       "      <td>150</td>\n",
       "      <td>44</td>\n",
       "      <td>22</td>\n",
       "      <td>45</td>\n",
       "      <td>0</td>\n",
       "      <td>0</td>\n",
       "      <td>107</td>\n",
       "      <td>37</td>\n",
       "      <td>49</td>\n",
       "      <td>104</td>\n",
       "      <td>0</td>\n",
       "      <td>-</td>\n",
       "      <td>107</td>\n",
       "      <td>37</td>\n",
       "      <td>22</td>\n",
       "      <td>45</td>\n",
       "      <td>0</td>\n",
       "      <td>-</td>\n",
       "      <td>71.333333</td>\n",
       "      <td>71.333333</td>\n",
       "      <td>84.090909</td>\n",
       "      <td>84.090909</td>\n",
       "      <td>100.00000</td>\n",
       "      <td>222.727273</td>\n",
       "      <td>100.000000</td>\n",
       "      <td>231.111111</td>\n",
       "      <td>7</td>\n",
       "      <td>0</td>\n",
       "      <td>0</td>\n",
       "      <td>No</td>\n",
       "      <td>Yes</td>\n",
       "      <td>Yes</td>\n",
       "      <td>No</td>\n",
       "      <td>27</td>\n",
       "      <td>59</td>\n",
       "    </tr>\n",
       "    <tr>\n",
       "      <th>1</th>\n",
       "      <td>Ahmad Ibrahim Primary School</td>\n",
       "      <td>Co-Ed School</td>\n",
       "      <td>Government School</td>\n",
       "      <td>No</td>\n",
       "      <td>No</td>\n",
       "      <td>No</td>\n",
       "      <td>12</td>\n",
       "      <td>1074.0</td>\n",
       "      <td>130</td>\n",
       "      <td>74</td>\n",
       "      <td>43</td>\n",
       "      <td>129</td>\n",
       "      <td>98</td>\n",
       "      <td>78</td>\n",
       "      <td>56</td>\n",
       "      <td>5</td>\n",
       "      <td>0</td>\n",
       "      <td>31</td>\n",
       "      <td>20</td>\n",
       "      <td>-</td>\n",
       "      <td>56</td>\n",
       "      <td>5</td>\n",
       "      <td>0</td>\n",
       "      <td>31</td>\n",
       "      <td>20</td>\n",
       "      <td>-</td>\n",
       "      <td>43.076923</td>\n",
       "      <td>43.076923</td>\n",
       "      <td>6.756757</td>\n",
       "      <td>6.756757</td>\n",
       "      <td>0.00000</td>\n",
       "      <td>0.000000</td>\n",
       "      <td>24.031008</td>\n",
       "      <td>24.031008</td>\n",
       "      <td>69</td>\n",
       "      <td>43</td>\n",
       "      <td>98</td>\n",
       "      <td>No</td>\n",
       "      <td>No</td>\n",
       "      <td>No</td>\n",
       "      <td>No</td>\n",
       "      <td>No</td>\n",
       "      <td>No</td>\n",
       "    </tr>\n",
       "    <tr>\n",
       "      <th>2</th>\n",
       "      <td>Ai Tong School</td>\n",
       "      <td>Co-Ed School</td>\n",
       "      <td>Government-Aided School</td>\n",
       "      <td>No</td>\n",
       "      <td>No</td>\n",
       "      <td>No</td>\n",
       "      <td>12</td>\n",
       "      <td>933.0</td>\n",
       "      <td>240</td>\n",
       "      <td>110</td>\n",
       "      <td>20</td>\n",
       "      <td>42</td>\n",
       "      <td>0</td>\n",
       "      <td>0</td>\n",
       "      <td>130</td>\n",
       "      <td>146</td>\n",
       "      <td>48</td>\n",
       "      <td>86</td>\n",
       "      <td>0</td>\n",
       "      <td>-</td>\n",
       "      <td>130</td>\n",
       "      <td>110</td>\n",
       "      <td>20</td>\n",
       "      <td>42</td>\n",
       "      <td>0</td>\n",
       "      <td>-</td>\n",
       "      <td>54.166667</td>\n",
       "      <td>54.166667</td>\n",
       "      <td>100.000000</td>\n",
       "      <td>132.727273</td>\n",
       "      <td>100.00000</td>\n",
       "      <td>240.000000</td>\n",
       "      <td>100.000000</td>\n",
       "      <td>204.761905</td>\n",
       "      <td>0</td>\n",
       "      <td>0</td>\n",
       "      <td>0</td>\n",
       "      <td>Yes</td>\n",
       "      <td>Yes</td>\n",
       "      <td>Yes</td>\n",
       "      <td>36</td>\n",
       "      <td>28</td>\n",
       "      <td>44</td>\n",
       "    </tr>\n",
       "    <tr>\n",
       "      <th>3</th>\n",
       "      <td>Alexandra Primary School</td>\n",
       "      <td>Co-Ed School</td>\n",
       "      <td>Government School</td>\n",
       "      <td>No</td>\n",
       "      <td>No</td>\n",
       "      <td>No</td>\n",
       "      <td>18</td>\n",
       "      <td>1745.0</td>\n",
       "      <td>140</td>\n",
       "      <td>65</td>\n",
       "      <td>39</td>\n",
       "      <td>113</td>\n",
       "      <td>0</td>\n",
       "      <td>0</td>\n",
       "      <td>75</td>\n",
       "      <td>9</td>\n",
       "      <td>4</td>\n",
       "      <td>146</td>\n",
       "      <td>0</td>\n",
       "      <td>-</td>\n",
       "      <td>75</td>\n",
       "      <td>9</td>\n",
       "      <td>4</td>\n",
       "      <td>113</td>\n",
       "      <td>0</td>\n",
       "      <td>-</td>\n",
       "      <td>53.571429</td>\n",
       "      <td>53.571429</td>\n",
       "      <td>13.846154</td>\n",
       "      <td>13.846154</td>\n",
       "      <td>10.25641</td>\n",
       "      <td>10.256410</td>\n",
       "      <td>100.000000</td>\n",
       "      <td>129.203540</td>\n",
       "      <td>56</td>\n",
       "      <td>35</td>\n",
       "      <td>0</td>\n",
       "      <td>No</td>\n",
       "      <td>No</td>\n",
       "      <td>Yes</td>\n",
       "      <td>No</td>\n",
       "      <td>No</td>\n",
       "      <td>33</td>\n",
       "    </tr>\n",
       "    <tr>\n",
       "      <th>4</th>\n",
       "      <td>Anchor Green Primary School</td>\n",
       "      <td>Co-Ed School</td>\n",
       "      <td>Government School</td>\n",
       "      <td>No</td>\n",
       "      <td>No</td>\n",
       "      <td>No</td>\n",
       "      <td>14</td>\n",
       "      <td>1281.0</td>\n",
       "      <td>180</td>\n",
       "      <td>105</td>\n",
       "      <td>40</td>\n",
       "      <td>120</td>\n",
       "      <td>96</td>\n",
       "      <td>0</td>\n",
       "      <td>75</td>\n",
       "      <td>46</td>\n",
       "      <td>0</td>\n",
       "      <td>24</td>\n",
       "      <td>108</td>\n",
       "      <td>-</td>\n",
       "      <td>75</td>\n",
       "      <td>46</td>\n",
       "      <td>0</td>\n",
       "      <td>24</td>\n",
       "      <td>96</td>\n",
       "      <td>-</td>\n",
       "      <td>41.666667</td>\n",
       "      <td>41.666667</td>\n",
       "      <td>43.809524</td>\n",
       "      <td>43.809524</td>\n",
       "      <td>0.00000</td>\n",
       "      <td>0.000000</td>\n",
       "      <td>20.000000</td>\n",
       "      <td>20.000000</td>\n",
       "      <td>59</td>\n",
       "      <td>40</td>\n",
       "      <td>96</td>\n",
       "      <td>No</td>\n",
       "      <td>No</td>\n",
       "      <td>No</td>\n",
       "      <td>No</td>\n",
       "      <td>No</td>\n",
       "      <td>No</td>\n",
       "    </tr>\n",
       "  </tbody>\n",
       "</table>\n",
       "</div>"
      ],
      "text/plain": [
       "                           Name School_Nature              School_Type  \\\n",
       "0      Admiralty Primary School  Co-Ed School        Government School   \n",
       "1  Ahmad Ibrahim Primary School  Co-Ed School        Government School   \n",
       "2                Ai Tong School  Co-Ed School  Government-Aided School   \n",
       "3      Alexandra Primary School  Co-Ed School        Government School   \n",
       "4   Anchor Green Primary School  Co-Ed School        Government School   \n",
       "\n",
       "  Affiliation GEP  IP  Number_of_CCA  CCA_Sum_Score  Phase1_vac  Phase2A_vac  \\\n",
       "0          No  No  No             19         1803.0         150           44   \n",
       "1          No  No  No             12         1074.0         130           74   \n",
       "2          No  No  No             12          933.0         240          110   \n",
       "3          No  No  No             18         1745.0         140           65   \n",
       "4          No  No  No             14         1281.0         180          105   \n",
       "\n",
       "   Phase2B_vac  Phase2C_vac  Phase2CS_vac  Phase3_vac  Phase1_applied  \\\n",
       "0           22           45             0           0             107   \n",
       "1           43          129            98          78              56   \n",
       "2           20           42             0           0             130   \n",
       "3           39          113             0           0              75   \n",
       "4           40          120            96           0              75   \n",
       "\n",
       "   Phase2A_applied  Phase2B_applied  Phase2C_applied  Phase2CS_applied  \\\n",
       "0               37               49              104                 0   \n",
       "1                5                0               31                20   \n",
       "2              146               48               86                 0   \n",
       "3                9                4              146                 0   \n",
       "4               46                0               24               108   \n",
       "\n",
       "  Phase3_applied  Phase1_taken  Phase2A_taken  Phase2B_taken  Phase2C_taken  \\\n",
       "0              -           107             37             22             45   \n",
       "1              -            56              5              0             31   \n",
       "2              -           130            110             20             42   \n",
       "3              -            75              9              4            113   \n",
       "4              -            75             46              0             24   \n",
       "\n",
       "   Phase2CS_taken Phase3_taken  Phase1_sub_taken  Phase1_sub_apply  \\\n",
       "0               0            -         71.333333         71.333333   \n",
       "1              20            -         43.076923         43.076923   \n",
       "2               0            -         54.166667         54.166667   \n",
       "3               0            -         53.571429         53.571429   \n",
       "4              96            -         41.666667         41.666667   \n",
       "\n",
       "   Phase2A_sub_taken  Phase2A_sub_apply  Phase2B_sub_taken  Phase2B_sub_apply  \\\n",
       "0          84.090909          84.090909          100.00000         222.727273   \n",
       "1           6.756757           6.756757            0.00000           0.000000   \n",
       "2         100.000000         132.727273          100.00000         240.000000   \n",
       "3          13.846154          13.846154           10.25641          10.256410   \n",
       "4          43.809524          43.809524            0.00000           0.000000   \n",
       "\n",
       "   Phase2C_sub_taken  Phase2C_sub_apply  After_Phase1_2A_vac  \\\n",
       "0         100.000000         231.111111                    7   \n",
       "1          24.031008          24.031008                   69   \n",
       "2         100.000000         204.761905                    0   \n",
       "3         100.000000         129.203540                   56   \n",
       "4          20.000000          20.000000                   59   \n",
       "\n",
       "   After_Phase2B_vac  After_Phase2C_vac Phase2A_oversub Phase2B_oversub  \\\n",
       "0                  0                  0              No             Yes   \n",
       "1                 43                 98              No              No   \n",
       "2                  0                  0             Yes             Yes   \n",
       "3                 35                  0              No              No   \n",
       "4                 40                 96              No              No   \n",
       "\n",
       "  Phase2C_oversub Phase2A_oversub_count Phase2B_oversub_count  \\\n",
       "0             Yes                    No                    27   \n",
       "1              No                    No                    No   \n",
       "2             Yes                    36                    28   \n",
       "3             Yes                    No                    No   \n",
       "4              No                    No                    No   \n",
       "\n",
       "  Phase2C_oversub_count  \n",
       "0                    59  \n",
       "1                    No  \n",
       "2                    44  \n",
       "3                    33  \n",
       "4                    No  "
      ]
     },
     "execution_count": 162,
     "metadata": {},
     "output_type": "execute_result"
    }
   ],
   "source": [
    "df_school_full.head()"
   ]
  },
  {
   "cell_type": "code",
   "execution_count": 173,
   "metadata": {},
   "outputs": [
    {
     "data": {
      "application/vnd.plotly.v1+json": {
       "config": {
        "plotlyServerURL": "https://plot.ly"
       },
       "data": [
        {
         "alignmentgroup": "True",
         "customdata": [
          [
           44,
           "No"
          ],
          [
           74,
           "No"
          ],
          [
           110,
           "36"
          ],
          [
           65,
           "No"
          ],
          [
           105,
           "No"
          ],
          [
           59,
           "No"
          ],
          [
           102,
           "No"
          ],
          [
           132,
           "No"
          ],
          [
           118,
           "No"
          ],
          [
           162,
           "No"
          ],
          [
           82,
           "No"
          ],
          [
           109,
           "No"
          ],
          [
           78,
           "No"
          ],
          [
           41,
           "No"
          ],
          [
           175,
           "No"
          ],
          [
           80,
           "No"
          ],
          [
           71,
           "No"
          ],
          [
           182,
           "No"
          ],
          [
           101,
           "No"
          ],
          [
           91,
           "No"
          ],
          [
           82,
           "No"
          ],
          [
           57,
           "No"
          ],
          [
           122,
           "No"
          ],
          [
           95,
           "No"
          ],
          [
           90,
           "22"
          ],
          [
           94,
           "No"
          ],
          [
           26,
           "No"
          ],
          [
           76,
           "No"
          ],
          [
           40,
           "No"
          ],
          [
           110,
           "39"
          ],
          [
           147,
           "No"
          ],
          [
           97,
           "No"
          ],
          [
           101,
           "No"
          ],
          [
           32,
           "7"
          ],
          [
           66,
           "No"
          ],
          [
           138,
           "No"
          ],
          [
           82,
           "No"
          ],
          [
           77,
           "No"
          ],
          [
           98,
           "No"
          ],
          [
           124,
           "No"
          ],
          [
           51,
           "No"
          ],
          [
           101,
           "No"
          ],
          [
           64,
           "No"
          ],
          [
           93,
           "No"
          ],
          [
           40,
           "No"
          ],
          [
           103,
           "No"
          ],
          [
           82,
           "No"
          ],
          [
           88,
           "10"
          ],
          [
           86,
           "No"
          ],
          [
           36,
           "No"
          ],
          [
           61,
           "No"
          ],
          [
           88,
           "No"
          ],
          [
           72,
           "No"
          ],
          [
           70,
           "22"
          ],
          [
           99,
           "No"
          ],
          [
           37,
           "No"
          ],
          [
           54,
           "No"
          ],
          [
           107,
           "No"
          ],
          [
           59,
           "57"
          ],
          [
           95,
           "No"
          ],
          [
           69,
           "No"
          ],
          [
           85,
           "No"
          ],
          [
           93,
           "No"
          ],
          [
           109,
           "30"
          ],
          [
           88,
           "15"
          ],
          [
           77,
           "No"
          ],
          [
           79,
           "13"
          ],
          [
           41,
           "No"
          ],
          [
           105,
           "No"
          ],
          [
           45,
           "No"
          ],
          [
           46,
           "No"
          ],
          [
           35,
           "No"
          ],
          [
           94,
           "No"
          ],
          [
           40,
           "No"
          ],
          [
           33,
           "No"
          ],
          [
           60,
           "No"
          ],
          [
           98,
           "No"
          ],
          [
           111,
           "No"
          ],
          [
           59,
           "No"
          ],
          [
           77,
           "No"
          ],
          [
           76,
           "No"
          ],
          [
           187,
           "No"
          ],
          [
           138,
           "No"
          ],
          [
           128,
           "No"
          ],
          [
           88,
           "No"
          ],
          [
           148,
           "No"
          ],
          [
           75,
           "No"
          ],
          [
           123,
           "No"
          ],
          [
           71,
           "No"
          ],
          [
           69,
           "20"
          ],
          [
           64,
           "No"
          ],
          [
           97,
           "No"
          ],
          [
           77,
           "34"
          ],
          [
           156,
           "29"
          ],
          [
           106,
           "No"
          ],
          [
           117,
           "No"
          ],
          [
           95,
           "No"
          ],
          [
           85,
           "No"
          ],
          [
           99,
           "No"
          ],
          [
           101,
           "No"
          ],
          [
           60,
           "2"
          ],
          [
           131,
           "No"
          ],
          [
           147,
           "No"
          ],
          [
           54,
           "17"
          ],
          [
           56,
           "No"
          ],
          [
           88,
           "No"
          ],
          [
           58,
           "No"
          ],
          [
           37,
           "No"
          ],
          [
           131,
           "No"
          ],
          [
           106,
           "23"
          ],
          [
           44,
           "68"
          ],
          [
           156,
           "No"
          ],
          [
           64,
           "No"
          ],
          [
           98,
           "No"
          ],
          [
           42,
           "18"
          ],
          [
           91,
           "No"
          ],
          [
           68,
           "31"
          ],
          [
           46,
           "No"
          ],
          [
           65,
           "17"
          ],
          [
           116,
           "No"
          ],
          [
           121,
           "No"
          ],
          [
           74,
           "No"
          ],
          [
           55,
           "7"
          ],
          [
           121,
           "No"
          ],
          [
           64,
           "30"
          ],
          [
           65,
           "No"
          ],
          [
           47,
           "25"
          ],
          [
           47,
           "No"
          ],
          [
           73,
           "40"
          ],
          [
           90,
           "17"
          ],
          [
           53,
           "No"
          ],
          [
           90,
           "No"
          ],
          [
           110,
           "No"
          ],
          [
           72,
           "No"
          ],
          [
           45,
           "No"
          ],
          [
           77,
           "2"
          ],
          [
           78,
           "17"
          ],
          [
           99,
           "No"
          ],
          [
           118,
           "No"
          ],
          [
           149,
           "No"
          ],
          [
           73,
           "No"
          ],
          [
           61,
           "No"
          ],
          [
           69,
           "25"
          ],
          [
           107,
           "No"
          ],
          [
           86,
           "No"
          ],
          [
           145,
           "No"
          ],
          [
           99,
           "No"
          ],
          [
           89,
           "No"
          ],
          [
           55,
           "No"
          ],
          [
           136,
           "No"
          ],
          [
           77,
           "No"
          ],
          [
           123,
           "No"
          ],
          [
           51,
           "No"
          ],
          [
           49,
           "13"
          ],
          [
           78,
           "No"
          ],
          [
           74,
           "No"
          ],
          [
           115,
           "No"
          ],
          [
           100,
           "No"
          ],
          [
           79,
           "2"
          ],
          [
           110,
           "No"
          ],
          [
           57,
           "15"
          ],
          [
           53,
           "No"
          ],
          [
           74,
           "29"
          ],
          [
           56,
           "No"
          ],
          [
           34,
           "No"
          ],
          [
           59,
           "No"
          ],
          [
           101,
           "No"
          ],
          [
           181,
           "No"
          ],
          [
           153,
           "No"
          ],
          [
           72,
           "No"
          ],
          [
           61,
           "No"
          ],
          [
           33,
           "No"
          ],
          [
           83,
           "No"
          ],
          [
           85,
           "No"
          ],
          [
           55,
           "No"
          ],
          [
           42,
           "1"
          ],
          [
           101,
           "No"
          ],
          [
           60,
           "No"
          ],
          [
           45,
           "No"
          ],
          [
           89,
           "No"
          ],
          [
           62,
           "No"
          ]
         ],
         "hovertemplate": "%{value} <br>Total Phase Vacancy: %{customdata[0]} <br>Oversubscribed: %{customdata[1]}",
         "legendgroup": "Phase2A_applied",
         "marker": {
          "color": "grey",
          "pattern": {
           "shape": ""
          }
         },
         "name": "Subscribed",
         "offsetgroup": "Phase2A_applied",
         "orientation": "h",
         "showlegend": true,
         "textfont": {
          "color": "white"
         },
         "textposition": "inside",
         "texttemplate": "%{x:f}",
         "type": "bar",
         "x": [
          37,
          5,
          146,
          9,
          46,
          36,
          13,
          112,
          95,
          20,
          7,
          17,
          5,
          6,
          11,
          55,
          6,
          12,
          33,
          13,
          4,
          20,
          22,
          74,
          112,
          25,
          6,
          2,
          16,
          149,
          20,
          12,
          87,
          39,
          31,
          17,
          12,
          21,
          6,
          8,
          40,
          17,
          11,
          15,
          10,
          7,
          17,
          98,
          20,
          22,
          48,
          35,
          6,
          92,
          12,
          15,
          2,
          34,
          116,
          22,
          12,
          6,
          25,
          139,
          103,
          29,
          92,
          5,
          68,
          7,
          22,
          22,
          42,
          21,
          12,
          49,
          15,
          75,
          20,
          45,
          23,
          11,
          88,
          106,
          11,
          7,
          20,
          34,
          25,
          89,
          9,
          35,
          111,
          185,
          61,
          4,
          28,
          7,
          15,
          44,
          62,
          5,
          31,
          71,
          8,
          9,
          10,
          33,
          69,
          129,
          112,
          43,
          17,
          29,
          60,
          58,
          99,
          22,
          82,
          43,
          19,
          16,
          62,
          52,
          94,
          49,
          72,
          14,
          113,
          107,
          8,
          4,
          100,
          42,
          8,
          79,
          95,
          74,
          66,
          9,
          38,
          20,
          94,
          56,
          26,
          19,
          13,
          66,
          27,
          127,
          13,
          12,
          28,
          62,
          9,
          10,
          77,
          77,
          81,
          15,
          72,
          29,
          103,
          10,
          18,
          26,
          20,
          10,
          25,
          60,
          10,
          29,
          4,
          5,
          15,
          43,
          12,
          11,
          11,
          59,
          6
         ],
         "xaxis": "x",
         "y": [
          "Admiralty Primary School",
          "Ahmad Ibrahim Primary School",
          "Ai Tong School",
          "Alexandra Primary School",
          "Anchor Green Primary School",
          "Anderson Primary School",
          "Ang Mo Kio Primary School",
          "Anglo-Chinese School (Junior)",
          "Anglo-Chinese School (Primary)",
          "Angsana Primary School",
          "Beacon Primary School",
          "Bedok Green Primary School",
          "Bendemeer Primary School",
          "Blangah Rise Primary School",
          "Boon Lay Garden Primary School",
          "Bukit Panjang Primary School",
          "Bukit Timah Primary School",
          "Bukit View Primary School",
          "CHIJ (Katong) Primary",
          "CHIJ (Kellock)",
          "CHIJ Our Lady Queen of Peace",
          "CHIJ Our Lady of Good Counsel",
          "CHIJ Our Lady of the Nativity",
          "CHIJ Primary (Toa Payoh)",
          "CHIJ St. Nicholas Girls' School (Primary Section)",
          "Canberra Primary School",
          "Canossa Catholic Primary School",
          "Cantonment Primary School",
          "Casuarina Primary School",
          "Catholic High School (Primary Section)",
          "Cedar Primary School",
          "Changkat Primary School",
          "Chongfu School",
          "Chongzheng Primary School",
          "Chua Chu Kang Primary School",
          "Clementi Primary School",
          "Compassvale Primary School",
          "Concord Primary School",
          "Corporation Primary School",
          "Damai Primary School",
          "Dazhong Primary School",
          "De La Salle School",
          "East Spring Primary School",
          "Edgefield Primary School",
          "Elias Park Primary School",
          "Endeavour Primary School",
          "Evergreen Primary School",
          "Fairfield Methodist School (Primary)",
          "Farrer Park Primary School",
          "Fengshan Primary School",
          "Fern Green Primary School",
          "Fernvale Primary School",
          "First Toa Payoh Primary School",
          "Frontier Primary School",
          "Fuchun Primary School",
          "Fuhua Primary School",
          "Gan Eng Seng Primary School",
          "Geylang Methodist School (Primary)",
          "Gongshang Primary School",
          "Greendale Primary School",
          "Greenridge Primary School",
          "Greenwood Primary School",
          "Haig Girls' School",
          "Henry Park Primary School",
          "Holy Innocents' Primary School",
          "Hong Wen School",
          "Horizon Primary School",
          "Hougang Primary School",
          "Huamin Primary School",
          "Innova Primary School",
          "Jiemin Primary School",
          "Jing Shan Primary School",
          "Junyuan Primary School",
          "Jurong Primary School",
          "Jurong West Primary School",
          "Keming Primary School",
          "Kheng Cheng School",
          "Kong Hwa School",
          "Kranji Primary School",
          "Kuo Chuan Presbyterian Primary School",
          "Lakeside Primary School",
          "Lianhua Primary School",
          "Maha Bodhi School",
          "Maris Stella High School (Primary Section)",
          "Marsiling Primary School",
          "Marymount Convent School",
          "Mayflower Primary School",
          "Mee Toh School",
          "Meridian Primary School",
          "Methodist Girls' School (Primary)",
          "Montfort Junior School",
          "Nan Chiau Primary School",
          "Nan Hua Primary School",
          "Nanyang Primary School",
          "Naval Base Primary School",
          "New Town Primary School",
          "Ngee Ann Primary School",
          "North Spring Primary School",
          "North View Primary School",
          "North Vista Primary School",
          "Northland Primary School",
          "Northoaks Primary School",
          "Northshore Primary School",
          "Oasis Primary School",
          "Opera Estate Primary School",
          "Palm View Primary School",
          "Park View Primary School",
          "Pasir Ris Primary School",
          "Paya Lebar Methodist Girls' School (Primary)",
          "Pei Chun Public School",
          "Pei Hwa Presbyterian Primary School",
          "Pei Tong Primary School",
          "Peiying Primary School",
          "Poi Ching School",
          "Princess Elizabeth Primary School",
          "Punggol Cove Primary School",
          "Punggol Green Primary School",
          "Punggol Primary School",
          "Punggol View Primary School",
          "Qifa Primary School",
          "Qihua Primary School",
          "Queenstown Primary School",
          "Radin Mas Primary School",
          "Raffles Girls' Primary School",
          "Red Swastika School",
          "River Valley Primary School",
          "Riverside Primary School",
          "Rivervale Primary School",
          "Rosyth School",
          "Rulang Primary School",
          "Sembawang Primary School",
          "Seng Kang Primary School",
          "Sengkang Green Primary School",
          "Shuqun Primary School",
          "Si Ling Primary School",
          "Singapore Chinese Girls' Primary School",
          "South View Primary School",
          "Springdale Primary School",
          "St. Andrew's Junior School",
          "St. Anthony's Canossian Primary School",
          "St. Anthony's Primary School",
          "St. Gabriel's Primary School",
          "St. Hilda's Primary School",
          "St. Joseph's Institution Junior",
          "St. Margaret's Primary School",
          "St. Stephen's School",
          "Tampines North Primary School",
          "Tampines Primary School",
          "Tanjong Katong Primary School",
          "Tao Nan School",
          "Teck Ghee Primary School",
          "Teck Whye Primary School",
          "Telok Kurau Primary School",
          "Temasek Primary School",
          "Townsville Primary School",
          "Unity Primary School",
          "Valour Primary School",
          "Waterway Primary School",
          "Wellington Primary School",
          "West Grove Primary School",
          "West Spring Primary School",
          "West View Primary School",
          "Westwood Primary School",
          "White Sands Primary School",
          "Woodgrove Primary School",
          "Woodlands Primary School",
          "Woodlands Ring Primary School",
          "Xinghua Primary School",
          "Xingnan Primary School",
          "Xinmin Primary School",
          "Xishan Primary School",
          "Yangzheng Primary School",
          "Yew Tee Primary School",
          "Yio Chu Kang Primary School",
          "Yishun Primary School",
          "Yu Neng Primary School",
          "Yuhua Primary School",
          "Yumin Primary School",
          "Zhangde Primary School",
          "Zhenghua Primary School",
          "Zhonghua Primary School"
         ],
         "yaxis": "y"
        },
        {
         "alignmentgroup": "True",
         "customdata": [
          [
           44,
           "No"
          ],
          [
           74,
           "No"
          ],
          [
           110,
           "36"
          ],
          [
           65,
           "No"
          ],
          [
           105,
           "No"
          ],
          [
           59,
           "No"
          ],
          [
           102,
           "No"
          ],
          [
           132,
           "No"
          ],
          [
           118,
           "No"
          ],
          [
           162,
           "No"
          ],
          [
           82,
           "No"
          ],
          [
           109,
           "No"
          ],
          [
           78,
           "No"
          ],
          [
           41,
           "No"
          ],
          [
           175,
           "No"
          ],
          [
           80,
           "No"
          ],
          [
           71,
           "No"
          ],
          [
           182,
           "No"
          ],
          [
           101,
           "No"
          ],
          [
           91,
           "No"
          ],
          [
           82,
           "No"
          ],
          [
           57,
           "No"
          ],
          [
           122,
           "No"
          ],
          [
           95,
           "No"
          ],
          [
           90,
           "22"
          ],
          [
           94,
           "No"
          ],
          [
           26,
           "No"
          ],
          [
           76,
           "No"
          ],
          [
           40,
           "No"
          ],
          [
           110,
           "39"
          ],
          [
           147,
           "No"
          ],
          [
           97,
           "No"
          ],
          [
           101,
           "No"
          ],
          [
           32,
           "7"
          ],
          [
           66,
           "No"
          ],
          [
           138,
           "No"
          ],
          [
           82,
           "No"
          ],
          [
           77,
           "No"
          ],
          [
           98,
           "No"
          ],
          [
           124,
           "No"
          ],
          [
           51,
           "No"
          ],
          [
           101,
           "No"
          ],
          [
           64,
           "No"
          ],
          [
           93,
           "No"
          ],
          [
           40,
           "No"
          ],
          [
           103,
           "No"
          ],
          [
           82,
           "No"
          ],
          [
           88,
           "10"
          ],
          [
           86,
           "No"
          ],
          [
           36,
           "No"
          ],
          [
           61,
           "No"
          ],
          [
           88,
           "No"
          ],
          [
           72,
           "No"
          ],
          [
           70,
           "22"
          ],
          [
           99,
           "No"
          ],
          [
           37,
           "No"
          ],
          [
           54,
           "No"
          ],
          [
           107,
           "No"
          ],
          [
           59,
           "57"
          ],
          [
           95,
           "No"
          ],
          [
           69,
           "No"
          ],
          [
           85,
           "No"
          ],
          [
           93,
           "No"
          ],
          [
           109,
           "30"
          ],
          [
           88,
           "15"
          ],
          [
           77,
           "No"
          ],
          [
           79,
           "13"
          ],
          [
           41,
           "No"
          ],
          [
           105,
           "No"
          ],
          [
           45,
           "No"
          ],
          [
           46,
           "No"
          ],
          [
           35,
           "No"
          ],
          [
           94,
           "No"
          ],
          [
           40,
           "No"
          ],
          [
           33,
           "No"
          ],
          [
           60,
           "No"
          ],
          [
           98,
           "No"
          ],
          [
           111,
           "No"
          ],
          [
           59,
           "No"
          ],
          [
           77,
           "No"
          ],
          [
           76,
           "No"
          ],
          [
           187,
           "No"
          ],
          [
           138,
           "No"
          ],
          [
           128,
           "No"
          ],
          [
           88,
           "No"
          ],
          [
           148,
           "No"
          ],
          [
           75,
           "No"
          ],
          [
           123,
           "No"
          ],
          [
           71,
           "No"
          ],
          [
           69,
           "20"
          ],
          [
           64,
           "No"
          ],
          [
           97,
           "No"
          ],
          [
           77,
           "34"
          ],
          [
           156,
           "29"
          ],
          [
           106,
           "No"
          ],
          [
           117,
           "No"
          ],
          [
           95,
           "No"
          ],
          [
           85,
           "No"
          ],
          [
           99,
           "No"
          ],
          [
           101,
           "No"
          ],
          [
           60,
           "2"
          ],
          [
           131,
           "No"
          ],
          [
           147,
           "No"
          ],
          [
           54,
           "17"
          ],
          [
           56,
           "No"
          ],
          [
           88,
           "No"
          ],
          [
           58,
           "No"
          ],
          [
           37,
           "No"
          ],
          [
           131,
           "No"
          ],
          [
           106,
           "23"
          ],
          [
           44,
           "68"
          ],
          [
           156,
           "No"
          ],
          [
           64,
           "No"
          ],
          [
           98,
           "No"
          ],
          [
           42,
           "18"
          ],
          [
           91,
           "No"
          ],
          [
           68,
           "31"
          ],
          [
           46,
           "No"
          ],
          [
           65,
           "17"
          ],
          [
           116,
           "No"
          ],
          [
           121,
           "No"
          ],
          [
           74,
           "No"
          ],
          [
           55,
           "7"
          ],
          [
           121,
           "No"
          ],
          [
           64,
           "30"
          ],
          [
           65,
           "No"
          ],
          [
           47,
           "25"
          ],
          [
           47,
           "No"
          ],
          [
           73,
           "40"
          ],
          [
           90,
           "17"
          ],
          [
           53,
           "No"
          ],
          [
           90,
           "No"
          ],
          [
           110,
           "No"
          ],
          [
           72,
           "No"
          ],
          [
           45,
           "No"
          ],
          [
           77,
           "2"
          ],
          [
           78,
           "17"
          ],
          [
           99,
           "No"
          ],
          [
           118,
           "No"
          ],
          [
           149,
           "No"
          ],
          [
           73,
           "No"
          ],
          [
           61,
           "No"
          ],
          [
           69,
           "25"
          ],
          [
           107,
           "No"
          ],
          [
           86,
           "No"
          ],
          [
           145,
           "No"
          ],
          [
           99,
           "No"
          ],
          [
           89,
           "No"
          ],
          [
           55,
           "No"
          ],
          [
           136,
           "No"
          ],
          [
           77,
           "No"
          ],
          [
           123,
           "No"
          ],
          [
           51,
           "No"
          ],
          [
           49,
           "13"
          ],
          [
           78,
           "No"
          ],
          [
           74,
           "No"
          ],
          [
           115,
           "No"
          ],
          [
           100,
           "No"
          ],
          [
           79,
           "2"
          ],
          [
           110,
           "No"
          ],
          [
           57,
           "15"
          ],
          [
           53,
           "No"
          ],
          [
           74,
           "29"
          ],
          [
           56,
           "No"
          ],
          [
           34,
           "No"
          ],
          [
           59,
           "No"
          ],
          [
           101,
           "No"
          ],
          [
           181,
           "No"
          ],
          [
           153,
           "No"
          ],
          [
           72,
           "No"
          ],
          [
           61,
           "No"
          ],
          [
           33,
           "No"
          ],
          [
           83,
           "No"
          ],
          [
           85,
           "No"
          ],
          [
           55,
           "No"
          ],
          [
           42,
           "1"
          ],
          [
           101,
           "No"
          ],
          [
           60,
           "No"
          ],
          [
           45,
           "No"
          ],
          [
           89,
           "No"
          ],
          [
           62,
           "No"
          ]
         ],
         "hovertemplate": "%{value} <br>Total Phase Vacancy: %{customdata[0]} <br>Oversubscribed: %{customdata[1]}",
         "legendgroup": "After_Phase1_2A_vac",
         "marker": {
          "color": "green",
          "pattern": {
           "shape": ""
          }
         },
         "name": "Remaining Vacancy",
         "offsetgroup": "After_Phase1_2A_vac",
         "orientation": "h",
         "showlegend": true,
         "textfont": {
          "color": "white"
         },
         "textposition": "inside",
         "texttemplate": "%{x:f}",
         "type": "bar",
         "x": [
          7,
          69,
          0,
          56,
          59,
          23,
          89,
          20,
          23,
          142,
          75,
          92,
          73,
          35,
          164,
          25,
          65,
          170,
          68,
          78,
          78,
          37,
          100,
          21,
          0,
          69,
          20,
          74,
          24,
          0,
          127,
          85,
          14,
          0,
          35,
          121,
          70,
          56,
          92,
          116,
          11,
          84,
          53,
          78,
          30,
          96,
          65,
          0,
          66,
          14,
          13,
          53,
          66,
          0,
          87,
          22,
          52,
          73,
          0,
          73,
          57,
          79,
          68,
          0,
          0,
          48,
          0,
          36,
          37,
          38,
          24,
          13,
          52,
          19,
          21,
          11,
          83,
          36,
          39,
          32,
          53,
          176,
          50,
          22,
          77,
          141,
          55,
          89,
          46,
          0,
          55,
          62,
          0,
          0,
          45,
          113,
          67,
          78,
          84,
          57,
          0,
          126,
          116,
          0,
          48,
          79,
          48,
          4,
          62,
          0,
          0,
          113,
          47,
          69,
          0,
          33,
          0,
          24,
          0,
          73,
          102,
          58,
          0,
          69,
          0,
          16,
          0,
          33,
          0,
          0,
          45,
          86,
          10,
          30,
          37,
          0,
          0,
          25,
          52,
          140,
          35,
          41,
          0,
          51,
          60,
          126,
          86,
          23,
          28,
          9,
          64,
          111,
          23,
          0,
          69,
          64,
          38,
          23,
          0,
          95,
          0,
          24,
          0,
          46,
          16,
          33,
          81,
          171,
          128,
          12,
          51,
          4,
          79,
          80,
          40,
          0,
          89,
          49,
          34,
          30,
          56
         ],
         "xaxis": "x",
         "y": [
          "Admiralty Primary School",
          "Ahmad Ibrahim Primary School",
          "Ai Tong School",
          "Alexandra Primary School",
          "Anchor Green Primary School",
          "Anderson Primary School",
          "Ang Mo Kio Primary School",
          "Anglo-Chinese School (Junior)",
          "Anglo-Chinese School (Primary)",
          "Angsana Primary School",
          "Beacon Primary School",
          "Bedok Green Primary School",
          "Bendemeer Primary School",
          "Blangah Rise Primary School",
          "Boon Lay Garden Primary School",
          "Bukit Panjang Primary School",
          "Bukit Timah Primary School",
          "Bukit View Primary School",
          "CHIJ (Katong) Primary",
          "CHIJ (Kellock)",
          "CHIJ Our Lady Queen of Peace",
          "CHIJ Our Lady of Good Counsel",
          "CHIJ Our Lady of the Nativity",
          "CHIJ Primary (Toa Payoh)",
          "CHIJ St. Nicholas Girls' School (Primary Section)",
          "Canberra Primary School",
          "Canossa Catholic Primary School",
          "Cantonment Primary School",
          "Casuarina Primary School",
          "Catholic High School (Primary Section)",
          "Cedar Primary School",
          "Changkat Primary School",
          "Chongfu School",
          "Chongzheng Primary School",
          "Chua Chu Kang Primary School",
          "Clementi Primary School",
          "Compassvale Primary School",
          "Concord Primary School",
          "Corporation Primary School",
          "Damai Primary School",
          "Dazhong Primary School",
          "De La Salle School",
          "East Spring Primary School",
          "Edgefield Primary School",
          "Elias Park Primary School",
          "Endeavour Primary School",
          "Evergreen Primary School",
          "Fairfield Methodist School (Primary)",
          "Farrer Park Primary School",
          "Fengshan Primary School",
          "Fern Green Primary School",
          "Fernvale Primary School",
          "First Toa Payoh Primary School",
          "Frontier Primary School",
          "Fuchun Primary School",
          "Fuhua Primary School",
          "Gan Eng Seng Primary School",
          "Geylang Methodist School (Primary)",
          "Gongshang Primary School",
          "Greendale Primary School",
          "Greenridge Primary School",
          "Greenwood Primary School",
          "Haig Girls' School",
          "Henry Park Primary School",
          "Holy Innocents' Primary School",
          "Hong Wen School",
          "Horizon Primary School",
          "Hougang Primary School",
          "Huamin Primary School",
          "Innova Primary School",
          "Jiemin Primary School",
          "Jing Shan Primary School",
          "Junyuan Primary School",
          "Jurong Primary School",
          "Jurong West Primary School",
          "Keming Primary School",
          "Kheng Cheng School",
          "Kong Hwa School",
          "Kranji Primary School",
          "Kuo Chuan Presbyterian Primary School",
          "Lakeside Primary School",
          "Lianhua Primary School",
          "Maha Bodhi School",
          "Maris Stella High School (Primary Section)",
          "Marsiling Primary School",
          "Marymount Convent School",
          "Mayflower Primary School",
          "Mee Toh School",
          "Meridian Primary School",
          "Methodist Girls' School (Primary)",
          "Montfort Junior School",
          "Nan Chiau Primary School",
          "Nan Hua Primary School",
          "Nanyang Primary School",
          "Naval Base Primary School",
          "New Town Primary School",
          "Ngee Ann Primary School",
          "North Spring Primary School",
          "North View Primary School",
          "North Vista Primary School",
          "Northland Primary School",
          "Northoaks Primary School",
          "Northshore Primary School",
          "Oasis Primary School",
          "Opera Estate Primary School",
          "Palm View Primary School",
          "Park View Primary School",
          "Pasir Ris Primary School",
          "Paya Lebar Methodist Girls' School (Primary)",
          "Pei Chun Public School",
          "Pei Hwa Presbyterian Primary School",
          "Pei Tong Primary School",
          "Peiying Primary School",
          "Poi Ching School",
          "Princess Elizabeth Primary School",
          "Punggol Cove Primary School",
          "Punggol Green Primary School",
          "Punggol Primary School",
          "Punggol View Primary School",
          "Qifa Primary School",
          "Qihua Primary School",
          "Queenstown Primary School",
          "Radin Mas Primary School",
          "Raffles Girls' Primary School",
          "Red Swastika School",
          "River Valley Primary School",
          "Riverside Primary School",
          "Rivervale Primary School",
          "Rosyth School",
          "Rulang Primary School",
          "Sembawang Primary School",
          "Seng Kang Primary School",
          "Sengkang Green Primary School",
          "Shuqun Primary School",
          "Si Ling Primary School",
          "Singapore Chinese Girls' Primary School",
          "South View Primary School",
          "Springdale Primary School",
          "St. Andrew's Junior School",
          "St. Anthony's Canossian Primary School",
          "St. Anthony's Primary School",
          "St. Gabriel's Primary School",
          "St. Hilda's Primary School",
          "St. Joseph's Institution Junior",
          "St. Margaret's Primary School",
          "St. Stephen's School",
          "Tampines North Primary School",
          "Tampines Primary School",
          "Tanjong Katong Primary School",
          "Tao Nan School",
          "Teck Ghee Primary School",
          "Teck Whye Primary School",
          "Telok Kurau Primary School",
          "Temasek Primary School",
          "Townsville Primary School",
          "Unity Primary School",
          "Valour Primary School",
          "Waterway Primary School",
          "Wellington Primary School",
          "West Grove Primary School",
          "West Spring Primary School",
          "West View Primary School",
          "Westwood Primary School",
          "White Sands Primary School",
          "Woodgrove Primary School",
          "Woodlands Primary School",
          "Woodlands Ring Primary School",
          "Xinghua Primary School",
          "Xingnan Primary School",
          "Xinmin Primary School",
          "Xishan Primary School",
          "Yangzheng Primary School",
          "Yew Tee Primary School",
          "Yio Chu Kang Primary School",
          "Yishun Primary School",
          "Yu Neng Primary School",
          "Yuhua Primary School",
          "Yumin Primary School",
          "Zhangde Primary School",
          "Zhenghua Primary School",
          "Zhonghua Primary School"
         ],
         "yaxis": "y"
        }
       ],
       "layout": {
        "annotations": [
         {
          "arrowhead": 1,
          "ax": 20,
          "bgcolor": "#ff7f0e",
          "bordercolor": "#c7c7c7",
          "opacity": 0.8,
          "showarrow": true,
          "text": "Oversub: 36",
          "x": 110,
          "y": "Ai Tong School"
         },
         {
          "arrowhead": 1,
          "ax": 20,
          "bgcolor": "#ff7f0e",
          "bordercolor": "#c7c7c7",
          "opacity": 0.8,
          "showarrow": true,
          "text": "Oversub: 22",
          "x": 90,
          "y": "CHIJ St. Nicholas Girls' School (Primary Section)"
         },
         {
          "arrowhead": 1,
          "ax": 20,
          "bgcolor": "#ff7f0e",
          "bordercolor": "#c7c7c7",
          "opacity": 0.8,
          "showarrow": true,
          "text": "Oversub: 39",
          "x": 110,
          "y": "Catholic High School (Primary Section)"
         },
         {
          "arrowhead": 1,
          "ax": 20,
          "bgcolor": "#ff7f0e",
          "bordercolor": "#c7c7c7",
          "opacity": 0.8,
          "showarrow": true,
          "text": "Oversub: 7",
          "x": 32,
          "y": "Chongzheng Primary School"
         },
         {
          "arrowhead": 1,
          "ax": 20,
          "bgcolor": "#ff7f0e",
          "bordercolor": "#c7c7c7",
          "opacity": 0.8,
          "showarrow": true,
          "text": "Oversub: 10",
          "x": 88,
          "y": "Fairfield Methodist School (Primary)"
         },
         {
          "arrowhead": 1,
          "ax": 20,
          "bgcolor": "#ff7f0e",
          "bordercolor": "#c7c7c7",
          "opacity": 0.8,
          "showarrow": true,
          "text": "Oversub: 22",
          "x": 70,
          "y": "Frontier Primary School"
         },
         {
          "arrowhead": 1,
          "ax": 20,
          "bgcolor": "#ff7f0e",
          "bordercolor": "#c7c7c7",
          "opacity": 0.8,
          "showarrow": true,
          "text": "Oversub: 57",
          "x": 59,
          "y": "Gongshang Primary School"
         },
         {
          "arrowhead": 1,
          "ax": 20,
          "bgcolor": "#ff7f0e",
          "bordercolor": "#c7c7c7",
          "opacity": 0.8,
          "showarrow": true,
          "text": "Oversub: 30",
          "x": 109,
          "y": "Henry Park Primary School"
         },
         {
          "arrowhead": 1,
          "ax": 20,
          "bgcolor": "#ff7f0e",
          "bordercolor": "#c7c7c7",
          "opacity": 0.8,
          "showarrow": true,
          "text": "Oversub: 15",
          "x": 88,
          "y": "Holy Innocents' Primary School"
         },
         {
          "arrowhead": 1,
          "ax": 20,
          "bgcolor": "#ff7f0e",
          "bordercolor": "#c7c7c7",
          "opacity": 0.8,
          "showarrow": true,
          "text": "Oversub: 13",
          "x": 79,
          "y": "Horizon Primary School"
         },
         {
          "arrowhead": 1,
          "ax": 20,
          "bgcolor": "#ff7f0e",
          "bordercolor": "#c7c7c7",
          "opacity": 0.8,
          "showarrow": true,
          "text": "Oversub: 20",
          "x": 69,
          "y": "Methodist Girls' School (Primary)"
         },
         {
          "arrowhead": 1,
          "ax": 20,
          "bgcolor": "#ff7f0e",
          "bordercolor": "#c7c7c7",
          "opacity": 0.8,
          "showarrow": true,
          "text": "Oversub: 34",
          "x": 77,
          "y": "Nan Hua Primary School"
         },
         {
          "arrowhead": 1,
          "ax": 20,
          "bgcolor": "#ff7f0e",
          "bordercolor": "#c7c7c7",
          "opacity": 0.8,
          "showarrow": true,
          "text": "Oversub: 29",
          "x": 156,
          "y": "Nanyang Primary School"
         },
         {
          "arrowhead": 1,
          "ax": 20,
          "bgcolor": "#ff7f0e",
          "bordercolor": "#c7c7c7",
          "opacity": 0.8,
          "showarrow": true,
          "text": "Oversub: 2",
          "x": 60,
          "y": "Northland Primary School"
         },
         {
          "arrowhead": 1,
          "ax": 20,
          "bgcolor": "#ff7f0e",
          "bordercolor": "#c7c7c7",
          "opacity": 0.8,
          "showarrow": true,
          "text": "Oversub: 17",
          "x": 54,
          "y": "Oasis Primary School"
         },
         {
          "arrowhead": 1,
          "ax": 20,
          "bgcolor": "#ff7f0e",
          "bordercolor": "#c7c7c7",
          "opacity": 0.8,
          "showarrow": true,
          "text": "Oversub: 23",
          "x": 106,
          "y": "Pei Chun Public School"
         },
         {
          "arrowhead": 1,
          "ax": 20,
          "bgcolor": "#ff7f0e",
          "bordercolor": "#c7c7c7",
          "opacity": 0.8,
          "showarrow": true,
          "text": "Oversub: 68",
          "x": 44,
          "y": "Pei Hwa Presbyterian Primary School"
         },
         {
          "arrowhead": 1,
          "ax": 20,
          "bgcolor": "#ff7f0e",
          "bordercolor": "#c7c7c7",
          "opacity": 0.8,
          "showarrow": true,
          "text": "Oversub: 18",
          "x": 42,
          "y": "Princess Elizabeth Primary School"
         },
         {
          "arrowhead": 1,
          "ax": 20,
          "bgcolor": "#ff7f0e",
          "bordercolor": "#c7c7c7",
          "opacity": 0.8,
          "showarrow": true,
          "text": "Oversub: 31",
          "x": 68,
          "y": "Punggol Green Primary School"
         },
         {
          "arrowhead": 1,
          "ax": 20,
          "bgcolor": "#ff7f0e",
          "bordercolor": "#c7c7c7",
          "opacity": 0.8,
          "showarrow": true,
          "text": "Oversub: 17",
          "x": 65,
          "y": "Punggol View Primary School"
         },
         {
          "arrowhead": 1,
          "ax": 20,
          "bgcolor": "#ff7f0e",
          "bordercolor": "#c7c7c7",
          "opacity": 0.8,
          "showarrow": true,
          "text": "Oversub: 7",
          "x": 55,
          "y": "Radin Mas Primary School"
         },
         {
          "arrowhead": 1,
          "ax": 20,
          "bgcolor": "#ff7f0e",
          "bordercolor": "#c7c7c7",
          "opacity": 0.8,
          "showarrow": true,
          "text": "Oversub: 30",
          "x": 64,
          "y": "Red Swastika School"
         },
         {
          "arrowhead": 1,
          "ax": 20,
          "bgcolor": "#ff7f0e",
          "bordercolor": "#c7c7c7",
          "opacity": 0.8,
          "showarrow": true,
          "text": "Oversub: 25",
          "x": 47,
          "y": "Riverside Primary School"
         },
         {
          "arrowhead": 1,
          "ax": 20,
          "bgcolor": "#ff7f0e",
          "bordercolor": "#c7c7c7",
          "opacity": 0.8,
          "showarrow": true,
          "text": "Oversub: 40",
          "x": 73,
          "y": "Rosyth School"
         },
         {
          "arrowhead": 1,
          "ax": 20,
          "bgcolor": "#ff7f0e",
          "bordercolor": "#c7c7c7",
          "opacity": 0.8,
          "showarrow": true,
          "text": "Oversub: 17",
          "x": 90,
          "y": "Rulang Primary School"
         },
         {
          "arrowhead": 1,
          "ax": 20,
          "bgcolor": "#ff7f0e",
          "bordercolor": "#c7c7c7",
          "opacity": 0.8,
          "showarrow": true,
          "text": "Oversub: 2",
          "x": 77,
          "y": "Singapore Chinese Girls' Primary School"
         },
         {
          "arrowhead": 1,
          "ax": 20,
          "bgcolor": "#ff7f0e",
          "bordercolor": "#c7c7c7",
          "opacity": 0.8,
          "showarrow": true,
          "text": "Oversub: 17",
          "x": 78,
          "y": "South View Primary School"
         },
         {
          "arrowhead": 1,
          "ax": 20,
          "bgcolor": "#ff7f0e",
          "bordercolor": "#c7c7c7",
          "opacity": 0.8,
          "showarrow": true,
          "text": "Oversub: 25",
          "x": 69,
          "y": "St. Hilda's Primary School"
         },
         {
          "arrowhead": 1,
          "ax": 20,
          "bgcolor": "#ff7f0e",
          "bordercolor": "#c7c7c7",
          "opacity": 0.8,
          "showarrow": true,
          "text": "Oversub: 13",
          "x": 49,
          "y": "Temasek Primary School"
         },
         {
          "arrowhead": 1,
          "ax": 20,
          "bgcolor": "#ff7f0e",
          "bordercolor": "#c7c7c7",
          "opacity": 0.8,
          "showarrow": true,
          "text": "Oversub: 2",
          "x": 79,
          "y": "Wellington Primary School"
         },
         {
          "arrowhead": 1,
          "ax": 20,
          "bgcolor": "#ff7f0e",
          "bordercolor": "#c7c7c7",
          "opacity": 0.8,
          "showarrow": true,
          "text": "Oversub: 15",
          "x": 57,
          "y": "West Spring Primary School"
         },
         {
          "arrowhead": 1,
          "ax": 20,
          "bgcolor": "#ff7f0e",
          "bordercolor": "#c7c7c7",
          "opacity": 0.8,
          "showarrow": true,
          "text": "Oversub: 29",
          "x": 74,
          "y": "Westwood Primary School"
         },
         {
          "arrowhead": 1,
          "ax": 20,
          "bgcolor": "#ff7f0e",
          "bordercolor": "#c7c7c7",
          "opacity": 0.8,
          "showarrow": true,
          "text": "Oversub: 1",
          "x": 42,
          "y": "Yu Neng Primary School"
         }
        ],
        "barmode": "relative",
        "height": 5000,
        "hovermode": "y unified",
        "legend": {
         "title": {
          "text": "Legend"
         },
         "tracegroupgap": 0
        },
        "shapes": [
         {
          "line": {
           "color": "red"
          },
          "name": "Oversub",
          "type": "circle",
          "x0": 110,
          "x1": 110,
          "y0": "Ai Tong School",
          "y1": "Alexandra Primary School"
         },
         {
          "line": {
           "color": "red"
          },
          "name": "Oversub",
          "type": "circle",
          "x0": 90,
          "x1": 90,
          "y0": "CHIJ St. Nicholas Girls' School (Primary Section)",
          "y1": "Canberra Primary School"
         },
         {
          "line": {
           "color": "red"
          },
          "name": "Oversub",
          "type": "circle",
          "x0": 110,
          "x1": 110,
          "y0": "Catholic High School (Primary Section)",
          "y1": "Cedar Primary School"
         },
         {
          "line": {
           "color": "red"
          },
          "name": "Oversub",
          "type": "circle",
          "x0": 32,
          "x1": 32,
          "y0": "Chongzheng Primary School",
          "y1": "Chua Chu Kang Primary School"
         },
         {
          "line": {
           "color": "red"
          },
          "name": "Oversub",
          "type": "circle",
          "x0": 88,
          "x1": 88,
          "y0": "Fairfield Methodist School (Primary)",
          "y1": "Farrer Park Primary School"
         },
         {
          "line": {
           "color": "red"
          },
          "name": "Oversub",
          "type": "circle",
          "x0": 70,
          "x1": 70,
          "y0": "Frontier Primary School",
          "y1": "Fuchun Primary School"
         },
         {
          "line": {
           "color": "red"
          },
          "name": "Oversub",
          "type": "circle",
          "x0": 59,
          "x1": 59,
          "y0": "Gongshang Primary School",
          "y1": "Greendale Primary School"
         },
         {
          "line": {
           "color": "red"
          },
          "name": "Oversub",
          "type": "circle",
          "x0": 109,
          "x1": 109,
          "y0": "Henry Park Primary School",
          "y1": "Holy Innocents' Primary School"
         },
         {
          "line": {
           "color": "red"
          },
          "name": "Oversub",
          "type": "circle",
          "x0": 88,
          "x1": 88,
          "y0": "Holy Innocents' Primary School",
          "y1": "Hong Wen School"
         },
         {
          "line": {
           "color": "red"
          },
          "name": "Oversub",
          "type": "circle",
          "x0": 79,
          "x1": 79,
          "y0": "Horizon Primary School",
          "y1": "Hougang Primary School"
         },
         {
          "line": {
           "color": "red"
          },
          "name": "Oversub",
          "type": "circle",
          "x0": 69,
          "x1": 69,
          "y0": "Methodist Girls' School (Primary)",
          "y1": "Montfort Junior School"
         },
         {
          "line": {
           "color": "red"
          },
          "name": "Oversub",
          "type": "circle",
          "x0": 77,
          "x1": 77,
          "y0": "Nan Hua Primary School",
          "y1": "Nanyang Primary School"
         },
         {
          "line": {
           "color": "red"
          },
          "name": "Oversub",
          "type": "circle",
          "x0": 156,
          "x1": 156,
          "y0": "Nanyang Primary School",
          "y1": "Naval Base Primary School"
         },
         {
          "line": {
           "color": "red"
          },
          "name": "Oversub",
          "type": "circle",
          "x0": 60,
          "x1": 60,
          "y0": "Northland Primary School",
          "y1": "Northoaks Primary School"
         },
         {
          "line": {
           "color": "red"
          },
          "name": "Oversub",
          "type": "circle",
          "x0": 54,
          "x1": 54,
          "y0": "Oasis Primary School",
          "y1": "Opera Estate Primary School"
         },
         {
          "line": {
           "color": "red"
          },
          "name": "Oversub",
          "type": "circle",
          "x0": 106,
          "x1": 106,
          "y0": "Pei Chun Public School",
          "y1": "Pei Hwa Presbyterian Primary School"
         },
         {
          "line": {
           "color": "red"
          },
          "name": "Oversub",
          "type": "circle",
          "x0": 44,
          "x1": 44,
          "y0": "Pei Hwa Presbyterian Primary School",
          "y1": "Pei Tong Primary School"
         },
         {
          "line": {
           "color": "red"
          },
          "name": "Oversub",
          "type": "circle",
          "x0": 42,
          "x1": 42,
          "y0": "Princess Elizabeth Primary School",
          "y1": "Punggol Cove Primary School"
         },
         {
          "line": {
           "color": "red"
          },
          "name": "Oversub",
          "type": "circle",
          "x0": 68,
          "x1": 68,
          "y0": "Punggol Green Primary School",
          "y1": "Punggol Primary School"
         },
         {
          "line": {
           "color": "red"
          },
          "name": "Oversub",
          "type": "circle",
          "x0": 65,
          "x1": 65,
          "y0": "Punggol View Primary School",
          "y1": "Qifa Primary School"
         },
         {
          "line": {
           "color": "red"
          },
          "name": "Oversub",
          "type": "circle",
          "x0": 55,
          "x1": 55,
          "y0": "Radin Mas Primary School",
          "y1": "Raffles Girls' Primary School"
         },
         {
          "line": {
           "color": "red"
          },
          "name": "Oversub",
          "type": "circle",
          "x0": 64,
          "x1": 64,
          "y0": "Red Swastika School",
          "y1": "River Valley Primary School"
         },
         {
          "line": {
           "color": "red"
          },
          "name": "Oversub",
          "type": "circle",
          "x0": 47,
          "x1": 47,
          "y0": "Riverside Primary School",
          "y1": "Rivervale Primary School"
         },
         {
          "line": {
           "color": "red"
          },
          "name": "Oversub",
          "type": "circle",
          "x0": 73,
          "x1": 73,
          "y0": "Rosyth School",
          "y1": "Rulang Primary School"
         },
         {
          "line": {
           "color": "red"
          },
          "name": "Oversub",
          "type": "circle",
          "x0": 90,
          "x1": 90,
          "y0": "Rulang Primary School",
          "y1": "Sembawang Primary School"
         },
         {
          "line": {
           "color": "red"
          },
          "name": "Oversub",
          "type": "circle",
          "x0": 77,
          "x1": 77,
          "y0": "Singapore Chinese Girls' Primary School",
          "y1": "South View Primary School"
         },
         {
          "line": {
           "color": "red"
          },
          "name": "Oversub",
          "type": "circle",
          "x0": 78,
          "x1": 78,
          "y0": "South View Primary School",
          "y1": "Springdale Primary School"
         },
         {
          "line": {
           "color": "red"
          },
          "name": "Oversub",
          "type": "circle",
          "x0": 69,
          "x1": 69,
          "y0": "St. Hilda's Primary School",
          "y1": "St. Joseph's Institution Junior"
         },
         {
          "line": {
           "color": "red"
          },
          "name": "Oversub",
          "type": "circle",
          "x0": 49,
          "x1": 49,
          "y0": "Temasek Primary School",
          "y1": "Townsville Primary School"
         },
         {
          "line": {
           "color": "red"
          },
          "name": "Oversub",
          "type": "circle",
          "x0": 79,
          "x1": 79,
          "y0": "Wellington Primary School",
          "y1": "West Grove Primary School"
         },
         {
          "line": {
           "color": "red"
          },
          "name": "Oversub",
          "type": "circle",
          "x0": 57,
          "x1": 57,
          "y0": "West Spring Primary School",
          "y1": "West View Primary School"
         },
         {
          "line": {
           "color": "red"
          },
          "name": "Oversub",
          "type": "circle",
          "x0": 74,
          "x1": 74,
          "y0": "Westwood Primary School",
          "y1": "White Sands Primary School"
         },
         {
          "line": {
           "color": "red"
          },
          "name": "Oversub",
          "type": "circle",
          "x0": 42,
          "x1": 42,
          "y0": "Yu Neng Primary School",
          "y1": "Yuhua Primary School"
         }
        ],
        "template": {
         "data": {
          "bar": [
           {
            "error_x": {
             "color": "#2a3f5f"
            },
            "error_y": {
             "color": "#2a3f5f"
            },
            "marker": {
             "line": {
              "color": "#E5ECF6",
              "width": 0.5
             },
             "pattern": {
              "fillmode": "overlay",
              "size": 10,
              "solidity": 0.2
             }
            },
            "type": "bar"
           }
          ],
          "barpolar": [
           {
            "marker": {
             "line": {
              "color": "#E5ECF6",
              "width": 0.5
             },
             "pattern": {
              "fillmode": "overlay",
              "size": 10,
              "solidity": 0.2
             }
            },
            "type": "barpolar"
           }
          ],
          "carpet": [
           {
            "aaxis": {
             "endlinecolor": "#2a3f5f",
             "gridcolor": "white",
             "linecolor": "white",
             "minorgridcolor": "white",
             "startlinecolor": "#2a3f5f"
            },
            "baxis": {
             "endlinecolor": "#2a3f5f",
             "gridcolor": "white",
             "linecolor": "white",
             "minorgridcolor": "white",
             "startlinecolor": "#2a3f5f"
            },
            "type": "carpet"
           }
          ],
          "choropleth": [
           {
            "colorbar": {
             "outlinewidth": 0,
             "ticks": ""
            },
            "type": "choropleth"
           }
          ],
          "contour": [
           {
            "colorbar": {
             "outlinewidth": 0,
             "ticks": ""
            },
            "colorscale": [
             [
              0,
              "#0d0887"
             ],
             [
              0.1111111111111111,
              "#46039f"
             ],
             [
              0.2222222222222222,
              "#7201a8"
             ],
             [
              0.3333333333333333,
              "#9c179e"
             ],
             [
              0.4444444444444444,
              "#bd3786"
             ],
             [
              0.5555555555555556,
              "#d8576b"
             ],
             [
              0.6666666666666666,
              "#ed7953"
             ],
             [
              0.7777777777777778,
              "#fb9f3a"
             ],
             [
              0.8888888888888888,
              "#fdca26"
             ],
             [
              1,
              "#f0f921"
             ]
            ],
            "type": "contour"
           }
          ],
          "contourcarpet": [
           {
            "colorbar": {
             "outlinewidth": 0,
             "ticks": ""
            },
            "type": "contourcarpet"
           }
          ],
          "heatmap": [
           {
            "colorbar": {
             "outlinewidth": 0,
             "ticks": ""
            },
            "colorscale": [
             [
              0,
              "#0d0887"
             ],
             [
              0.1111111111111111,
              "#46039f"
             ],
             [
              0.2222222222222222,
              "#7201a8"
             ],
             [
              0.3333333333333333,
              "#9c179e"
             ],
             [
              0.4444444444444444,
              "#bd3786"
             ],
             [
              0.5555555555555556,
              "#d8576b"
             ],
             [
              0.6666666666666666,
              "#ed7953"
             ],
             [
              0.7777777777777778,
              "#fb9f3a"
             ],
             [
              0.8888888888888888,
              "#fdca26"
             ],
             [
              1,
              "#f0f921"
             ]
            ],
            "type": "heatmap"
           }
          ],
          "heatmapgl": [
           {
            "colorbar": {
             "outlinewidth": 0,
             "ticks": ""
            },
            "colorscale": [
             [
              0,
              "#0d0887"
             ],
             [
              0.1111111111111111,
              "#46039f"
             ],
             [
              0.2222222222222222,
              "#7201a8"
             ],
             [
              0.3333333333333333,
              "#9c179e"
             ],
             [
              0.4444444444444444,
              "#bd3786"
             ],
             [
              0.5555555555555556,
              "#d8576b"
             ],
             [
              0.6666666666666666,
              "#ed7953"
             ],
             [
              0.7777777777777778,
              "#fb9f3a"
             ],
             [
              0.8888888888888888,
              "#fdca26"
             ],
             [
              1,
              "#f0f921"
             ]
            ],
            "type": "heatmapgl"
           }
          ],
          "histogram": [
           {
            "marker": {
             "pattern": {
              "fillmode": "overlay",
              "size": 10,
              "solidity": 0.2
             }
            },
            "type": "histogram"
           }
          ],
          "histogram2d": [
           {
            "colorbar": {
             "outlinewidth": 0,
             "ticks": ""
            },
            "colorscale": [
             [
              0,
              "#0d0887"
             ],
             [
              0.1111111111111111,
              "#46039f"
             ],
             [
              0.2222222222222222,
              "#7201a8"
             ],
             [
              0.3333333333333333,
              "#9c179e"
             ],
             [
              0.4444444444444444,
              "#bd3786"
             ],
             [
              0.5555555555555556,
              "#d8576b"
             ],
             [
              0.6666666666666666,
              "#ed7953"
             ],
             [
              0.7777777777777778,
              "#fb9f3a"
             ],
             [
              0.8888888888888888,
              "#fdca26"
             ],
             [
              1,
              "#f0f921"
             ]
            ],
            "type": "histogram2d"
           }
          ],
          "histogram2dcontour": [
           {
            "colorbar": {
             "outlinewidth": 0,
             "ticks": ""
            },
            "colorscale": [
             [
              0,
              "#0d0887"
             ],
             [
              0.1111111111111111,
              "#46039f"
             ],
             [
              0.2222222222222222,
              "#7201a8"
             ],
             [
              0.3333333333333333,
              "#9c179e"
             ],
             [
              0.4444444444444444,
              "#bd3786"
             ],
             [
              0.5555555555555556,
              "#d8576b"
             ],
             [
              0.6666666666666666,
              "#ed7953"
             ],
             [
              0.7777777777777778,
              "#fb9f3a"
             ],
             [
              0.8888888888888888,
              "#fdca26"
             ],
             [
              1,
              "#f0f921"
             ]
            ],
            "type": "histogram2dcontour"
           }
          ],
          "mesh3d": [
           {
            "colorbar": {
             "outlinewidth": 0,
             "ticks": ""
            },
            "type": "mesh3d"
           }
          ],
          "parcoords": [
           {
            "line": {
             "colorbar": {
              "outlinewidth": 0,
              "ticks": ""
             }
            },
            "type": "parcoords"
           }
          ],
          "pie": [
           {
            "automargin": true,
            "type": "pie"
           }
          ],
          "scatter": [
           {
            "fillpattern": {
             "fillmode": "overlay",
             "size": 10,
             "solidity": 0.2
            },
            "type": "scatter"
           }
          ],
          "scatter3d": [
           {
            "line": {
             "colorbar": {
              "outlinewidth": 0,
              "ticks": ""
             }
            },
            "marker": {
             "colorbar": {
              "outlinewidth": 0,
              "ticks": ""
             }
            },
            "type": "scatter3d"
           }
          ],
          "scattercarpet": [
           {
            "marker": {
             "colorbar": {
              "outlinewidth": 0,
              "ticks": ""
             }
            },
            "type": "scattercarpet"
           }
          ],
          "scattergeo": [
           {
            "marker": {
             "colorbar": {
              "outlinewidth": 0,
              "ticks": ""
             }
            },
            "type": "scattergeo"
           }
          ],
          "scattergl": [
           {
            "marker": {
             "colorbar": {
              "outlinewidth": 0,
              "ticks": ""
             }
            },
            "type": "scattergl"
           }
          ],
          "scattermapbox": [
           {
            "marker": {
             "colorbar": {
              "outlinewidth": 0,
              "ticks": ""
             }
            },
            "type": "scattermapbox"
           }
          ],
          "scatterpolar": [
           {
            "marker": {
             "colorbar": {
              "outlinewidth": 0,
              "ticks": ""
             }
            },
            "type": "scatterpolar"
           }
          ],
          "scatterpolargl": [
           {
            "marker": {
             "colorbar": {
              "outlinewidth": 0,
              "ticks": ""
             }
            },
            "type": "scatterpolargl"
           }
          ],
          "scatterternary": [
           {
            "marker": {
             "colorbar": {
              "outlinewidth": 0,
              "ticks": ""
             }
            },
            "type": "scatterternary"
           }
          ],
          "surface": [
           {
            "colorbar": {
             "outlinewidth": 0,
             "ticks": ""
            },
            "colorscale": [
             [
              0,
              "#0d0887"
             ],
             [
              0.1111111111111111,
              "#46039f"
             ],
             [
              0.2222222222222222,
              "#7201a8"
             ],
             [
              0.3333333333333333,
              "#9c179e"
             ],
             [
              0.4444444444444444,
              "#bd3786"
             ],
             [
              0.5555555555555556,
              "#d8576b"
             ],
             [
              0.6666666666666666,
              "#ed7953"
             ],
             [
              0.7777777777777778,
              "#fb9f3a"
             ],
             [
              0.8888888888888888,
              "#fdca26"
             ],
             [
              1,
              "#f0f921"
             ]
            ],
            "type": "surface"
           }
          ],
          "table": [
           {
            "cells": {
             "fill": {
              "color": "#EBF0F8"
             },
             "line": {
              "color": "white"
             }
            },
            "header": {
             "fill": {
              "color": "#C8D4E3"
             },
             "line": {
              "color": "white"
             }
            },
            "type": "table"
           }
          ]
         },
         "layout": {
          "annotationdefaults": {
           "arrowcolor": "#2a3f5f",
           "arrowhead": 0,
           "arrowwidth": 1
          },
          "autotypenumbers": "strict",
          "coloraxis": {
           "colorbar": {
            "outlinewidth": 0,
            "ticks": ""
           }
          },
          "colorscale": {
           "diverging": [
            [
             0,
             "#8e0152"
            ],
            [
             0.1,
             "#c51b7d"
            ],
            [
             0.2,
             "#de77ae"
            ],
            [
             0.3,
             "#f1b6da"
            ],
            [
             0.4,
             "#fde0ef"
            ],
            [
             0.5,
             "#f7f7f7"
            ],
            [
             0.6,
             "#e6f5d0"
            ],
            [
             0.7,
             "#b8e186"
            ],
            [
             0.8,
             "#7fbc41"
            ],
            [
             0.9,
             "#4d9221"
            ],
            [
             1,
             "#276419"
            ]
           ],
           "sequential": [
            [
             0,
             "#0d0887"
            ],
            [
             0.1111111111111111,
             "#46039f"
            ],
            [
             0.2222222222222222,
             "#7201a8"
            ],
            [
             0.3333333333333333,
             "#9c179e"
            ],
            [
             0.4444444444444444,
             "#bd3786"
            ],
            [
             0.5555555555555556,
             "#d8576b"
            ],
            [
             0.6666666666666666,
             "#ed7953"
            ],
            [
             0.7777777777777778,
             "#fb9f3a"
            ],
            [
             0.8888888888888888,
             "#fdca26"
            ],
            [
             1,
             "#f0f921"
            ]
           ],
           "sequentialminus": [
            [
             0,
             "#0d0887"
            ],
            [
             0.1111111111111111,
             "#46039f"
            ],
            [
             0.2222222222222222,
             "#7201a8"
            ],
            [
             0.3333333333333333,
             "#9c179e"
            ],
            [
             0.4444444444444444,
             "#bd3786"
            ],
            [
             0.5555555555555556,
             "#d8576b"
            ],
            [
             0.6666666666666666,
             "#ed7953"
            ],
            [
             0.7777777777777778,
             "#fb9f3a"
            ],
            [
             0.8888888888888888,
             "#fdca26"
            ],
            [
             1,
             "#f0f921"
            ]
           ]
          },
          "colorway": [
           "#636efa",
           "#EF553B",
           "#00cc96",
           "#ab63fa",
           "#FFA15A",
           "#19d3f3",
           "#FF6692",
           "#B6E880",
           "#FF97FF",
           "#FECB52"
          ],
          "font": {
           "color": "#2a3f5f"
          },
          "geo": {
           "bgcolor": "white",
           "lakecolor": "white",
           "landcolor": "#E5ECF6",
           "showlakes": true,
           "showland": true,
           "subunitcolor": "white"
          },
          "hoverlabel": {
           "align": "left"
          },
          "hovermode": "closest",
          "mapbox": {
           "style": "light"
          },
          "paper_bgcolor": "white",
          "plot_bgcolor": "#E5ECF6",
          "polar": {
           "angularaxis": {
            "gridcolor": "white",
            "linecolor": "white",
            "ticks": ""
           },
           "bgcolor": "#E5ECF6",
           "radialaxis": {
            "gridcolor": "white",
            "linecolor": "white",
            "ticks": ""
           }
          },
          "scene": {
           "xaxis": {
            "backgroundcolor": "#E5ECF6",
            "gridcolor": "white",
            "gridwidth": 2,
            "linecolor": "white",
            "showbackground": true,
            "ticks": "",
            "zerolinecolor": "white"
           },
           "yaxis": {
            "backgroundcolor": "#E5ECF6",
            "gridcolor": "white",
            "gridwidth": 2,
            "linecolor": "white",
            "showbackground": true,
            "ticks": "",
            "zerolinecolor": "white"
           },
           "zaxis": {
            "backgroundcolor": "#E5ECF6",
            "gridcolor": "white",
            "gridwidth": 2,
            "linecolor": "white",
            "showbackground": true,
            "ticks": "",
            "zerolinecolor": "white"
           }
          },
          "shapedefaults": {
           "line": {
            "color": "#2a3f5f"
           }
          },
          "ternary": {
           "aaxis": {
            "gridcolor": "white",
            "linecolor": "white",
            "ticks": ""
           },
           "baxis": {
            "gridcolor": "white",
            "linecolor": "white",
            "ticks": ""
           },
           "bgcolor": "#E5ECF6",
           "caxis": {
            "gridcolor": "white",
            "linecolor": "white",
            "ticks": ""
           }
          },
          "title": {
           "x": 0.05
          },
          "xaxis": {
           "automargin": true,
           "gridcolor": "white",
           "linecolor": "white",
           "ticks": "",
           "title": {
            "standoff": 15
           },
           "zerolinecolor": "white",
           "zerolinewidth": 2
          },
          "yaxis": {
           "automargin": true,
           "gridcolor": "white",
           "linecolor": "white",
           "ticks": "",
           "title": {
            "standoff": 15
           },
           "zerolinecolor": "white",
           "zerolinewidth": 2
          }
         }
        },
        "title": {
         "text": "<b>Phase 2A Subscription Rate (Count)</b>"
        },
        "width": 1200,
        "xaxis": {
         "anchor": "y",
         "domain": [
          0,
          1
         ],
         "title": {
          "text": "value"
         }
        },
        "yaxis": {
         "anchor": "x",
         "categoryorder": "category descending",
         "domain": [
          0,
          1
         ],
         "title": {
          "text": ""
         }
        }
       }
      }
     },
     "metadata": {},
     "output_type": "display_data"
    }
   ],
   "source": [
    "color_discrete_map = {'Phase2A_applied': 'grey',\n",
    "                      'After_Phase1_2A_vac': 'green'}\n",
    "\n",
    "fig = px.bar(df_school_full,\n",
    "       y='Name',\n",
    "       x=['Phase2A_applied', 'After_Phase1_2A_vac'],\n",
    "       custom_data=['Phase2A_vac','Phase2A_oversub_count'],\n",
    "       color_discrete_map = color_discrete_map,\n",
    "       text_auto='f',\n",
    "       title=\"<b>Phase 2A Subscription Rate (Count)</b>\",\n",
    "       labels={'Name': ''},\n",
    "               #'value': 'Count'},\n",
    "       width=1200,\n",
    "       height=5000)\n",
    "\n",
    "fig.update_traces(hovertemplate = \"%{value} <br>Total Phase Vacancy: %{customdata[0]} <br>Oversubscribed: %{customdata[1]}\")\n",
    "\n",
    "fig.update_layout(legend_title=\"Legend\",\n",
    "                  yaxis={'categoryorder':'category descending'})\n",
    "fig.update_traces(textposition='inside', textfont_color='white')\n",
    "newnames = {'Phase2A_applied':'Subscribed', 'After_Phase1_2A_vac': 'Remaining Vacancy'}\n",
    "fig.for_each_trace(lambda t: t.update(name = newnames[t.name]))\n",
    "fig.update_layout(hovermode=\"y unified\")\n",
    "\n",
    "for i in range(len(df_school_full)):\n",
    "    if (df_school_full.Phase2A_oversub[i] == 'Yes'):\n",
    "        fig.add_shape(\n",
    "            type=\"circle\",\n",
    "            line_color=\"red\",\n",
    "            x0=df_school_full.Phase2A_vac[i],\n",
    "            y0=df_school_full.Name[i],\n",
    "            x1=df_school_full.Phase2A_vac[i],\n",
    "            y1=df_school_full.Name[i+1],\n",
    "            name='Oversub'\n",
    "        )\n",
    "        fig.add_annotation(x=df_school_full.Phase2A_vac[i], y=df_school_full.Name[i],\n",
    "            text=f\"Oversub: {df_school_full.Phase2A_oversub_count[i]}\",\n",
    "            showarrow=True,\n",
    "            arrowhead=1,\n",
    "            ax=20,\n",
    "            bordercolor=\"#c7c7c7\",\n",
    "            bgcolor=\"#ff7f0e\",\n",
    "            opacity=0.8\n",
    "            )\n",
    "fig.show()"
   ]
  },
  {
   "cell_type": "code",
   "execution_count": 174,
   "metadata": {},
   "outputs": [
    {
     "data": {
      "application/vnd.plotly.v1+json": {
       "config": {
        "plotlyServerURL": "https://plot.ly"
       },
       "data": [
        {
         "alignmentgroup": "True",
         "customdata": [
          [
           22,
           "27"
          ],
          [
           43,
           "No"
          ],
          [
           20,
           "28"
          ],
          [
           39,
           "No"
          ],
          [
           40,
           "No"
          ],
          [
           28,
           "No"
          ],
          [
           50,
           "No"
          ],
          [
           27,
           "30"
          ],
          [
           28,
           "27"
          ],
          [
           67,
           "No"
          ],
          [
           45,
           "No"
          ],
          [
           51,
           "No"
          ],
          [
           44,
           "No"
          ],
          [
           32,
           "No"
          ],
          [
           75,
           "No"
          ],
          [
           29,
           "No"
          ],
          [
           42,
           "No"
          ],
          [
           77,
           "No"
          ],
          [
           43,
           "No"
          ],
          [
           46,
           "No"
          ],
          [
           46,
           "No"
          ],
          [
           32,
           "No"
          ],
          [
           54,
           "No"
          ],
          [
           27,
           "13"
          ],
          [
           20,
           "26"
          ],
          [
           43,
           "No"
          ],
          [
           27,
           "No"
          ],
          [
           45,
           "No"
          ],
          [
           28,
           "No"
          ],
          [
           20,
           "23"
          ],
          [
           62,
           "No"
          ],
          [
           48,
           "No"
          ],
          [
           25,
           "26"
          ],
          [
           20,
           "No"
          ],
          [
           32,
           "No"
          ],
          [
           60,
           "No"
          ],
          [
           44,
           "No"
          ],
          [
           39,
           "No"
          ],
          [
           51,
           "No"
          ],
          [
           59,
           "No"
          ],
          [
           24,
           "No"
          ],
          [
           48,
           "No"
          ],
          [
           38,
           "No"
          ],
          [
           46,
           "No"
          ],
          [
           30,
           "No"
          ],
          [
           52,
           "No"
          ],
          [
           42,
           "No"
          ],
          [
           20,
           "13"
          ],
          [
           42,
           "No"
          ],
          [
           25,
           "No"
          ],
          [
           25,
           "No"
          ],
          [
           38,
           "No"
          ],
          [
           42,
           "No"
          ],
          [
           20,
           "No"
          ],
          [
           49,
           "No"
          ],
          [
           27,
           "No"
          ],
          [
           37,
           "No"
          ],
          [
           44,
           "No"
          ],
          [
           20,
           "No"
          ],
          [
           44,
           "No"
          ],
          [
           39,
           "No"
          ],
          [
           46,
           "No"
          ],
          [
           43,
           "No"
          ],
          [
           21,
           "8"
          ],
          [
           21,
           "29"
          ],
          [
           36,
           "No"
          ],
          [
           20,
           "No"
          ],
          [
           32,
           "No"
          ],
          [
           32,
           "No"
          ],
          [
           33,
           "No"
          ],
          [
           28,
           "No"
          ],
          [
           24,
           "No"
          ],
          [
           37,
           "No"
          ],
          [
           26,
           "No"
          ],
          [
           27,
           "No"
          ],
          [
           24,
           "No"
          ],
          [
           48,
           "No"
          ],
          [
           32,
           "33"
          ],
          [
           33,
           "No"
          ],
          [
           31,
           "23"
          ],
          [
           38,
           "No"
          ],
          [
           79,
           "No"
          ],
          [
           37,
           "No"
          ],
          [
           27,
           "18"
          ],
          [
           46,
           "No"
          ],
          [
           67,
           "No"
          ],
          [
           38,
           "No"
          ],
          [
           50,
           "No"
          ],
          [
           35,
           "No"
          ],
          [
           20,
           "59"
          ],
          [
           38,
           "No"
          ],
          [
           41,
           "38"
          ],
          [
           20,
           "18"
          ],
          [
           20,
           "17"
          ],
          [
           35,
           "No"
          ],
          [
           58,
           "No"
          ],
          [
           42,
           "No"
          ],
          [
           46,
           "No"
          ],
          [
           48,
           "No"
          ],
          [
           39,
           "No"
          ],
          [
           20,
           "2"
          ],
          [
           62,
           "No"
          ],
          [
           59,
           "No"
          ],
          [
           20,
           "No"
          ],
          [
           36,
           "No"
          ],
          [
           46,
           "No"
          ],
          [
           36,
           "No"
          ],
          [
           21,
           "1"
          ],
          [
           41,
           "6"
          ],
          [
           20,
           "7"
          ],
          [
           20,
           "17"
          ],
          [
           58,
           "No"
          ],
          [
           36,
           "No"
          ],
          [
           43,
           "No"
          ],
          [
           20,
           "No"
          ],
          [
           31,
           "No"
          ],
          [
           20,
           "No"
          ],
          [
           28,
           "No"
          ],
          [
           20,
           "No"
          ],
          [
           44,
           "No"
          ],
          [
           54,
           "No"
          ],
          [
           40,
           "No"
          ],
          [
           20,
           "No"
          ],
          [
           43,
           "No"
          ],
          [
           20,
           "6"
          ],
          [
           26,
           "No"
          ],
          [
           20,
           "No"
          ],
          [
           31,
           "No"
          ],
          [
           20,
           "4"
          ],
          [
           20,
           "14"
          ],
          [
           35,
           "No"
          ],
          [
           49,
           "No"
          ],
          [
           23,
           "No"
          ],
          [
           30,
           "No"
          ],
          [
           32,
           "No"
          ],
          [
           20,
           "14"
          ],
          [
           20,
           "10"
          ],
          [
           29,
           "No"
          ],
          [
           37,
           "No"
          ],
          [
           67,
           "No"
          ],
          [
           32,
           "7"
          ],
          [
           34,
           "No"
          ],
          [
           20,
           "20"
          ],
          [
           38,
           "46"
          ],
          [
           40,
           "No"
          ],
          [
           62,
           "No"
          ],
          [
           49,
           "No"
          ],
          [
           28,
           "No"
          ],
          [
           30,
           "No"
          ],
          [
           23,
           "38"
          ],
          [
           41,
           "No"
          ],
          [
           57,
           "No"
          ],
          [
           28,
           "No"
          ],
          [
           20,
           "No"
          ],
          [
           43,
           "No"
          ],
          [
           41,
           "No"
          ],
          [
           33,
           "No"
          ],
          [
           28,
           "No"
          ],
          [
           20,
           "No"
          ],
          [
           52,
           "No"
          ],
          [
           20,
           "No"
          ],
          [
           28,
           "No"
          ],
          [
           20,
           "No"
          ],
          [
           35,
           "No"
          ],
          [
           25,
           "No"
          ],
          [
           31,
           "No"
          ],
          [
           47,
           "No"
          ],
          [
           77,
           "No"
          ],
          [
           63,
           "No"
          ],
          [
           24,
           "8"
          ],
          [
           37,
           "No"
          ],
          [
           22,
           "No"
          ],
          [
           46,
           "No"
          ],
          [
           47,
           "No"
          ],
          [
           33,
           "No"
          ],
          [
           20,
           "No"
          ],
          [
           50,
           "No"
          ],
          [
           36,
           "No"
          ],
          [
           31,
           "No"
          ],
          [
           30,
           "No"
          ],
          [
           39,
           "No"
          ]
         ],
         "hovertemplate": "%{value} <br>Total Phase Vacancy: %{customdata[0]} <br>Oversubscribed: %{customdata[1]}",
         "legendgroup": "Phase2B_applied",
         "marker": {
          "color": "grey",
          "pattern": {
           "shape": ""
          }
         },
         "name": "Subscribed",
         "offsetgroup": "Phase2B_applied",
         "orientation": "h",
         "showlegend": true,
         "textfont": {
          "color": "white"
         },
         "textposition": "inside",
         "texttemplate": "%{x:f}",
         "type": "bar",
         "x": [
          49,
          0,
          48,
          4,
          0,
          21,
          0,
          57,
          55,
          0,
          0,
          0,
          0,
          0,
          0,
          21,
          1,
          0,
          16,
          16,
          12,
          20,
          53,
          40,
          46,
          19,
          16,
          0,
          0,
          43,
          0,
          0,
          51,
          7,
          25,
          0,
          17,
          3,
          1,
          0,
          0,
          12,
          0,
          0,
          2,
          3,
          0,
          33,
          1,
          1,
          2,
          1,
          0,
          14,
          1,
          0,
          0,
          4,
          15,
          0,
          0,
          1,
          1,
          29,
          50,
          27,
          19,
          18,
          2,
          14,
          1,
          1,
          0,
          0,
          4,
          19,
          4,
          65,
          0,
          54,
          0,
          1,
          33,
          45,
          0,
          13,
          0,
          50,
          0,
          79,
          15,
          79,
          38,
          37,
          1,
          0,
          4,
          0,
          0,
          0,
          22,
          0,
          1,
          0,
          1,
          1,
          1,
          22,
          47,
          27,
          37,
          0,
          0,
          27,
          5,
          1,
          4,
          6,
          0,
          22,
          5,
          0,
          20,
          39,
          26,
          20,
          2,
          12,
          24,
          34,
          1,
          0,
          21,
          11,
          0,
          34,
          30,
          0,
          31,
          6,
          39,
          24,
          40,
          84,
          19,
          23,
          0,
          2,
          14,
          61,
          6,
          0,
          2,
          10,
          3,
          0,
          2,
          1,
          4,
          8,
          0,
          0,
          11,
          14,
          5,
          13,
          0,
          0,
          1,
          32,
          1,
          9,
          1,
          0,
          0,
          10,
          0,
          0,
          1,
          0,
          1
         ],
         "xaxis": "x",
         "y": [
          "Admiralty Primary School",
          "Ahmad Ibrahim Primary School",
          "Ai Tong School",
          "Alexandra Primary School",
          "Anchor Green Primary School",
          "Anderson Primary School",
          "Ang Mo Kio Primary School",
          "Anglo-Chinese School (Junior)",
          "Anglo-Chinese School (Primary)",
          "Angsana Primary School",
          "Beacon Primary School",
          "Bedok Green Primary School",
          "Bendemeer Primary School",
          "Blangah Rise Primary School",
          "Boon Lay Garden Primary School",
          "Bukit Panjang Primary School",
          "Bukit Timah Primary School",
          "Bukit View Primary School",
          "CHIJ (Katong) Primary",
          "CHIJ (Kellock)",
          "CHIJ Our Lady Queen of Peace",
          "CHIJ Our Lady of Good Counsel",
          "CHIJ Our Lady of the Nativity",
          "CHIJ Primary (Toa Payoh)",
          "CHIJ St. Nicholas Girls' School (Primary Section)",
          "Canberra Primary School",
          "Canossa Catholic Primary School",
          "Cantonment Primary School",
          "Casuarina Primary School",
          "Catholic High School (Primary Section)",
          "Cedar Primary School",
          "Changkat Primary School",
          "Chongfu School",
          "Chongzheng Primary School",
          "Chua Chu Kang Primary School",
          "Clementi Primary School",
          "Compassvale Primary School",
          "Concord Primary School",
          "Corporation Primary School",
          "Damai Primary School",
          "Dazhong Primary School",
          "De La Salle School",
          "East Spring Primary School",
          "Edgefield Primary School",
          "Elias Park Primary School",
          "Endeavour Primary School",
          "Evergreen Primary School",
          "Fairfield Methodist School (Primary)",
          "Farrer Park Primary School",
          "Fengshan Primary School",
          "Fern Green Primary School",
          "Fernvale Primary School",
          "First Toa Payoh Primary School",
          "Frontier Primary School",
          "Fuchun Primary School",
          "Fuhua Primary School",
          "Gan Eng Seng Primary School",
          "Geylang Methodist School (Primary)",
          "Gongshang Primary School",
          "Greendale Primary School",
          "Greenridge Primary School",
          "Greenwood Primary School",
          "Haig Girls' School",
          "Henry Park Primary School",
          "Holy Innocents' Primary School",
          "Hong Wen School",
          "Horizon Primary School",
          "Hougang Primary School",
          "Huamin Primary School",
          "Innova Primary School",
          "Jiemin Primary School",
          "Jing Shan Primary School",
          "Junyuan Primary School",
          "Jurong Primary School",
          "Jurong West Primary School",
          "Keming Primary School",
          "Kheng Cheng School",
          "Kong Hwa School",
          "Kranji Primary School",
          "Kuo Chuan Presbyterian Primary School",
          "Lakeside Primary School",
          "Lianhua Primary School",
          "Maha Bodhi School",
          "Maris Stella High School (Primary Section)",
          "Marsiling Primary School",
          "Marymount Convent School",
          "Mayflower Primary School",
          "Mee Toh School",
          "Meridian Primary School",
          "Methodist Girls' School (Primary)",
          "Montfort Junior School",
          "Nan Chiau Primary School",
          "Nan Hua Primary School",
          "Nanyang Primary School",
          "Naval Base Primary School",
          "New Town Primary School",
          "Ngee Ann Primary School",
          "North Spring Primary School",
          "North View Primary School",
          "North Vista Primary School",
          "Northland Primary School",
          "Northoaks Primary School",
          "Northshore Primary School",
          "Oasis Primary School",
          "Opera Estate Primary School",
          "Palm View Primary School",
          "Park View Primary School",
          "Pasir Ris Primary School",
          "Paya Lebar Methodist Girls' School (Primary)",
          "Pei Chun Public School",
          "Pei Hwa Presbyterian Primary School",
          "Pei Tong Primary School",
          "Peiying Primary School",
          "Poi Ching School",
          "Princess Elizabeth Primary School",
          "Punggol Cove Primary School",
          "Punggol Green Primary School",
          "Punggol Primary School",
          "Punggol View Primary School",
          "Qifa Primary School",
          "Qihua Primary School",
          "Queenstown Primary School",
          "Radin Mas Primary School",
          "Raffles Girls' Primary School",
          "Red Swastika School",
          "River Valley Primary School",
          "Riverside Primary School",
          "Rivervale Primary School",
          "Rosyth School",
          "Rulang Primary School",
          "Sembawang Primary School",
          "Seng Kang Primary School",
          "Sengkang Green Primary School",
          "Shuqun Primary School",
          "Si Ling Primary School",
          "Singapore Chinese Girls' Primary School",
          "South View Primary School",
          "Springdale Primary School",
          "St. Andrew's Junior School",
          "St. Anthony's Canossian Primary School",
          "St. Anthony's Primary School",
          "St. Gabriel's Primary School",
          "St. Hilda's Primary School",
          "St. Joseph's Institution Junior",
          "St. Margaret's Primary School",
          "St. Stephen's School",
          "Tampines North Primary School",
          "Tampines Primary School",
          "Tanjong Katong Primary School",
          "Tao Nan School",
          "Teck Ghee Primary School",
          "Teck Whye Primary School",
          "Telok Kurau Primary School",
          "Temasek Primary School",
          "Townsville Primary School",
          "Unity Primary School",
          "Valour Primary School",
          "Waterway Primary School",
          "Wellington Primary School",
          "West Grove Primary School",
          "West Spring Primary School",
          "West View Primary School",
          "Westwood Primary School",
          "White Sands Primary School",
          "Woodgrove Primary School",
          "Woodlands Primary School",
          "Woodlands Ring Primary School",
          "Xinghua Primary School",
          "Xingnan Primary School",
          "Xinmin Primary School",
          "Xishan Primary School",
          "Yangzheng Primary School",
          "Yew Tee Primary School",
          "Yio Chu Kang Primary School",
          "Yishun Primary School",
          "Yu Neng Primary School",
          "Yuhua Primary School",
          "Yumin Primary School",
          "Zhangde Primary School",
          "Zhenghua Primary School",
          "Zhonghua Primary School"
         ],
         "yaxis": "y"
        },
        {
         "alignmentgroup": "True",
         "customdata": [
          [
           22,
           "27"
          ],
          [
           43,
           "No"
          ],
          [
           20,
           "28"
          ],
          [
           39,
           "No"
          ],
          [
           40,
           "No"
          ],
          [
           28,
           "No"
          ],
          [
           50,
           "No"
          ],
          [
           27,
           "30"
          ],
          [
           28,
           "27"
          ],
          [
           67,
           "No"
          ],
          [
           45,
           "No"
          ],
          [
           51,
           "No"
          ],
          [
           44,
           "No"
          ],
          [
           32,
           "No"
          ],
          [
           75,
           "No"
          ],
          [
           29,
           "No"
          ],
          [
           42,
           "No"
          ],
          [
           77,
           "No"
          ],
          [
           43,
           "No"
          ],
          [
           46,
           "No"
          ],
          [
           46,
           "No"
          ],
          [
           32,
           "No"
          ],
          [
           54,
           "No"
          ],
          [
           27,
           "13"
          ],
          [
           20,
           "26"
          ],
          [
           43,
           "No"
          ],
          [
           27,
           "No"
          ],
          [
           45,
           "No"
          ],
          [
           28,
           "No"
          ],
          [
           20,
           "23"
          ],
          [
           62,
           "No"
          ],
          [
           48,
           "No"
          ],
          [
           25,
           "26"
          ],
          [
           20,
           "No"
          ],
          [
           32,
           "No"
          ],
          [
           60,
           "No"
          ],
          [
           44,
           "No"
          ],
          [
           39,
           "No"
          ],
          [
           51,
           "No"
          ],
          [
           59,
           "No"
          ],
          [
           24,
           "No"
          ],
          [
           48,
           "No"
          ],
          [
           38,
           "No"
          ],
          [
           46,
           "No"
          ],
          [
           30,
           "No"
          ],
          [
           52,
           "No"
          ],
          [
           42,
           "No"
          ],
          [
           20,
           "13"
          ],
          [
           42,
           "No"
          ],
          [
           25,
           "No"
          ],
          [
           25,
           "No"
          ],
          [
           38,
           "No"
          ],
          [
           42,
           "No"
          ],
          [
           20,
           "No"
          ],
          [
           49,
           "No"
          ],
          [
           27,
           "No"
          ],
          [
           37,
           "No"
          ],
          [
           44,
           "No"
          ],
          [
           20,
           "No"
          ],
          [
           44,
           "No"
          ],
          [
           39,
           "No"
          ],
          [
           46,
           "No"
          ],
          [
           43,
           "No"
          ],
          [
           21,
           "8"
          ],
          [
           21,
           "29"
          ],
          [
           36,
           "No"
          ],
          [
           20,
           "No"
          ],
          [
           32,
           "No"
          ],
          [
           32,
           "No"
          ],
          [
           33,
           "No"
          ],
          [
           28,
           "No"
          ],
          [
           24,
           "No"
          ],
          [
           37,
           "No"
          ],
          [
           26,
           "No"
          ],
          [
           27,
           "No"
          ],
          [
           24,
           "No"
          ],
          [
           48,
           "No"
          ],
          [
           32,
           "33"
          ],
          [
           33,
           "No"
          ],
          [
           31,
           "23"
          ],
          [
           38,
           "No"
          ],
          [
           79,
           "No"
          ],
          [
           37,
           "No"
          ],
          [
           27,
           "18"
          ],
          [
           46,
           "No"
          ],
          [
           67,
           "No"
          ],
          [
           38,
           "No"
          ],
          [
           50,
           "No"
          ],
          [
           35,
           "No"
          ],
          [
           20,
           "59"
          ],
          [
           38,
           "No"
          ],
          [
           41,
           "38"
          ],
          [
           20,
           "18"
          ],
          [
           20,
           "17"
          ],
          [
           35,
           "No"
          ],
          [
           58,
           "No"
          ],
          [
           42,
           "No"
          ],
          [
           46,
           "No"
          ],
          [
           48,
           "No"
          ],
          [
           39,
           "No"
          ],
          [
           20,
           "2"
          ],
          [
           62,
           "No"
          ],
          [
           59,
           "No"
          ],
          [
           20,
           "No"
          ],
          [
           36,
           "No"
          ],
          [
           46,
           "No"
          ],
          [
           36,
           "No"
          ],
          [
           21,
           "1"
          ],
          [
           41,
           "6"
          ],
          [
           20,
           "7"
          ],
          [
           20,
           "17"
          ],
          [
           58,
           "No"
          ],
          [
           36,
           "No"
          ],
          [
           43,
           "No"
          ],
          [
           20,
           "No"
          ],
          [
           31,
           "No"
          ],
          [
           20,
           "No"
          ],
          [
           28,
           "No"
          ],
          [
           20,
           "No"
          ],
          [
           44,
           "No"
          ],
          [
           54,
           "No"
          ],
          [
           40,
           "No"
          ],
          [
           20,
           "No"
          ],
          [
           43,
           "No"
          ],
          [
           20,
           "6"
          ],
          [
           26,
           "No"
          ],
          [
           20,
           "No"
          ],
          [
           31,
           "No"
          ],
          [
           20,
           "4"
          ],
          [
           20,
           "14"
          ],
          [
           35,
           "No"
          ],
          [
           49,
           "No"
          ],
          [
           23,
           "No"
          ],
          [
           30,
           "No"
          ],
          [
           32,
           "No"
          ],
          [
           20,
           "14"
          ],
          [
           20,
           "10"
          ],
          [
           29,
           "No"
          ],
          [
           37,
           "No"
          ],
          [
           67,
           "No"
          ],
          [
           32,
           "7"
          ],
          [
           34,
           "No"
          ],
          [
           20,
           "20"
          ],
          [
           38,
           "46"
          ],
          [
           40,
           "No"
          ],
          [
           62,
           "No"
          ],
          [
           49,
           "No"
          ],
          [
           28,
           "No"
          ],
          [
           30,
           "No"
          ],
          [
           23,
           "38"
          ],
          [
           41,
           "No"
          ],
          [
           57,
           "No"
          ],
          [
           28,
           "No"
          ],
          [
           20,
           "No"
          ],
          [
           43,
           "No"
          ],
          [
           41,
           "No"
          ],
          [
           33,
           "No"
          ],
          [
           28,
           "No"
          ],
          [
           20,
           "No"
          ],
          [
           52,
           "No"
          ],
          [
           20,
           "No"
          ],
          [
           28,
           "No"
          ],
          [
           20,
           "No"
          ],
          [
           35,
           "No"
          ],
          [
           25,
           "No"
          ],
          [
           31,
           "No"
          ],
          [
           47,
           "No"
          ],
          [
           77,
           "No"
          ],
          [
           63,
           "No"
          ],
          [
           24,
           "8"
          ],
          [
           37,
           "No"
          ],
          [
           22,
           "No"
          ],
          [
           46,
           "No"
          ],
          [
           47,
           "No"
          ],
          [
           33,
           "No"
          ],
          [
           20,
           "No"
          ],
          [
           50,
           "No"
          ],
          [
           36,
           "No"
          ],
          [
           31,
           "No"
          ],
          [
           30,
           "No"
          ],
          [
           39,
           "No"
          ]
         ],
         "hovertemplate": "%{value} <br>Total Phase Vacancy: %{customdata[0]} <br>Oversubscribed: %{customdata[1]}",
         "legendgroup": "After_Phase2B_vac",
         "marker": {
          "color": "green",
          "pattern": {
           "shape": ""
          }
         },
         "name": "Remaining Vacancy",
         "offsetgroup": "After_Phase2B_vac",
         "orientation": "h",
         "showlegend": true,
         "textfont": {
          "color": "white"
         },
         "textposition": "inside",
         "texttemplate": "%{x:f}",
         "type": "bar",
         "x": [
          0,
          43,
          0,
          35,
          40,
          7,
          50,
          0,
          0,
          67,
          45,
          51,
          44,
          32,
          75,
          8,
          41,
          77,
          27,
          30,
          34,
          12,
          1,
          0,
          0,
          24,
          11,
          45,
          28,
          0,
          62,
          48,
          0,
          13,
          7,
          60,
          27,
          36,
          50,
          59,
          24,
          36,
          38,
          46,
          28,
          49,
          42,
          0,
          41,
          24,
          23,
          37,
          42,
          6,
          48,
          27,
          37,
          40,
          5,
          44,
          39,
          45,
          42,
          0,
          0,
          9,
          1,
          14,
          30,
          19,
          27,
          23,
          37,
          26,
          23,
          5,
          44,
          0,
          33,
          0,
          38,
          78,
          4,
          0,
          46,
          54,
          38,
          0,
          35,
          0,
          23,
          0,
          0,
          0,
          34,
          58,
          38,
          46,
          48,
          39,
          0,
          62,
          58,
          20,
          35,
          45,
          35,
          0,
          0,
          0,
          0,
          58,
          36,
          16,
          15,
          30,
          16,
          22,
          20,
          22,
          49,
          40,
          0,
          4,
          0,
          6,
          18,
          19,
          0,
          0,
          34,
          49,
          2,
          19,
          32,
          0,
          0,
          29,
          6,
          61,
          0,
          10,
          0,
          0,
          21,
          39,
          49,
          26,
          16,
          0,
          35,
          57,
          26,
          10,
          40,
          41,
          31,
          27,
          16,
          44,
          20,
          28,
          9,
          21,
          20,
          18,
          47,
          77,
          62,
          0,
          36,
          13,
          45,
          47,
          33,
          10,
          50,
          36,
          30,
          30,
          38
         ],
         "xaxis": "x",
         "y": [
          "Admiralty Primary School",
          "Ahmad Ibrahim Primary School",
          "Ai Tong School",
          "Alexandra Primary School",
          "Anchor Green Primary School",
          "Anderson Primary School",
          "Ang Mo Kio Primary School",
          "Anglo-Chinese School (Junior)",
          "Anglo-Chinese School (Primary)",
          "Angsana Primary School",
          "Beacon Primary School",
          "Bedok Green Primary School",
          "Bendemeer Primary School",
          "Blangah Rise Primary School",
          "Boon Lay Garden Primary School",
          "Bukit Panjang Primary School",
          "Bukit Timah Primary School",
          "Bukit View Primary School",
          "CHIJ (Katong) Primary",
          "CHIJ (Kellock)",
          "CHIJ Our Lady Queen of Peace",
          "CHIJ Our Lady of Good Counsel",
          "CHIJ Our Lady of the Nativity",
          "CHIJ Primary (Toa Payoh)",
          "CHIJ St. Nicholas Girls' School (Primary Section)",
          "Canberra Primary School",
          "Canossa Catholic Primary School",
          "Cantonment Primary School",
          "Casuarina Primary School",
          "Catholic High School (Primary Section)",
          "Cedar Primary School",
          "Changkat Primary School",
          "Chongfu School",
          "Chongzheng Primary School",
          "Chua Chu Kang Primary School",
          "Clementi Primary School",
          "Compassvale Primary School",
          "Concord Primary School",
          "Corporation Primary School",
          "Damai Primary School",
          "Dazhong Primary School",
          "De La Salle School",
          "East Spring Primary School",
          "Edgefield Primary School",
          "Elias Park Primary School",
          "Endeavour Primary School",
          "Evergreen Primary School",
          "Fairfield Methodist School (Primary)",
          "Farrer Park Primary School",
          "Fengshan Primary School",
          "Fern Green Primary School",
          "Fernvale Primary School",
          "First Toa Payoh Primary School",
          "Frontier Primary School",
          "Fuchun Primary School",
          "Fuhua Primary School",
          "Gan Eng Seng Primary School",
          "Geylang Methodist School (Primary)",
          "Gongshang Primary School",
          "Greendale Primary School",
          "Greenridge Primary School",
          "Greenwood Primary School",
          "Haig Girls' School",
          "Henry Park Primary School",
          "Holy Innocents' Primary School",
          "Hong Wen School",
          "Horizon Primary School",
          "Hougang Primary School",
          "Huamin Primary School",
          "Innova Primary School",
          "Jiemin Primary School",
          "Jing Shan Primary School",
          "Junyuan Primary School",
          "Jurong Primary School",
          "Jurong West Primary School",
          "Keming Primary School",
          "Kheng Cheng School",
          "Kong Hwa School",
          "Kranji Primary School",
          "Kuo Chuan Presbyterian Primary School",
          "Lakeside Primary School",
          "Lianhua Primary School",
          "Maha Bodhi School",
          "Maris Stella High School (Primary Section)",
          "Marsiling Primary School",
          "Marymount Convent School",
          "Mayflower Primary School",
          "Mee Toh School",
          "Meridian Primary School",
          "Methodist Girls' School (Primary)",
          "Montfort Junior School",
          "Nan Chiau Primary School",
          "Nan Hua Primary School",
          "Nanyang Primary School",
          "Naval Base Primary School",
          "New Town Primary School",
          "Ngee Ann Primary School",
          "North Spring Primary School",
          "North View Primary School",
          "North Vista Primary School",
          "Northland Primary School",
          "Northoaks Primary School",
          "Northshore Primary School",
          "Oasis Primary School",
          "Opera Estate Primary School",
          "Palm View Primary School",
          "Park View Primary School",
          "Pasir Ris Primary School",
          "Paya Lebar Methodist Girls' School (Primary)",
          "Pei Chun Public School",
          "Pei Hwa Presbyterian Primary School",
          "Pei Tong Primary School",
          "Peiying Primary School",
          "Poi Ching School",
          "Princess Elizabeth Primary School",
          "Punggol Cove Primary School",
          "Punggol Green Primary School",
          "Punggol Primary School",
          "Punggol View Primary School",
          "Qifa Primary School",
          "Qihua Primary School",
          "Queenstown Primary School",
          "Radin Mas Primary School",
          "Raffles Girls' Primary School",
          "Red Swastika School",
          "River Valley Primary School",
          "Riverside Primary School",
          "Rivervale Primary School",
          "Rosyth School",
          "Rulang Primary School",
          "Sembawang Primary School",
          "Seng Kang Primary School",
          "Sengkang Green Primary School",
          "Shuqun Primary School",
          "Si Ling Primary School",
          "Singapore Chinese Girls' Primary School",
          "South View Primary School",
          "Springdale Primary School",
          "St. Andrew's Junior School",
          "St. Anthony's Canossian Primary School",
          "St. Anthony's Primary School",
          "St. Gabriel's Primary School",
          "St. Hilda's Primary School",
          "St. Joseph's Institution Junior",
          "St. Margaret's Primary School",
          "St. Stephen's School",
          "Tampines North Primary School",
          "Tampines Primary School",
          "Tanjong Katong Primary School",
          "Tao Nan School",
          "Teck Ghee Primary School",
          "Teck Whye Primary School",
          "Telok Kurau Primary School",
          "Temasek Primary School",
          "Townsville Primary School",
          "Unity Primary School",
          "Valour Primary School",
          "Waterway Primary School",
          "Wellington Primary School",
          "West Grove Primary School",
          "West Spring Primary School",
          "West View Primary School",
          "Westwood Primary School",
          "White Sands Primary School",
          "Woodgrove Primary School",
          "Woodlands Primary School",
          "Woodlands Ring Primary School",
          "Xinghua Primary School",
          "Xingnan Primary School",
          "Xinmin Primary School",
          "Xishan Primary School",
          "Yangzheng Primary School",
          "Yew Tee Primary School",
          "Yio Chu Kang Primary School",
          "Yishun Primary School",
          "Yu Neng Primary School",
          "Yuhua Primary School",
          "Yumin Primary School",
          "Zhangde Primary School",
          "Zhenghua Primary School",
          "Zhonghua Primary School"
         ],
         "yaxis": "y"
        }
       ],
       "layout": {
        "annotations": [
         {
          "arrowhead": 1,
          "ax": 20,
          "bgcolor": "#ff7f0e",
          "bordercolor": "#c7c7c7",
          "opacity": 0.8,
          "showarrow": true,
          "text": "Oversub: 27",
          "x": 22,
          "y": "Admiralty Primary School"
         },
         {
          "arrowhead": 1,
          "ax": 20,
          "bgcolor": "#ff7f0e",
          "bordercolor": "#c7c7c7",
          "opacity": 0.8,
          "showarrow": true,
          "text": "Oversub: 28",
          "x": 20,
          "y": "Ai Tong School"
         },
         {
          "arrowhead": 1,
          "ax": 20,
          "bgcolor": "#ff7f0e",
          "bordercolor": "#c7c7c7",
          "opacity": 0.8,
          "showarrow": true,
          "text": "Oversub: 30",
          "x": 27,
          "y": "Anglo-Chinese School (Junior)"
         },
         {
          "arrowhead": 1,
          "ax": 20,
          "bgcolor": "#ff7f0e",
          "bordercolor": "#c7c7c7",
          "opacity": 0.8,
          "showarrow": true,
          "text": "Oversub: 27",
          "x": 28,
          "y": "Anglo-Chinese School (Primary)"
         },
         {
          "arrowhead": 1,
          "ax": 20,
          "bgcolor": "#ff7f0e",
          "bordercolor": "#c7c7c7",
          "opacity": 0.8,
          "showarrow": true,
          "text": "Oversub: 13",
          "x": 27,
          "y": "CHIJ Primary (Toa Payoh)"
         },
         {
          "arrowhead": 1,
          "ax": 20,
          "bgcolor": "#ff7f0e",
          "bordercolor": "#c7c7c7",
          "opacity": 0.8,
          "showarrow": true,
          "text": "Oversub: 26",
          "x": 20,
          "y": "CHIJ St. Nicholas Girls' School (Primary Section)"
         },
         {
          "arrowhead": 1,
          "ax": 20,
          "bgcolor": "#ff7f0e",
          "bordercolor": "#c7c7c7",
          "opacity": 0.8,
          "showarrow": true,
          "text": "Oversub: 23",
          "x": 20,
          "y": "Catholic High School (Primary Section)"
         },
         {
          "arrowhead": 1,
          "ax": 20,
          "bgcolor": "#ff7f0e",
          "bordercolor": "#c7c7c7",
          "opacity": 0.8,
          "showarrow": true,
          "text": "Oversub: 26",
          "x": 25,
          "y": "Chongfu School"
         },
         {
          "arrowhead": 1,
          "ax": 20,
          "bgcolor": "#ff7f0e",
          "bordercolor": "#c7c7c7",
          "opacity": 0.8,
          "showarrow": true,
          "text": "Oversub: 13",
          "x": 20,
          "y": "Fairfield Methodist School (Primary)"
         },
         {
          "arrowhead": 1,
          "ax": 20,
          "bgcolor": "#ff7f0e",
          "bordercolor": "#c7c7c7",
          "opacity": 0.8,
          "showarrow": true,
          "text": "Oversub: 8",
          "x": 21,
          "y": "Henry Park Primary School"
         },
         {
          "arrowhead": 1,
          "ax": 20,
          "bgcolor": "#ff7f0e",
          "bordercolor": "#c7c7c7",
          "opacity": 0.8,
          "showarrow": true,
          "text": "Oversub: 29",
          "x": 21,
          "y": "Holy Innocents' Primary School"
         },
         {
          "arrowhead": 1,
          "ax": 20,
          "bgcolor": "#ff7f0e",
          "bordercolor": "#c7c7c7",
          "opacity": 0.8,
          "showarrow": true,
          "text": "Oversub: 33",
          "x": 32,
          "y": "Kong Hwa School"
         },
         {
          "arrowhead": 1,
          "ax": 20,
          "bgcolor": "#ff7f0e",
          "bordercolor": "#c7c7c7",
          "opacity": 0.8,
          "showarrow": true,
          "text": "Oversub: 23",
          "x": 31,
          "y": "Kuo Chuan Presbyterian Primary School"
         },
         {
          "arrowhead": 1,
          "ax": 20,
          "bgcolor": "#ff7f0e",
          "bordercolor": "#c7c7c7",
          "opacity": 0.8,
          "showarrow": true,
          "text": "Oversub: 18",
          "x": 27,
          "y": "Maris Stella High School (Primary Section)"
         },
         {
          "arrowhead": 1,
          "ax": 20,
          "bgcolor": "#ff7f0e",
          "bordercolor": "#c7c7c7",
          "opacity": 0.8,
          "showarrow": true,
          "text": "Oversub: 59",
          "x": 20,
          "y": "Methodist Girls' School (Primary)"
         },
         {
          "arrowhead": 1,
          "ax": 20,
          "bgcolor": "#ff7f0e",
          "bordercolor": "#c7c7c7",
          "opacity": 0.8,
          "showarrow": true,
          "text": "Oversub: 38",
          "x": 41,
          "y": "Nan Chiau Primary School"
         },
         {
          "arrowhead": 1,
          "ax": 20,
          "bgcolor": "#ff7f0e",
          "bordercolor": "#c7c7c7",
          "opacity": 0.8,
          "showarrow": true,
          "text": "Oversub: 18",
          "x": 20,
          "y": "Nan Hua Primary School"
         },
         {
          "arrowhead": 1,
          "ax": 20,
          "bgcolor": "#ff7f0e",
          "bordercolor": "#c7c7c7",
          "opacity": 0.8,
          "showarrow": true,
          "text": "Oversub: 17",
          "x": 20,
          "y": "Nanyang Primary School"
         },
         {
          "arrowhead": 1,
          "ax": 20,
          "bgcolor": "#ff7f0e",
          "bordercolor": "#c7c7c7",
          "opacity": 0.8,
          "showarrow": true,
          "text": "Oversub: 2",
          "x": 20,
          "y": "Northland Primary School"
         },
         {
          "arrowhead": 1,
          "ax": 20,
          "bgcolor": "#ff7f0e",
          "bordercolor": "#c7c7c7",
          "opacity": 0.8,
          "showarrow": true,
          "text": "Oversub: 1",
          "x": 21,
          "y": "Pasir Ris Primary School"
         },
         {
          "arrowhead": 1,
          "ax": 20,
          "bgcolor": "#ff7f0e",
          "bordercolor": "#c7c7c7",
          "opacity": 0.8,
          "showarrow": true,
          "text": "Oversub: 6",
          "x": 41,
          "y": "Paya Lebar Methodist Girls' School (Primary)"
         },
         {
          "arrowhead": 1,
          "ax": 20,
          "bgcolor": "#ff7f0e",
          "bordercolor": "#c7c7c7",
          "opacity": 0.8,
          "showarrow": true,
          "text": "Oversub: 7",
          "x": 20,
          "y": "Pei Chun Public School"
         },
         {
          "arrowhead": 1,
          "ax": 20,
          "bgcolor": "#ff7f0e",
          "bordercolor": "#c7c7c7",
          "opacity": 0.8,
          "showarrow": true,
          "text": "Oversub: 17",
          "x": 20,
          "y": "Pei Hwa Presbyterian Primary School"
         },
         {
          "arrowhead": 1,
          "ax": 20,
          "bgcolor": "#ff7f0e",
          "bordercolor": "#c7c7c7",
          "opacity": 0.8,
          "showarrow": true,
          "text": "Oversub: 6",
          "x": 20,
          "y": "Red Swastika School"
         },
         {
          "arrowhead": 1,
          "ax": 20,
          "bgcolor": "#ff7f0e",
          "bordercolor": "#c7c7c7",
          "opacity": 0.8,
          "showarrow": true,
          "text": "Oversub: 4",
          "x": 20,
          "y": "Rosyth School"
         },
         {
          "arrowhead": 1,
          "ax": 20,
          "bgcolor": "#ff7f0e",
          "bordercolor": "#c7c7c7",
          "opacity": 0.8,
          "showarrow": true,
          "text": "Oversub: 14",
          "x": 20,
          "y": "Rulang Primary School"
         },
         {
          "arrowhead": 1,
          "ax": 20,
          "bgcolor": "#ff7f0e",
          "bordercolor": "#c7c7c7",
          "opacity": 0.8,
          "showarrow": true,
          "text": "Oversub: 14",
          "x": 20,
          "y": "Singapore Chinese Girls' Primary School"
         },
         {
          "arrowhead": 1,
          "ax": 20,
          "bgcolor": "#ff7f0e",
          "bordercolor": "#c7c7c7",
          "opacity": 0.8,
          "showarrow": true,
          "text": "Oversub: 10",
          "x": 20,
          "y": "South View Primary School"
         },
         {
          "arrowhead": 1,
          "ax": 20,
          "bgcolor": "#ff7f0e",
          "bordercolor": "#c7c7c7",
          "opacity": 0.8,
          "showarrow": true,
          "text": "Oversub: 7",
          "x": 32,
          "y": "St. Anthony's Primary School"
         },
         {
          "arrowhead": 1,
          "ax": 20,
          "bgcolor": "#ff7f0e",
          "bordercolor": "#c7c7c7",
          "opacity": 0.8,
          "showarrow": true,
          "text": "Oversub: 20",
          "x": 20,
          "y": "St. Hilda's Primary School"
         },
         {
          "arrowhead": 1,
          "ax": 20,
          "bgcolor": "#ff7f0e",
          "bordercolor": "#c7c7c7",
          "opacity": 0.8,
          "showarrow": true,
          "text": "Oversub: 46",
          "x": 38,
          "y": "St. Joseph's Institution Junior"
         },
         {
          "arrowhead": 1,
          "ax": 20,
          "bgcolor": "#ff7f0e",
          "bordercolor": "#c7c7c7",
          "opacity": 0.8,
          "showarrow": true,
          "text": "Oversub: 38",
          "x": 23,
          "y": "Tao Nan School"
         },
         {
          "arrowhead": 1,
          "ax": 20,
          "bgcolor": "#ff7f0e",
          "bordercolor": "#c7c7c7",
          "opacity": 0.8,
          "showarrow": true,
          "text": "Oversub: 8",
          "x": 24,
          "y": "Xinmin Primary School"
         }
        ],
        "barmode": "relative",
        "height": 5000,
        "hovermode": "y unified",
        "legend": {
         "title": {
          "text": "Legend"
         },
         "tracegroupgap": 0
        },
        "shapes": [
         {
          "line": {
           "color": "red"
          },
          "name": "Oversub",
          "type": "circle",
          "x0": 22,
          "x1": 22,
          "y0": "Admiralty Primary School",
          "y1": "Ahmad Ibrahim Primary School"
         },
         {
          "line": {
           "color": "red"
          },
          "name": "Oversub",
          "type": "circle",
          "x0": 20,
          "x1": 20,
          "y0": "Ai Tong School",
          "y1": "Alexandra Primary School"
         },
         {
          "line": {
           "color": "red"
          },
          "name": "Oversub",
          "type": "circle",
          "x0": 27,
          "x1": 27,
          "y0": "Anglo-Chinese School (Junior)",
          "y1": "Anglo-Chinese School (Primary)"
         },
         {
          "line": {
           "color": "red"
          },
          "name": "Oversub",
          "type": "circle",
          "x0": 28,
          "x1": 28,
          "y0": "Anglo-Chinese School (Primary)",
          "y1": "Angsana Primary School"
         },
         {
          "line": {
           "color": "red"
          },
          "name": "Oversub",
          "type": "circle",
          "x0": 27,
          "x1": 27,
          "y0": "CHIJ Primary (Toa Payoh)",
          "y1": "CHIJ St. Nicholas Girls' School (Primary Section)"
         },
         {
          "line": {
           "color": "red"
          },
          "name": "Oversub",
          "type": "circle",
          "x0": 20,
          "x1": 20,
          "y0": "CHIJ St. Nicholas Girls' School (Primary Section)",
          "y1": "Canberra Primary School"
         },
         {
          "line": {
           "color": "red"
          },
          "name": "Oversub",
          "type": "circle",
          "x0": 20,
          "x1": 20,
          "y0": "Catholic High School (Primary Section)",
          "y1": "Cedar Primary School"
         },
         {
          "line": {
           "color": "red"
          },
          "name": "Oversub",
          "type": "circle",
          "x0": 25,
          "x1": 25,
          "y0": "Chongfu School",
          "y1": "Chongzheng Primary School"
         },
         {
          "line": {
           "color": "red"
          },
          "name": "Oversub",
          "type": "circle",
          "x0": 20,
          "x1": 20,
          "y0": "Fairfield Methodist School (Primary)",
          "y1": "Farrer Park Primary School"
         },
         {
          "line": {
           "color": "red"
          },
          "name": "Oversub",
          "type": "circle",
          "x0": 21,
          "x1": 21,
          "y0": "Henry Park Primary School",
          "y1": "Holy Innocents' Primary School"
         },
         {
          "line": {
           "color": "red"
          },
          "name": "Oversub",
          "type": "circle",
          "x0": 21,
          "x1": 21,
          "y0": "Holy Innocents' Primary School",
          "y1": "Hong Wen School"
         },
         {
          "line": {
           "color": "red"
          },
          "name": "Oversub",
          "type": "circle",
          "x0": 32,
          "x1": 32,
          "y0": "Kong Hwa School",
          "y1": "Kranji Primary School"
         },
         {
          "line": {
           "color": "red"
          },
          "name": "Oversub",
          "type": "circle",
          "x0": 31,
          "x1": 31,
          "y0": "Kuo Chuan Presbyterian Primary School",
          "y1": "Lakeside Primary School"
         },
         {
          "line": {
           "color": "red"
          },
          "name": "Oversub",
          "type": "circle",
          "x0": 27,
          "x1": 27,
          "y0": "Maris Stella High School (Primary Section)",
          "y1": "Marsiling Primary School"
         },
         {
          "line": {
           "color": "red"
          },
          "name": "Oversub",
          "type": "circle",
          "x0": 20,
          "x1": 20,
          "y0": "Methodist Girls' School (Primary)",
          "y1": "Montfort Junior School"
         },
         {
          "line": {
           "color": "red"
          },
          "name": "Oversub",
          "type": "circle",
          "x0": 41,
          "x1": 41,
          "y0": "Nan Chiau Primary School",
          "y1": "Nan Hua Primary School"
         },
         {
          "line": {
           "color": "red"
          },
          "name": "Oversub",
          "type": "circle",
          "x0": 20,
          "x1": 20,
          "y0": "Nan Hua Primary School",
          "y1": "Nanyang Primary School"
         },
         {
          "line": {
           "color": "red"
          },
          "name": "Oversub",
          "type": "circle",
          "x0": 20,
          "x1": 20,
          "y0": "Nanyang Primary School",
          "y1": "Naval Base Primary School"
         },
         {
          "line": {
           "color": "red"
          },
          "name": "Oversub",
          "type": "circle",
          "x0": 20,
          "x1": 20,
          "y0": "Northland Primary School",
          "y1": "Northoaks Primary School"
         },
         {
          "line": {
           "color": "red"
          },
          "name": "Oversub",
          "type": "circle",
          "x0": 21,
          "x1": 21,
          "y0": "Pasir Ris Primary School",
          "y1": "Paya Lebar Methodist Girls' School (Primary)"
         },
         {
          "line": {
           "color": "red"
          },
          "name": "Oversub",
          "type": "circle",
          "x0": 41,
          "x1": 41,
          "y0": "Paya Lebar Methodist Girls' School (Primary)",
          "y1": "Pei Chun Public School"
         },
         {
          "line": {
           "color": "red"
          },
          "name": "Oversub",
          "type": "circle",
          "x0": 20,
          "x1": 20,
          "y0": "Pei Chun Public School",
          "y1": "Pei Hwa Presbyterian Primary School"
         },
         {
          "line": {
           "color": "red"
          },
          "name": "Oversub",
          "type": "circle",
          "x0": 20,
          "x1": 20,
          "y0": "Pei Hwa Presbyterian Primary School",
          "y1": "Pei Tong Primary School"
         },
         {
          "line": {
           "color": "red"
          },
          "name": "Oversub",
          "type": "circle",
          "x0": 20,
          "x1": 20,
          "y0": "Red Swastika School",
          "y1": "River Valley Primary School"
         },
         {
          "line": {
           "color": "red"
          },
          "name": "Oversub",
          "type": "circle",
          "x0": 20,
          "x1": 20,
          "y0": "Rosyth School",
          "y1": "Rulang Primary School"
         },
         {
          "line": {
           "color": "red"
          },
          "name": "Oversub",
          "type": "circle",
          "x0": 20,
          "x1": 20,
          "y0": "Rulang Primary School",
          "y1": "Sembawang Primary School"
         },
         {
          "line": {
           "color": "red"
          },
          "name": "Oversub",
          "type": "circle",
          "x0": 20,
          "x1": 20,
          "y0": "Singapore Chinese Girls' Primary School",
          "y1": "South View Primary School"
         },
         {
          "line": {
           "color": "red"
          },
          "name": "Oversub",
          "type": "circle",
          "x0": 20,
          "x1": 20,
          "y0": "South View Primary School",
          "y1": "Springdale Primary School"
         },
         {
          "line": {
           "color": "red"
          },
          "name": "Oversub",
          "type": "circle",
          "x0": 32,
          "x1": 32,
          "y0": "St. Anthony's Primary School",
          "y1": "St. Gabriel's Primary School"
         },
         {
          "line": {
           "color": "red"
          },
          "name": "Oversub",
          "type": "circle",
          "x0": 20,
          "x1": 20,
          "y0": "St. Hilda's Primary School",
          "y1": "St. Joseph's Institution Junior"
         },
         {
          "line": {
           "color": "red"
          },
          "name": "Oversub",
          "type": "circle",
          "x0": 38,
          "x1": 38,
          "y0": "St. Joseph's Institution Junior",
          "y1": "St. Margaret's Primary School"
         },
         {
          "line": {
           "color": "red"
          },
          "name": "Oversub",
          "type": "circle",
          "x0": 23,
          "x1": 23,
          "y0": "Tao Nan School",
          "y1": "Teck Ghee Primary School"
         },
         {
          "line": {
           "color": "red"
          },
          "name": "Oversub",
          "type": "circle",
          "x0": 24,
          "x1": 24,
          "y0": "Xinmin Primary School",
          "y1": "Xishan Primary School"
         }
        ],
        "template": {
         "data": {
          "bar": [
           {
            "error_x": {
             "color": "#2a3f5f"
            },
            "error_y": {
             "color": "#2a3f5f"
            },
            "marker": {
             "line": {
              "color": "#E5ECF6",
              "width": 0.5
             },
             "pattern": {
              "fillmode": "overlay",
              "size": 10,
              "solidity": 0.2
             }
            },
            "type": "bar"
           }
          ],
          "barpolar": [
           {
            "marker": {
             "line": {
              "color": "#E5ECF6",
              "width": 0.5
             },
             "pattern": {
              "fillmode": "overlay",
              "size": 10,
              "solidity": 0.2
             }
            },
            "type": "barpolar"
           }
          ],
          "carpet": [
           {
            "aaxis": {
             "endlinecolor": "#2a3f5f",
             "gridcolor": "white",
             "linecolor": "white",
             "minorgridcolor": "white",
             "startlinecolor": "#2a3f5f"
            },
            "baxis": {
             "endlinecolor": "#2a3f5f",
             "gridcolor": "white",
             "linecolor": "white",
             "minorgridcolor": "white",
             "startlinecolor": "#2a3f5f"
            },
            "type": "carpet"
           }
          ],
          "choropleth": [
           {
            "colorbar": {
             "outlinewidth": 0,
             "ticks": ""
            },
            "type": "choropleth"
           }
          ],
          "contour": [
           {
            "colorbar": {
             "outlinewidth": 0,
             "ticks": ""
            },
            "colorscale": [
             [
              0,
              "#0d0887"
             ],
             [
              0.1111111111111111,
              "#46039f"
             ],
             [
              0.2222222222222222,
              "#7201a8"
             ],
             [
              0.3333333333333333,
              "#9c179e"
             ],
             [
              0.4444444444444444,
              "#bd3786"
             ],
             [
              0.5555555555555556,
              "#d8576b"
             ],
             [
              0.6666666666666666,
              "#ed7953"
             ],
             [
              0.7777777777777778,
              "#fb9f3a"
             ],
             [
              0.8888888888888888,
              "#fdca26"
             ],
             [
              1,
              "#f0f921"
             ]
            ],
            "type": "contour"
           }
          ],
          "contourcarpet": [
           {
            "colorbar": {
             "outlinewidth": 0,
             "ticks": ""
            },
            "type": "contourcarpet"
           }
          ],
          "heatmap": [
           {
            "colorbar": {
             "outlinewidth": 0,
             "ticks": ""
            },
            "colorscale": [
             [
              0,
              "#0d0887"
             ],
             [
              0.1111111111111111,
              "#46039f"
             ],
             [
              0.2222222222222222,
              "#7201a8"
             ],
             [
              0.3333333333333333,
              "#9c179e"
             ],
             [
              0.4444444444444444,
              "#bd3786"
             ],
             [
              0.5555555555555556,
              "#d8576b"
             ],
             [
              0.6666666666666666,
              "#ed7953"
             ],
             [
              0.7777777777777778,
              "#fb9f3a"
             ],
             [
              0.8888888888888888,
              "#fdca26"
             ],
             [
              1,
              "#f0f921"
             ]
            ],
            "type": "heatmap"
           }
          ],
          "heatmapgl": [
           {
            "colorbar": {
             "outlinewidth": 0,
             "ticks": ""
            },
            "colorscale": [
             [
              0,
              "#0d0887"
             ],
             [
              0.1111111111111111,
              "#46039f"
             ],
             [
              0.2222222222222222,
              "#7201a8"
             ],
             [
              0.3333333333333333,
              "#9c179e"
             ],
             [
              0.4444444444444444,
              "#bd3786"
             ],
             [
              0.5555555555555556,
              "#d8576b"
             ],
             [
              0.6666666666666666,
              "#ed7953"
             ],
             [
              0.7777777777777778,
              "#fb9f3a"
             ],
             [
              0.8888888888888888,
              "#fdca26"
             ],
             [
              1,
              "#f0f921"
             ]
            ],
            "type": "heatmapgl"
           }
          ],
          "histogram": [
           {
            "marker": {
             "pattern": {
              "fillmode": "overlay",
              "size": 10,
              "solidity": 0.2
             }
            },
            "type": "histogram"
           }
          ],
          "histogram2d": [
           {
            "colorbar": {
             "outlinewidth": 0,
             "ticks": ""
            },
            "colorscale": [
             [
              0,
              "#0d0887"
             ],
             [
              0.1111111111111111,
              "#46039f"
             ],
             [
              0.2222222222222222,
              "#7201a8"
             ],
             [
              0.3333333333333333,
              "#9c179e"
             ],
             [
              0.4444444444444444,
              "#bd3786"
             ],
             [
              0.5555555555555556,
              "#d8576b"
             ],
             [
              0.6666666666666666,
              "#ed7953"
             ],
             [
              0.7777777777777778,
              "#fb9f3a"
             ],
             [
              0.8888888888888888,
              "#fdca26"
             ],
             [
              1,
              "#f0f921"
             ]
            ],
            "type": "histogram2d"
           }
          ],
          "histogram2dcontour": [
           {
            "colorbar": {
             "outlinewidth": 0,
             "ticks": ""
            },
            "colorscale": [
             [
              0,
              "#0d0887"
             ],
             [
              0.1111111111111111,
              "#46039f"
             ],
             [
              0.2222222222222222,
              "#7201a8"
             ],
             [
              0.3333333333333333,
              "#9c179e"
             ],
             [
              0.4444444444444444,
              "#bd3786"
             ],
             [
              0.5555555555555556,
              "#d8576b"
             ],
             [
              0.6666666666666666,
              "#ed7953"
             ],
             [
              0.7777777777777778,
              "#fb9f3a"
             ],
             [
              0.8888888888888888,
              "#fdca26"
             ],
             [
              1,
              "#f0f921"
             ]
            ],
            "type": "histogram2dcontour"
           }
          ],
          "mesh3d": [
           {
            "colorbar": {
             "outlinewidth": 0,
             "ticks": ""
            },
            "type": "mesh3d"
           }
          ],
          "parcoords": [
           {
            "line": {
             "colorbar": {
              "outlinewidth": 0,
              "ticks": ""
             }
            },
            "type": "parcoords"
           }
          ],
          "pie": [
           {
            "automargin": true,
            "type": "pie"
           }
          ],
          "scatter": [
           {
            "fillpattern": {
             "fillmode": "overlay",
             "size": 10,
             "solidity": 0.2
            },
            "type": "scatter"
           }
          ],
          "scatter3d": [
           {
            "line": {
             "colorbar": {
              "outlinewidth": 0,
              "ticks": ""
             }
            },
            "marker": {
             "colorbar": {
              "outlinewidth": 0,
              "ticks": ""
             }
            },
            "type": "scatter3d"
           }
          ],
          "scattercarpet": [
           {
            "marker": {
             "colorbar": {
              "outlinewidth": 0,
              "ticks": ""
             }
            },
            "type": "scattercarpet"
           }
          ],
          "scattergeo": [
           {
            "marker": {
             "colorbar": {
              "outlinewidth": 0,
              "ticks": ""
             }
            },
            "type": "scattergeo"
           }
          ],
          "scattergl": [
           {
            "marker": {
             "colorbar": {
              "outlinewidth": 0,
              "ticks": ""
             }
            },
            "type": "scattergl"
           }
          ],
          "scattermapbox": [
           {
            "marker": {
             "colorbar": {
              "outlinewidth": 0,
              "ticks": ""
             }
            },
            "type": "scattermapbox"
           }
          ],
          "scatterpolar": [
           {
            "marker": {
             "colorbar": {
              "outlinewidth": 0,
              "ticks": ""
             }
            },
            "type": "scatterpolar"
           }
          ],
          "scatterpolargl": [
           {
            "marker": {
             "colorbar": {
              "outlinewidth": 0,
              "ticks": ""
             }
            },
            "type": "scatterpolargl"
           }
          ],
          "scatterternary": [
           {
            "marker": {
             "colorbar": {
              "outlinewidth": 0,
              "ticks": ""
             }
            },
            "type": "scatterternary"
           }
          ],
          "surface": [
           {
            "colorbar": {
             "outlinewidth": 0,
             "ticks": ""
            },
            "colorscale": [
             [
              0,
              "#0d0887"
             ],
             [
              0.1111111111111111,
              "#46039f"
             ],
             [
              0.2222222222222222,
              "#7201a8"
             ],
             [
              0.3333333333333333,
              "#9c179e"
             ],
             [
              0.4444444444444444,
              "#bd3786"
             ],
             [
              0.5555555555555556,
              "#d8576b"
             ],
             [
              0.6666666666666666,
              "#ed7953"
             ],
             [
              0.7777777777777778,
              "#fb9f3a"
             ],
             [
              0.8888888888888888,
              "#fdca26"
             ],
             [
              1,
              "#f0f921"
             ]
            ],
            "type": "surface"
           }
          ],
          "table": [
           {
            "cells": {
             "fill": {
              "color": "#EBF0F8"
             },
             "line": {
              "color": "white"
             }
            },
            "header": {
             "fill": {
              "color": "#C8D4E3"
             },
             "line": {
              "color": "white"
             }
            },
            "type": "table"
           }
          ]
         },
         "layout": {
          "annotationdefaults": {
           "arrowcolor": "#2a3f5f",
           "arrowhead": 0,
           "arrowwidth": 1
          },
          "autotypenumbers": "strict",
          "coloraxis": {
           "colorbar": {
            "outlinewidth": 0,
            "ticks": ""
           }
          },
          "colorscale": {
           "diverging": [
            [
             0,
             "#8e0152"
            ],
            [
             0.1,
             "#c51b7d"
            ],
            [
             0.2,
             "#de77ae"
            ],
            [
             0.3,
             "#f1b6da"
            ],
            [
             0.4,
             "#fde0ef"
            ],
            [
             0.5,
             "#f7f7f7"
            ],
            [
             0.6,
             "#e6f5d0"
            ],
            [
             0.7,
             "#b8e186"
            ],
            [
             0.8,
             "#7fbc41"
            ],
            [
             0.9,
             "#4d9221"
            ],
            [
             1,
             "#276419"
            ]
           ],
           "sequential": [
            [
             0,
             "#0d0887"
            ],
            [
             0.1111111111111111,
             "#46039f"
            ],
            [
             0.2222222222222222,
             "#7201a8"
            ],
            [
             0.3333333333333333,
             "#9c179e"
            ],
            [
             0.4444444444444444,
             "#bd3786"
            ],
            [
             0.5555555555555556,
             "#d8576b"
            ],
            [
             0.6666666666666666,
             "#ed7953"
            ],
            [
             0.7777777777777778,
             "#fb9f3a"
            ],
            [
             0.8888888888888888,
             "#fdca26"
            ],
            [
             1,
             "#f0f921"
            ]
           ],
           "sequentialminus": [
            [
             0,
             "#0d0887"
            ],
            [
             0.1111111111111111,
             "#46039f"
            ],
            [
             0.2222222222222222,
             "#7201a8"
            ],
            [
             0.3333333333333333,
             "#9c179e"
            ],
            [
             0.4444444444444444,
             "#bd3786"
            ],
            [
             0.5555555555555556,
             "#d8576b"
            ],
            [
             0.6666666666666666,
             "#ed7953"
            ],
            [
             0.7777777777777778,
             "#fb9f3a"
            ],
            [
             0.8888888888888888,
             "#fdca26"
            ],
            [
             1,
             "#f0f921"
            ]
           ]
          },
          "colorway": [
           "#636efa",
           "#EF553B",
           "#00cc96",
           "#ab63fa",
           "#FFA15A",
           "#19d3f3",
           "#FF6692",
           "#B6E880",
           "#FF97FF",
           "#FECB52"
          ],
          "font": {
           "color": "#2a3f5f"
          },
          "geo": {
           "bgcolor": "white",
           "lakecolor": "white",
           "landcolor": "#E5ECF6",
           "showlakes": true,
           "showland": true,
           "subunitcolor": "white"
          },
          "hoverlabel": {
           "align": "left"
          },
          "hovermode": "closest",
          "mapbox": {
           "style": "light"
          },
          "paper_bgcolor": "white",
          "plot_bgcolor": "#E5ECF6",
          "polar": {
           "angularaxis": {
            "gridcolor": "white",
            "linecolor": "white",
            "ticks": ""
           },
           "bgcolor": "#E5ECF6",
           "radialaxis": {
            "gridcolor": "white",
            "linecolor": "white",
            "ticks": ""
           }
          },
          "scene": {
           "xaxis": {
            "backgroundcolor": "#E5ECF6",
            "gridcolor": "white",
            "gridwidth": 2,
            "linecolor": "white",
            "showbackground": true,
            "ticks": "",
            "zerolinecolor": "white"
           },
           "yaxis": {
            "backgroundcolor": "#E5ECF6",
            "gridcolor": "white",
            "gridwidth": 2,
            "linecolor": "white",
            "showbackground": true,
            "ticks": "",
            "zerolinecolor": "white"
           },
           "zaxis": {
            "backgroundcolor": "#E5ECF6",
            "gridcolor": "white",
            "gridwidth": 2,
            "linecolor": "white",
            "showbackground": true,
            "ticks": "",
            "zerolinecolor": "white"
           }
          },
          "shapedefaults": {
           "line": {
            "color": "#2a3f5f"
           }
          },
          "ternary": {
           "aaxis": {
            "gridcolor": "white",
            "linecolor": "white",
            "ticks": ""
           },
           "baxis": {
            "gridcolor": "white",
            "linecolor": "white",
            "ticks": ""
           },
           "bgcolor": "#E5ECF6",
           "caxis": {
            "gridcolor": "white",
            "linecolor": "white",
            "ticks": ""
           }
          },
          "title": {
           "x": 0.05
          },
          "xaxis": {
           "automargin": true,
           "gridcolor": "white",
           "linecolor": "white",
           "ticks": "",
           "title": {
            "standoff": 15
           },
           "zerolinecolor": "white",
           "zerolinewidth": 2
          },
          "yaxis": {
           "automargin": true,
           "gridcolor": "white",
           "linecolor": "white",
           "ticks": "",
           "title": {
            "standoff": 15
           },
           "zerolinecolor": "white",
           "zerolinewidth": 2
          }
         }
        },
        "title": {
         "text": "<b>Phase 2B Subscription Rate (Count)</b>"
        },
        "width": 1200,
        "xaxis": {
         "anchor": "y",
         "domain": [
          0,
          1
         ],
         "title": {
          "text": "value"
         }
        },
        "yaxis": {
         "anchor": "x",
         "categoryorder": "category descending",
         "domain": [
          0,
          1
         ],
         "title": {
          "text": ""
         }
        }
       }
      }
     },
     "metadata": {},
     "output_type": "display_data"
    }
   ],
   "source": [
    "color_discrete_map = {'Phase2B_applied': 'grey',\n",
    "                      'After_Phase2B_vac': 'green'}\n",
    "\n",
    "fig = px.bar(df_school_full,\n",
    "       y='Name',\n",
    "       x=['Phase2B_applied', 'After_Phase2B_vac'],\n",
    "       custom_data=['Phase2B_vac','Phase2B_oversub_count'],\n",
    "       color_discrete_map = color_discrete_map,\n",
    "       text_auto='f',\n",
    "       title=\"<b>Phase 2B Subscription Rate (Count)</b>\",\n",
    "       labels={'Name': ''},\n",
    "               #'value': 'Count'},\n",
    "       width=1200,\n",
    "       height=5000)\n",
    "\n",
    "fig.update_traces(hovertemplate = \"%{value} <br>Total Phase Vacancy: %{customdata[0]} <br>Oversubscribed: %{customdata[1]}\")\n",
    "\n",
    "fig.update_layout(legend_title=\"Legend\",\n",
    "                  yaxis={'categoryorder':'category descending'})\n",
    "fig.update_traces(textposition='inside', textfont_color='white')\n",
    "newnames = {'Phase2B_applied':'Subscribed', 'After_Phase2B_vac': 'Remaining Vacancy'}\n",
    "fig.for_each_trace(lambda t: t.update(name = newnames[t.name]))\n",
    "fig.update_layout(hovermode=\"y unified\")\n",
    "\n",
    "for i in range(len(df_school_full)):\n",
    "    if (df_school_full.Phase2B_oversub[i] == 'Yes'):\n",
    "        fig.add_shape(\n",
    "            type=\"circle\",\n",
    "            line_color=\"red\",\n",
    "            x0=df_school_full.Phase2B_vac[i],\n",
    "            y0=df_school_full.Name[i],\n",
    "            x1=df_school_full.Phase2B_vac[i],\n",
    "            y1=df_school_full.Name[i+1],\n",
    "            name='Oversub'\n",
    "        )\n",
    "        fig.add_annotation(x=df_school_full.Phase2B_vac[i], y=df_school_full.Name[i],\n",
    "            text=f\"Oversub: {df_school_full.Phase2B_oversub_count[i]}\",\n",
    "            showarrow=True,\n",
    "            arrowhead=1,\n",
    "            ax=20,\n",
    "            bordercolor=\"#c7c7c7\",\n",
    "            bgcolor=\"#ff7f0e\",\n",
    "            opacity=0.8\n",
    "            )\n",
    "fig.show()"
   ]
  },
  {
   "cell_type": "code",
   "execution_count": 175,
   "metadata": {},
   "outputs": [
    {
     "data": {
      "application/vnd.plotly.v1+json": {
       "config": {
        "plotlyServerURL": "https://plot.ly"
       },
       "data": [
        {
         "alignmentgroup": "True",
         "customdata": [
          [
           45,
           "59"
          ],
          [
           129,
           "No"
          ],
          [
           42,
           "44"
          ],
          [
           113,
           "33"
          ],
          [
           120,
           "No"
          ],
          [
           64,
           "24"
          ],
          [
           149,
           "No"
          ],
          [
           53,
           "16"
          ],
          [
           55,
           "14"
          ],
          [
           202,
           "No"
          ],
          [
           135,
           "No"
          ],
          [
           152,
           "No"
          ],
          [
           133,
           "No"
          ],
          [
           96,
           "No"
          ],
          [
           225,
           "No"
          ],
          [
           65,
           "15"
          ],
          [
           124,
           "No"
          ],
          [
           230,
           "No"
          ],
          [
           112,
           "No"
          ],
          [
           123,
           "No"
          ],
          [
           126,
           "No"
          ],
          [
           80,
           "No"
          ],
          [
           110,
           "8"
          ],
          [
           54,
           "14"
          ],
          [
           40,
           "23"
          ],
          [
           112,
           "34"
          ],
          [
           64,
           "No"
          ],
          [
           136,
           "No"
          ],
          [
           84,
           "No"
          ],
          [
           40,
           "28"
          ],
          [
           187,
           "No"
          ],
          [
           146,
           "No"
          ],
          [
           49,
           "108"
          ],
          [
           54,
           "33"
          ],
          [
           70,
           "54"
          ],
          [
           183,
           "No"
          ],
          [
           115,
           "25"
          ],
          [
           114,
           "No"
          ],
          [
           151,
           "No"
          ],
          [
           176,
           "No"
          ],
          [
           73,
           "No"
          ],
          [
           133,
           "No"
          ],
          [
           113,
           "No"
          ],
          [
           139,
           "No"
          ],
          [
           89,
           "43"
          ],
          [
           153,
           "No"
          ],
          [
           125,
           "No"
          ],
          [
           41,
           "48"
          ],
          [
           125,
           "No"
          ],
          [
           73,
           "22"
          ],
          [
           73,
           "17"
          ],
          [
           113,
           "No"
          ],
          [
           127,
           "No"
          ],
          [
           46,
           "39"
          ],
          [
           147,
           "No"
          ],
          [
           83,
           "No"
          ],
          [
           112,
           "No"
          ],
          [
           129,
           "2"
          ],
          [
           45,
           "62"
          ],
          [
           133,
           "No"
          ],
          [
           117,
           "No"
          ],
          [
           138,
           "No"
          ],
          [
           127,
           "No"
          ],
          [
           41,
           "41"
          ],
          [
           42,
           "59"
          ],
          [
           83,
           "52"
          ],
          [
           42,
           "35"
          ],
          [
           79,
           "35"
          ],
          [
           96,
           "18"
          ],
          [
           84,
           "2"
          ],
          [
           83,
           "No"
          ],
          [
           72,
           "No"
          ],
          [
           112,
           "No"
          ],
          [
           82,
           "No"
          ],
          [
           78,
           "15"
          ],
          [
           53,
           "68"
          ],
          [
           141,
           "No"
          ],
          [
           64,
           "65"
          ],
          [
           99,
           "No"
          ],
          [
           67,
           "19"
          ],
          [
           113,
           "11"
          ],
          [
           235,
           "No"
          ],
          [
           79,
           "35"
          ],
          [
           56,
           "37"
          ],
          [
           137,
           "No"
          ],
          [
           188,
           "No"
          ],
          [
           115,
           "No"
          ],
          [
           101,
           "49"
          ],
          [
           108,
           "No"
          ],
          [
           40,
           "30"
          ],
          [
           101,
           "No"
          ],
          [
           81,
           "193"
          ],
          [
           40,
           "151"
          ],
          [
           41,
           "48"
          ],
          [
           105,
           "11"
          ],
          [
           173,
           "No"
          ],
          [
           123,
           "5"
          ],
          [
           139,
           "No"
          ],
          [
           144,
           "No"
          ],
          [
           117,
           "No"
          ],
          [
           42,
           "157"
          ],
          [
           186,
           "No"
          ],
          [
           175,
           "No"
          ],
          [
           60,
           "20"
          ],
          [
           107,
           "No"
          ],
          [
           138,
           "No"
          ],
          [
           108,
           "No"
          ],
          [
           43,
           "37"
          ],
          [
           81,
           "29"
          ],
          [
           45,
           "38"
          ],
          [
           41,
           "46"
          ],
          [
           175,
           "No"
          ],
          [
           107,
           "No"
          ],
          [
           104,
           "93"
          ],
          [
           55,
           "223"
          ],
          [
           93,
           "No"
          ],
          [
           56,
           "71"
          ],
          [
           78,
           "51"
          ],
          [
           61,
           "13"
          ],
          [
           111,
           "20"
          ],
          [
           158,
           "No"
          ],
          [
           121,
           "No"
          ],
          [
           40,
           "42"
          ],
          [
           90,
           "35"
          ],
          [
           42,
           "39"
          ],
          [
           59,
           "32"
          ],
          [
           58,
           "25"
          ],
          [
           81,
           "45"
          ],
          [
           41,
           "84"
          ],
          [
           40,
           "55"
          ],
          [
           104,
           "18"
          ],
          [
           148,
           "No"
          ],
          [
           49,
           "71"
          ],
          [
           79,
           "27"
          ],
          [
           97,
           "No"
          ],
          [
           40,
           "33"
          ],
          [
           40,
           "137"
          ],
          [
           87,
           "No"
          ],
          [
           82,
           "42"
          ],
          [
           194,
           "No"
          ],
          [
           65,
           "40"
          ],
          [
           77,
           "No"
          ],
          [
           41,
           "103"
          ],
          [
           78,
           "28"
          ],
          [
           101,
           "21"
          ],
          [
           163,
           "No"
          ],
          [
           146,
           "No"
          ],
          [
           86,
           "No"
          ],
          [
           75,
           "23"
          ],
          [
           47,
           "52"
          ],
          [
           118,
           "No"
          ],
          [
           172,
           "No"
          ],
          [
           83,
           "No"
          ],
          [
           51,
           "103"
          ],
          [
           126,
           "No"
          ],
          [
           124,
           "No"
          ],
          [
           96,
           "24"
          ],
          [
           83,
           "24"
          ],
          [
           58,
           "47"
          ],
          [
           147,
           "No"
          ],
          [
           62,
           "44"
          ],
          [
           84,
           "No"
          ],
          [
           49,
           "31"
          ],
          [
           92,
           "20"
          ],
          [
           71,
           "33"
          ],
          [
           80,
           "32"
          ],
          [
           141,
           "No"
          ],
          [
           232,
           "No"
          ],
          [
           187,
           "No"
          ],
          [
           50,
           "28"
          ],
          [
           110,
           "No"
          ],
          [
           58,
           "43"
          ],
          [
           138,
           "No"
          ],
          [
           141,
           "No"
          ],
          [
           100,
           "No"
          ],
          [
           52,
           "31"
          ],
          [
           150,
           "No"
          ],
          [
           109,
           "No"
          ],
          [
           93,
           "No"
          ],
          [
           90,
           "No"
          ],
          [
           115,
           "No"
          ]
         ],
         "hovertemplate": "%{value} <br>Total Phase Vacancy: %{customdata[0]} <br>Oversubscribed: %{customdata[1]}",
         "legendgroup": "Phase2C_applied",
         "marker": {
          "color": "grey",
          "pattern": {
           "shape": ""
          }
         },
         "name": "Subscribed",
         "offsetgroup": "Phase2C_applied",
         "orientation": "h",
         "showlegend": true,
         "textfont": {
          "color": "white"
         },
         "textposition": "inside",
         "texttemplate": "%{x:f}",
         "type": "bar",
         "x": [
          104,
          31,
          86,
          146,
          24,
          88,
          49,
          69,
          69,
          171,
          33,
          32,
          59,
          24,
          38,
          80,
          81,
          31,
          53,
          77,
          82,
          61,
          118,
          68,
          63,
          146,
          60,
          43,
          55,
          68,
          42,
          49,
          157,
          87,
          124,
          71,
          140,
          105,
          54,
          36,
          66,
          104,
          58,
          85,
          132,
          58,
          59,
          89,
          49,
          95,
          90,
          78,
          4,
          85,
          52,
          62,
          28,
          131,
          107,
          31,
          35,
          107,
          117,
          82,
          101,
          135,
          77,
          114,
          114,
          86,
          62,
          67,
          77,
          55,
          93,
          121,
          111,
          129,
          16,
          86,
          124,
          32,
          114,
          93,
          82,
          68,
          38,
          150,
          22,
          70,
          29,
          274,
          191,
          89,
          116,
          20,
          128,
          37,
          119,
          43,
          199,
          14,
          75,
          80,
          70,
          56,
          58,
          80,
          110,
          83,
          87,
          34,
          45,
          197,
          278,
          82,
          127,
          129,
          74,
          131,
          56,
          115,
          82,
          125,
          81,
          91,
          83,
          126,
          125,
          95,
          122,
          19,
          120,
          106,
          17,
          73,
          177,
          81,
          124,
          41,
          105,
          77,
          144,
          106,
          122,
          66,
          46,
          81,
          98,
          99,
          92,
          27,
          72,
          154,
          21,
          52,
          120,
          107,
          105,
          99,
          106,
          35,
          80,
          112,
          104,
          112,
          66,
          35,
          64,
          78,
          59,
          101,
          60,
          36,
          42,
          83,
          29,
          20,
          92,
          68,
          7
         ],
         "xaxis": "x",
         "y": [
          "Admiralty Primary School",
          "Ahmad Ibrahim Primary School",
          "Ai Tong School",
          "Alexandra Primary School",
          "Anchor Green Primary School",
          "Anderson Primary School",
          "Ang Mo Kio Primary School",
          "Anglo-Chinese School (Junior)",
          "Anglo-Chinese School (Primary)",
          "Angsana Primary School",
          "Beacon Primary School",
          "Bedok Green Primary School",
          "Bendemeer Primary School",
          "Blangah Rise Primary School",
          "Boon Lay Garden Primary School",
          "Bukit Panjang Primary School",
          "Bukit Timah Primary School",
          "Bukit View Primary School",
          "CHIJ (Katong) Primary",
          "CHIJ (Kellock)",
          "CHIJ Our Lady Queen of Peace",
          "CHIJ Our Lady of Good Counsel",
          "CHIJ Our Lady of the Nativity",
          "CHIJ Primary (Toa Payoh)",
          "CHIJ St. Nicholas Girls' School (Primary Section)",
          "Canberra Primary School",
          "Canossa Catholic Primary School",
          "Cantonment Primary School",
          "Casuarina Primary School",
          "Catholic High School (Primary Section)",
          "Cedar Primary School",
          "Changkat Primary School",
          "Chongfu School",
          "Chongzheng Primary School",
          "Chua Chu Kang Primary School",
          "Clementi Primary School",
          "Compassvale Primary School",
          "Concord Primary School",
          "Corporation Primary School",
          "Damai Primary School",
          "Dazhong Primary School",
          "De La Salle School",
          "East Spring Primary School",
          "Edgefield Primary School",
          "Elias Park Primary School",
          "Endeavour Primary School",
          "Evergreen Primary School",
          "Fairfield Methodist School (Primary)",
          "Farrer Park Primary School",
          "Fengshan Primary School",
          "Fern Green Primary School",
          "Fernvale Primary School",
          "First Toa Payoh Primary School",
          "Frontier Primary School",
          "Fuchun Primary School",
          "Fuhua Primary School",
          "Gan Eng Seng Primary School",
          "Geylang Methodist School (Primary)",
          "Gongshang Primary School",
          "Greendale Primary School",
          "Greenridge Primary School",
          "Greenwood Primary School",
          "Haig Girls' School",
          "Henry Park Primary School",
          "Holy Innocents' Primary School",
          "Hong Wen School",
          "Horizon Primary School",
          "Hougang Primary School",
          "Huamin Primary School",
          "Innova Primary School",
          "Jiemin Primary School",
          "Jing Shan Primary School",
          "Junyuan Primary School",
          "Jurong Primary School",
          "Jurong West Primary School",
          "Keming Primary School",
          "Kheng Cheng School",
          "Kong Hwa School",
          "Kranji Primary School",
          "Kuo Chuan Presbyterian Primary School",
          "Lakeside Primary School",
          "Lianhua Primary School",
          "Maha Bodhi School",
          "Maris Stella High School (Primary Section)",
          "Marsiling Primary School",
          "Marymount Convent School",
          "Mayflower Primary School",
          "Mee Toh School",
          "Meridian Primary School",
          "Methodist Girls' School (Primary)",
          "Montfort Junior School",
          "Nan Chiau Primary School",
          "Nan Hua Primary School",
          "Nanyang Primary School",
          "Naval Base Primary School",
          "New Town Primary School",
          "Ngee Ann Primary School",
          "North Spring Primary School",
          "North View Primary School",
          "North Vista Primary School",
          "Northland Primary School",
          "Northoaks Primary School",
          "Northshore Primary School",
          "Oasis Primary School",
          "Opera Estate Primary School",
          "Palm View Primary School",
          "Park View Primary School",
          "Pasir Ris Primary School",
          "Paya Lebar Methodist Girls' School (Primary)",
          "Pei Chun Public School",
          "Pei Hwa Presbyterian Primary School",
          "Pei Tong Primary School",
          "Peiying Primary School",
          "Poi Ching School",
          "Princess Elizabeth Primary School",
          "Punggol Cove Primary School",
          "Punggol Green Primary School",
          "Punggol Primary School",
          "Punggol View Primary School",
          "Qifa Primary School",
          "Qihua Primary School",
          "Queenstown Primary School",
          "Radin Mas Primary School",
          "Raffles Girls' Primary School",
          "Red Swastika School",
          "River Valley Primary School",
          "Riverside Primary School",
          "Rivervale Primary School",
          "Rosyth School",
          "Rulang Primary School",
          "Sembawang Primary School",
          "Seng Kang Primary School",
          "Sengkang Green Primary School",
          "Shuqun Primary School",
          "Si Ling Primary School",
          "Singapore Chinese Girls' Primary School",
          "South View Primary School",
          "Springdale Primary School",
          "St. Andrew's Junior School",
          "St. Anthony's Canossian Primary School",
          "St. Anthony's Primary School",
          "St. Gabriel's Primary School",
          "St. Hilda's Primary School",
          "St. Joseph's Institution Junior",
          "St. Margaret's Primary School",
          "St. Stephen's School",
          "Tampines North Primary School",
          "Tampines Primary School",
          "Tanjong Katong Primary School",
          "Tao Nan School",
          "Teck Ghee Primary School",
          "Teck Whye Primary School",
          "Telok Kurau Primary School",
          "Temasek Primary School",
          "Townsville Primary School",
          "Unity Primary School",
          "Valour Primary School",
          "Waterway Primary School",
          "Wellington Primary School",
          "West Grove Primary School",
          "West Spring Primary School",
          "West View Primary School",
          "Westwood Primary School",
          "White Sands Primary School",
          "Woodgrove Primary School",
          "Woodlands Primary School",
          "Woodlands Ring Primary School",
          "Xinghua Primary School",
          "Xingnan Primary School",
          "Xinmin Primary School",
          "Xishan Primary School",
          "Yangzheng Primary School",
          "Yew Tee Primary School",
          "Yio Chu Kang Primary School",
          "Yishun Primary School",
          "Yu Neng Primary School",
          "Yuhua Primary School",
          "Yumin Primary School",
          "Zhangde Primary School",
          "Zhenghua Primary School",
          "Zhonghua Primary School"
         ],
         "yaxis": "y"
        },
        {
         "alignmentgroup": "True",
         "customdata": [
          [
           45,
           "59"
          ],
          [
           129,
           "No"
          ],
          [
           42,
           "44"
          ],
          [
           113,
           "33"
          ],
          [
           120,
           "No"
          ],
          [
           64,
           "24"
          ],
          [
           149,
           "No"
          ],
          [
           53,
           "16"
          ],
          [
           55,
           "14"
          ],
          [
           202,
           "No"
          ],
          [
           135,
           "No"
          ],
          [
           152,
           "No"
          ],
          [
           133,
           "No"
          ],
          [
           96,
           "No"
          ],
          [
           225,
           "No"
          ],
          [
           65,
           "15"
          ],
          [
           124,
           "No"
          ],
          [
           230,
           "No"
          ],
          [
           112,
           "No"
          ],
          [
           123,
           "No"
          ],
          [
           126,
           "No"
          ],
          [
           80,
           "No"
          ],
          [
           110,
           "8"
          ],
          [
           54,
           "14"
          ],
          [
           40,
           "23"
          ],
          [
           112,
           "34"
          ],
          [
           64,
           "No"
          ],
          [
           136,
           "No"
          ],
          [
           84,
           "No"
          ],
          [
           40,
           "28"
          ],
          [
           187,
           "No"
          ],
          [
           146,
           "No"
          ],
          [
           49,
           "108"
          ],
          [
           54,
           "33"
          ],
          [
           70,
           "54"
          ],
          [
           183,
           "No"
          ],
          [
           115,
           "25"
          ],
          [
           114,
           "No"
          ],
          [
           151,
           "No"
          ],
          [
           176,
           "No"
          ],
          [
           73,
           "No"
          ],
          [
           133,
           "No"
          ],
          [
           113,
           "No"
          ],
          [
           139,
           "No"
          ],
          [
           89,
           "43"
          ],
          [
           153,
           "No"
          ],
          [
           125,
           "No"
          ],
          [
           41,
           "48"
          ],
          [
           125,
           "No"
          ],
          [
           73,
           "22"
          ],
          [
           73,
           "17"
          ],
          [
           113,
           "No"
          ],
          [
           127,
           "No"
          ],
          [
           46,
           "39"
          ],
          [
           147,
           "No"
          ],
          [
           83,
           "No"
          ],
          [
           112,
           "No"
          ],
          [
           129,
           "2"
          ],
          [
           45,
           "62"
          ],
          [
           133,
           "No"
          ],
          [
           117,
           "No"
          ],
          [
           138,
           "No"
          ],
          [
           127,
           "No"
          ],
          [
           41,
           "41"
          ],
          [
           42,
           "59"
          ],
          [
           83,
           "52"
          ],
          [
           42,
           "35"
          ],
          [
           79,
           "35"
          ],
          [
           96,
           "18"
          ],
          [
           84,
           "2"
          ],
          [
           83,
           "No"
          ],
          [
           72,
           "No"
          ],
          [
           112,
           "No"
          ],
          [
           82,
           "No"
          ],
          [
           78,
           "15"
          ],
          [
           53,
           "68"
          ],
          [
           141,
           "No"
          ],
          [
           64,
           "65"
          ],
          [
           99,
           "No"
          ],
          [
           67,
           "19"
          ],
          [
           113,
           "11"
          ],
          [
           235,
           "No"
          ],
          [
           79,
           "35"
          ],
          [
           56,
           "37"
          ],
          [
           137,
           "No"
          ],
          [
           188,
           "No"
          ],
          [
           115,
           "No"
          ],
          [
           101,
           "49"
          ],
          [
           108,
           "No"
          ],
          [
           40,
           "30"
          ],
          [
           101,
           "No"
          ],
          [
           81,
           "193"
          ],
          [
           40,
           "151"
          ],
          [
           41,
           "48"
          ],
          [
           105,
           "11"
          ],
          [
           173,
           "No"
          ],
          [
           123,
           "5"
          ],
          [
           139,
           "No"
          ],
          [
           144,
           "No"
          ],
          [
           117,
           "No"
          ],
          [
           42,
           "157"
          ],
          [
           186,
           "No"
          ],
          [
           175,
           "No"
          ],
          [
           60,
           "20"
          ],
          [
           107,
           "No"
          ],
          [
           138,
           "No"
          ],
          [
           108,
           "No"
          ],
          [
           43,
           "37"
          ],
          [
           81,
           "29"
          ],
          [
           45,
           "38"
          ],
          [
           41,
           "46"
          ],
          [
           175,
           "No"
          ],
          [
           107,
           "No"
          ],
          [
           104,
           "93"
          ],
          [
           55,
           "223"
          ],
          [
           93,
           "No"
          ],
          [
           56,
           "71"
          ],
          [
           78,
           "51"
          ],
          [
           61,
           "13"
          ],
          [
           111,
           "20"
          ],
          [
           158,
           "No"
          ],
          [
           121,
           "No"
          ],
          [
           40,
           "42"
          ],
          [
           90,
           "35"
          ],
          [
           42,
           "39"
          ],
          [
           59,
           "32"
          ],
          [
           58,
           "25"
          ],
          [
           81,
           "45"
          ],
          [
           41,
           "84"
          ],
          [
           40,
           "55"
          ],
          [
           104,
           "18"
          ],
          [
           148,
           "No"
          ],
          [
           49,
           "71"
          ],
          [
           79,
           "27"
          ],
          [
           97,
           "No"
          ],
          [
           40,
           "33"
          ],
          [
           40,
           "137"
          ],
          [
           87,
           "No"
          ],
          [
           82,
           "42"
          ],
          [
           194,
           "No"
          ],
          [
           65,
           "40"
          ],
          [
           77,
           "No"
          ],
          [
           41,
           "103"
          ],
          [
           78,
           "28"
          ],
          [
           101,
           "21"
          ],
          [
           163,
           "No"
          ],
          [
           146,
           "No"
          ],
          [
           86,
           "No"
          ],
          [
           75,
           "23"
          ],
          [
           47,
           "52"
          ],
          [
           118,
           "No"
          ],
          [
           172,
           "No"
          ],
          [
           83,
           "No"
          ],
          [
           51,
           "103"
          ],
          [
           126,
           "No"
          ],
          [
           124,
           "No"
          ],
          [
           96,
           "24"
          ],
          [
           83,
           "24"
          ],
          [
           58,
           "47"
          ],
          [
           147,
           "No"
          ],
          [
           62,
           "44"
          ],
          [
           84,
           "No"
          ],
          [
           49,
           "31"
          ],
          [
           92,
           "20"
          ],
          [
           71,
           "33"
          ],
          [
           80,
           "32"
          ],
          [
           141,
           "No"
          ],
          [
           232,
           "No"
          ],
          [
           187,
           "No"
          ],
          [
           50,
           "28"
          ],
          [
           110,
           "No"
          ],
          [
           58,
           "43"
          ],
          [
           138,
           "No"
          ],
          [
           141,
           "No"
          ],
          [
           100,
           "No"
          ],
          [
           52,
           "31"
          ],
          [
           150,
           "No"
          ],
          [
           109,
           "No"
          ],
          [
           93,
           "No"
          ],
          [
           90,
           "No"
          ],
          [
           115,
           "No"
          ]
         ],
         "hovertemplate": "%{value} <br>Total Phase Vacancy: %{customdata[0]} <br>Oversubscribed: %{customdata[1]}",
         "legendgroup": "After_Phase2C_vac",
         "marker": {
          "color": "green",
          "pattern": {
           "shape": ""
          }
         },
         "name": "Remaining Vacancy",
         "offsetgroup": "After_Phase2C_vac",
         "orientation": "h",
         "showlegend": true,
         "textfont": {
          "color": "white"
         },
         "textposition": "inside",
         "texttemplate": "%{x:f}",
         "type": "bar",
         "x": [
          0,
          98,
          0,
          0,
          96,
          0,
          100,
          0,
          0,
          31,
          102,
          120,
          74,
          72,
          187,
          0,
          43,
          199,
          59,
          46,
          44,
          19,
          0,
          0,
          0,
          0,
          4,
          93,
          29,
          0,
          145,
          97,
          0,
          0,
          0,
          112,
          0,
          9,
          97,
          140,
          7,
          29,
          55,
          54,
          0,
          95,
          66,
          0,
          76,
          0,
          0,
          35,
          123,
          0,
          95,
          21,
          84,
          0,
          0,
          102,
          82,
          31,
          10,
          0,
          0,
          0,
          0,
          0,
          0,
          0,
          21,
          5,
          35,
          27,
          0,
          0,
          30,
          0,
          83,
          0,
          0,
          203,
          0,
          0,
          55,
          120,
          77,
          0,
          86,
          0,
          72,
          0,
          0,
          0,
          0,
          153,
          0,
          102,
          25,
          74,
          0,
          172,
          100,
          0,
          37,
          82,
          50,
          0,
          0,
          0,
          0,
          141,
          62,
          0,
          0,
          11,
          0,
          0,
          0,
          0,
          102,
          6,
          0,
          0,
          0,
          0,
          0,
          0,
          0,
          0,
          0,
          129,
          0,
          0,
          80,
          0,
          0,
          6,
          0,
          153,
          0,
          0,
          0,
          0,
          0,
          97,
          100,
          5,
          0,
          0,
          26,
          145,
          11,
          0,
          105,
          72,
          0,
          0,
          0,
          48,
          0,
          49,
          0,
          0,
          0,
          0,
          75,
          197,
          123,
          0,
          51,
          0,
          78,
          105,
          58,
          0,
          121,
          89,
          1,
          22,
          108
         ],
         "xaxis": "x",
         "y": [
          "Admiralty Primary School",
          "Ahmad Ibrahim Primary School",
          "Ai Tong School",
          "Alexandra Primary School",
          "Anchor Green Primary School",
          "Anderson Primary School",
          "Ang Mo Kio Primary School",
          "Anglo-Chinese School (Junior)",
          "Anglo-Chinese School (Primary)",
          "Angsana Primary School",
          "Beacon Primary School",
          "Bedok Green Primary School",
          "Bendemeer Primary School",
          "Blangah Rise Primary School",
          "Boon Lay Garden Primary School",
          "Bukit Panjang Primary School",
          "Bukit Timah Primary School",
          "Bukit View Primary School",
          "CHIJ (Katong) Primary",
          "CHIJ (Kellock)",
          "CHIJ Our Lady Queen of Peace",
          "CHIJ Our Lady of Good Counsel",
          "CHIJ Our Lady of the Nativity",
          "CHIJ Primary (Toa Payoh)",
          "CHIJ St. Nicholas Girls' School (Primary Section)",
          "Canberra Primary School",
          "Canossa Catholic Primary School",
          "Cantonment Primary School",
          "Casuarina Primary School",
          "Catholic High School (Primary Section)",
          "Cedar Primary School",
          "Changkat Primary School",
          "Chongfu School",
          "Chongzheng Primary School",
          "Chua Chu Kang Primary School",
          "Clementi Primary School",
          "Compassvale Primary School",
          "Concord Primary School",
          "Corporation Primary School",
          "Damai Primary School",
          "Dazhong Primary School",
          "De La Salle School",
          "East Spring Primary School",
          "Edgefield Primary School",
          "Elias Park Primary School",
          "Endeavour Primary School",
          "Evergreen Primary School",
          "Fairfield Methodist School (Primary)",
          "Farrer Park Primary School",
          "Fengshan Primary School",
          "Fern Green Primary School",
          "Fernvale Primary School",
          "First Toa Payoh Primary School",
          "Frontier Primary School",
          "Fuchun Primary School",
          "Fuhua Primary School",
          "Gan Eng Seng Primary School",
          "Geylang Methodist School (Primary)",
          "Gongshang Primary School",
          "Greendale Primary School",
          "Greenridge Primary School",
          "Greenwood Primary School",
          "Haig Girls' School",
          "Henry Park Primary School",
          "Holy Innocents' Primary School",
          "Hong Wen School",
          "Horizon Primary School",
          "Hougang Primary School",
          "Huamin Primary School",
          "Innova Primary School",
          "Jiemin Primary School",
          "Jing Shan Primary School",
          "Junyuan Primary School",
          "Jurong Primary School",
          "Jurong West Primary School",
          "Keming Primary School",
          "Kheng Cheng School",
          "Kong Hwa School",
          "Kranji Primary School",
          "Kuo Chuan Presbyterian Primary School",
          "Lakeside Primary School",
          "Lianhua Primary School",
          "Maha Bodhi School",
          "Maris Stella High School (Primary Section)",
          "Marsiling Primary School",
          "Marymount Convent School",
          "Mayflower Primary School",
          "Mee Toh School",
          "Meridian Primary School",
          "Methodist Girls' School (Primary)",
          "Montfort Junior School",
          "Nan Chiau Primary School",
          "Nan Hua Primary School",
          "Nanyang Primary School",
          "Naval Base Primary School",
          "New Town Primary School",
          "Ngee Ann Primary School",
          "North Spring Primary School",
          "North View Primary School",
          "North Vista Primary School",
          "Northland Primary School",
          "Northoaks Primary School",
          "Northshore Primary School",
          "Oasis Primary School",
          "Opera Estate Primary School",
          "Palm View Primary School",
          "Park View Primary School",
          "Pasir Ris Primary School",
          "Paya Lebar Methodist Girls' School (Primary)",
          "Pei Chun Public School",
          "Pei Hwa Presbyterian Primary School",
          "Pei Tong Primary School",
          "Peiying Primary School",
          "Poi Ching School",
          "Princess Elizabeth Primary School",
          "Punggol Cove Primary School",
          "Punggol Green Primary School",
          "Punggol Primary School",
          "Punggol View Primary School",
          "Qifa Primary School",
          "Qihua Primary School",
          "Queenstown Primary School",
          "Radin Mas Primary School",
          "Raffles Girls' Primary School",
          "Red Swastika School",
          "River Valley Primary School",
          "Riverside Primary School",
          "Rivervale Primary School",
          "Rosyth School",
          "Rulang Primary School",
          "Sembawang Primary School",
          "Seng Kang Primary School",
          "Sengkang Green Primary School",
          "Shuqun Primary School",
          "Si Ling Primary School",
          "Singapore Chinese Girls' Primary School",
          "South View Primary School",
          "Springdale Primary School",
          "St. Andrew's Junior School",
          "St. Anthony's Canossian Primary School",
          "St. Anthony's Primary School",
          "St. Gabriel's Primary School",
          "St. Hilda's Primary School",
          "St. Joseph's Institution Junior",
          "St. Margaret's Primary School",
          "St. Stephen's School",
          "Tampines North Primary School",
          "Tampines Primary School",
          "Tanjong Katong Primary School",
          "Tao Nan School",
          "Teck Ghee Primary School",
          "Teck Whye Primary School",
          "Telok Kurau Primary School",
          "Temasek Primary School",
          "Townsville Primary School",
          "Unity Primary School",
          "Valour Primary School",
          "Waterway Primary School",
          "Wellington Primary School",
          "West Grove Primary School",
          "West Spring Primary School",
          "West View Primary School",
          "Westwood Primary School",
          "White Sands Primary School",
          "Woodgrove Primary School",
          "Woodlands Primary School",
          "Woodlands Ring Primary School",
          "Xinghua Primary School",
          "Xingnan Primary School",
          "Xinmin Primary School",
          "Xishan Primary School",
          "Yangzheng Primary School",
          "Yew Tee Primary School",
          "Yio Chu Kang Primary School",
          "Yishun Primary School",
          "Yu Neng Primary School",
          "Yuhua Primary School",
          "Yumin Primary School",
          "Zhangde Primary School",
          "Zhenghua Primary School",
          "Zhonghua Primary School"
         ],
         "yaxis": "y"
        }
       ],
       "layout": {
        "annotations": [
         {
          "arrowhead": 1,
          "ax": 20,
          "bgcolor": "#ff7f0e",
          "bordercolor": "#c7c7c7",
          "opacity": 0.8,
          "showarrow": true,
          "text": "Oversub: 59",
          "x": 45,
          "y": "Admiralty Primary School"
         },
         {
          "arrowhead": 1,
          "ax": 20,
          "bgcolor": "#ff7f0e",
          "bordercolor": "#c7c7c7",
          "opacity": 0.8,
          "showarrow": true,
          "text": "Oversub: 44",
          "x": 42,
          "y": "Ai Tong School"
         },
         {
          "arrowhead": 1,
          "ax": 20,
          "bgcolor": "#ff7f0e",
          "bordercolor": "#c7c7c7",
          "opacity": 0.8,
          "showarrow": true,
          "text": "Oversub: 33",
          "x": 113,
          "y": "Alexandra Primary School"
         },
         {
          "arrowhead": 1,
          "ax": 20,
          "bgcolor": "#ff7f0e",
          "bordercolor": "#c7c7c7",
          "opacity": 0.8,
          "showarrow": true,
          "text": "Oversub: 24",
          "x": 64,
          "y": "Anderson Primary School"
         },
         {
          "arrowhead": 1,
          "ax": 20,
          "bgcolor": "#ff7f0e",
          "bordercolor": "#c7c7c7",
          "opacity": 0.8,
          "showarrow": true,
          "text": "Oversub: 16",
          "x": 53,
          "y": "Anglo-Chinese School (Junior)"
         },
         {
          "arrowhead": 1,
          "ax": 20,
          "bgcolor": "#ff7f0e",
          "bordercolor": "#c7c7c7",
          "opacity": 0.8,
          "showarrow": true,
          "text": "Oversub: 14",
          "x": 55,
          "y": "Anglo-Chinese School (Primary)"
         },
         {
          "arrowhead": 1,
          "ax": 20,
          "bgcolor": "#ff7f0e",
          "bordercolor": "#c7c7c7",
          "opacity": 0.8,
          "showarrow": true,
          "text": "Oversub: 15",
          "x": 65,
          "y": "Bukit Panjang Primary School"
         },
         {
          "arrowhead": 1,
          "ax": 20,
          "bgcolor": "#ff7f0e",
          "bordercolor": "#c7c7c7",
          "opacity": 0.8,
          "showarrow": true,
          "text": "Oversub: 8",
          "x": 110,
          "y": "CHIJ Our Lady of the Nativity"
         },
         {
          "arrowhead": 1,
          "ax": 20,
          "bgcolor": "#ff7f0e",
          "bordercolor": "#c7c7c7",
          "opacity": 0.8,
          "showarrow": true,
          "text": "Oversub: 14",
          "x": 54,
          "y": "CHIJ Primary (Toa Payoh)"
         },
         {
          "arrowhead": 1,
          "ax": 20,
          "bgcolor": "#ff7f0e",
          "bordercolor": "#c7c7c7",
          "opacity": 0.8,
          "showarrow": true,
          "text": "Oversub: 23",
          "x": 40,
          "y": "CHIJ St. Nicholas Girls' School (Primary Section)"
         },
         {
          "arrowhead": 1,
          "ax": 20,
          "bgcolor": "#ff7f0e",
          "bordercolor": "#c7c7c7",
          "opacity": 0.8,
          "showarrow": true,
          "text": "Oversub: 34",
          "x": 112,
          "y": "Canberra Primary School"
         },
         {
          "arrowhead": 1,
          "ax": 20,
          "bgcolor": "#ff7f0e",
          "bordercolor": "#c7c7c7",
          "opacity": 0.8,
          "showarrow": true,
          "text": "Oversub: 28",
          "x": 40,
          "y": "Catholic High School (Primary Section)"
         },
         {
          "arrowhead": 1,
          "ax": 20,
          "bgcolor": "#ff7f0e",
          "bordercolor": "#c7c7c7",
          "opacity": 0.8,
          "showarrow": true,
          "text": "Oversub: 108",
          "x": 49,
          "y": "Chongfu School"
         },
         {
          "arrowhead": 1,
          "ax": 20,
          "bgcolor": "#ff7f0e",
          "bordercolor": "#c7c7c7",
          "opacity": 0.8,
          "showarrow": true,
          "text": "Oversub: 33",
          "x": 54,
          "y": "Chongzheng Primary School"
         },
         {
          "arrowhead": 1,
          "ax": 20,
          "bgcolor": "#ff7f0e",
          "bordercolor": "#c7c7c7",
          "opacity": 0.8,
          "showarrow": true,
          "text": "Oversub: 54",
          "x": 70,
          "y": "Chua Chu Kang Primary School"
         },
         {
          "arrowhead": 1,
          "ax": 20,
          "bgcolor": "#ff7f0e",
          "bordercolor": "#c7c7c7",
          "opacity": 0.8,
          "showarrow": true,
          "text": "Oversub: 25",
          "x": 115,
          "y": "Compassvale Primary School"
         },
         {
          "arrowhead": 1,
          "ax": 20,
          "bgcolor": "#ff7f0e",
          "bordercolor": "#c7c7c7",
          "opacity": 0.8,
          "showarrow": true,
          "text": "Oversub: 43",
          "x": 89,
          "y": "Elias Park Primary School"
         },
         {
          "arrowhead": 1,
          "ax": 20,
          "bgcolor": "#ff7f0e",
          "bordercolor": "#c7c7c7",
          "opacity": 0.8,
          "showarrow": true,
          "text": "Oversub: 48",
          "x": 41,
          "y": "Fairfield Methodist School (Primary)"
         },
         {
          "arrowhead": 1,
          "ax": 20,
          "bgcolor": "#ff7f0e",
          "bordercolor": "#c7c7c7",
          "opacity": 0.8,
          "showarrow": true,
          "text": "Oversub: 22",
          "x": 73,
          "y": "Fengshan Primary School"
         },
         {
          "arrowhead": 1,
          "ax": 20,
          "bgcolor": "#ff7f0e",
          "bordercolor": "#c7c7c7",
          "opacity": 0.8,
          "showarrow": true,
          "text": "Oversub: 17",
          "x": 73,
          "y": "Fern Green Primary School"
         },
         {
          "arrowhead": 1,
          "ax": 20,
          "bgcolor": "#ff7f0e",
          "bordercolor": "#c7c7c7",
          "opacity": 0.8,
          "showarrow": true,
          "text": "Oversub: 39",
          "x": 46,
          "y": "Frontier Primary School"
         },
         {
          "arrowhead": 1,
          "ax": 20,
          "bgcolor": "#ff7f0e",
          "bordercolor": "#c7c7c7",
          "opacity": 0.8,
          "showarrow": true,
          "text": "Oversub: 2",
          "x": 129,
          "y": "Geylang Methodist School (Primary)"
         },
         {
          "arrowhead": 1,
          "ax": 20,
          "bgcolor": "#ff7f0e",
          "bordercolor": "#c7c7c7",
          "opacity": 0.8,
          "showarrow": true,
          "text": "Oversub: 62",
          "x": 45,
          "y": "Gongshang Primary School"
         },
         {
          "arrowhead": 1,
          "ax": 20,
          "bgcolor": "#ff7f0e",
          "bordercolor": "#c7c7c7",
          "opacity": 0.8,
          "showarrow": true,
          "text": "Oversub: 41",
          "x": 41,
          "y": "Henry Park Primary School"
         },
         {
          "arrowhead": 1,
          "ax": 20,
          "bgcolor": "#ff7f0e",
          "bordercolor": "#c7c7c7",
          "opacity": 0.8,
          "showarrow": true,
          "text": "Oversub: 59",
          "x": 42,
          "y": "Holy Innocents' Primary School"
         },
         {
          "arrowhead": 1,
          "ax": 20,
          "bgcolor": "#ff7f0e",
          "bordercolor": "#c7c7c7",
          "opacity": 0.8,
          "showarrow": true,
          "text": "Oversub: 52",
          "x": 83,
          "y": "Hong Wen School"
         },
         {
          "arrowhead": 1,
          "ax": 20,
          "bgcolor": "#ff7f0e",
          "bordercolor": "#c7c7c7",
          "opacity": 0.8,
          "showarrow": true,
          "text": "Oversub: 35",
          "x": 42,
          "y": "Horizon Primary School"
         },
         {
          "arrowhead": 1,
          "ax": 20,
          "bgcolor": "#ff7f0e",
          "bordercolor": "#c7c7c7",
          "opacity": 0.8,
          "showarrow": true,
          "text": "Oversub: 35",
          "x": 79,
          "y": "Hougang Primary School"
         },
         {
          "arrowhead": 1,
          "ax": 20,
          "bgcolor": "#ff7f0e",
          "bordercolor": "#c7c7c7",
          "opacity": 0.8,
          "showarrow": true,
          "text": "Oversub: 18",
          "x": 96,
          "y": "Huamin Primary School"
         },
         {
          "arrowhead": 1,
          "ax": 20,
          "bgcolor": "#ff7f0e",
          "bordercolor": "#c7c7c7",
          "opacity": 0.8,
          "showarrow": true,
          "text": "Oversub: 2",
          "x": 84,
          "y": "Innova Primary School"
         },
         {
          "arrowhead": 1,
          "ax": 20,
          "bgcolor": "#ff7f0e",
          "bordercolor": "#c7c7c7",
          "opacity": 0.8,
          "showarrow": true,
          "text": "Oversub: 15",
          "x": 78,
          "y": "Jurong West Primary School"
         },
         {
          "arrowhead": 1,
          "ax": 20,
          "bgcolor": "#ff7f0e",
          "bordercolor": "#c7c7c7",
          "opacity": 0.8,
          "showarrow": true,
          "text": "Oversub: 68",
          "x": 53,
          "y": "Keming Primary School"
         },
         {
          "arrowhead": 1,
          "ax": 20,
          "bgcolor": "#ff7f0e",
          "bordercolor": "#c7c7c7",
          "opacity": 0.8,
          "showarrow": true,
          "text": "Oversub: 65",
          "x": 64,
          "y": "Kong Hwa School"
         },
         {
          "arrowhead": 1,
          "ax": 20,
          "bgcolor": "#ff7f0e",
          "bordercolor": "#c7c7c7",
          "opacity": 0.8,
          "showarrow": true,
          "text": "Oversub: 19",
          "x": 67,
          "y": "Kuo Chuan Presbyterian Primary School"
         },
         {
          "arrowhead": 1,
          "ax": 20,
          "bgcolor": "#ff7f0e",
          "bordercolor": "#c7c7c7",
          "opacity": 0.8,
          "showarrow": true,
          "text": "Oversub: 11",
          "x": 113,
          "y": "Lakeside Primary School"
         },
         {
          "arrowhead": 1,
          "ax": 20,
          "bgcolor": "#ff7f0e",
          "bordercolor": "#c7c7c7",
          "opacity": 0.8,
          "showarrow": true,
          "text": "Oversub: 35",
          "x": 79,
          "y": "Maha Bodhi School"
         },
         {
          "arrowhead": 1,
          "ax": 20,
          "bgcolor": "#ff7f0e",
          "bordercolor": "#c7c7c7",
          "opacity": 0.8,
          "showarrow": true,
          "text": "Oversub: 37",
          "x": 56,
          "y": "Maris Stella High School (Primary Section)"
         },
         {
          "arrowhead": 1,
          "ax": 20,
          "bgcolor": "#ff7f0e",
          "bordercolor": "#c7c7c7",
          "opacity": 0.8,
          "showarrow": true,
          "text": "Oversub: 49",
          "x": 101,
          "y": "Mee Toh School"
         },
         {
          "arrowhead": 1,
          "ax": 20,
          "bgcolor": "#ff7f0e",
          "bordercolor": "#c7c7c7",
          "opacity": 0.8,
          "showarrow": true,
          "text": "Oversub: 30",
          "x": 40,
          "y": "Methodist Girls' School (Primary)"
         },
         {
          "arrowhead": 1,
          "ax": 20,
          "bgcolor": "#ff7f0e",
          "bordercolor": "#c7c7c7",
          "opacity": 0.8,
          "showarrow": true,
          "text": "Oversub: 193",
          "x": 81,
          "y": "Nan Chiau Primary School"
         },
         {
          "arrowhead": 1,
          "ax": 20,
          "bgcolor": "#ff7f0e",
          "bordercolor": "#c7c7c7",
          "opacity": 0.8,
          "showarrow": true,
          "text": "Oversub: 151",
          "x": 40,
          "y": "Nan Hua Primary School"
         },
         {
          "arrowhead": 1,
          "ax": 20,
          "bgcolor": "#ff7f0e",
          "bordercolor": "#c7c7c7",
          "opacity": 0.8,
          "showarrow": true,
          "text": "Oversub: 48",
          "x": 41,
          "y": "Nanyang Primary School"
         },
         {
          "arrowhead": 1,
          "ax": 20,
          "bgcolor": "#ff7f0e",
          "bordercolor": "#c7c7c7",
          "opacity": 0.8,
          "showarrow": true,
          "text": "Oversub: 11",
          "x": 105,
          "y": "Naval Base Primary School"
         },
         {
          "arrowhead": 1,
          "ax": 20,
          "bgcolor": "#ff7f0e",
          "bordercolor": "#c7c7c7",
          "opacity": 0.8,
          "showarrow": true,
          "text": "Oversub: 5",
          "x": 123,
          "y": "Ngee Ann Primary School"
         },
         {
          "arrowhead": 1,
          "ax": 20,
          "bgcolor": "#ff7f0e",
          "bordercolor": "#c7c7c7",
          "opacity": 0.8,
          "showarrow": true,
          "text": "Oversub: 157",
          "x": 42,
          "y": "Northland Primary School"
         },
         {
          "arrowhead": 1,
          "ax": 20,
          "bgcolor": "#ff7f0e",
          "bordercolor": "#c7c7c7",
          "opacity": 0.8,
          "showarrow": true,
          "text": "Oversub: 20",
          "x": 60,
          "y": "Oasis Primary School"
         },
         {
          "arrowhead": 1,
          "ax": 20,
          "bgcolor": "#ff7f0e",
          "bordercolor": "#c7c7c7",
          "opacity": 0.8,
          "showarrow": true,
          "text": "Oversub: 37",
          "x": 43,
          "y": "Pasir Ris Primary School"
         },
         {
          "arrowhead": 1,
          "ax": 20,
          "bgcolor": "#ff7f0e",
          "bordercolor": "#c7c7c7",
          "opacity": 0.8,
          "showarrow": true,
          "text": "Oversub: 29",
          "x": 81,
          "y": "Paya Lebar Methodist Girls' School (Primary)"
         },
         {
          "arrowhead": 1,
          "ax": 20,
          "bgcolor": "#ff7f0e",
          "bordercolor": "#c7c7c7",
          "opacity": 0.8,
          "showarrow": true,
          "text": "Oversub: 38",
          "x": 45,
          "y": "Pei Chun Public School"
         },
         {
          "arrowhead": 1,
          "ax": 20,
          "bgcolor": "#ff7f0e",
          "bordercolor": "#c7c7c7",
          "opacity": 0.8,
          "showarrow": true,
          "text": "Oversub: 46",
          "x": 41,
          "y": "Pei Hwa Presbyterian Primary School"
         },
         {
          "arrowhead": 1,
          "ax": 20,
          "bgcolor": "#ff7f0e",
          "bordercolor": "#c7c7c7",
          "opacity": 0.8,
          "showarrow": true,
          "text": "Oversub: 93",
          "x": 104,
          "y": "Poi Ching School"
         },
         {
          "arrowhead": 1,
          "ax": 20,
          "bgcolor": "#ff7f0e",
          "bordercolor": "#c7c7c7",
          "opacity": 0.8,
          "showarrow": true,
          "text": "Oversub: 223",
          "x": 55,
          "y": "Princess Elizabeth Primary School"
         },
         {
          "arrowhead": 1,
          "ax": 20,
          "bgcolor": "#ff7f0e",
          "bordercolor": "#c7c7c7",
          "opacity": 0.8,
          "showarrow": true,
          "text": "Oversub: 71",
          "x": 56,
          "y": "Punggol Green Primary School"
         },
         {
          "arrowhead": 1,
          "ax": 20,
          "bgcolor": "#ff7f0e",
          "bordercolor": "#c7c7c7",
          "opacity": 0.8,
          "showarrow": true,
          "text": "Oversub: 51",
          "x": 78,
          "y": "Punggol Primary School"
         },
         {
          "arrowhead": 1,
          "ax": 20,
          "bgcolor": "#ff7f0e",
          "bordercolor": "#c7c7c7",
          "opacity": 0.8,
          "showarrow": true,
          "text": "Oversub: 13",
          "x": 61,
          "y": "Punggol View Primary School"
         },
         {
          "arrowhead": 1,
          "ax": 20,
          "bgcolor": "#ff7f0e",
          "bordercolor": "#c7c7c7",
          "opacity": 0.8,
          "showarrow": true,
          "text": "Oversub: 20",
          "x": 111,
          "y": "Qifa Primary School"
         },
         {
          "arrowhead": 1,
          "ax": 20,
          "bgcolor": "#ff7f0e",
          "bordercolor": "#c7c7c7",
          "opacity": 0.8,
          "showarrow": true,
          "text": "Oversub: 42",
          "x": 40,
          "y": "Radin Mas Primary School"
         },
         {
          "arrowhead": 1,
          "ax": 20,
          "bgcolor": "#ff7f0e",
          "bordercolor": "#c7c7c7",
          "opacity": 0.8,
          "showarrow": true,
          "text": "Oversub: 35",
          "x": 90,
          "y": "Raffles Girls' Primary School"
         },
         {
          "arrowhead": 1,
          "ax": 20,
          "bgcolor": "#ff7f0e",
          "bordercolor": "#c7c7c7",
          "opacity": 0.8,
          "showarrow": true,
          "text": "Oversub: 39",
          "x": 42,
          "y": "Red Swastika School"
         },
         {
          "arrowhead": 1,
          "ax": 20,
          "bgcolor": "#ff7f0e",
          "bordercolor": "#c7c7c7",
          "opacity": 0.8,
          "showarrow": true,
          "text": "Oversub: 32",
          "x": 59,
          "y": "River Valley Primary School"
         },
         {
          "arrowhead": 1,
          "ax": 20,
          "bgcolor": "#ff7f0e",
          "bordercolor": "#c7c7c7",
          "opacity": 0.8,
          "showarrow": true,
          "text": "Oversub: 25",
          "x": 58,
          "y": "Riverside Primary School"
         },
         {
          "arrowhead": 1,
          "ax": 20,
          "bgcolor": "#ff7f0e",
          "bordercolor": "#c7c7c7",
          "opacity": 0.8,
          "showarrow": true,
          "text": "Oversub: 45",
          "x": 81,
          "y": "Rivervale Primary School"
         },
         {
          "arrowhead": 1,
          "ax": 20,
          "bgcolor": "#ff7f0e",
          "bordercolor": "#c7c7c7",
          "opacity": 0.8,
          "showarrow": true,
          "text": "Oversub: 84",
          "x": 41,
          "y": "Rosyth School"
         },
         {
          "arrowhead": 1,
          "ax": 20,
          "bgcolor": "#ff7f0e",
          "bordercolor": "#c7c7c7",
          "opacity": 0.8,
          "showarrow": true,
          "text": "Oversub: 55",
          "x": 40,
          "y": "Rulang Primary School"
         },
         {
          "arrowhead": 1,
          "ax": 20,
          "bgcolor": "#ff7f0e",
          "bordercolor": "#c7c7c7",
          "opacity": 0.8,
          "showarrow": true,
          "text": "Oversub: 18",
          "x": 104,
          "y": "Sembawang Primary School"
         },
         {
          "arrowhead": 1,
          "ax": 20,
          "bgcolor": "#ff7f0e",
          "bordercolor": "#c7c7c7",
          "opacity": 0.8,
          "showarrow": true,
          "text": "Oversub: 71",
          "x": 49,
          "y": "Sengkang Green Primary School"
         },
         {
          "arrowhead": 1,
          "ax": 20,
          "bgcolor": "#ff7f0e",
          "bordercolor": "#c7c7c7",
          "opacity": 0.8,
          "showarrow": true,
          "text": "Oversub: 27",
          "x": 79,
          "y": "Shuqun Primary School"
         },
         {
          "arrowhead": 1,
          "ax": 20,
          "bgcolor": "#ff7f0e",
          "bordercolor": "#c7c7c7",
          "opacity": 0.8,
          "showarrow": true,
          "text": "Oversub: 33",
          "x": 40,
          "y": "Singapore Chinese Girls' Primary School"
         },
         {
          "arrowhead": 1,
          "ax": 20,
          "bgcolor": "#ff7f0e",
          "bordercolor": "#c7c7c7",
          "opacity": 0.8,
          "showarrow": true,
          "text": "Oversub: 137",
          "x": 40,
          "y": "South View Primary School"
         },
         {
          "arrowhead": 1,
          "ax": 20,
          "bgcolor": "#ff7f0e",
          "bordercolor": "#c7c7c7",
          "opacity": 0.8,
          "showarrow": true,
          "text": "Oversub: 42",
          "x": 82,
          "y": "St. Andrew's Junior School"
         },
         {
          "arrowhead": 1,
          "ax": 20,
          "bgcolor": "#ff7f0e",
          "bordercolor": "#c7c7c7",
          "opacity": 0.8,
          "showarrow": true,
          "text": "Oversub: 40",
          "x": 65,
          "y": "St. Anthony's Primary School"
         },
         {
          "arrowhead": 1,
          "ax": 20,
          "bgcolor": "#ff7f0e",
          "bordercolor": "#c7c7c7",
          "opacity": 0.8,
          "showarrow": true,
          "text": "Oversub: 103",
          "x": 41,
          "y": "St. Hilda's Primary School"
         },
         {
          "arrowhead": 1,
          "ax": 20,
          "bgcolor": "#ff7f0e",
          "bordercolor": "#c7c7c7",
          "opacity": 0.8,
          "showarrow": true,
          "text": "Oversub: 28",
          "x": 78,
          "y": "St. Joseph's Institution Junior"
         },
         {
          "arrowhead": 1,
          "ax": 20,
          "bgcolor": "#ff7f0e",
          "bordercolor": "#c7c7c7",
          "opacity": 0.8,
          "showarrow": true,
          "text": "Oversub: 21",
          "x": 101,
          "y": "St. Margaret's Primary School"
         },
         {
          "arrowhead": 1,
          "ax": 20,
          "bgcolor": "#ff7f0e",
          "bordercolor": "#c7c7c7",
          "opacity": 0.8,
          "showarrow": true,
          "text": "Oversub: 23",
          "x": 75,
          "y": "Tanjong Katong Primary School"
         },
         {
          "arrowhead": 1,
          "ax": 20,
          "bgcolor": "#ff7f0e",
          "bordercolor": "#c7c7c7",
          "opacity": 0.8,
          "showarrow": true,
          "text": "Oversub: 52",
          "x": 47,
          "y": "Tao Nan School"
         },
         {
          "arrowhead": 1,
          "ax": 20,
          "bgcolor": "#ff7f0e",
          "bordercolor": "#c7c7c7",
          "opacity": 0.8,
          "showarrow": true,
          "text": "Oversub: 103",
          "x": 51,
          "y": "Temasek Primary School"
         },
         {
          "arrowhead": 1,
          "ax": 20,
          "bgcolor": "#ff7f0e",
          "bordercolor": "#c7c7c7",
          "opacity": 0.8,
          "showarrow": true,
          "text": "Oversub: 24",
          "x": 96,
          "y": "Valour Primary School"
         },
         {
          "arrowhead": 1,
          "ax": 20,
          "bgcolor": "#ff7f0e",
          "bordercolor": "#c7c7c7",
          "opacity": 0.8,
          "showarrow": true,
          "text": "Oversub: 24",
          "x": 83,
          "y": "Waterway Primary School"
         },
         {
          "arrowhead": 1,
          "ax": 20,
          "bgcolor": "#ff7f0e",
          "bordercolor": "#c7c7c7",
          "opacity": 0.8,
          "showarrow": true,
          "text": "Oversub: 47",
          "x": 58,
          "y": "Wellington Primary School"
         },
         {
          "arrowhead": 1,
          "ax": 20,
          "bgcolor": "#ff7f0e",
          "bordercolor": "#c7c7c7",
          "opacity": 0.8,
          "showarrow": true,
          "text": "Oversub: 44",
          "x": 62,
          "y": "West Spring Primary School"
         },
         {
          "arrowhead": 1,
          "ax": 20,
          "bgcolor": "#ff7f0e",
          "bordercolor": "#c7c7c7",
          "opacity": 0.8,
          "showarrow": true,
          "text": "Oversub: 31",
          "x": 49,
          "y": "Westwood Primary School"
         },
         {
          "arrowhead": 1,
          "ax": 20,
          "bgcolor": "#ff7f0e",
          "bordercolor": "#c7c7c7",
          "opacity": 0.8,
          "showarrow": true,
          "text": "Oversub: 20",
          "x": 92,
          "y": "White Sands Primary School"
         },
         {
          "arrowhead": 1,
          "ax": 20,
          "bgcolor": "#ff7f0e",
          "bordercolor": "#c7c7c7",
          "opacity": 0.8,
          "showarrow": true,
          "text": "Oversub: 33",
          "x": 71,
          "y": "Woodgrove Primary School"
         },
         {
          "arrowhead": 1,
          "ax": 20,
          "bgcolor": "#ff7f0e",
          "bordercolor": "#c7c7c7",
          "opacity": 0.8,
          "showarrow": true,
          "text": "Oversub: 32",
          "x": 80,
          "y": "Woodlands Primary School"
         },
         {
          "arrowhead": 1,
          "ax": 20,
          "bgcolor": "#ff7f0e",
          "bordercolor": "#c7c7c7",
          "opacity": 0.8,
          "showarrow": true,
          "text": "Oversub: 28",
          "x": 50,
          "y": "Xinmin Primary School"
         },
         {
          "arrowhead": 1,
          "ax": 20,
          "bgcolor": "#ff7f0e",
          "bordercolor": "#c7c7c7",
          "opacity": 0.8,
          "showarrow": true,
          "text": "Oversub: 43",
          "x": 58,
          "y": "Yangzheng Primary School"
         },
         {
          "arrowhead": 1,
          "ax": 20,
          "bgcolor": "#ff7f0e",
          "bordercolor": "#c7c7c7",
          "opacity": 0.8,
          "showarrow": true,
          "text": "Oversub: 31",
          "x": 52,
          "y": "Yu Neng Primary School"
         }
        ],
        "barmode": "relative",
        "height": 5000,
        "hovermode": "y unified",
        "legend": {
         "title": {
          "text": "Legend"
         },
         "tracegroupgap": 0
        },
        "shapes": [
         {
          "line": {
           "color": "red"
          },
          "name": "Oversub",
          "type": "circle",
          "x0": 45,
          "x1": 45,
          "y0": "Admiralty Primary School",
          "y1": "Ahmad Ibrahim Primary School"
         },
         {
          "line": {
           "color": "red"
          },
          "name": "Oversub",
          "type": "circle",
          "x0": 42,
          "x1": 42,
          "y0": "Ai Tong School",
          "y1": "Alexandra Primary School"
         },
         {
          "line": {
           "color": "red"
          },
          "name": "Oversub",
          "type": "circle",
          "x0": 113,
          "x1": 113,
          "y0": "Alexandra Primary School",
          "y1": "Anchor Green Primary School"
         },
         {
          "line": {
           "color": "red"
          },
          "name": "Oversub",
          "type": "circle",
          "x0": 64,
          "x1": 64,
          "y0": "Anderson Primary School",
          "y1": "Ang Mo Kio Primary School"
         },
         {
          "line": {
           "color": "red"
          },
          "name": "Oversub",
          "type": "circle",
          "x0": 53,
          "x1": 53,
          "y0": "Anglo-Chinese School (Junior)",
          "y1": "Anglo-Chinese School (Primary)"
         },
         {
          "line": {
           "color": "red"
          },
          "name": "Oversub",
          "type": "circle",
          "x0": 55,
          "x1": 55,
          "y0": "Anglo-Chinese School (Primary)",
          "y1": "Angsana Primary School"
         },
         {
          "line": {
           "color": "red"
          },
          "name": "Oversub",
          "type": "circle",
          "x0": 65,
          "x1": 65,
          "y0": "Bukit Panjang Primary School",
          "y1": "Bukit Timah Primary School"
         },
         {
          "line": {
           "color": "red"
          },
          "name": "Oversub",
          "type": "circle",
          "x0": 110,
          "x1": 110,
          "y0": "CHIJ Our Lady of the Nativity",
          "y1": "CHIJ Primary (Toa Payoh)"
         },
         {
          "line": {
           "color": "red"
          },
          "name": "Oversub",
          "type": "circle",
          "x0": 54,
          "x1": 54,
          "y0": "CHIJ Primary (Toa Payoh)",
          "y1": "CHIJ St. Nicholas Girls' School (Primary Section)"
         },
         {
          "line": {
           "color": "red"
          },
          "name": "Oversub",
          "type": "circle",
          "x0": 40,
          "x1": 40,
          "y0": "CHIJ St. Nicholas Girls' School (Primary Section)",
          "y1": "Canberra Primary School"
         },
         {
          "line": {
           "color": "red"
          },
          "name": "Oversub",
          "type": "circle",
          "x0": 112,
          "x1": 112,
          "y0": "Canberra Primary School",
          "y1": "Canossa Catholic Primary School"
         },
         {
          "line": {
           "color": "red"
          },
          "name": "Oversub",
          "type": "circle",
          "x0": 40,
          "x1": 40,
          "y0": "Catholic High School (Primary Section)",
          "y1": "Cedar Primary School"
         },
         {
          "line": {
           "color": "red"
          },
          "name": "Oversub",
          "type": "circle",
          "x0": 49,
          "x1": 49,
          "y0": "Chongfu School",
          "y1": "Chongzheng Primary School"
         },
         {
          "line": {
           "color": "red"
          },
          "name": "Oversub",
          "type": "circle",
          "x0": 54,
          "x1": 54,
          "y0": "Chongzheng Primary School",
          "y1": "Chua Chu Kang Primary School"
         },
         {
          "line": {
           "color": "red"
          },
          "name": "Oversub",
          "type": "circle",
          "x0": 70,
          "x1": 70,
          "y0": "Chua Chu Kang Primary School",
          "y1": "Clementi Primary School"
         },
         {
          "line": {
           "color": "red"
          },
          "name": "Oversub",
          "type": "circle",
          "x0": 115,
          "x1": 115,
          "y0": "Compassvale Primary School",
          "y1": "Concord Primary School"
         },
         {
          "line": {
           "color": "red"
          },
          "name": "Oversub",
          "type": "circle",
          "x0": 89,
          "x1": 89,
          "y0": "Elias Park Primary School",
          "y1": "Endeavour Primary School"
         },
         {
          "line": {
           "color": "red"
          },
          "name": "Oversub",
          "type": "circle",
          "x0": 41,
          "x1": 41,
          "y0": "Fairfield Methodist School (Primary)",
          "y1": "Farrer Park Primary School"
         },
         {
          "line": {
           "color": "red"
          },
          "name": "Oversub",
          "type": "circle",
          "x0": 73,
          "x1": 73,
          "y0": "Fengshan Primary School",
          "y1": "Fern Green Primary School"
         },
         {
          "line": {
           "color": "red"
          },
          "name": "Oversub",
          "type": "circle",
          "x0": 73,
          "x1": 73,
          "y0": "Fern Green Primary School",
          "y1": "Fernvale Primary School"
         },
         {
          "line": {
           "color": "red"
          },
          "name": "Oversub",
          "type": "circle",
          "x0": 46,
          "x1": 46,
          "y0": "Frontier Primary School",
          "y1": "Fuchun Primary School"
         },
         {
          "line": {
           "color": "red"
          },
          "name": "Oversub",
          "type": "circle",
          "x0": 129,
          "x1": 129,
          "y0": "Geylang Methodist School (Primary)",
          "y1": "Gongshang Primary School"
         },
         {
          "line": {
           "color": "red"
          },
          "name": "Oversub",
          "type": "circle",
          "x0": 45,
          "x1": 45,
          "y0": "Gongshang Primary School",
          "y1": "Greendale Primary School"
         },
         {
          "line": {
           "color": "red"
          },
          "name": "Oversub",
          "type": "circle",
          "x0": 41,
          "x1": 41,
          "y0": "Henry Park Primary School",
          "y1": "Holy Innocents' Primary School"
         },
         {
          "line": {
           "color": "red"
          },
          "name": "Oversub",
          "type": "circle",
          "x0": 42,
          "x1": 42,
          "y0": "Holy Innocents' Primary School",
          "y1": "Hong Wen School"
         },
         {
          "line": {
           "color": "red"
          },
          "name": "Oversub",
          "type": "circle",
          "x0": 83,
          "x1": 83,
          "y0": "Hong Wen School",
          "y1": "Horizon Primary School"
         },
         {
          "line": {
           "color": "red"
          },
          "name": "Oversub",
          "type": "circle",
          "x0": 42,
          "x1": 42,
          "y0": "Horizon Primary School",
          "y1": "Hougang Primary School"
         },
         {
          "line": {
           "color": "red"
          },
          "name": "Oversub",
          "type": "circle",
          "x0": 79,
          "x1": 79,
          "y0": "Hougang Primary School",
          "y1": "Huamin Primary School"
         },
         {
          "line": {
           "color": "red"
          },
          "name": "Oversub",
          "type": "circle",
          "x0": 96,
          "x1": 96,
          "y0": "Huamin Primary School",
          "y1": "Innova Primary School"
         },
         {
          "line": {
           "color": "red"
          },
          "name": "Oversub",
          "type": "circle",
          "x0": 84,
          "x1": 84,
          "y0": "Innova Primary School",
          "y1": "Jiemin Primary School"
         },
         {
          "line": {
           "color": "red"
          },
          "name": "Oversub",
          "type": "circle",
          "x0": 78,
          "x1": 78,
          "y0": "Jurong West Primary School",
          "y1": "Keming Primary School"
         },
         {
          "line": {
           "color": "red"
          },
          "name": "Oversub",
          "type": "circle",
          "x0": 53,
          "x1": 53,
          "y0": "Keming Primary School",
          "y1": "Kheng Cheng School"
         },
         {
          "line": {
           "color": "red"
          },
          "name": "Oversub",
          "type": "circle",
          "x0": 64,
          "x1": 64,
          "y0": "Kong Hwa School",
          "y1": "Kranji Primary School"
         },
         {
          "line": {
           "color": "red"
          },
          "name": "Oversub",
          "type": "circle",
          "x0": 67,
          "x1": 67,
          "y0": "Kuo Chuan Presbyterian Primary School",
          "y1": "Lakeside Primary School"
         },
         {
          "line": {
           "color": "red"
          },
          "name": "Oversub",
          "type": "circle",
          "x0": 113,
          "x1": 113,
          "y0": "Lakeside Primary School",
          "y1": "Lianhua Primary School"
         },
         {
          "line": {
           "color": "red"
          },
          "name": "Oversub",
          "type": "circle",
          "x0": 79,
          "x1": 79,
          "y0": "Maha Bodhi School",
          "y1": "Maris Stella High School (Primary Section)"
         },
         {
          "line": {
           "color": "red"
          },
          "name": "Oversub",
          "type": "circle",
          "x0": 56,
          "x1": 56,
          "y0": "Maris Stella High School (Primary Section)",
          "y1": "Marsiling Primary School"
         },
         {
          "line": {
           "color": "red"
          },
          "name": "Oversub",
          "type": "circle",
          "x0": 101,
          "x1": 101,
          "y0": "Mee Toh School",
          "y1": "Meridian Primary School"
         },
         {
          "line": {
           "color": "red"
          },
          "name": "Oversub",
          "type": "circle",
          "x0": 40,
          "x1": 40,
          "y0": "Methodist Girls' School (Primary)",
          "y1": "Montfort Junior School"
         },
         {
          "line": {
           "color": "red"
          },
          "name": "Oversub",
          "type": "circle",
          "x0": 81,
          "x1": 81,
          "y0": "Nan Chiau Primary School",
          "y1": "Nan Hua Primary School"
         },
         {
          "line": {
           "color": "red"
          },
          "name": "Oversub",
          "type": "circle",
          "x0": 40,
          "x1": 40,
          "y0": "Nan Hua Primary School",
          "y1": "Nanyang Primary School"
         },
         {
          "line": {
           "color": "red"
          },
          "name": "Oversub",
          "type": "circle",
          "x0": 41,
          "x1": 41,
          "y0": "Nanyang Primary School",
          "y1": "Naval Base Primary School"
         },
         {
          "line": {
           "color": "red"
          },
          "name": "Oversub",
          "type": "circle",
          "x0": 105,
          "x1": 105,
          "y0": "Naval Base Primary School",
          "y1": "New Town Primary School"
         },
         {
          "line": {
           "color": "red"
          },
          "name": "Oversub",
          "type": "circle",
          "x0": 123,
          "x1": 123,
          "y0": "Ngee Ann Primary School",
          "y1": "North Spring Primary School"
         },
         {
          "line": {
           "color": "red"
          },
          "name": "Oversub",
          "type": "circle",
          "x0": 42,
          "x1": 42,
          "y0": "Northland Primary School",
          "y1": "Northoaks Primary School"
         },
         {
          "line": {
           "color": "red"
          },
          "name": "Oversub",
          "type": "circle",
          "x0": 60,
          "x1": 60,
          "y0": "Oasis Primary School",
          "y1": "Opera Estate Primary School"
         },
         {
          "line": {
           "color": "red"
          },
          "name": "Oversub",
          "type": "circle",
          "x0": 43,
          "x1": 43,
          "y0": "Pasir Ris Primary School",
          "y1": "Paya Lebar Methodist Girls' School (Primary)"
         },
         {
          "line": {
           "color": "red"
          },
          "name": "Oversub",
          "type": "circle",
          "x0": 81,
          "x1": 81,
          "y0": "Paya Lebar Methodist Girls' School (Primary)",
          "y1": "Pei Chun Public School"
         },
         {
          "line": {
           "color": "red"
          },
          "name": "Oversub",
          "type": "circle",
          "x0": 45,
          "x1": 45,
          "y0": "Pei Chun Public School",
          "y1": "Pei Hwa Presbyterian Primary School"
         },
         {
          "line": {
           "color": "red"
          },
          "name": "Oversub",
          "type": "circle",
          "x0": 41,
          "x1": 41,
          "y0": "Pei Hwa Presbyterian Primary School",
          "y1": "Pei Tong Primary School"
         },
         {
          "line": {
           "color": "red"
          },
          "name": "Oversub",
          "type": "circle",
          "x0": 104,
          "x1": 104,
          "y0": "Poi Ching School",
          "y1": "Princess Elizabeth Primary School"
         },
         {
          "line": {
           "color": "red"
          },
          "name": "Oversub",
          "type": "circle",
          "x0": 55,
          "x1": 55,
          "y0": "Princess Elizabeth Primary School",
          "y1": "Punggol Cove Primary School"
         },
         {
          "line": {
           "color": "red"
          },
          "name": "Oversub",
          "type": "circle",
          "x0": 56,
          "x1": 56,
          "y0": "Punggol Green Primary School",
          "y1": "Punggol Primary School"
         },
         {
          "line": {
           "color": "red"
          },
          "name": "Oversub",
          "type": "circle",
          "x0": 78,
          "x1": 78,
          "y0": "Punggol Primary School",
          "y1": "Punggol View Primary School"
         },
         {
          "line": {
           "color": "red"
          },
          "name": "Oversub",
          "type": "circle",
          "x0": 61,
          "x1": 61,
          "y0": "Punggol View Primary School",
          "y1": "Qifa Primary School"
         },
         {
          "line": {
           "color": "red"
          },
          "name": "Oversub",
          "type": "circle",
          "x0": 111,
          "x1": 111,
          "y0": "Qifa Primary School",
          "y1": "Qihua Primary School"
         },
         {
          "line": {
           "color": "red"
          },
          "name": "Oversub",
          "type": "circle",
          "x0": 40,
          "x1": 40,
          "y0": "Radin Mas Primary School",
          "y1": "Raffles Girls' Primary School"
         },
         {
          "line": {
           "color": "red"
          },
          "name": "Oversub",
          "type": "circle",
          "x0": 90,
          "x1": 90,
          "y0": "Raffles Girls' Primary School",
          "y1": "Red Swastika School"
         },
         {
          "line": {
           "color": "red"
          },
          "name": "Oversub",
          "type": "circle",
          "x0": 42,
          "x1": 42,
          "y0": "Red Swastika School",
          "y1": "River Valley Primary School"
         },
         {
          "line": {
           "color": "red"
          },
          "name": "Oversub",
          "type": "circle",
          "x0": 59,
          "x1": 59,
          "y0": "River Valley Primary School",
          "y1": "Riverside Primary School"
         },
         {
          "line": {
           "color": "red"
          },
          "name": "Oversub",
          "type": "circle",
          "x0": 58,
          "x1": 58,
          "y0": "Riverside Primary School",
          "y1": "Rivervale Primary School"
         },
         {
          "line": {
           "color": "red"
          },
          "name": "Oversub",
          "type": "circle",
          "x0": 81,
          "x1": 81,
          "y0": "Rivervale Primary School",
          "y1": "Rosyth School"
         },
         {
          "line": {
           "color": "red"
          },
          "name": "Oversub",
          "type": "circle",
          "x0": 41,
          "x1": 41,
          "y0": "Rosyth School",
          "y1": "Rulang Primary School"
         },
         {
          "line": {
           "color": "red"
          },
          "name": "Oversub",
          "type": "circle",
          "x0": 40,
          "x1": 40,
          "y0": "Rulang Primary School",
          "y1": "Sembawang Primary School"
         },
         {
          "line": {
           "color": "red"
          },
          "name": "Oversub",
          "type": "circle",
          "x0": 104,
          "x1": 104,
          "y0": "Sembawang Primary School",
          "y1": "Seng Kang Primary School"
         },
         {
          "line": {
           "color": "red"
          },
          "name": "Oversub",
          "type": "circle",
          "x0": 49,
          "x1": 49,
          "y0": "Sengkang Green Primary School",
          "y1": "Shuqun Primary School"
         },
         {
          "line": {
           "color": "red"
          },
          "name": "Oversub",
          "type": "circle",
          "x0": 79,
          "x1": 79,
          "y0": "Shuqun Primary School",
          "y1": "Si Ling Primary School"
         },
         {
          "line": {
           "color": "red"
          },
          "name": "Oversub",
          "type": "circle",
          "x0": 40,
          "x1": 40,
          "y0": "Singapore Chinese Girls' Primary School",
          "y1": "South View Primary School"
         },
         {
          "line": {
           "color": "red"
          },
          "name": "Oversub",
          "type": "circle",
          "x0": 40,
          "x1": 40,
          "y0": "South View Primary School",
          "y1": "Springdale Primary School"
         },
         {
          "line": {
           "color": "red"
          },
          "name": "Oversub",
          "type": "circle",
          "x0": 82,
          "x1": 82,
          "y0": "St. Andrew's Junior School",
          "y1": "St. Anthony's Canossian Primary School"
         },
         {
          "line": {
           "color": "red"
          },
          "name": "Oversub",
          "type": "circle",
          "x0": 65,
          "x1": 65,
          "y0": "St. Anthony's Primary School",
          "y1": "St. Gabriel's Primary School"
         },
         {
          "line": {
           "color": "red"
          },
          "name": "Oversub",
          "type": "circle",
          "x0": 41,
          "x1": 41,
          "y0": "St. Hilda's Primary School",
          "y1": "St. Joseph's Institution Junior"
         },
         {
          "line": {
           "color": "red"
          },
          "name": "Oversub",
          "type": "circle",
          "x0": 78,
          "x1": 78,
          "y0": "St. Joseph's Institution Junior",
          "y1": "St. Margaret's Primary School"
         },
         {
          "line": {
           "color": "red"
          },
          "name": "Oversub",
          "type": "circle",
          "x0": 101,
          "x1": 101,
          "y0": "St. Margaret's Primary School",
          "y1": "St. Stephen's School"
         },
         {
          "line": {
           "color": "red"
          },
          "name": "Oversub",
          "type": "circle",
          "x0": 75,
          "x1": 75,
          "y0": "Tanjong Katong Primary School",
          "y1": "Tao Nan School"
         },
         {
          "line": {
           "color": "red"
          },
          "name": "Oversub",
          "type": "circle",
          "x0": 47,
          "x1": 47,
          "y0": "Tao Nan School",
          "y1": "Teck Ghee Primary School"
         },
         {
          "line": {
           "color": "red"
          },
          "name": "Oversub",
          "type": "circle",
          "x0": 51,
          "x1": 51,
          "y0": "Temasek Primary School",
          "y1": "Townsville Primary School"
         },
         {
          "line": {
           "color": "red"
          },
          "name": "Oversub",
          "type": "circle",
          "x0": 96,
          "x1": 96,
          "y0": "Valour Primary School",
          "y1": "Waterway Primary School"
         },
         {
          "line": {
           "color": "red"
          },
          "name": "Oversub",
          "type": "circle",
          "x0": 83,
          "x1": 83,
          "y0": "Waterway Primary School",
          "y1": "Wellington Primary School"
         },
         {
          "line": {
           "color": "red"
          },
          "name": "Oversub",
          "type": "circle",
          "x0": 58,
          "x1": 58,
          "y0": "Wellington Primary School",
          "y1": "West Grove Primary School"
         },
         {
          "line": {
           "color": "red"
          },
          "name": "Oversub",
          "type": "circle",
          "x0": 62,
          "x1": 62,
          "y0": "West Spring Primary School",
          "y1": "West View Primary School"
         },
         {
          "line": {
           "color": "red"
          },
          "name": "Oversub",
          "type": "circle",
          "x0": 49,
          "x1": 49,
          "y0": "Westwood Primary School",
          "y1": "White Sands Primary School"
         },
         {
          "line": {
           "color": "red"
          },
          "name": "Oversub",
          "type": "circle",
          "x0": 92,
          "x1": 92,
          "y0": "White Sands Primary School",
          "y1": "Woodgrove Primary School"
         },
         {
          "line": {
           "color": "red"
          },
          "name": "Oversub",
          "type": "circle",
          "x0": 71,
          "x1": 71,
          "y0": "Woodgrove Primary School",
          "y1": "Woodlands Primary School"
         },
         {
          "line": {
           "color": "red"
          },
          "name": "Oversub",
          "type": "circle",
          "x0": 80,
          "x1": 80,
          "y0": "Woodlands Primary School",
          "y1": "Woodlands Ring Primary School"
         },
         {
          "line": {
           "color": "red"
          },
          "name": "Oversub",
          "type": "circle",
          "x0": 50,
          "x1": 50,
          "y0": "Xinmin Primary School",
          "y1": "Xishan Primary School"
         },
         {
          "line": {
           "color": "red"
          },
          "name": "Oversub",
          "type": "circle",
          "x0": 58,
          "x1": 58,
          "y0": "Yangzheng Primary School",
          "y1": "Yew Tee Primary School"
         },
         {
          "line": {
           "color": "red"
          },
          "name": "Oversub",
          "type": "circle",
          "x0": 52,
          "x1": 52,
          "y0": "Yu Neng Primary School",
          "y1": "Yuhua Primary School"
         }
        ],
        "template": {
         "data": {
          "bar": [
           {
            "error_x": {
             "color": "#2a3f5f"
            },
            "error_y": {
             "color": "#2a3f5f"
            },
            "marker": {
             "line": {
              "color": "#E5ECF6",
              "width": 0.5
             },
             "pattern": {
              "fillmode": "overlay",
              "size": 10,
              "solidity": 0.2
             }
            },
            "type": "bar"
           }
          ],
          "barpolar": [
           {
            "marker": {
             "line": {
              "color": "#E5ECF6",
              "width": 0.5
             },
             "pattern": {
              "fillmode": "overlay",
              "size": 10,
              "solidity": 0.2
             }
            },
            "type": "barpolar"
           }
          ],
          "carpet": [
           {
            "aaxis": {
             "endlinecolor": "#2a3f5f",
             "gridcolor": "white",
             "linecolor": "white",
             "minorgridcolor": "white",
             "startlinecolor": "#2a3f5f"
            },
            "baxis": {
             "endlinecolor": "#2a3f5f",
             "gridcolor": "white",
             "linecolor": "white",
             "minorgridcolor": "white",
             "startlinecolor": "#2a3f5f"
            },
            "type": "carpet"
           }
          ],
          "choropleth": [
           {
            "colorbar": {
             "outlinewidth": 0,
             "ticks": ""
            },
            "type": "choropleth"
           }
          ],
          "contour": [
           {
            "colorbar": {
             "outlinewidth": 0,
             "ticks": ""
            },
            "colorscale": [
             [
              0,
              "#0d0887"
             ],
             [
              0.1111111111111111,
              "#46039f"
             ],
             [
              0.2222222222222222,
              "#7201a8"
             ],
             [
              0.3333333333333333,
              "#9c179e"
             ],
             [
              0.4444444444444444,
              "#bd3786"
             ],
             [
              0.5555555555555556,
              "#d8576b"
             ],
             [
              0.6666666666666666,
              "#ed7953"
             ],
             [
              0.7777777777777778,
              "#fb9f3a"
             ],
             [
              0.8888888888888888,
              "#fdca26"
             ],
             [
              1,
              "#f0f921"
             ]
            ],
            "type": "contour"
           }
          ],
          "contourcarpet": [
           {
            "colorbar": {
             "outlinewidth": 0,
             "ticks": ""
            },
            "type": "contourcarpet"
           }
          ],
          "heatmap": [
           {
            "colorbar": {
             "outlinewidth": 0,
             "ticks": ""
            },
            "colorscale": [
             [
              0,
              "#0d0887"
             ],
             [
              0.1111111111111111,
              "#46039f"
             ],
             [
              0.2222222222222222,
              "#7201a8"
             ],
             [
              0.3333333333333333,
              "#9c179e"
             ],
             [
              0.4444444444444444,
              "#bd3786"
             ],
             [
              0.5555555555555556,
              "#d8576b"
             ],
             [
              0.6666666666666666,
              "#ed7953"
             ],
             [
              0.7777777777777778,
              "#fb9f3a"
             ],
             [
              0.8888888888888888,
              "#fdca26"
             ],
             [
              1,
              "#f0f921"
             ]
            ],
            "type": "heatmap"
           }
          ],
          "heatmapgl": [
           {
            "colorbar": {
             "outlinewidth": 0,
             "ticks": ""
            },
            "colorscale": [
             [
              0,
              "#0d0887"
             ],
             [
              0.1111111111111111,
              "#46039f"
             ],
             [
              0.2222222222222222,
              "#7201a8"
             ],
             [
              0.3333333333333333,
              "#9c179e"
             ],
             [
              0.4444444444444444,
              "#bd3786"
             ],
             [
              0.5555555555555556,
              "#d8576b"
             ],
             [
              0.6666666666666666,
              "#ed7953"
             ],
             [
              0.7777777777777778,
              "#fb9f3a"
             ],
             [
              0.8888888888888888,
              "#fdca26"
             ],
             [
              1,
              "#f0f921"
             ]
            ],
            "type": "heatmapgl"
           }
          ],
          "histogram": [
           {
            "marker": {
             "pattern": {
              "fillmode": "overlay",
              "size": 10,
              "solidity": 0.2
             }
            },
            "type": "histogram"
           }
          ],
          "histogram2d": [
           {
            "colorbar": {
             "outlinewidth": 0,
             "ticks": ""
            },
            "colorscale": [
             [
              0,
              "#0d0887"
             ],
             [
              0.1111111111111111,
              "#46039f"
             ],
             [
              0.2222222222222222,
              "#7201a8"
             ],
             [
              0.3333333333333333,
              "#9c179e"
             ],
             [
              0.4444444444444444,
              "#bd3786"
             ],
             [
              0.5555555555555556,
              "#d8576b"
             ],
             [
              0.6666666666666666,
              "#ed7953"
             ],
             [
              0.7777777777777778,
              "#fb9f3a"
             ],
             [
              0.8888888888888888,
              "#fdca26"
             ],
             [
              1,
              "#f0f921"
             ]
            ],
            "type": "histogram2d"
           }
          ],
          "histogram2dcontour": [
           {
            "colorbar": {
             "outlinewidth": 0,
             "ticks": ""
            },
            "colorscale": [
             [
              0,
              "#0d0887"
             ],
             [
              0.1111111111111111,
              "#46039f"
             ],
             [
              0.2222222222222222,
              "#7201a8"
             ],
             [
              0.3333333333333333,
              "#9c179e"
             ],
             [
              0.4444444444444444,
              "#bd3786"
             ],
             [
              0.5555555555555556,
              "#d8576b"
             ],
             [
              0.6666666666666666,
              "#ed7953"
             ],
             [
              0.7777777777777778,
              "#fb9f3a"
             ],
             [
              0.8888888888888888,
              "#fdca26"
             ],
             [
              1,
              "#f0f921"
             ]
            ],
            "type": "histogram2dcontour"
           }
          ],
          "mesh3d": [
           {
            "colorbar": {
             "outlinewidth": 0,
             "ticks": ""
            },
            "type": "mesh3d"
           }
          ],
          "parcoords": [
           {
            "line": {
             "colorbar": {
              "outlinewidth": 0,
              "ticks": ""
             }
            },
            "type": "parcoords"
           }
          ],
          "pie": [
           {
            "automargin": true,
            "type": "pie"
           }
          ],
          "scatter": [
           {
            "fillpattern": {
             "fillmode": "overlay",
             "size": 10,
             "solidity": 0.2
            },
            "type": "scatter"
           }
          ],
          "scatter3d": [
           {
            "line": {
             "colorbar": {
              "outlinewidth": 0,
              "ticks": ""
             }
            },
            "marker": {
             "colorbar": {
              "outlinewidth": 0,
              "ticks": ""
             }
            },
            "type": "scatter3d"
           }
          ],
          "scattercarpet": [
           {
            "marker": {
             "colorbar": {
              "outlinewidth": 0,
              "ticks": ""
             }
            },
            "type": "scattercarpet"
           }
          ],
          "scattergeo": [
           {
            "marker": {
             "colorbar": {
              "outlinewidth": 0,
              "ticks": ""
             }
            },
            "type": "scattergeo"
           }
          ],
          "scattergl": [
           {
            "marker": {
             "colorbar": {
              "outlinewidth": 0,
              "ticks": ""
             }
            },
            "type": "scattergl"
           }
          ],
          "scattermapbox": [
           {
            "marker": {
             "colorbar": {
              "outlinewidth": 0,
              "ticks": ""
             }
            },
            "type": "scattermapbox"
           }
          ],
          "scatterpolar": [
           {
            "marker": {
             "colorbar": {
              "outlinewidth": 0,
              "ticks": ""
             }
            },
            "type": "scatterpolar"
           }
          ],
          "scatterpolargl": [
           {
            "marker": {
             "colorbar": {
              "outlinewidth": 0,
              "ticks": ""
             }
            },
            "type": "scatterpolargl"
           }
          ],
          "scatterternary": [
           {
            "marker": {
             "colorbar": {
              "outlinewidth": 0,
              "ticks": ""
             }
            },
            "type": "scatterternary"
           }
          ],
          "surface": [
           {
            "colorbar": {
             "outlinewidth": 0,
             "ticks": ""
            },
            "colorscale": [
             [
              0,
              "#0d0887"
             ],
             [
              0.1111111111111111,
              "#46039f"
             ],
             [
              0.2222222222222222,
              "#7201a8"
             ],
             [
              0.3333333333333333,
              "#9c179e"
             ],
             [
              0.4444444444444444,
              "#bd3786"
             ],
             [
              0.5555555555555556,
              "#d8576b"
             ],
             [
              0.6666666666666666,
              "#ed7953"
             ],
             [
              0.7777777777777778,
              "#fb9f3a"
             ],
             [
              0.8888888888888888,
              "#fdca26"
             ],
             [
              1,
              "#f0f921"
             ]
            ],
            "type": "surface"
           }
          ],
          "table": [
           {
            "cells": {
             "fill": {
              "color": "#EBF0F8"
             },
             "line": {
              "color": "white"
             }
            },
            "header": {
             "fill": {
              "color": "#C8D4E3"
             },
             "line": {
              "color": "white"
             }
            },
            "type": "table"
           }
          ]
         },
         "layout": {
          "annotationdefaults": {
           "arrowcolor": "#2a3f5f",
           "arrowhead": 0,
           "arrowwidth": 1
          },
          "autotypenumbers": "strict",
          "coloraxis": {
           "colorbar": {
            "outlinewidth": 0,
            "ticks": ""
           }
          },
          "colorscale": {
           "diverging": [
            [
             0,
             "#8e0152"
            ],
            [
             0.1,
             "#c51b7d"
            ],
            [
             0.2,
             "#de77ae"
            ],
            [
             0.3,
             "#f1b6da"
            ],
            [
             0.4,
             "#fde0ef"
            ],
            [
             0.5,
             "#f7f7f7"
            ],
            [
             0.6,
             "#e6f5d0"
            ],
            [
             0.7,
             "#b8e186"
            ],
            [
             0.8,
             "#7fbc41"
            ],
            [
             0.9,
             "#4d9221"
            ],
            [
             1,
             "#276419"
            ]
           ],
           "sequential": [
            [
             0,
             "#0d0887"
            ],
            [
             0.1111111111111111,
             "#46039f"
            ],
            [
             0.2222222222222222,
             "#7201a8"
            ],
            [
             0.3333333333333333,
             "#9c179e"
            ],
            [
             0.4444444444444444,
             "#bd3786"
            ],
            [
             0.5555555555555556,
             "#d8576b"
            ],
            [
             0.6666666666666666,
             "#ed7953"
            ],
            [
             0.7777777777777778,
             "#fb9f3a"
            ],
            [
             0.8888888888888888,
             "#fdca26"
            ],
            [
             1,
             "#f0f921"
            ]
           ],
           "sequentialminus": [
            [
             0,
             "#0d0887"
            ],
            [
             0.1111111111111111,
             "#46039f"
            ],
            [
             0.2222222222222222,
             "#7201a8"
            ],
            [
             0.3333333333333333,
             "#9c179e"
            ],
            [
             0.4444444444444444,
             "#bd3786"
            ],
            [
             0.5555555555555556,
             "#d8576b"
            ],
            [
             0.6666666666666666,
             "#ed7953"
            ],
            [
             0.7777777777777778,
             "#fb9f3a"
            ],
            [
             0.8888888888888888,
             "#fdca26"
            ],
            [
             1,
             "#f0f921"
            ]
           ]
          },
          "colorway": [
           "#636efa",
           "#EF553B",
           "#00cc96",
           "#ab63fa",
           "#FFA15A",
           "#19d3f3",
           "#FF6692",
           "#B6E880",
           "#FF97FF",
           "#FECB52"
          ],
          "font": {
           "color": "#2a3f5f"
          },
          "geo": {
           "bgcolor": "white",
           "lakecolor": "white",
           "landcolor": "#E5ECF6",
           "showlakes": true,
           "showland": true,
           "subunitcolor": "white"
          },
          "hoverlabel": {
           "align": "left"
          },
          "hovermode": "closest",
          "mapbox": {
           "style": "light"
          },
          "paper_bgcolor": "white",
          "plot_bgcolor": "#E5ECF6",
          "polar": {
           "angularaxis": {
            "gridcolor": "white",
            "linecolor": "white",
            "ticks": ""
           },
           "bgcolor": "#E5ECF6",
           "radialaxis": {
            "gridcolor": "white",
            "linecolor": "white",
            "ticks": ""
           }
          },
          "scene": {
           "xaxis": {
            "backgroundcolor": "#E5ECF6",
            "gridcolor": "white",
            "gridwidth": 2,
            "linecolor": "white",
            "showbackground": true,
            "ticks": "",
            "zerolinecolor": "white"
           },
           "yaxis": {
            "backgroundcolor": "#E5ECF6",
            "gridcolor": "white",
            "gridwidth": 2,
            "linecolor": "white",
            "showbackground": true,
            "ticks": "",
            "zerolinecolor": "white"
           },
           "zaxis": {
            "backgroundcolor": "#E5ECF6",
            "gridcolor": "white",
            "gridwidth": 2,
            "linecolor": "white",
            "showbackground": true,
            "ticks": "",
            "zerolinecolor": "white"
           }
          },
          "shapedefaults": {
           "line": {
            "color": "#2a3f5f"
           }
          },
          "ternary": {
           "aaxis": {
            "gridcolor": "white",
            "linecolor": "white",
            "ticks": ""
           },
           "baxis": {
            "gridcolor": "white",
            "linecolor": "white",
            "ticks": ""
           },
           "bgcolor": "#E5ECF6",
           "caxis": {
            "gridcolor": "white",
            "linecolor": "white",
            "ticks": ""
           }
          },
          "title": {
           "x": 0.05
          },
          "xaxis": {
           "automargin": true,
           "gridcolor": "white",
           "linecolor": "white",
           "ticks": "",
           "title": {
            "standoff": 15
           },
           "zerolinecolor": "white",
           "zerolinewidth": 2
          },
          "yaxis": {
           "automargin": true,
           "gridcolor": "white",
           "linecolor": "white",
           "ticks": "",
           "title": {
            "standoff": 15
           },
           "zerolinecolor": "white",
           "zerolinewidth": 2
          }
         }
        },
        "title": {
         "text": "<b>Phase 2C Subscription Rate (Count)</b>"
        },
        "width": 1200,
        "xaxis": {
         "anchor": "y",
         "domain": [
          0,
          1
         ],
         "title": {
          "text": "value"
         }
        },
        "yaxis": {
         "anchor": "x",
         "categoryorder": "category descending",
         "domain": [
          0,
          1
         ],
         "title": {
          "text": ""
         }
        }
       }
      }
     },
     "metadata": {},
     "output_type": "display_data"
    }
   ],
   "source": [
    "color_discrete_map = {'Phase2C_applied': 'grey',\n",
    "                      'After_Phase2C_vac': 'green'}\n",
    "\n",
    "fig = px.bar(df_school_full,\n",
    "       y='Name',\n",
    "       x=['Phase2C_applied', 'After_Phase2C_vac'],\n",
    "       custom_data=['Phase2C_vac','Phase2C_oversub_count'],\n",
    "       color_discrete_map = color_discrete_map,\n",
    "       text_auto='f',\n",
    "       title=\"<b>Phase 2C Subscription Rate (Count)</b>\",\n",
    "       labels={'Name': ''},\n",
    "               #'value': 'Count'},\n",
    "       width=1200,\n",
    "       height=5000)\n",
    "\n",
    "fig.update_traces(hovertemplate = \"%{value} <br>Total Phase Vacancy: %{customdata[0]} <br>Oversubscribed: %{customdata[1]}\")\n",
    "\n",
    "fig.update_layout(legend_title=\"Legend\",\n",
    "                  yaxis={'categoryorder':'category descending'})\n",
    "fig.update_traces(textposition='inside', textfont_color='white')\n",
    "newnames = {'Phase2C_applied':'Subscribed', 'After_Phase2C_vac': 'Remaining Vacancy'}\n",
    "fig.for_each_trace(lambda t: t.update(name = newnames[t.name]))\n",
    "fig.update_layout(hovermode=\"y unified\")\n",
    "\n",
    "for i in range(len(df_school_full)):\n",
    "    if (df_school_full.Phase2C_oversub[i] == 'Yes'):\n",
    "        fig.add_shape(\n",
    "            type=\"circle\",\n",
    "            line_color=\"red\",\n",
    "            x0=df_school_full.Phase2C_vac[i],\n",
    "            y0=df_school_full.Name[i],\n",
    "            x1=df_school_full.Phase2C_vac[i],\n",
    "            y1=df_school_full.Name[i+1],\n",
    "            name='Oversub'\n",
    "        )\n",
    "        fig.add_annotation(x=df_school_full.Phase2C_vac[i], y=df_school_full.Name[i],\n",
    "            text=f\"Oversub: {df_school_full.Phase2C_oversub_count[i]}\",\n",
    "            showarrow=True,\n",
    "            arrowhead=1,\n",
    "            ax=20,\n",
    "            bordercolor=\"#c7c7c7\",\n",
    "            bgcolor=\"#ff7f0e\",\n",
    "            opacity=0.8\n",
    "            )\n",
    "fig.show()"
   ]
  },
  {
   "cell_type": "code",
   "execution_count": 152,
   "metadata": {},
   "outputs": [],
   "source": [
    "def plot_phase_sub_rate(phase, title):\n",
    "\n",
    "    # Set the x-axis range\n",
    "    max_value = max(df_school_full[phase].max(), 105)\n",
    "\n",
    "    # Set colour for bar chart\n",
    "    color_discrete_map = {f\"{phase}\": \"grey\"}\n",
    "\n",
    "    # Plot main bar chart\n",
    "    fig = px.bar(df_school_full,\n",
    "        y='Name',\n",
    "        x=[phase],\n",
    "        text_auto='.1f',\n",
    "        color_discrete_map = color_discrete_map,\n",
    "        title=f\"<b>{title} Subscribed Rate (%)</b>\",\n",
    "        labels={'Name': '',\n",
    "                'value': 'Percentage (%)'},\n",
    "        width=1200,\n",
    "        height=5000)\n",
    "    \n",
    "    # Set text annotation\n",
    "    fig.update_traces(hovertemplate = \"School: %{label}: <br>Percentage: %{value:.1f}%</br>\",\n",
    "                      textposition='inside', textfont_color='white')\n",
    "    \n",
    "    # Update label for legend and x-axis range\n",
    "    fig.update_layout(yaxis={'categoryorder':'total ascending'},\n",
    "                    legend_title=\"Legend\",\n",
    "                    xaxis_range=[0, max_value])\n",
    "    newnames = {f\"{phase}\": \"Subscribed\"}\n",
    "    fig.for_each_trace(lambda t: t.update(name = newnames[t.name]))\n",
    "\n",
    "    # Add a reference line\n",
    "    fig.add_vline(x=100, line_width=5, line_dash=\"dot\", line_color=\"salmon\")\n",
    "\n",
    "    fig.show()\n",
    "    \n"
   ]
  },
  {
   "cell_type": "code",
   "execution_count": 154,
   "metadata": {},
   "outputs": [
    {
     "data": {
      "application/vnd.plotly.v1+json": {
       "config": {
        "plotlyServerURL": "https://plot.ly"
       },
       "data": [
        {
         "alignmentgroup": "True",
         "hovertemplate": "School: %{label}: <br>Percentage: %{value:.1f}%</br>",
         "legendgroup": "Phase1_applied",
         "marker": {
          "color": "grey",
          "pattern": {
           "shape": ""
          }
         },
         "name": "Subscribed",
         "offsetgroup": "Phase1_applied",
         "orientation": "h",
         "showlegend": true,
         "textfont": {
          "color": "white"
         },
         "textposition": "inside",
         "texttemplate": "%{x:.1f}",
         "type": "bar",
         "x": [
          107,
          56,
          130,
          75,
          75,
          91,
          48,
          78,
          62,
          58,
          68,
          71,
          52,
          19,
          65,
          100,
          59,
          58,
          39,
          49,
          38,
          33,
          58,
          55,
          60,
          86,
          34,
          44,
          60,
          70,
          33,
          53,
          139,
          89,
          114,
          82,
          98,
          103,
          82,
          57,
          89,
          79,
          66,
          87,
          80,
          77,
          68,
          123,
          45,
          84,
          120,
          92,
          18,
          80,
          51,
          83,
          36,
          103,
          91,
          85,
          81,
          95,
          37,
          131,
          122,
          74,
          101,
          99,
          115,
          75,
          74,
          55,
          86,
          80,
          87,
          100,
          83,
          99,
          31,
          103,
          104,
          53,
          132,
          82,
          62,
          32,
          55,
          117,
          59,
          81,
          26,
          143,
          104,
          175,
          115,
          33,
          86,
          65,
          81,
          79,
          120,
          29,
          33,
          136,
          74,
          93,
          62,
          83,
          79,
          134,
          121,
          64,
          66,
          83,
          98,
          99,
          122,
          84,
          125,
          104,
          59,
          76,
          85,
          89,
          116,
          85,
          103,
          103,
          137,
          120,
          87,
          60,
          111,
          68,
          45,
          55,
          132,
          121,
          62,
          31,
          87,
          29,
          141,
          73,
          46,
          35,
          81,
          92,
          85,
          164,
          73,
          58,
          79,
          91,
          42,
          76,
          105,
          120,
          101,
          70,
          123,
          47,
          106,
          64,
          87,
          91,
          79,
          39,
          87,
          79,
          69,
          68,
          67,
          55,
          65,
          78,
          49,
          60,
          75,
          91,
          28
         ],
         "xaxis": "x",
         "y": [
          "Admiralty Primary School",
          "Ahmad Ibrahim Primary School",
          "Ai Tong School",
          "Alexandra Primary School",
          "Anchor Green Primary School",
          "Anderson Primary School",
          "Ang Mo Kio Primary School",
          "Anglo-Chinese School (Junior)",
          "Anglo-Chinese School (Primary)",
          "Angsana Primary School",
          "Beacon Primary School",
          "Bedok Green Primary School",
          "Bendemeer Primary School",
          "Blangah Rise Primary School",
          "Boon Lay Garden Primary School",
          "Bukit Panjang Primary School",
          "Bukit Timah Primary School",
          "Bukit View Primary School",
          "CHIJ (Katong) Primary",
          "CHIJ (Kellock)",
          "CHIJ Our Lady Queen of Peace",
          "CHIJ Our Lady of Good Counsel",
          "CHIJ Our Lady of the Nativity",
          "CHIJ Primary (Toa Payoh)",
          "CHIJ St. Nicholas Girls' School (Primary Section)",
          "Canberra Primary School",
          "Canossa Catholic Primary School",
          "Cantonment Primary School",
          "Casuarina Primary School",
          "Catholic High School (Primary Section)",
          "Cedar Primary School",
          "Changkat Primary School",
          "Chongfu School",
          "Chongzheng Primary School",
          "Chua Chu Kang Primary School",
          "Clementi Primary School",
          "Compassvale Primary School",
          "Concord Primary School",
          "Corporation Primary School",
          "Damai Primary School",
          "Dazhong Primary School",
          "De La Salle School",
          "East Spring Primary School",
          "Edgefield Primary School",
          "Elias Park Primary School",
          "Endeavour Primary School",
          "Evergreen Primary School",
          "Fairfield Methodist School (Primary)",
          "Farrer Park Primary School",
          "Fengshan Primary School",
          "Fern Green Primary School",
          "Fernvale Primary School",
          "First Toa Payoh Primary School",
          "Frontier Primary School",
          "Fuchun Primary School",
          "Fuhua Primary School",
          "Gan Eng Seng Primary School",
          "Geylang Methodist School (Primary)",
          "Gongshang Primary School",
          "Greendale Primary School",
          "Greenridge Primary School",
          "Greenwood Primary School",
          "Haig Girls' School",
          "Henry Park Primary School",
          "Holy Innocents' Primary School",
          "Hong Wen School",
          "Horizon Primary School",
          "Hougang Primary School",
          "Huamin Primary School",
          "Innova Primary School",
          "Jiemin Primary School",
          "Jing Shan Primary School",
          "Junyuan Primary School",
          "Jurong Primary School",
          "Jurong West Primary School",
          "Keming Primary School",
          "Kheng Cheng School",
          "Kong Hwa School",
          "Kranji Primary School",
          "Kuo Chuan Presbyterian Primary School",
          "Lakeside Primary School",
          "Lianhua Primary School",
          "Maha Bodhi School",
          "Maris Stella High School (Primary Section)",
          "Marsiling Primary School",
          "Marymount Convent School",
          "Mayflower Primary School",
          "Mee Toh School",
          "Meridian Primary School",
          "Methodist Girls' School (Primary)",
          "Montfort Junior School",
          "Nan Chiau Primary School",
          "Nan Hua Primary School",
          "Nanyang Primary School",
          "Naval Base Primary School",
          "New Town Primary School",
          "Ngee Ann Primary School",
          "North Spring Primary School",
          "North View Primary School",
          "North Vista Primary School",
          "Northland Primary School",
          "Northoaks Primary School",
          "Northshore Primary School",
          "Oasis Primary School",
          "Opera Estate Primary School",
          "Palm View Primary School",
          "Park View Primary School",
          "Pasir Ris Primary School",
          "Paya Lebar Methodist Girls' School (Primary)",
          "Pei Chun Public School",
          "Pei Hwa Presbyterian Primary School",
          "Pei Tong Primary School",
          "Peiying Primary School",
          "Poi Ching School",
          "Princess Elizabeth Primary School",
          "Punggol Cove Primary School",
          "Punggol Green Primary School",
          "Punggol Primary School",
          "Punggol View Primary School",
          "Qifa Primary School",
          "Qihua Primary School",
          "Queenstown Primary School",
          "Radin Mas Primary School",
          "Raffles Girls' Primary School",
          "Red Swastika School",
          "River Valley Primary School",
          "Riverside Primary School",
          "Rivervale Primary School",
          "Rosyth School",
          "Rulang Primary School",
          "Sembawang Primary School",
          "Seng Kang Primary School",
          "Sengkang Green Primary School",
          "Shuqun Primary School",
          "Si Ling Primary School",
          "Singapore Chinese Girls' Primary School",
          "South View Primary School",
          "Springdale Primary School",
          "St. Andrew's Junior School",
          "St. Anthony's Canossian Primary School",
          "St. Anthony's Primary School",
          "St. Gabriel's Primary School",
          "St. Hilda's Primary School",
          "St. Joseph's Institution Junior",
          "St. Margaret's Primary School",
          "St. Stephen's School",
          "Tampines North Primary School",
          "Tampines Primary School",
          "Tanjong Katong Primary School",
          "Tao Nan School",
          "Teck Ghee Primary School",
          "Teck Whye Primary School",
          "Telok Kurau Primary School",
          "Temasek Primary School",
          "Townsville Primary School",
          "Unity Primary School",
          "Valour Primary School",
          "Waterway Primary School",
          "Wellington Primary School",
          "West Grove Primary School",
          "West Spring Primary School",
          "West View Primary School",
          "Westwood Primary School",
          "White Sands Primary School",
          "Woodgrove Primary School",
          "Woodlands Primary School",
          "Woodlands Ring Primary School",
          "Xinghua Primary School",
          "Xingnan Primary School",
          "Xinmin Primary School",
          "Xishan Primary School",
          "Yangzheng Primary School",
          "Yew Tee Primary School",
          "Yio Chu Kang Primary School",
          "Yishun Primary School",
          "Yu Neng Primary School",
          "Yuhua Primary School",
          "Yumin Primary School",
          "Zhangde Primary School",
          "Zhenghua Primary School",
          "Zhonghua Primary School"
         ],
         "yaxis": "y"
        }
       ],
       "layout": {
        "barmode": "relative",
        "height": 5000,
        "legend": {
         "title": {
          "text": "Legend"
         },
         "tracegroupgap": 0
        },
        "shapes": [
         {
          "line": {
           "color": "salmon",
           "dash": "dot",
           "width": 5
          },
          "type": "line",
          "x0": 100,
          "x1": 100,
          "xref": "x",
          "y0": 0,
          "y1": 1,
          "yref": "y domain"
         }
        ],
        "template": {
         "data": {
          "bar": [
           {
            "error_x": {
             "color": "#2a3f5f"
            },
            "error_y": {
             "color": "#2a3f5f"
            },
            "marker": {
             "line": {
              "color": "#E5ECF6",
              "width": 0.5
             },
             "pattern": {
              "fillmode": "overlay",
              "size": 10,
              "solidity": 0.2
             }
            },
            "type": "bar"
           }
          ],
          "barpolar": [
           {
            "marker": {
             "line": {
              "color": "#E5ECF6",
              "width": 0.5
             },
             "pattern": {
              "fillmode": "overlay",
              "size": 10,
              "solidity": 0.2
             }
            },
            "type": "barpolar"
           }
          ],
          "carpet": [
           {
            "aaxis": {
             "endlinecolor": "#2a3f5f",
             "gridcolor": "white",
             "linecolor": "white",
             "minorgridcolor": "white",
             "startlinecolor": "#2a3f5f"
            },
            "baxis": {
             "endlinecolor": "#2a3f5f",
             "gridcolor": "white",
             "linecolor": "white",
             "minorgridcolor": "white",
             "startlinecolor": "#2a3f5f"
            },
            "type": "carpet"
           }
          ],
          "choropleth": [
           {
            "colorbar": {
             "outlinewidth": 0,
             "ticks": ""
            },
            "type": "choropleth"
           }
          ],
          "contour": [
           {
            "colorbar": {
             "outlinewidth": 0,
             "ticks": ""
            },
            "colorscale": [
             [
              0,
              "#0d0887"
             ],
             [
              0.1111111111111111,
              "#46039f"
             ],
             [
              0.2222222222222222,
              "#7201a8"
             ],
             [
              0.3333333333333333,
              "#9c179e"
             ],
             [
              0.4444444444444444,
              "#bd3786"
             ],
             [
              0.5555555555555556,
              "#d8576b"
             ],
             [
              0.6666666666666666,
              "#ed7953"
             ],
             [
              0.7777777777777778,
              "#fb9f3a"
             ],
             [
              0.8888888888888888,
              "#fdca26"
             ],
             [
              1,
              "#f0f921"
             ]
            ],
            "type": "contour"
           }
          ],
          "contourcarpet": [
           {
            "colorbar": {
             "outlinewidth": 0,
             "ticks": ""
            },
            "type": "contourcarpet"
           }
          ],
          "heatmap": [
           {
            "colorbar": {
             "outlinewidth": 0,
             "ticks": ""
            },
            "colorscale": [
             [
              0,
              "#0d0887"
             ],
             [
              0.1111111111111111,
              "#46039f"
             ],
             [
              0.2222222222222222,
              "#7201a8"
             ],
             [
              0.3333333333333333,
              "#9c179e"
             ],
             [
              0.4444444444444444,
              "#bd3786"
             ],
             [
              0.5555555555555556,
              "#d8576b"
             ],
             [
              0.6666666666666666,
              "#ed7953"
             ],
             [
              0.7777777777777778,
              "#fb9f3a"
             ],
             [
              0.8888888888888888,
              "#fdca26"
             ],
             [
              1,
              "#f0f921"
             ]
            ],
            "type": "heatmap"
           }
          ],
          "heatmapgl": [
           {
            "colorbar": {
             "outlinewidth": 0,
             "ticks": ""
            },
            "colorscale": [
             [
              0,
              "#0d0887"
             ],
             [
              0.1111111111111111,
              "#46039f"
             ],
             [
              0.2222222222222222,
              "#7201a8"
             ],
             [
              0.3333333333333333,
              "#9c179e"
             ],
             [
              0.4444444444444444,
              "#bd3786"
             ],
             [
              0.5555555555555556,
              "#d8576b"
             ],
             [
              0.6666666666666666,
              "#ed7953"
             ],
             [
              0.7777777777777778,
              "#fb9f3a"
             ],
             [
              0.8888888888888888,
              "#fdca26"
             ],
             [
              1,
              "#f0f921"
             ]
            ],
            "type": "heatmapgl"
           }
          ],
          "histogram": [
           {
            "marker": {
             "pattern": {
              "fillmode": "overlay",
              "size": 10,
              "solidity": 0.2
             }
            },
            "type": "histogram"
           }
          ],
          "histogram2d": [
           {
            "colorbar": {
             "outlinewidth": 0,
             "ticks": ""
            },
            "colorscale": [
             [
              0,
              "#0d0887"
             ],
             [
              0.1111111111111111,
              "#46039f"
             ],
             [
              0.2222222222222222,
              "#7201a8"
             ],
             [
              0.3333333333333333,
              "#9c179e"
             ],
             [
              0.4444444444444444,
              "#bd3786"
             ],
             [
              0.5555555555555556,
              "#d8576b"
             ],
             [
              0.6666666666666666,
              "#ed7953"
             ],
             [
              0.7777777777777778,
              "#fb9f3a"
             ],
             [
              0.8888888888888888,
              "#fdca26"
             ],
             [
              1,
              "#f0f921"
             ]
            ],
            "type": "histogram2d"
           }
          ],
          "histogram2dcontour": [
           {
            "colorbar": {
             "outlinewidth": 0,
             "ticks": ""
            },
            "colorscale": [
             [
              0,
              "#0d0887"
             ],
             [
              0.1111111111111111,
              "#46039f"
             ],
             [
              0.2222222222222222,
              "#7201a8"
             ],
             [
              0.3333333333333333,
              "#9c179e"
             ],
             [
              0.4444444444444444,
              "#bd3786"
             ],
             [
              0.5555555555555556,
              "#d8576b"
             ],
             [
              0.6666666666666666,
              "#ed7953"
             ],
             [
              0.7777777777777778,
              "#fb9f3a"
             ],
             [
              0.8888888888888888,
              "#fdca26"
             ],
             [
              1,
              "#f0f921"
             ]
            ],
            "type": "histogram2dcontour"
           }
          ],
          "mesh3d": [
           {
            "colorbar": {
             "outlinewidth": 0,
             "ticks": ""
            },
            "type": "mesh3d"
           }
          ],
          "parcoords": [
           {
            "line": {
             "colorbar": {
              "outlinewidth": 0,
              "ticks": ""
             }
            },
            "type": "parcoords"
           }
          ],
          "pie": [
           {
            "automargin": true,
            "type": "pie"
           }
          ],
          "scatter": [
           {
            "fillpattern": {
             "fillmode": "overlay",
             "size": 10,
             "solidity": 0.2
            },
            "type": "scatter"
           }
          ],
          "scatter3d": [
           {
            "line": {
             "colorbar": {
              "outlinewidth": 0,
              "ticks": ""
             }
            },
            "marker": {
             "colorbar": {
              "outlinewidth": 0,
              "ticks": ""
             }
            },
            "type": "scatter3d"
           }
          ],
          "scattercarpet": [
           {
            "marker": {
             "colorbar": {
              "outlinewidth": 0,
              "ticks": ""
             }
            },
            "type": "scattercarpet"
           }
          ],
          "scattergeo": [
           {
            "marker": {
             "colorbar": {
              "outlinewidth": 0,
              "ticks": ""
             }
            },
            "type": "scattergeo"
           }
          ],
          "scattergl": [
           {
            "marker": {
             "colorbar": {
              "outlinewidth": 0,
              "ticks": ""
             }
            },
            "type": "scattergl"
           }
          ],
          "scattermapbox": [
           {
            "marker": {
             "colorbar": {
              "outlinewidth": 0,
              "ticks": ""
             }
            },
            "type": "scattermapbox"
           }
          ],
          "scatterpolar": [
           {
            "marker": {
             "colorbar": {
              "outlinewidth": 0,
              "ticks": ""
             }
            },
            "type": "scatterpolar"
           }
          ],
          "scatterpolargl": [
           {
            "marker": {
             "colorbar": {
              "outlinewidth": 0,
              "ticks": ""
             }
            },
            "type": "scatterpolargl"
           }
          ],
          "scatterternary": [
           {
            "marker": {
             "colorbar": {
              "outlinewidth": 0,
              "ticks": ""
             }
            },
            "type": "scatterternary"
           }
          ],
          "surface": [
           {
            "colorbar": {
             "outlinewidth": 0,
             "ticks": ""
            },
            "colorscale": [
             [
              0,
              "#0d0887"
             ],
             [
              0.1111111111111111,
              "#46039f"
             ],
             [
              0.2222222222222222,
              "#7201a8"
             ],
             [
              0.3333333333333333,
              "#9c179e"
             ],
             [
              0.4444444444444444,
              "#bd3786"
             ],
             [
              0.5555555555555556,
              "#d8576b"
             ],
             [
              0.6666666666666666,
              "#ed7953"
             ],
             [
              0.7777777777777778,
              "#fb9f3a"
             ],
             [
              0.8888888888888888,
              "#fdca26"
             ],
             [
              1,
              "#f0f921"
             ]
            ],
            "type": "surface"
           }
          ],
          "table": [
           {
            "cells": {
             "fill": {
              "color": "#EBF0F8"
             },
             "line": {
              "color": "white"
             }
            },
            "header": {
             "fill": {
              "color": "#C8D4E3"
             },
             "line": {
              "color": "white"
             }
            },
            "type": "table"
           }
          ]
         },
         "layout": {
          "annotationdefaults": {
           "arrowcolor": "#2a3f5f",
           "arrowhead": 0,
           "arrowwidth": 1
          },
          "autotypenumbers": "strict",
          "coloraxis": {
           "colorbar": {
            "outlinewidth": 0,
            "ticks": ""
           }
          },
          "colorscale": {
           "diverging": [
            [
             0,
             "#8e0152"
            ],
            [
             0.1,
             "#c51b7d"
            ],
            [
             0.2,
             "#de77ae"
            ],
            [
             0.3,
             "#f1b6da"
            ],
            [
             0.4,
             "#fde0ef"
            ],
            [
             0.5,
             "#f7f7f7"
            ],
            [
             0.6,
             "#e6f5d0"
            ],
            [
             0.7,
             "#b8e186"
            ],
            [
             0.8,
             "#7fbc41"
            ],
            [
             0.9,
             "#4d9221"
            ],
            [
             1,
             "#276419"
            ]
           ],
           "sequential": [
            [
             0,
             "#0d0887"
            ],
            [
             0.1111111111111111,
             "#46039f"
            ],
            [
             0.2222222222222222,
             "#7201a8"
            ],
            [
             0.3333333333333333,
             "#9c179e"
            ],
            [
             0.4444444444444444,
             "#bd3786"
            ],
            [
             0.5555555555555556,
             "#d8576b"
            ],
            [
             0.6666666666666666,
             "#ed7953"
            ],
            [
             0.7777777777777778,
             "#fb9f3a"
            ],
            [
             0.8888888888888888,
             "#fdca26"
            ],
            [
             1,
             "#f0f921"
            ]
           ],
           "sequentialminus": [
            [
             0,
             "#0d0887"
            ],
            [
             0.1111111111111111,
             "#46039f"
            ],
            [
             0.2222222222222222,
             "#7201a8"
            ],
            [
             0.3333333333333333,
             "#9c179e"
            ],
            [
             0.4444444444444444,
             "#bd3786"
            ],
            [
             0.5555555555555556,
             "#d8576b"
            ],
            [
             0.6666666666666666,
             "#ed7953"
            ],
            [
             0.7777777777777778,
             "#fb9f3a"
            ],
            [
             0.8888888888888888,
             "#fdca26"
            ],
            [
             1,
             "#f0f921"
            ]
           ]
          },
          "colorway": [
           "#636efa",
           "#EF553B",
           "#00cc96",
           "#ab63fa",
           "#FFA15A",
           "#19d3f3",
           "#FF6692",
           "#B6E880",
           "#FF97FF",
           "#FECB52"
          ],
          "font": {
           "color": "#2a3f5f"
          },
          "geo": {
           "bgcolor": "white",
           "lakecolor": "white",
           "landcolor": "#E5ECF6",
           "showlakes": true,
           "showland": true,
           "subunitcolor": "white"
          },
          "hoverlabel": {
           "align": "left"
          },
          "hovermode": "closest",
          "mapbox": {
           "style": "light"
          },
          "paper_bgcolor": "white",
          "plot_bgcolor": "#E5ECF6",
          "polar": {
           "angularaxis": {
            "gridcolor": "white",
            "linecolor": "white",
            "ticks": ""
           },
           "bgcolor": "#E5ECF6",
           "radialaxis": {
            "gridcolor": "white",
            "linecolor": "white",
            "ticks": ""
           }
          },
          "scene": {
           "xaxis": {
            "backgroundcolor": "#E5ECF6",
            "gridcolor": "white",
            "gridwidth": 2,
            "linecolor": "white",
            "showbackground": true,
            "ticks": "",
            "zerolinecolor": "white"
           },
           "yaxis": {
            "backgroundcolor": "#E5ECF6",
            "gridcolor": "white",
            "gridwidth": 2,
            "linecolor": "white",
            "showbackground": true,
            "ticks": "",
            "zerolinecolor": "white"
           },
           "zaxis": {
            "backgroundcolor": "#E5ECF6",
            "gridcolor": "white",
            "gridwidth": 2,
            "linecolor": "white",
            "showbackground": true,
            "ticks": "",
            "zerolinecolor": "white"
           }
          },
          "shapedefaults": {
           "line": {
            "color": "#2a3f5f"
           }
          },
          "ternary": {
           "aaxis": {
            "gridcolor": "white",
            "linecolor": "white",
            "ticks": ""
           },
           "baxis": {
            "gridcolor": "white",
            "linecolor": "white",
            "ticks": ""
           },
           "bgcolor": "#E5ECF6",
           "caxis": {
            "gridcolor": "white",
            "linecolor": "white",
            "ticks": ""
           }
          },
          "title": {
           "x": 0.05
          },
          "xaxis": {
           "automargin": true,
           "gridcolor": "white",
           "linecolor": "white",
           "ticks": "",
           "title": {
            "standoff": 15
           },
           "zerolinecolor": "white",
           "zerolinewidth": 2
          },
          "yaxis": {
           "automargin": true,
           "gridcolor": "white",
           "linecolor": "white",
           "ticks": "",
           "title": {
            "standoff": 15
           },
           "zerolinecolor": "white",
           "zerolinewidth": 2
          }
         }
        },
        "title": {
         "text": "<b>Phase 1 Subscribed Rate (%)</b>"
        },
        "width": 1200,
        "xaxis": {
         "anchor": "y",
         "domain": [
          0,
          1
         ],
         "range": [
          0,
          175
         ],
         "title": {
          "text": "Percentage (%)"
         }
        },
        "yaxis": {
         "anchor": "x",
         "categoryorder": "total ascending",
         "domain": [
          0,
          1
         ],
         "title": {
          "text": ""
         }
        }
       }
      }
     },
     "metadata": {},
     "output_type": "display_data"
    }
   ],
   "source": [
    "plot_phase_sub_rate('Phase1_applied', 'Phase 1')"
   ]
  },
  {
   "cell_type": "code",
   "execution_count": 295,
   "metadata": {},
   "outputs": [
    {
     "data": {
      "application/javascript": "if (window.IpyVizzu) { window.IpyVizzu.clearInhibitScroll(element); }"
     },
     "metadata": {},
     "output_type": "display_data"
    },
    {
     "data": {
      "application/javascript": "if (window.IpyVizzu) { window.IpyVizzu.clearInhibitScroll(element); }"
     },
     "metadata": {},
     "output_type": "display_data"
    },
    {
     "data": {
      "application/javascript": "if (window.IpyVizzu) { window.IpyVizzu.clearInhibitScroll(element); }"
     },
     "metadata": {},
     "output_type": "display_data"
    },
    {
     "data": {
      "application/javascript": "if (window.IpyVizzu) { window.IpyVizzu.clearInhibitScroll(element); }"
     },
     "metadata": {},
     "output_type": "display_data"
    },
    {
     "data": {
      "application/javascript": "if (window.IpyVizzu) { window.IpyVizzu.clearInhibitScroll(element); }"
     },
     "metadata": {},
     "output_type": "display_data"
    },
    {
     "data": {
      "application/javascript": "if (window.IpyVizzu) { window.IpyVizzu.clearInhibitScroll(element); }"
     },
     "metadata": {},
     "output_type": "display_data"
    },
    {
     "data": {
      "application/javascript": "if (window.IpyVizzu) { window.IpyVizzu.clearInhibitScroll(element); }"
     },
     "metadata": {},
     "output_type": "display_data"
    },
    {
     "data": {
      "application/javascript": "if (window.IpyVizzu) { window.IpyVizzu.clearInhibitScroll(element); }"
     },
     "metadata": {},
     "output_type": "display_data"
    },
    {
     "data": {
      "application/javascript": "if (window.IpyVizzu) { window.IpyVizzu.clearInhibitScroll(element); }"
     },
     "metadata": {},
     "output_type": "display_data"
    },
    {
     "data": {
      "application/javascript": "if (window.IpyVizzu) { window.IpyVizzu.clearInhibitScroll(element); }"
     },
     "metadata": {},
     "output_type": "display_data"
    },
    {
     "data": {
      "application/javascript": "if (window.IpyVizzu) { window.IpyVizzu.clearInhibitScroll(element); }"
     },
     "metadata": {},
     "output_type": "display_data"
    },
    {
     "data": {
      "application/javascript": "if (window.IpyVizzu) { window.IpyVizzu.clearInhibitScroll(element); }"
     },
     "metadata": {},
     "output_type": "display_data"
    },
    {
     "data": {
      "application/javascript": "if (window.IpyVizzu) { window.IpyVizzu.clearInhibitScroll(element); }"
     },
     "metadata": {},
     "output_type": "display_data"
    },
    {
     "data": {
      "application/vnd.plotly.v1+json": {
       "config": {
        "plotlyServerURL": "https://plot.ly"
       },
       "data": [
        {
         "alignmentgroup": "True",
         "hovertemplate": "School: %{label}: <br>Percentage: %{value:.1f}%</br>",
         "legendgroup": "Phase1_2A_sub",
         "marker": {
          "color": "grey",
          "pattern": {
           "shape": ""
          }
         },
         "name": "Subscribed",
         "offsetgroup": "Phase1_2A_sub",
         "orientation": "h",
         "showlegend": true,
         "textfont": {
          "color": "white"
         },
         "textposition": "inside",
         "texttemplate": "%{x:.1f}",
         "type": "bar",
         "x": [
          96,
          46.92307692307692,
          100,
          60,
          67.22222222222223,
          84.66666666666667,
          40.66666666666666,
          90.47619047619048,
          87.22222222222223,
          35.45454545454545,
          50,
          48.888888888888886,
          43.84615384615385,
          41.66666666666667,
          31.666666666666664,
          86.11111111111111,
          50,
          29.166666666666668,
          61.66666666666667,
          66.66666666666666,
          38.333333333333336,
          76,
          100,
          29.444444444444446,
          43.333333333333336,
          51.42857142857142,
          44.285714285714285,
          58.88888888888889,
          44.44444444444444,
          35,
          86,
          100,
          94.16666666666669,
          100.83333333333331,
          80.55555555555556,
          45,
          61.11111111111112,
          68.88888888888889,
          48.888888888888886,
          36.11111111111111,
          92.14285714285714,
          53.333333333333336,
          59.23076923076923,
          56.66666666666666,
          75,
          46.66666666666666,
          56.66666666666666,
          100.47619047619048,
          50,
          88.33333333333333,
          93.33333333333331,
          70.55555555555556,
          26.666666666666668,
          100,
          42,
          81.66666666666667,
          42.22222222222222,
          65.23809523809524,
          100,
          59.44444444444444,
          62,
          56.11111111111112,
          47.69230769230769,
          100,
          100,
          68.66666666666667,
          100,
          74.28571428571429,
          83.18181818181817,
          68.33333333333333,
          80,
          85.55555555555556,
          71.11111111111111,
          84.16666666666667,
          82.5,
          93.125,
          54.44444444444444,
          82.85714285714286,
          56.66666666666666,
          82.22222222222221,
          70.55555555555556,
          26.666666666666668,
          81.48148148148148,
          89.52380952380953,
          48.66666666666667,
          21.666666666666668,
          57.692307692307686,
          62.91666666666666,
          64.61538461538461,
          100,
          38.88888888888889,
          74.16666666666667,
          100.55555555555556,
          100.3030303030303,
          80,
          24.666666666666668,
          63.33333333333333,
          48,
          53.333333333333336,
          68.33333333333333,
          100,
          21.25,
          35.55555555555556,
          100,
          63.07692307692307,
          56.66666666666666,
          60,
          96.66666666666669,
          70.47619047619048,
          100,
          100.60975609756098,
          48.63636363636364,
          63.84615384615384,
          62.22222222222222,
          100,
          82.63157894736842,
          100,
          81.53846153846153,
          100,
          66.81818181818183,
          43.333333333333336,
          61.33333333333333,
          100,
          67.14285714285714,
          100,
          89.33333333333333,
          100,
          78,
          100,
          100,
          67.85714285714286,
          42.66666666666667,
          95.9090909090909,
          78.57142857142857,
          58.88888888888889,
          100,
          100,
          88.63636363636364,
          71.11111111111111,
          22.22222222222222,
          78.125,
          54.44444444444444,
          100,
          71.66666666666667,
          54.54545454545454,
          30,
          52.22222222222223,
          87.77777777777777,
          80,
          97,
          57.333333333333336,
          38.88888888888889,
          82.3076923076923,
          100,
          42.5,
          57.333333333333336,
          82.72727272727273,
          89.54545454545455,
          100,
          47.22222222222222,
          100,
          76,
          100,
          61.66666666666667,
          87.5,
          78,
          55.00000000000001,
          22.272727272727277,
          46.66666666666666,
          92.66666666666666,
          60.76923076923077,
          97,
          47.333333333333336,
          42.85714285714285,
          66.66666666666666,
          100,
          40.66666666666666,
          59.16666666666666,
          71.66666666666667,
          83.33333333333334,
          37.77777777777778
         ],
         "xaxis": "x",
         "y": [
          "Admiralty Primary School",
          "Ahmad Ibrahim Primary School",
          "Ai Tong School",
          "Alexandra Primary School",
          "Anchor Green Primary School",
          "Anderson Primary School",
          "Ang Mo Kio Primary School",
          "Anglo-Chinese School (Junior)",
          "Anglo-Chinese School (Primary)",
          "Angsana Primary School",
          "Beacon Primary School",
          "Bedok Green Primary School",
          "Bendemeer Primary School",
          "Blangah Rise Primary School",
          "Boon Lay Garden Primary School",
          "Bukit Panjang Primary School",
          "Bukit Timah Primary School",
          "Bukit View Primary School",
          "Canberra Primary School",
          "Canossa Catholic Primary School",
          "Cantonment Primary School",
          "Casuarina Primary School",
          "Catholic High School (Primary Section)",
          "Cedar Primary School",
          "Changkat Primary School",
          "CHIJ (Katong) Primary",
          "CHIJ (Kellock)",
          "CHIJ Our Lady of Good Counsel",
          "CHIJ Our Lady of the Nativity",
          "CHIJ Our Lady Queen of Peace",
          "CHIJ Primary (Toa Payoh)",
          "CHIJ St. Nicholas Girls' School (Primary Section)",
          "Chongfu School",
          "Chongzheng Primary School",
          "Chua Chu Kang Primary School",
          "Clementi Primary School",
          "Compassvale Primary School",
          "Concord Primary School",
          "Corporation Primary School",
          "Damai Primary School",
          "Dazhong Primary School",
          "De La Salle School",
          "East Spring Primary School",
          "Edgefield Primary School",
          "Elias Park Primary School",
          "Endeavour Primary School",
          "Evergreen Primary School",
          "Fairfield Methodist School (Primary)",
          "Farrer Park Primary School",
          "Fengshan Primary School",
          "Fern Green Primary School",
          "Fernvale Primary School",
          "First Toa Payoh Primary School",
          "Frontier Primary School",
          "Fuchun Primary School",
          "Fuhua Primary School",
          "Gan Eng Seng Primary School",
          "Geylang Methodist School (Primary)",
          "Gongshang Primary School",
          "Greendale Primary School",
          "Greenridge Primary School",
          "Greenwood Primary School",
          "Haig Girls' School",
          "Henry Park Primary School",
          "Holy Innocents' Primary School",
          "Hong Wen School",
          "Horizon Primary School",
          "Hougang Primary School",
          "Huamin Primary School",
          "Innova Primary School",
          "Jiemin Primary School",
          "Jing Shan Primary School",
          "Junyuan Primary School",
          "Jurong Primary School",
          "Jurong West Primary School",
          "Keming Primary School",
          "Kheng Cheng School",
          "Kong Hwa School",
          "Kranji Primary School",
          "Kuo Chuan Presbyterian Primary School",
          "Lakeside Primary School",
          "Lianhua Primary School",
          "Maha Bodhi School",
          "Maris Stella High School (Primary Section)",
          "Marsiling Primary School",
          "Marymount Convent School",
          "Mayflower Primary School",
          "Mee Toh School",
          "Meridian Primary School",
          "Methodist Girls' School (Primary)",
          "Montfort Junior School",
          "Nan Chiau Primary School",
          "Nan Hua Primary School",
          "Nanyang Primary School",
          "Naval Base Primary School",
          "New Town Primary School",
          "Ngee Ann Primary School",
          "North Spring Primary School",
          "North View Primary School",
          "North Vista Primary School",
          "Northland Primary School",
          "Northoaks Primary School",
          "Northshore Primary School",
          "Oasis Primary School",
          "Opera Estate Primary School",
          "Palm View Primary School",
          "Park View Primary School",
          "Pasir Ris Primary School",
          "Paya Lebar Methodist Girls' School (Primary)",
          "Pei Chun Public School",
          "Pei Hwa Presbyterian Primary School",
          "Pei Tong Primary School",
          "Peiying Primary School",
          "Poi Ching School",
          "Princess Elizabeth Primary School",
          "Punggol Cove Primary School",
          "Punggol Green Primary School",
          "Punggol Primary School",
          "Punggol View Primary School",
          "Qifa Primary School",
          "Qihua Primary School",
          "Queenstown Primary School",
          "Radin Mas Primary School",
          "Raffles Girls' Primary School",
          "Red Swastika School",
          "River Valley Primary School",
          "Riverside Primary School",
          "Rivervale Primary School",
          "Rosyth School",
          "Rulang Primary School",
          "Sembawang Primary School",
          "Seng Kang Primary School",
          "Sengkang Green Primary School",
          "Shuqun Primary School",
          "Si Ling Primary School",
          "Singapore Chinese Girls' Primary School",
          "South View Primary School",
          "Springdale Primary School",
          "St. Andrew's Junior School",
          "St. Anthony's Canossian Primary School",
          "St. Anthony's Primary School",
          "St. Gabriel's Primary School",
          "St. Hilda's Primary School",
          "St. Joseph's Institution Junior",
          "St. Margaret's Primary School",
          "St. Stephen's School",
          "Tampines North Primary School",
          "Tampines Primary School",
          "Tanjong Katong Primary School",
          "Tao Nan School",
          "Teck Ghee Primary School",
          "Teck Whye Primary School",
          "Telok Kurau Primary School",
          "Temasek Primary School",
          "Townsville Primary School",
          "Unity Primary School",
          "Valour Primary School",
          "Waterway Primary School",
          "Wellington Primary School",
          "West Grove Primary School",
          "West Spring Primary School",
          "West View Primary School",
          "Westwood Primary School",
          "White Sands Primary School",
          "Woodgrove Primary School",
          "Woodlands Primary School",
          "Woodlands Ring Primary School",
          "Xinghua Primary School",
          "Xingnan Primary School",
          "Xinmin Primary School",
          "Xishan Primary School",
          "Yangzheng Primary School",
          "Yew Tee Primary School",
          "Yio Chu Kang Primary School",
          "Yishun Primary School",
          "Yu Neng Primary School",
          "Yuhua Primary School",
          "Yumin Primary School",
          "Zhangde Primary School",
          "Zhenghua Primary School",
          "Zhonghua Primary School"
         ],
         "yaxis": "y"
        }
       ],
       "layout": {
        "barmode": "relative",
        "height": 5000,
        "legend": {
         "title": {
          "text": "Legend"
         },
         "tracegroupgap": 0
        },
        "shapes": [
         {
          "line": {
           "color": "salmon",
           "dash": "dot",
           "width": 5
          },
          "type": "line",
          "x0": 100,
          "x1": 100,
          "xref": "x",
          "y0": 0,
          "y1": 1,
          "yref": "y domain"
         }
        ],
        "template": {
         "data": {
          "bar": [
           {
            "error_x": {
             "color": "#2a3f5f"
            },
            "error_y": {
             "color": "#2a3f5f"
            },
            "marker": {
             "line": {
              "color": "#E5ECF6",
              "width": 0.5
             },
             "pattern": {
              "fillmode": "overlay",
              "size": 10,
              "solidity": 0.2
             }
            },
            "type": "bar"
           }
          ],
          "barpolar": [
           {
            "marker": {
             "line": {
              "color": "#E5ECF6",
              "width": 0.5
             },
             "pattern": {
              "fillmode": "overlay",
              "size": 10,
              "solidity": 0.2
             }
            },
            "type": "barpolar"
           }
          ],
          "carpet": [
           {
            "aaxis": {
             "endlinecolor": "#2a3f5f",
             "gridcolor": "white",
             "linecolor": "white",
             "minorgridcolor": "white",
             "startlinecolor": "#2a3f5f"
            },
            "baxis": {
             "endlinecolor": "#2a3f5f",
             "gridcolor": "white",
             "linecolor": "white",
             "minorgridcolor": "white",
             "startlinecolor": "#2a3f5f"
            },
            "type": "carpet"
           }
          ],
          "choropleth": [
           {
            "colorbar": {
             "outlinewidth": 0,
             "ticks": ""
            },
            "type": "choropleth"
           }
          ],
          "contour": [
           {
            "colorbar": {
             "outlinewidth": 0,
             "ticks": ""
            },
            "colorscale": [
             [
              0,
              "#0d0887"
             ],
             [
              0.1111111111111111,
              "#46039f"
             ],
             [
              0.2222222222222222,
              "#7201a8"
             ],
             [
              0.3333333333333333,
              "#9c179e"
             ],
             [
              0.4444444444444444,
              "#bd3786"
             ],
             [
              0.5555555555555556,
              "#d8576b"
             ],
             [
              0.6666666666666666,
              "#ed7953"
             ],
             [
              0.7777777777777778,
              "#fb9f3a"
             ],
             [
              0.8888888888888888,
              "#fdca26"
             ],
             [
              1,
              "#f0f921"
             ]
            ],
            "type": "contour"
           }
          ],
          "contourcarpet": [
           {
            "colorbar": {
             "outlinewidth": 0,
             "ticks": ""
            },
            "type": "contourcarpet"
           }
          ],
          "heatmap": [
           {
            "colorbar": {
             "outlinewidth": 0,
             "ticks": ""
            },
            "colorscale": [
             [
              0,
              "#0d0887"
             ],
             [
              0.1111111111111111,
              "#46039f"
             ],
             [
              0.2222222222222222,
              "#7201a8"
             ],
             [
              0.3333333333333333,
              "#9c179e"
             ],
             [
              0.4444444444444444,
              "#bd3786"
             ],
             [
              0.5555555555555556,
              "#d8576b"
             ],
             [
              0.6666666666666666,
              "#ed7953"
             ],
             [
              0.7777777777777778,
              "#fb9f3a"
             ],
             [
              0.8888888888888888,
              "#fdca26"
             ],
             [
              1,
              "#f0f921"
             ]
            ],
            "type": "heatmap"
           }
          ],
          "heatmapgl": [
           {
            "colorbar": {
             "outlinewidth": 0,
             "ticks": ""
            },
            "colorscale": [
             [
              0,
              "#0d0887"
             ],
             [
              0.1111111111111111,
              "#46039f"
             ],
             [
              0.2222222222222222,
              "#7201a8"
             ],
             [
              0.3333333333333333,
              "#9c179e"
             ],
             [
              0.4444444444444444,
              "#bd3786"
             ],
             [
              0.5555555555555556,
              "#d8576b"
             ],
             [
              0.6666666666666666,
              "#ed7953"
             ],
             [
              0.7777777777777778,
              "#fb9f3a"
             ],
             [
              0.8888888888888888,
              "#fdca26"
             ],
             [
              1,
              "#f0f921"
             ]
            ],
            "type": "heatmapgl"
           }
          ],
          "histogram": [
           {
            "marker": {
             "pattern": {
              "fillmode": "overlay",
              "size": 10,
              "solidity": 0.2
             }
            },
            "type": "histogram"
           }
          ],
          "histogram2d": [
           {
            "colorbar": {
             "outlinewidth": 0,
             "ticks": ""
            },
            "colorscale": [
             [
              0,
              "#0d0887"
             ],
             [
              0.1111111111111111,
              "#46039f"
             ],
             [
              0.2222222222222222,
              "#7201a8"
             ],
             [
              0.3333333333333333,
              "#9c179e"
             ],
             [
              0.4444444444444444,
              "#bd3786"
             ],
             [
              0.5555555555555556,
              "#d8576b"
             ],
             [
              0.6666666666666666,
              "#ed7953"
             ],
             [
              0.7777777777777778,
              "#fb9f3a"
             ],
             [
              0.8888888888888888,
              "#fdca26"
             ],
             [
              1,
              "#f0f921"
             ]
            ],
            "type": "histogram2d"
           }
          ],
          "histogram2dcontour": [
           {
            "colorbar": {
             "outlinewidth": 0,
             "ticks": ""
            },
            "colorscale": [
             [
              0,
              "#0d0887"
             ],
             [
              0.1111111111111111,
              "#46039f"
             ],
             [
              0.2222222222222222,
              "#7201a8"
             ],
             [
              0.3333333333333333,
              "#9c179e"
             ],
             [
              0.4444444444444444,
              "#bd3786"
             ],
             [
              0.5555555555555556,
              "#d8576b"
             ],
             [
              0.6666666666666666,
              "#ed7953"
             ],
             [
              0.7777777777777778,
              "#fb9f3a"
             ],
             [
              0.8888888888888888,
              "#fdca26"
             ],
             [
              1,
              "#f0f921"
             ]
            ],
            "type": "histogram2dcontour"
           }
          ],
          "mesh3d": [
           {
            "colorbar": {
             "outlinewidth": 0,
             "ticks": ""
            },
            "type": "mesh3d"
           }
          ],
          "parcoords": [
           {
            "line": {
             "colorbar": {
              "outlinewidth": 0,
              "ticks": ""
             }
            },
            "type": "parcoords"
           }
          ],
          "pie": [
           {
            "automargin": true,
            "type": "pie"
           }
          ],
          "scatter": [
           {
            "fillpattern": {
             "fillmode": "overlay",
             "size": 10,
             "solidity": 0.2
            },
            "type": "scatter"
           }
          ],
          "scatter3d": [
           {
            "line": {
             "colorbar": {
              "outlinewidth": 0,
              "ticks": ""
             }
            },
            "marker": {
             "colorbar": {
              "outlinewidth": 0,
              "ticks": ""
             }
            },
            "type": "scatter3d"
           }
          ],
          "scattercarpet": [
           {
            "marker": {
             "colorbar": {
              "outlinewidth": 0,
              "ticks": ""
             }
            },
            "type": "scattercarpet"
           }
          ],
          "scattergeo": [
           {
            "marker": {
             "colorbar": {
              "outlinewidth": 0,
              "ticks": ""
             }
            },
            "type": "scattergeo"
           }
          ],
          "scattergl": [
           {
            "marker": {
             "colorbar": {
              "outlinewidth": 0,
              "ticks": ""
             }
            },
            "type": "scattergl"
           }
          ],
          "scattermapbox": [
           {
            "marker": {
             "colorbar": {
              "outlinewidth": 0,
              "ticks": ""
             }
            },
            "type": "scattermapbox"
           }
          ],
          "scatterpolar": [
           {
            "marker": {
             "colorbar": {
              "outlinewidth": 0,
              "ticks": ""
             }
            },
            "type": "scatterpolar"
           }
          ],
          "scatterpolargl": [
           {
            "marker": {
             "colorbar": {
              "outlinewidth": 0,
              "ticks": ""
             }
            },
            "type": "scatterpolargl"
           }
          ],
          "scatterternary": [
           {
            "marker": {
             "colorbar": {
              "outlinewidth": 0,
              "ticks": ""
             }
            },
            "type": "scatterternary"
           }
          ],
          "surface": [
           {
            "colorbar": {
             "outlinewidth": 0,
             "ticks": ""
            },
            "colorscale": [
             [
              0,
              "#0d0887"
             ],
             [
              0.1111111111111111,
              "#46039f"
             ],
             [
              0.2222222222222222,
              "#7201a8"
             ],
             [
              0.3333333333333333,
              "#9c179e"
             ],
             [
              0.4444444444444444,
              "#bd3786"
             ],
             [
              0.5555555555555556,
              "#d8576b"
             ],
             [
              0.6666666666666666,
              "#ed7953"
             ],
             [
              0.7777777777777778,
              "#fb9f3a"
             ],
             [
              0.8888888888888888,
              "#fdca26"
             ],
             [
              1,
              "#f0f921"
             ]
            ],
            "type": "surface"
           }
          ],
          "table": [
           {
            "cells": {
             "fill": {
              "color": "#EBF0F8"
             },
             "line": {
              "color": "white"
             }
            },
            "header": {
             "fill": {
              "color": "#C8D4E3"
             },
             "line": {
              "color": "white"
             }
            },
            "type": "table"
           }
          ]
         },
         "layout": {
          "annotationdefaults": {
           "arrowcolor": "#2a3f5f",
           "arrowhead": 0,
           "arrowwidth": 1
          },
          "autotypenumbers": "strict",
          "coloraxis": {
           "colorbar": {
            "outlinewidth": 0,
            "ticks": ""
           }
          },
          "colorscale": {
           "diverging": [
            [
             0,
             "#8e0152"
            ],
            [
             0.1,
             "#c51b7d"
            ],
            [
             0.2,
             "#de77ae"
            ],
            [
             0.3,
             "#f1b6da"
            ],
            [
             0.4,
             "#fde0ef"
            ],
            [
             0.5,
             "#f7f7f7"
            ],
            [
             0.6,
             "#e6f5d0"
            ],
            [
             0.7,
             "#b8e186"
            ],
            [
             0.8,
             "#7fbc41"
            ],
            [
             0.9,
             "#4d9221"
            ],
            [
             1,
             "#276419"
            ]
           ],
           "sequential": [
            [
             0,
             "#0d0887"
            ],
            [
             0.1111111111111111,
             "#46039f"
            ],
            [
             0.2222222222222222,
             "#7201a8"
            ],
            [
             0.3333333333333333,
             "#9c179e"
            ],
            [
             0.4444444444444444,
             "#bd3786"
            ],
            [
             0.5555555555555556,
             "#d8576b"
            ],
            [
             0.6666666666666666,
             "#ed7953"
            ],
            [
             0.7777777777777778,
             "#fb9f3a"
            ],
            [
             0.8888888888888888,
             "#fdca26"
            ],
            [
             1,
             "#f0f921"
            ]
           ],
           "sequentialminus": [
            [
             0,
             "#0d0887"
            ],
            [
             0.1111111111111111,
             "#46039f"
            ],
            [
             0.2222222222222222,
             "#7201a8"
            ],
            [
             0.3333333333333333,
             "#9c179e"
            ],
            [
             0.4444444444444444,
             "#bd3786"
            ],
            [
             0.5555555555555556,
             "#d8576b"
            ],
            [
             0.6666666666666666,
             "#ed7953"
            ],
            [
             0.7777777777777778,
             "#fb9f3a"
            ],
            [
             0.8888888888888888,
             "#fdca26"
            ],
            [
             1,
             "#f0f921"
            ]
           ]
          },
          "colorway": [
           "#636efa",
           "#EF553B",
           "#00cc96",
           "#ab63fa",
           "#FFA15A",
           "#19d3f3",
           "#FF6692",
           "#B6E880",
           "#FF97FF",
           "#FECB52"
          ],
          "font": {
           "color": "#2a3f5f"
          },
          "geo": {
           "bgcolor": "white",
           "lakecolor": "white",
           "landcolor": "#E5ECF6",
           "showlakes": true,
           "showland": true,
           "subunitcolor": "white"
          },
          "hoverlabel": {
           "align": "left"
          },
          "hovermode": "closest",
          "mapbox": {
           "style": "light"
          },
          "paper_bgcolor": "white",
          "plot_bgcolor": "#E5ECF6",
          "polar": {
           "angularaxis": {
            "gridcolor": "white",
            "linecolor": "white",
            "ticks": ""
           },
           "bgcolor": "#E5ECF6",
           "radialaxis": {
            "gridcolor": "white",
            "linecolor": "white",
            "ticks": ""
           }
          },
          "scene": {
           "xaxis": {
            "backgroundcolor": "#E5ECF6",
            "gridcolor": "white",
            "gridwidth": 2,
            "linecolor": "white",
            "showbackground": true,
            "ticks": "",
            "zerolinecolor": "white"
           },
           "yaxis": {
            "backgroundcolor": "#E5ECF6",
            "gridcolor": "white",
            "gridwidth": 2,
            "linecolor": "white",
            "showbackground": true,
            "ticks": "",
            "zerolinecolor": "white"
           },
           "zaxis": {
            "backgroundcolor": "#E5ECF6",
            "gridcolor": "white",
            "gridwidth": 2,
            "linecolor": "white",
            "showbackground": true,
            "ticks": "",
            "zerolinecolor": "white"
           }
          },
          "shapedefaults": {
           "line": {
            "color": "#2a3f5f"
           }
          },
          "ternary": {
           "aaxis": {
            "gridcolor": "white",
            "linecolor": "white",
            "ticks": ""
           },
           "baxis": {
            "gridcolor": "white",
            "linecolor": "white",
            "ticks": ""
           },
           "bgcolor": "#E5ECF6",
           "caxis": {
            "gridcolor": "white",
            "linecolor": "white",
            "ticks": ""
           }
          },
          "title": {
           "x": 0.05
          },
          "xaxis": {
           "automargin": true,
           "gridcolor": "white",
           "linecolor": "white",
           "ticks": "",
           "title": {
            "standoff": 15
           },
           "zerolinecolor": "white",
           "zerolinewidth": 2
          },
          "yaxis": {
           "automargin": true,
           "gridcolor": "white",
           "linecolor": "white",
           "ticks": "",
           "title": {
            "standoff": 15
           },
           "zerolinecolor": "white",
           "zerolinewidth": 2
          }
         }
        },
        "title": {
         "text": "<b>Phase 1-2A Subscribed Rate (%)</b>"
        },
        "width": 1200,
        "xaxis": {
         "anchor": "y",
         "domain": [
          0,
          1
         ],
         "range": [
          0,
          105
         ],
         "title": {
          "text": "Percentage (%)"
         }
        },
        "yaxis": {
         "anchor": "x",
         "categoryorder": "total ascending",
         "domain": [
          0,
          1
         ],
         "title": {
          "text": ""
         }
        }
       }
      }
     },
     "metadata": {},
     "output_type": "display_data"
    }
   ],
   "source": [
    "plot_phase_sub_rate('Phase1_2A_sub', 'Phase 1-2A')"
   ]
  },
  {
   "cell_type": "code",
   "execution_count": 296,
   "metadata": {},
   "outputs": [
    {
     "data": {
      "application/javascript": "if (window.IpyVizzu) { window.IpyVizzu.clearInhibitScroll(element); }"
     },
     "metadata": {},
     "output_type": "display_data"
    },
    {
     "data": {
      "application/javascript": "if (window.IpyVizzu) { window.IpyVizzu.clearInhibitScroll(element); }"
     },
     "metadata": {},
     "output_type": "display_data"
    },
    {
     "data": {
      "application/javascript": "if (window.IpyVizzu) { window.IpyVizzu.clearInhibitScroll(element); }"
     },
     "metadata": {},
     "output_type": "display_data"
    },
    {
     "data": {
      "application/javascript": "if (window.IpyVizzu) { window.IpyVizzu.clearInhibitScroll(element); }"
     },
     "metadata": {},
     "output_type": "display_data"
    },
    {
     "data": {
      "application/javascript": "if (window.IpyVizzu) { window.IpyVizzu.clearInhibitScroll(element); }"
     },
     "metadata": {},
     "output_type": "display_data"
    },
    {
     "data": {
      "application/javascript": "if (window.IpyVizzu) { window.IpyVizzu.clearInhibitScroll(element); }"
     },
     "metadata": {},
     "output_type": "display_data"
    },
    {
     "data": {
      "application/javascript": "if (window.IpyVizzu) { window.IpyVizzu.clearInhibitScroll(element); }"
     },
     "metadata": {},
     "output_type": "display_data"
    },
    {
     "data": {
      "application/javascript": "if (window.IpyVizzu) { window.IpyVizzu.clearInhibitScroll(element); }"
     },
     "metadata": {},
     "output_type": "display_data"
    },
    {
     "data": {
      "application/javascript": "if (window.IpyVizzu) { window.IpyVizzu.clearInhibitScroll(element); }"
     },
     "metadata": {},
     "output_type": "display_data"
    },
    {
     "data": {
      "application/javascript": "if (window.IpyVizzu) { window.IpyVizzu.clearInhibitScroll(element); }"
     },
     "metadata": {},
     "output_type": "display_data"
    },
    {
     "data": {
      "application/javascript": "if (window.IpyVizzu) { window.IpyVizzu.clearInhibitScroll(element); }"
     },
     "metadata": {},
     "output_type": "display_data"
    },
    {
     "data": {
      "application/javascript": "if (window.IpyVizzu) { window.IpyVizzu.clearInhibitScroll(element); }"
     },
     "metadata": {},
     "output_type": "display_data"
    },
    {
     "data": {
      "application/javascript": "if (window.IpyVizzu) { window.IpyVizzu.clearInhibitScroll(element); }"
     },
     "metadata": {},
     "output_type": "display_data"
    },
    {
     "data": {
      "application/vnd.plotly.v1+json": {
       "config": {
        "plotlyServerURL": "https://plot.ly"
       },
       "data": [
        {
         "alignmentgroup": "True",
         "hovertemplate": "School: %{label}: <br>Percentage: %{value:.1f}%</br>",
         "legendgroup": "Phase2B_sub",
         "marker": {
          "color": "grey",
          "pattern": {
           "shape": ""
          }
         },
         "name": "Subscribed",
         "offsetgroup": "Phase2B_sub",
         "orientation": "h",
         "showlegend": true,
         "textfont": {
          "color": "white"
         },
         "textposition": "inside",
         "texttemplate": "%{x:.1f}",
         "type": "bar",
         "x": [
          222.72727272727272,
          0,
          240,
          10.256410256410255,
          0,
          75,
          0,
          211.11111111111111,
          196.42857142857144,
          0,
          0,
          0,
          0,
          0,
          0,
          72.41379310344827,
          2.380952380952381,
          0,
          44.18604651162791,
          59.25925925925925,
          0,
          0,
          215,
          0,
          0,
          37.2093023255814,
          34.78260869565217,
          62.5,
          98.14814814814817,
          26.08695652173913,
          148.14814814814815,
          230,
          204,
          35,
          78.125,
          0,
          38.63636363636363,
          7.6923076923076925,
          1.96078431372549,
          0,
          0,
          25,
          0,
          0,
          6.666666666666667,
          5.769230769230769,
          0,
          165,
          2.380952380952381,
          4,
          8,
          2.631578947368421,
          0,
          70,
          2.0408163265306123,
          0,
          0,
          9.090909090909092,
          75,
          0,
          0,
          2.1739130434782608,
          2.3255813953488373,
          138.0952380952381,
          238.0952380952381,
          75,
          95,
          56.25,
          6.25,
          42.42424242424242,
          3.571428571428571,
          4.166666666666666,
          0,
          0,
          14.814814814814811,
          79.16666666666666,
          8.333333333333332,
          203.125,
          0,
          174.19354838709677,
          0,
          1.2658227848101269,
          89.1891891891892,
          166.66666666666669,
          0,
          19.402985074626866,
          0,
          100,
          0,
          395,
          39.47368421052632,
          192.6829268292683,
          190,
          185,
          2.857142857142857,
          0,
          9.523809523809524,
          0,
          0,
          0,
          110,
          0,
          1.694915254237288,
          0,
          2.7777777777777777,
          2.1739130434782608,
          2.7777777777777777,
          104.76190476190476,
          114.6341463414634,
          135,
          185,
          0,
          0,
          62.7906976744186,
          25,
          3.225806451612903,
          20,
          21.428571428571427,
          0,
          50,
          9.25925925925926,
          0,
          100,
          90.69767441860463,
          130,
          76.92307692307693,
          10,
          38.70967741935484,
          120,
          170,
          2.857142857142857,
          0,
          91.30434782608695,
          36.66666666666666,
          0,
          170,
          150,
          0,
          83.78378378378379,
          8.955223880597014,
          121.875,
          70.58823529411765,
          200,
          221.0526315789474,
          47.5,
          37.096774193548384,
          0,
          7.142857142857142,
          46.66666666666666,
          265.2173913043478,
          14.634146341463412,
          0,
          7.142857142857142,
          50,
          6.976744186046512,
          0,
          6.0606060606060606,
          3.571428571428571,
          20,
          15.384615384615383,
          0,
          0,
          55.00000000000001,
          40,
          20,
          41.935483870967744,
          0,
          0,
          1.5873015873015872,
          133.33333333333331,
          2.702702702702702,
          40.909090909090914,
          2.1739130434782608,
          0,
          0,
          50,
          0,
          0,
          3.225806451612903,
          0,
          2.564102564102564
         ],
         "xaxis": "x",
         "y": [
          "Admiralty Primary School",
          "Ahmad Ibrahim Primary School",
          "Ai Tong School",
          "Alexandra Primary School",
          "Anchor Green Primary School",
          "Anderson Primary School",
          "Ang Mo Kio Primary School",
          "Anglo-Chinese School (Junior)",
          "Anglo-Chinese School (Primary)",
          "Angsana Primary School",
          "Beacon Primary School",
          "Bedok Green Primary School",
          "Bendemeer Primary School",
          "Blangah Rise Primary School",
          "Boon Lay Garden Primary School",
          "Bukit Panjang Primary School",
          "Bukit Timah Primary School",
          "Bukit View Primary School",
          "Canberra Primary School",
          "Canossa Catholic Primary School",
          "Cantonment Primary School",
          "Casuarina Primary School",
          "Catholic High School (Primary Section)",
          "Cedar Primary School",
          "Changkat Primary School",
          "CHIJ (Katong) Primary",
          "CHIJ (Kellock)",
          "CHIJ Our Lady of Good Counsel",
          "CHIJ Our Lady of the Nativity",
          "CHIJ Our Lady Queen of Peace",
          "CHIJ Primary (Toa Payoh)",
          "CHIJ St. Nicholas Girls' School (Primary Section)",
          "Chongfu School",
          "Chongzheng Primary School",
          "Chua Chu Kang Primary School",
          "Clementi Primary School",
          "Compassvale Primary School",
          "Concord Primary School",
          "Corporation Primary School",
          "Damai Primary School",
          "Dazhong Primary School",
          "De La Salle School",
          "East Spring Primary School",
          "Edgefield Primary School",
          "Elias Park Primary School",
          "Endeavour Primary School",
          "Evergreen Primary School",
          "Fairfield Methodist School (Primary)",
          "Farrer Park Primary School",
          "Fengshan Primary School",
          "Fern Green Primary School",
          "Fernvale Primary School",
          "First Toa Payoh Primary School",
          "Frontier Primary School",
          "Fuchun Primary School",
          "Fuhua Primary School",
          "Gan Eng Seng Primary School",
          "Geylang Methodist School (Primary)",
          "Gongshang Primary School",
          "Greendale Primary School",
          "Greenridge Primary School",
          "Greenwood Primary School",
          "Haig Girls' School",
          "Henry Park Primary School",
          "Holy Innocents' Primary School",
          "Hong Wen School",
          "Horizon Primary School",
          "Hougang Primary School",
          "Huamin Primary School",
          "Innova Primary School",
          "Jiemin Primary School",
          "Jing Shan Primary School",
          "Junyuan Primary School",
          "Jurong Primary School",
          "Jurong West Primary School",
          "Keming Primary School",
          "Kheng Cheng School",
          "Kong Hwa School",
          "Kranji Primary School",
          "Kuo Chuan Presbyterian Primary School",
          "Lakeside Primary School",
          "Lianhua Primary School",
          "Maha Bodhi School",
          "Maris Stella High School (Primary Section)",
          "Marsiling Primary School",
          "Marymount Convent School",
          "Mayflower Primary School",
          "Mee Toh School",
          "Meridian Primary School",
          "Methodist Girls' School (Primary)",
          "Montfort Junior School",
          "Nan Chiau Primary School",
          "Nan Hua Primary School",
          "Nanyang Primary School",
          "Naval Base Primary School",
          "New Town Primary School",
          "Ngee Ann Primary School",
          "North Spring Primary School",
          "North View Primary School",
          "North Vista Primary School",
          "Northland Primary School",
          "Northoaks Primary School",
          "Northshore Primary School",
          "Oasis Primary School",
          "Opera Estate Primary School",
          "Palm View Primary School",
          "Park View Primary School",
          "Pasir Ris Primary School",
          "Paya Lebar Methodist Girls' School (Primary)",
          "Pei Chun Public School",
          "Pei Hwa Presbyterian Primary School",
          "Pei Tong Primary School",
          "Peiying Primary School",
          "Poi Ching School",
          "Princess Elizabeth Primary School",
          "Punggol Cove Primary School",
          "Punggol Green Primary School",
          "Punggol Primary School",
          "Punggol View Primary School",
          "Qifa Primary School",
          "Qihua Primary School",
          "Queenstown Primary School",
          "Radin Mas Primary School",
          "Raffles Girls' Primary School",
          "Red Swastika School",
          "River Valley Primary School",
          "Riverside Primary School",
          "Rivervale Primary School",
          "Rosyth School",
          "Rulang Primary School",
          "Sembawang Primary School",
          "Seng Kang Primary School",
          "Sengkang Green Primary School",
          "Shuqun Primary School",
          "Si Ling Primary School",
          "Singapore Chinese Girls' Primary School",
          "South View Primary School",
          "Springdale Primary School",
          "St. Andrew's Junior School",
          "St. Anthony's Canossian Primary School",
          "St. Anthony's Primary School",
          "St. Gabriel's Primary School",
          "St. Hilda's Primary School",
          "St. Joseph's Institution Junior",
          "St. Margaret's Primary School",
          "St. Stephen's School",
          "Tampines North Primary School",
          "Tampines Primary School",
          "Tanjong Katong Primary School",
          "Tao Nan School",
          "Teck Ghee Primary School",
          "Teck Whye Primary School",
          "Telok Kurau Primary School",
          "Temasek Primary School",
          "Townsville Primary School",
          "Unity Primary School",
          "Valour Primary School",
          "Waterway Primary School",
          "Wellington Primary School",
          "West Grove Primary School",
          "West Spring Primary School",
          "West View Primary School",
          "Westwood Primary School",
          "White Sands Primary School",
          "Woodgrove Primary School",
          "Woodlands Primary School",
          "Woodlands Ring Primary School",
          "Xinghua Primary School",
          "Xingnan Primary School",
          "Xinmin Primary School",
          "Xishan Primary School",
          "Yangzheng Primary School",
          "Yew Tee Primary School",
          "Yio Chu Kang Primary School",
          "Yishun Primary School",
          "Yu Neng Primary School",
          "Yuhua Primary School",
          "Yumin Primary School",
          "Zhangde Primary School",
          "Zhenghua Primary School",
          "Zhonghua Primary School"
         ],
         "yaxis": "y"
        }
       ],
       "layout": {
        "barmode": "relative",
        "height": 5000,
        "legend": {
         "title": {
          "text": "Legend"
         },
         "tracegroupgap": 0
        },
        "shapes": [
         {
          "line": {
           "color": "salmon",
           "dash": "dot",
           "width": 5
          },
          "type": "line",
          "x0": 100,
          "x1": 100,
          "xref": "x",
          "y0": 0,
          "y1": 1,
          "yref": "y domain"
         }
        ],
        "template": {
         "data": {
          "bar": [
           {
            "error_x": {
             "color": "#2a3f5f"
            },
            "error_y": {
             "color": "#2a3f5f"
            },
            "marker": {
             "line": {
              "color": "#E5ECF6",
              "width": 0.5
             },
             "pattern": {
              "fillmode": "overlay",
              "size": 10,
              "solidity": 0.2
             }
            },
            "type": "bar"
           }
          ],
          "barpolar": [
           {
            "marker": {
             "line": {
              "color": "#E5ECF6",
              "width": 0.5
             },
             "pattern": {
              "fillmode": "overlay",
              "size": 10,
              "solidity": 0.2
             }
            },
            "type": "barpolar"
           }
          ],
          "carpet": [
           {
            "aaxis": {
             "endlinecolor": "#2a3f5f",
             "gridcolor": "white",
             "linecolor": "white",
             "minorgridcolor": "white",
             "startlinecolor": "#2a3f5f"
            },
            "baxis": {
             "endlinecolor": "#2a3f5f",
             "gridcolor": "white",
             "linecolor": "white",
             "minorgridcolor": "white",
             "startlinecolor": "#2a3f5f"
            },
            "type": "carpet"
           }
          ],
          "choropleth": [
           {
            "colorbar": {
             "outlinewidth": 0,
             "ticks": ""
            },
            "type": "choropleth"
           }
          ],
          "contour": [
           {
            "colorbar": {
             "outlinewidth": 0,
             "ticks": ""
            },
            "colorscale": [
             [
              0,
              "#0d0887"
             ],
             [
              0.1111111111111111,
              "#46039f"
             ],
             [
              0.2222222222222222,
              "#7201a8"
             ],
             [
              0.3333333333333333,
              "#9c179e"
             ],
             [
              0.4444444444444444,
              "#bd3786"
             ],
             [
              0.5555555555555556,
              "#d8576b"
             ],
             [
              0.6666666666666666,
              "#ed7953"
             ],
             [
              0.7777777777777778,
              "#fb9f3a"
             ],
             [
              0.8888888888888888,
              "#fdca26"
             ],
             [
              1,
              "#f0f921"
             ]
            ],
            "type": "contour"
           }
          ],
          "contourcarpet": [
           {
            "colorbar": {
             "outlinewidth": 0,
             "ticks": ""
            },
            "type": "contourcarpet"
           }
          ],
          "heatmap": [
           {
            "colorbar": {
             "outlinewidth": 0,
             "ticks": ""
            },
            "colorscale": [
             [
              0,
              "#0d0887"
             ],
             [
              0.1111111111111111,
              "#46039f"
             ],
             [
              0.2222222222222222,
              "#7201a8"
             ],
             [
              0.3333333333333333,
              "#9c179e"
             ],
             [
              0.4444444444444444,
              "#bd3786"
             ],
             [
              0.5555555555555556,
              "#d8576b"
             ],
             [
              0.6666666666666666,
              "#ed7953"
             ],
             [
              0.7777777777777778,
              "#fb9f3a"
             ],
             [
              0.8888888888888888,
              "#fdca26"
             ],
             [
              1,
              "#f0f921"
             ]
            ],
            "type": "heatmap"
           }
          ],
          "heatmapgl": [
           {
            "colorbar": {
             "outlinewidth": 0,
             "ticks": ""
            },
            "colorscale": [
             [
              0,
              "#0d0887"
             ],
             [
              0.1111111111111111,
              "#46039f"
             ],
             [
              0.2222222222222222,
              "#7201a8"
             ],
             [
              0.3333333333333333,
              "#9c179e"
             ],
             [
              0.4444444444444444,
              "#bd3786"
             ],
             [
              0.5555555555555556,
              "#d8576b"
             ],
             [
              0.6666666666666666,
              "#ed7953"
             ],
             [
              0.7777777777777778,
              "#fb9f3a"
             ],
             [
              0.8888888888888888,
              "#fdca26"
             ],
             [
              1,
              "#f0f921"
             ]
            ],
            "type": "heatmapgl"
           }
          ],
          "histogram": [
           {
            "marker": {
             "pattern": {
              "fillmode": "overlay",
              "size": 10,
              "solidity": 0.2
             }
            },
            "type": "histogram"
           }
          ],
          "histogram2d": [
           {
            "colorbar": {
             "outlinewidth": 0,
             "ticks": ""
            },
            "colorscale": [
             [
              0,
              "#0d0887"
             ],
             [
              0.1111111111111111,
              "#46039f"
             ],
             [
              0.2222222222222222,
              "#7201a8"
             ],
             [
              0.3333333333333333,
              "#9c179e"
             ],
             [
              0.4444444444444444,
              "#bd3786"
             ],
             [
              0.5555555555555556,
              "#d8576b"
             ],
             [
              0.6666666666666666,
              "#ed7953"
             ],
             [
              0.7777777777777778,
              "#fb9f3a"
             ],
             [
              0.8888888888888888,
              "#fdca26"
             ],
             [
              1,
              "#f0f921"
             ]
            ],
            "type": "histogram2d"
           }
          ],
          "histogram2dcontour": [
           {
            "colorbar": {
             "outlinewidth": 0,
             "ticks": ""
            },
            "colorscale": [
             [
              0,
              "#0d0887"
             ],
             [
              0.1111111111111111,
              "#46039f"
             ],
             [
              0.2222222222222222,
              "#7201a8"
             ],
             [
              0.3333333333333333,
              "#9c179e"
             ],
             [
              0.4444444444444444,
              "#bd3786"
             ],
             [
              0.5555555555555556,
              "#d8576b"
             ],
             [
              0.6666666666666666,
              "#ed7953"
             ],
             [
              0.7777777777777778,
              "#fb9f3a"
             ],
             [
              0.8888888888888888,
              "#fdca26"
             ],
             [
              1,
              "#f0f921"
             ]
            ],
            "type": "histogram2dcontour"
           }
          ],
          "mesh3d": [
           {
            "colorbar": {
             "outlinewidth": 0,
             "ticks": ""
            },
            "type": "mesh3d"
           }
          ],
          "parcoords": [
           {
            "line": {
             "colorbar": {
              "outlinewidth": 0,
              "ticks": ""
             }
            },
            "type": "parcoords"
           }
          ],
          "pie": [
           {
            "automargin": true,
            "type": "pie"
           }
          ],
          "scatter": [
           {
            "fillpattern": {
             "fillmode": "overlay",
             "size": 10,
             "solidity": 0.2
            },
            "type": "scatter"
           }
          ],
          "scatter3d": [
           {
            "line": {
             "colorbar": {
              "outlinewidth": 0,
              "ticks": ""
             }
            },
            "marker": {
             "colorbar": {
              "outlinewidth": 0,
              "ticks": ""
             }
            },
            "type": "scatter3d"
           }
          ],
          "scattercarpet": [
           {
            "marker": {
             "colorbar": {
              "outlinewidth": 0,
              "ticks": ""
             }
            },
            "type": "scattercarpet"
           }
          ],
          "scattergeo": [
           {
            "marker": {
             "colorbar": {
              "outlinewidth": 0,
              "ticks": ""
             }
            },
            "type": "scattergeo"
           }
          ],
          "scattergl": [
           {
            "marker": {
             "colorbar": {
              "outlinewidth": 0,
              "ticks": ""
             }
            },
            "type": "scattergl"
           }
          ],
          "scattermapbox": [
           {
            "marker": {
             "colorbar": {
              "outlinewidth": 0,
              "ticks": ""
             }
            },
            "type": "scattermapbox"
           }
          ],
          "scatterpolar": [
           {
            "marker": {
             "colorbar": {
              "outlinewidth": 0,
              "ticks": ""
             }
            },
            "type": "scatterpolar"
           }
          ],
          "scatterpolargl": [
           {
            "marker": {
             "colorbar": {
              "outlinewidth": 0,
              "ticks": ""
             }
            },
            "type": "scatterpolargl"
           }
          ],
          "scatterternary": [
           {
            "marker": {
             "colorbar": {
              "outlinewidth": 0,
              "ticks": ""
             }
            },
            "type": "scatterternary"
           }
          ],
          "surface": [
           {
            "colorbar": {
             "outlinewidth": 0,
             "ticks": ""
            },
            "colorscale": [
             [
              0,
              "#0d0887"
             ],
             [
              0.1111111111111111,
              "#46039f"
             ],
             [
              0.2222222222222222,
              "#7201a8"
             ],
             [
              0.3333333333333333,
              "#9c179e"
             ],
             [
              0.4444444444444444,
              "#bd3786"
             ],
             [
              0.5555555555555556,
              "#d8576b"
             ],
             [
              0.6666666666666666,
              "#ed7953"
             ],
             [
              0.7777777777777778,
              "#fb9f3a"
             ],
             [
              0.8888888888888888,
              "#fdca26"
             ],
             [
              1,
              "#f0f921"
             ]
            ],
            "type": "surface"
           }
          ],
          "table": [
           {
            "cells": {
             "fill": {
              "color": "#EBF0F8"
             },
             "line": {
              "color": "white"
             }
            },
            "header": {
             "fill": {
              "color": "#C8D4E3"
             },
             "line": {
              "color": "white"
             }
            },
            "type": "table"
           }
          ]
         },
         "layout": {
          "annotationdefaults": {
           "arrowcolor": "#2a3f5f",
           "arrowhead": 0,
           "arrowwidth": 1
          },
          "autotypenumbers": "strict",
          "coloraxis": {
           "colorbar": {
            "outlinewidth": 0,
            "ticks": ""
           }
          },
          "colorscale": {
           "diverging": [
            [
             0,
             "#8e0152"
            ],
            [
             0.1,
             "#c51b7d"
            ],
            [
             0.2,
             "#de77ae"
            ],
            [
             0.3,
             "#f1b6da"
            ],
            [
             0.4,
             "#fde0ef"
            ],
            [
             0.5,
             "#f7f7f7"
            ],
            [
             0.6,
             "#e6f5d0"
            ],
            [
             0.7,
             "#b8e186"
            ],
            [
             0.8,
             "#7fbc41"
            ],
            [
             0.9,
             "#4d9221"
            ],
            [
             1,
             "#276419"
            ]
           ],
           "sequential": [
            [
             0,
             "#0d0887"
            ],
            [
             0.1111111111111111,
             "#46039f"
            ],
            [
             0.2222222222222222,
             "#7201a8"
            ],
            [
             0.3333333333333333,
             "#9c179e"
            ],
            [
             0.4444444444444444,
             "#bd3786"
            ],
            [
             0.5555555555555556,
             "#d8576b"
            ],
            [
             0.6666666666666666,
             "#ed7953"
            ],
            [
             0.7777777777777778,
             "#fb9f3a"
            ],
            [
             0.8888888888888888,
             "#fdca26"
            ],
            [
             1,
             "#f0f921"
            ]
           ],
           "sequentialminus": [
            [
             0,
             "#0d0887"
            ],
            [
             0.1111111111111111,
             "#46039f"
            ],
            [
             0.2222222222222222,
             "#7201a8"
            ],
            [
             0.3333333333333333,
             "#9c179e"
            ],
            [
             0.4444444444444444,
             "#bd3786"
            ],
            [
             0.5555555555555556,
             "#d8576b"
            ],
            [
             0.6666666666666666,
             "#ed7953"
            ],
            [
             0.7777777777777778,
             "#fb9f3a"
            ],
            [
             0.8888888888888888,
             "#fdca26"
            ],
            [
             1,
             "#f0f921"
            ]
           ]
          },
          "colorway": [
           "#636efa",
           "#EF553B",
           "#00cc96",
           "#ab63fa",
           "#FFA15A",
           "#19d3f3",
           "#FF6692",
           "#B6E880",
           "#FF97FF",
           "#FECB52"
          ],
          "font": {
           "color": "#2a3f5f"
          },
          "geo": {
           "bgcolor": "white",
           "lakecolor": "white",
           "landcolor": "#E5ECF6",
           "showlakes": true,
           "showland": true,
           "subunitcolor": "white"
          },
          "hoverlabel": {
           "align": "left"
          },
          "hovermode": "closest",
          "mapbox": {
           "style": "light"
          },
          "paper_bgcolor": "white",
          "plot_bgcolor": "#E5ECF6",
          "polar": {
           "angularaxis": {
            "gridcolor": "white",
            "linecolor": "white",
            "ticks": ""
           },
           "bgcolor": "#E5ECF6",
           "radialaxis": {
            "gridcolor": "white",
            "linecolor": "white",
            "ticks": ""
           }
          },
          "scene": {
           "xaxis": {
            "backgroundcolor": "#E5ECF6",
            "gridcolor": "white",
            "gridwidth": 2,
            "linecolor": "white",
            "showbackground": true,
            "ticks": "",
            "zerolinecolor": "white"
           },
           "yaxis": {
            "backgroundcolor": "#E5ECF6",
            "gridcolor": "white",
            "gridwidth": 2,
            "linecolor": "white",
            "showbackground": true,
            "ticks": "",
            "zerolinecolor": "white"
           },
           "zaxis": {
            "backgroundcolor": "#E5ECF6",
            "gridcolor": "white",
            "gridwidth": 2,
            "linecolor": "white",
            "showbackground": true,
            "ticks": "",
            "zerolinecolor": "white"
           }
          },
          "shapedefaults": {
           "line": {
            "color": "#2a3f5f"
           }
          },
          "ternary": {
           "aaxis": {
            "gridcolor": "white",
            "linecolor": "white",
            "ticks": ""
           },
           "baxis": {
            "gridcolor": "white",
            "linecolor": "white",
            "ticks": ""
           },
           "bgcolor": "#E5ECF6",
           "caxis": {
            "gridcolor": "white",
            "linecolor": "white",
            "ticks": ""
           }
          },
          "title": {
           "x": 0.05
          },
          "xaxis": {
           "automargin": true,
           "gridcolor": "white",
           "linecolor": "white",
           "ticks": "",
           "title": {
            "standoff": 15
           },
           "zerolinecolor": "white",
           "zerolinewidth": 2
          },
          "yaxis": {
           "automargin": true,
           "gridcolor": "white",
           "linecolor": "white",
           "ticks": "",
           "title": {
            "standoff": 15
           },
           "zerolinecolor": "white",
           "zerolinewidth": 2
          }
         }
        },
        "title": {
         "text": "<b>Phase 2B Subscribed Rate (%)</b>"
        },
        "width": 1200,
        "xaxis": {
         "anchor": "y",
         "domain": [
          0,
          1
         ],
         "range": [
          0,
          395
         ],
         "title": {
          "text": "Percentage (%)"
         }
        },
        "yaxis": {
         "anchor": "x",
         "categoryorder": "total ascending",
         "domain": [
          0,
          1
         ],
         "title": {
          "text": ""
         }
        }
       }
      }
     },
     "metadata": {},
     "output_type": "display_data"
    }
   ],
   "source": [
    "plot_phase_sub_rate('Phase2B_sub', 'Phase 2B')"
   ]
  },
  {
   "cell_type": "code",
   "execution_count": 297,
   "metadata": {},
   "outputs": [
    {
     "data": {
      "application/javascript": "if (window.IpyVizzu) { window.IpyVizzu.clearInhibitScroll(element); }"
     },
     "metadata": {},
     "output_type": "display_data"
    },
    {
     "data": {
      "application/javascript": "if (window.IpyVizzu) { window.IpyVizzu.clearInhibitScroll(element); }"
     },
     "metadata": {},
     "output_type": "display_data"
    },
    {
     "data": {
      "application/javascript": "if (window.IpyVizzu) { window.IpyVizzu.clearInhibitScroll(element); }"
     },
     "metadata": {},
     "output_type": "display_data"
    },
    {
     "data": {
      "application/javascript": "if (window.IpyVizzu) { window.IpyVizzu.clearInhibitScroll(element); }"
     },
     "metadata": {},
     "output_type": "display_data"
    },
    {
     "data": {
      "application/javascript": "if (window.IpyVizzu) { window.IpyVizzu.clearInhibitScroll(element); }"
     },
     "metadata": {},
     "output_type": "display_data"
    },
    {
     "data": {
      "application/javascript": "if (window.IpyVizzu) { window.IpyVizzu.clearInhibitScroll(element); }"
     },
     "metadata": {},
     "output_type": "display_data"
    },
    {
     "data": {
      "application/javascript": "if (window.IpyVizzu) { window.IpyVizzu.clearInhibitScroll(element); }"
     },
     "metadata": {},
     "output_type": "display_data"
    },
    {
     "data": {
      "application/javascript": "if (window.IpyVizzu) { window.IpyVizzu.clearInhibitScroll(element); }"
     },
     "metadata": {},
     "output_type": "display_data"
    },
    {
     "data": {
      "application/javascript": "if (window.IpyVizzu) { window.IpyVizzu.clearInhibitScroll(element); }"
     },
     "metadata": {},
     "output_type": "display_data"
    },
    {
     "data": {
      "application/javascript": "if (window.IpyVizzu) { window.IpyVizzu.clearInhibitScroll(element); }"
     },
     "metadata": {},
     "output_type": "display_data"
    },
    {
     "data": {
      "application/javascript": "if (window.IpyVizzu) { window.IpyVizzu.clearInhibitScroll(element); }"
     },
     "metadata": {},
     "output_type": "display_data"
    },
    {
     "data": {
      "application/javascript": "if (window.IpyVizzu) { window.IpyVizzu.clearInhibitScroll(element); }"
     },
     "metadata": {},
     "output_type": "display_data"
    },
    {
     "data": {
      "application/javascript": "if (window.IpyVizzu) { window.IpyVizzu.clearInhibitScroll(element); }"
     },
     "metadata": {},
     "output_type": "display_data"
    },
    {
     "data": {
      "application/vnd.plotly.v1+json": {
       "config": {
        "plotlyServerURL": "https://plot.ly"
       },
       "data": [
        {
         "alignmentgroup": "True",
         "hovertemplate": "School: %{label}: <br>Percentage: %{value:.1f}%</br>",
         "legendgroup": "Phase2C_sub",
         "marker": {
          "color": "grey",
          "pattern": {
           "shape": ""
          }
         },
         "name": "Subscribed",
         "offsetgroup": "Phase2C_sub",
         "orientation": "h",
         "showlegend": true,
         "textfont": {
          "color": "white"
         },
         "textposition": "inside",
         "texttemplate": "%{x:.1f}",
         "type": "bar",
         "x": [
          231.1111111111111,
          24.031007751937985,
          204.7619047619048,
          129.20353982300884,
          20,
          137.5,
          32.88590604026846,
          130.18867924528303,
          125.45454545454548,
          84.65346534653465,
          24.444444444444443,
          21.052631578947366,
          44.3609022556391,
          25,
          16.88888888888889,
          123.07692307692308,
          65.32258064516128,
          13.478260869565217,
          130.35714285714286,
          93.75,
          31.61764705882353,
          65.47619047619048,
          170,
          22.459893048128343,
          33.56164383561644,
          47.32142857142857,
          62.60162601626016,
          76.25,
          107.27272727272728,
          65.07936507936508,
          125.92592592592592,
          157.5,
          320.4081632653061,
          161.11111111111111,
          177.14285714285714,
          38.79781420765027,
          121.73913043478262,
          92.10526315789474,
          35.76158940397351,
          20.454545454545457,
          90.41095890410958,
          78.19548872180451,
          51.32743362831859,
          61.15107913669065,
          148.31460674157304,
          37.908496732026144,
          47.2,
          217.0731707317073,
          39.2,
          130.13698630136986,
          123.28767123287672,
          69.02654867256636,
          3.149606299212598,
          184.7826086956522,
          35.374149659863946,
          74.69879518072288,
          25,
          101.55038759689924,
          237.77777777777777,
          23.308270676691727,
          29.914529914529915,
          77.53623188405797,
          92.1259842519685,
          200,
          240.47619047619045,
          162.65060240963857,
          183.3333333333333,
          144.30379746835442,
          118.75,
          102.38095238095238,
          74.69879518072288,
          93.05555555555556,
          68.75,
          67.07317073170732,
          119.23076923076924,
          228.30188679245285,
          78.72340425531915,
          201.5625,
          16.161616161616163,
          128.3582089552239,
          109.73451327433628,
          13.617021276595745,
          144.30379746835442,
          166.07142857142858,
          59.85401459854016,
          36.17021276595745,
          33.04347826086956,
          148.5148514851485,
          20.37037037037037,
          175,
          28.71287128712871,
          338.2716049382716,
          477.50000000000006,
          217.0731707317073,
          110.47619047619048,
          11.560693641618498,
          104.06504065040652,
          26.618705035971225,
          82.63888888888889,
          36.75213675213676,
          473.8095238095238,
          7.526881720430108,
          42.85714285714285,
          133.33333333333331,
          65.42056074766354,
          40.57971014492754,
          53.70370370370371,
          186.04651162790697,
          135.80246913580248,
          184.44444444444449,
          212.19512195121956,
          19.428571428571427,
          42.05607476635514,
          189.4230769230769,
          505.4545454545455,
          88.17204301075269,
          226.78571428571428,
          165.3846153846154,
          121.31147540983606,
          118.018018018018,
          35.44303797468354,
          95.0413223140496,
          205,
          138.88888888888889,
          192.8571428571429,
          154.23728813559322,
          143.10344827586206,
          155.55555555555557,
          304.8780487804878,
          237.5,
          117.3076923076923,
          12.837837837837837,
          244.89795918367344,
          134.17721518987344,
          17.525773195876287,
          182.5,
          442.5,
          93.10344827586206,
          151.21951219512195,
          21.1340206185567,
          161.53846153846155,
          100,
          351.219512195122,
          135.8974358974359,
          120.7920792079208,
          40.49079754601227,
          31.506849315068493,
          94.18604651162792,
          130.66666666666666,
          210.6382978723404,
          77.96610169491525,
          15.69767441860465,
          86.74698795180723,
          301.96078431372547,
          16.666666666666664,
          41.935483870967744,
          125,
          128.91566265060243,
          181.0344827586207,
          67.3469387755102,
          170.96774193548387,
          41.66666666666667,
          163.26530612244898,
          121.73913043478262,
          146.47887323943664,
          140,
          46.80851063829788,
          15.086206896551724,
          34.22459893048128,
          156,
          53.63636363636364,
          174.13793103448276,
          43.47826086956522,
          25.53191489361702,
          42,
          159.6153846153846,
          19.33333333333333,
          18.34862385321101,
          98.9247311827957,
          75.55555555555556,
          6.086956521739131
         ],
         "xaxis": "x",
         "y": [
          "Admiralty Primary School",
          "Ahmad Ibrahim Primary School",
          "Ai Tong School",
          "Alexandra Primary School",
          "Anchor Green Primary School",
          "Anderson Primary School",
          "Ang Mo Kio Primary School",
          "Anglo-Chinese School (Junior)",
          "Anglo-Chinese School (Primary)",
          "Angsana Primary School",
          "Beacon Primary School",
          "Bedok Green Primary School",
          "Bendemeer Primary School",
          "Blangah Rise Primary School",
          "Boon Lay Garden Primary School",
          "Bukit Panjang Primary School",
          "Bukit Timah Primary School",
          "Bukit View Primary School",
          "Canberra Primary School",
          "Canossa Catholic Primary School",
          "Cantonment Primary School",
          "Casuarina Primary School",
          "Catholic High School (Primary Section)",
          "Cedar Primary School",
          "Changkat Primary School",
          "CHIJ (Katong) Primary",
          "CHIJ (Kellock)",
          "CHIJ Our Lady of Good Counsel",
          "CHIJ Our Lady of the Nativity",
          "CHIJ Our Lady Queen of Peace",
          "CHIJ Primary (Toa Payoh)",
          "CHIJ St. Nicholas Girls' School (Primary Section)",
          "Chongfu School",
          "Chongzheng Primary School",
          "Chua Chu Kang Primary School",
          "Clementi Primary School",
          "Compassvale Primary School",
          "Concord Primary School",
          "Corporation Primary School",
          "Damai Primary School",
          "Dazhong Primary School",
          "De La Salle School",
          "East Spring Primary School",
          "Edgefield Primary School",
          "Elias Park Primary School",
          "Endeavour Primary School",
          "Evergreen Primary School",
          "Fairfield Methodist School (Primary)",
          "Farrer Park Primary School",
          "Fengshan Primary School",
          "Fern Green Primary School",
          "Fernvale Primary School",
          "First Toa Payoh Primary School",
          "Frontier Primary School",
          "Fuchun Primary School",
          "Fuhua Primary School",
          "Gan Eng Seng Primary School",
          "Geylang Methodist School (Primary)",
          "Gongshang Primary School",
          "Greendale Primary School",
          "Greenridge Primary School",
          "Greenwood Primary School",
          "Haig Girls' School",
          "Henry Park Primary School",
          "Holy Innocents' Primary School",
          "Hong Wen School",
          "Horizon Primary School",
          "Hougang Primary School",
          "Huamin Primary School",
          "Innova Primary School",
          "Jiemin Primary School",
          "Jing Shan Primary School",
          "Junyuan Primary School",
          "Jurong Primary School",
          "Jurong West Primary School",
          "Keming Primary School",
          "Kheng Cheng School",
          "Kong Hwa School",
          "Kranji Primary School",
          "Kuo Chuan Presbyterian Primary School",
          "Lakeside Primary School",
          "Lianhua Primary School",
          "Maha Bodhi School",
          "Maris Stella High School (Primary Section)",
          "Marsiling Primary School",
          "Marymount Convent School",
          "Mayflower Primary School",
          "Mee Toh School",
          "Meridian Primary School",
          "Methodist Girls' School (Primary)",
          "Montfort Junior School",
          "Nan Chiau Primary School",
          "Nan Hua Primary School",
          "Nanyang Primary School",
          "Naval Base Primary School",
          "New Town Primary School",
          "Ngee Ann Primary School",
          "North Spring Primary School",
          "North View Primary School",
          "North Vista Primary School",
          "Northland Primary School",
          "Northoaks Primary School",
          "Northshore Primary School",
          "Oasis Primary School",
          "Opera Estate Primary School",
          "Palm View Primary School",
          "Park View Primary School",
          "Pasir Ris Primary School",
          "Paya Lebar Methodist Girls' School (Primary)",
          "Pei Chun Public School",
          "Pei Hwa Presbyterian Primary School",
          "Pei Tong Primary School",
          "Peiying Primary School",
          "Poi Ching School",
          "Princess Elizabeth Primary School",
          "Punggol Cove Primary School",
          "Punggol Green Primary School",
          "Punggol Primary School",
          "Punggol View Primary School",
          "Qifa Primary School",
          "Qihua Primary School",
          "Queenstown Primary School",
          "Radin Mas Primary School",
          "Raffles Girls' Primary School",
          "Red Swastika School",
          "River Valley Primary School",
          "Riverside Primary School",
          "Rivervale Primary School",
          "Rosyth School",
          "Rulang Primary School",
          "Sembawang Primary School",
          "Seng Kang Primary School",
          "Sengkang Green Primary School",
          "Shuqun Primary School",
          "Si Ling Primary School",
          "Singapore Chinese Girls' Primary School",
          "South View Primary School",
          "Springdale Primary School",
          "St. Andrew's Junior School",
          "St. Anthony's Canossian Primary School",
          "St. Anthony's Primary School",
          "St. Gabriel's Primary School",
          "St. Hilda's Primary School",
          "St. Joseph's Institution Junior",
          "St. Margaret's Primary School",
          "St. Stephen's School",
          "Tampines North Primary School",
          "Tampines Primary School",
          "Tanjong Katong Primary School",
          "Tao Nan School",
          "Teck Ghee Primary School",
          "Teck Whye Primary School",
          "Telok Kurau Primary School",
          "Temasek Primary School",
          "Townsville Primary School",
          "Unity Primary School",
          "Valour Primary School",
          "Waterway Primary School",
          "Wellington Primary School",
          "West Grove Primary School",
          "West Spring Primary School",
          "West View Primary School",
          "Westwood Primary School",
          "White Sands Primary School",
          "Woodgrove Primary School",
          "Woodlands Primary School",
          "Woodlands Ring Primary School",
          "Xinghua Primary School",
          "Xingnan Primary School",
          "Xinmin Primary School",
          "Xishan Primary School",
          "Yangzheng Primary School",
          "Yew Tee Primary School",
          "Yio Chu Kang Primary School",
          "Yishun Primary School",
          "Yu Neng Primary School",
          "Yuhua Primary School",
          "Yumin Primary School",
          "Zhangde Primary School",
          "Zhenghua Primary School",
          "Zhonghua Primary School"
         ],
         "yaxis": "y"
        }
       ],
       "layout": {
        "barmode": "relative",
        "height": 5000,
        "legend": {
         "title": {
          "text": "Legend"
         },
         "tracegroupgap": 0
        },
        "shapes": [
         {
          "line": {
           "color": "salmon",
           "dash": "dot",
           "width": 5
          },
          "type": "line",
          "x0": 100,
          "x1": 100,
          "xref": "x",
          "y0": 0,
          "y1": 1,
          "yref": "y domain"
         }
        ],
        "template": {
         "data": {
          "bar": [
           {
            "error_x": {
             "color": "#2a3f5f"
            },
            "error_y": {
             "color": "#2a3f5f"
            },
            "marker": {
             "line": {
              "color": "#E5ECF6",
              "width": 0.5
             },
             "pattern": {
              "fillmode": "overlay",
              "size": 10,
              "solidity": 0.2
             }
            },
            "type": "bar"
           }
          ],
          "barpolar": [
           {
            "marker": {
             "line": {
              "color": "#E5ECF6",
              "width": 0.5
             },
             "pattern": {
              "fillmode": "overlay",
              "size": 10,
              "solidity": 0.2
             }
            },
            "type": "barpolar"
           }
          ],
          "carpet": [
           {
            "aaxis": {
             "endlinecolor": "#2a3f5f",
             "gridcolor": "white",
             "linecolor": "white",
             "minorgridcolor": "white",
             "startlinecolor": "#2a3f5f"
            },
            "baxis": {
             "endlinecolor": "#2a3f5f",
             "gridcolor": "white",
             "linecolor": "white",
             "minorgridcolor": "white",
             "startlinecolor": "#2a3f5f"
            },
            "type": "carpet"
           }
          ],
          "choropleth": [
           {
            "colorbar": {
             "outlinewidth": 0,
             "ticks": ""
            },
            "type": "choropleth"
           }
          ],
          "contour": [
           {
            "colorbar": {
             "outlinewidth": 0,
             "ticks": ""
            },
            "colorscale": [
             [
              0,
              "#0d0887"
             ],
             [
              0.1111111111111111,
              "#46039f"
             ],
             [
              0.2222222222222222,
              "#7201a8"
             ],
             [
              0.3333333333333333,
              "#9c179e"
             ],
             [
              0.4444444444444444,
              "#bd3786"
             ],
             [
              0.5555555555555556,
              "#d8576b"
             ],
             [
              0.6666666666666666,
              "#ed7953"
             ],
             [
              0.7777777777777778,
              "#fb9f3a"
             ],
             [
              0.8888888888888888,
              "#fdca26"
             ],
             [
              1,
              "#f0f921"
             ]
            ],
            "type": "contour"
           }
          ],
          "contourcarpet": [
           {
            "colorbar": {
             "outlinewidth": 0,
             "ticks": ""
            },
            "type": "contourcarpet"
           }
          ],
          "heatmap": [
           {
            "colorbar": {
             "outlinewidth": 0,
             "ticks": ""
            },
            "colorscale": [
             [
              0,
              "#0d0887"
             ],
             [
              0.1111111111111111,
              "#46039f"
             ],
             [
              0.2222222222222222,
              "#7201a8"
             ],
             [
              0.3333333333333333,
              "#9c179e"
             ],
             [
              0.4444444444444444,
              "#bd3786"
             ],
             [
              0.5555555555555556,
              "#d8576b"
             ],
             [
              0.6666666666666666,
              "#ed7953"
             ],
             [
              0.7777777777777778,
              "#fb9f3a"
             ],
             [
              0.8888888888888888,
              "#fdca26"
             ],
             [
              1,
              "#f0f921"
             ]
            ],
            "type": "heatmap"
           }
          ],
          "heatmapgl": [
           {
            "colorbar": {
             "outlinewidth": 0,
             "ticks": ""
            },
            "colorscale": [
             [
              0,
              "#0d0887"
             ],
             [
              0.1111111111111111,
              "#46039f"
             ],
             [
              0.2222222222222222,
              "#7201a8"
             ],
             [
              0.3333333333333333,
              "#9c179e"
             ],
             [
              0.4444444444444444,
              "#bd3786"
             ],
             [
              0.5555555555555556,
              "#d8576b"
             ],
             [
              0.6666666666666666,
              "#ed7953"
             ],
             [
              0.7777777777777778,
              "#fb9f3a"
             ],
             [
              0.8888888888888888,
              "#fdca26"
             ],
             [
              1,
              "#f0f921"
             ]
            ],
            "type": "heatmapgl"
           }
          ],
          "histogram": [
           {
            "marker": {
             "pattern": {
              "fillmode": "overlay",
              "size": 10,
              "solidity": 0.2
             }
            },
            "type": "histogram"
           }
          ],
          "histogram2d": [
           {
            "colorbar": {
             "outlinewidth": 0,
             "ticks": ""
            },
            "colorscale": [
             [
              0,
              "#0d0887"
             ],
             [
              0.1111111111111111,
              "#46039f"
             ],
             [
              0.2222222222222222,
              "#7201a8"
             ],
             [
              0.3333333333333333,
              "#9c179e"
             ],
             [
              0.4444444444444444,
              "#bd3786"
             ],
             [
              0.5555555555555556,
              "#d8576b"
             ],
             [
              0.6666666666666666,
              "#ed7953"
             ],
             [
              0.7777777777777778,
              "#fb9f3a"
             ],
             [
              0.8888888888888888,
              "#fdca26"
             ],
             [
              1,
              "#f0f921"
             ]
            ],
            "type": "histogram2d"
           }
          ],
          "histogram2dcontour": [
           {
            "colorbar": {
             "outlinewidth": 0,
             "ticks": ""
            },
            "colorscale": [
             [
              0,
              "#0d0887"
             ],
             [
              0.1111111111111111,
              "#46039f"
             ],
             [
              0.2222222222222222,
              "#7201a8"
             ],
             [
              0.3333333333333333,
              "#9c179e"
             ],
             [
              0.4444444444444444,
              "#bd3786"
             ],
             [
              0.5555555555555556,
              "#d8576b"
             ],
             [
              0.6666666666666666,
              "#ed7953"
             ],
             [
              0.7777777777777778,
              "#fb9f3a"
             ],
             [
              0.8888888888888888,
              "#fdca26"
             ],
             [
              1,
              "#f0f921"
             ]
            ],
            "type": "histogram2dcontour"
           }
          ],
          "mesh3d": [
           {
            "colorbar": {
             "outlinewidth": 0,
             "ticks": ""
            },
            "type": "mesh3d"
           }
          ],
          "parcoords": [
           {
            "line": {
             "colorbar": {
              "outlinewidth": 0,
              "ticks": ""
             }
            },
            "type": "parcoords"
           }
          ],
          "pie": [
           {
            "automargin": true,
            "type": "pie"
           }
          ],
          "scatter": [
           {
            "fillpattern": {
             "fillmode": "overlay",
             "size": 10,
             "solidity": 0.2
            },
            "type": "scatter"
           }
          ],
          "scatter3d": [
           {
            "line": {
             "colorbar": {
              "outlinewidth": 0,
              "ticks": ""
             }
            },
            "marker": {
             "colorbar": {
              "outlinewidth": 0,
              "ticks": ""
             }
            },
            "type": "scatter3d"
           }
          ],
          "scattercarpet": [
           {
            "marker": {
             "colorbar": {
              "outlinewidth": 0,
              "ticks": ""
             }
            },
            "type": "scattercarpet"
           }
          ],
          "scattergeo": [
           {
            "marker": {
             "colorbar": {
              "outlinewidth": 0,
              "ticks": ""
             }
            },
            "type": "scattergeo"
           }
          ],
          "scattergl": [
           {
            "marker": {
             "colorbar": {
              "outlinewidth": 0,
              "ticks": ""
             }
            },
            "type": "scattergl"
           }
          ],
          "scattermapbox": [
           {
            "marker": {
             "colorbar": {
              "outlinewidth": 0,
              "ticks": ""
             }
            },
            "type": "scattermapbox"
           }
          ],
          "scatterpolar": [
           {
            "marker": {
             "colorbar": {
              "outlinewidth": 0,
              "ticks": ""
             }
            },
            "type": "scatterpolar"
           }
          ],
          "scatterpolargl": [
           {
            "marker": {
             "colorbar": {
              "outlinewidth": 0,
              "ticks": ""
             }
            },
            "type": "scatterpolargl"
           }
          ],
          "scatterternary": [
           {
            "marker": {
             "colorbar": {
              "outlinewidth": 0,
              "ticks": ""
             }
            },
            "type": "scatterternary"
           }
          ],
          "surface": [
           {
            "colorbar": {
             "outlinewidth": 0,
             "ticks": ""
            },
            "colorscale": [
             [
              0,
              "#0d0887"
             ],
             [
              0.1111111111111111,
              "#46039f"
             ],
             [
              0.2222222222222222,
              "#7201a8"
             ],
             [
              0.3333333333333333,
              "#9c179e"
             ],
             [
              0.4444444444444444,
              "#bd3786"
             ],
             [
              0.5555555555555556,
              "#d8576b"
             ],
             [
              0.6666666666666666,
              "#ed7953"
             ],
             [
              0.7777777777777778,
              "#fb9f3a"
             ],
             [
              0.8888888888888888,
              "#fdca26"
             ],
             [
              1,
              "#f0f921"
             ]
            ],
            "type": "surface"
           }
          ],
          "table": [
           {
            "cells": {
             "fill": {
              "color": "#EBF0F8"
             },
             "line": {
              "color": "white"
             }
            },
            "header": {
             "fill": {
              "color": "#C8D4E3"
             },
             "line": {
              "color": "white"
             }
            },
            "type": "table"
           }
          ]
         },
         "layout": {
          "annotationdefaults": {
           "arrowcolor": "#2a3f5f",
           "arrowhead": 0,
           "arrowwidth": 1
          },
          "autotypenumbers": "strict",
          "coloraxis": {
           "colorbar": {
            "outlinewidth": 0,
            "ticks": ""
           }
          },
          "colorscale": {
           "diverging": [
            [
             0,
             "#8e0152"
            ],
            [
             0.1,
             "#c51b7d"
            ],
            [
             0.2,
             "#de77ae"
            ],
            [
             0.3,
             "#f1b6da"
            ],
            [
             0.4,
             "#fde0ef"
            ],
            [
             0.5,
             "#f7f7f7"
            ],
            [
             0.6,
             "#e6f5d0"
            ],
            [
             0.7,
             "#b8e186"
            ],
            [
             0.8,
             "#7fbc41"
            ],
            [
             0.9,
             "#4d9221"
            ],
            [
             1,
             "#276419"
            ]
           ],
           "sequential": [
            [
             0,
             "#0d0887"
            ],
            [
             0.1111111111111111,
             "#46039f"
            ],
            [
             0.2222222222222222,
             "#7201a8"
            ],
            [
             0.3333333333333333,
             "#9c179e"
            ],
            [
             0.4444444444444444,
             "#bd3786"
            ],
            [
             0.5555555555555556,
             "#d8576b"
            ],
            [
             0.6666666666666666,
             "#ed7953"
            ],
            [
             0.7777777777777778,
             "#fb9f3a"
            ],
            [
             0.8888888888888888,
             "#fdca26"
            ],
            [
             1,
             "#f0f921"
            ]
           ],
           "sequentialminus": [
            [
             0,
             "#0d0887"
            ],
            [
             0.1111111111111111,
             "#46039f"
            ],
            [
             0.2222222222222222,
             "#7201a8"
            ],
            [
             0.3333333333333333,
             "#9c179e"
            ],
            [
             0.4444444444444444,
             "#bd3786"
            ],
            [
             0.5555555555555556,
             "#d8576b"
            ],
            [
             0.6666666666666666,
             "#ed7953"
            ],
            [
             0.7777777777777778,
             "#fb9f3a"
            ],
            [
             0.8888888888888888,
             "#fdca26"
            ],
            [
             1,
             "#f0f921"
            ]
           ]
          },
          "colorway": [
           "#636efa",
           "#EF553B",
           "#00cc96",
           "#ab63fa",
           "#FFA15A",
           "#19d3f3",
           "#FF6692",
           "#B6E880",
           "#FF97FF",
           "#FECB52"
          ],
          "font": {
           "color": "#2a3f5f"
          },
          "geo": {
           "bgcolor": "white",
           "lakecolor": "white",
           "landcolor": "#E5ECF6",
           "showlakes": true,
           "showland": true,
           "subunitcolor": "white"
          },
          "hoverlabel": {
           "align": "left"
          },
          "hovermode": "closest",
          "mapbox": {
           "style": "light"
          },
          "paper_bgcolor": "white",
          "plot_bgcolor": "#E5ECF6",
          "polar": {
           "angularaxis": {
            "gridcolor": "white",
            "linecolor": "white",
            "ticks": ""
           },
           "bgcolor": "#E5ECF6",
           "radialaxis": {
            "gridcolor": "white",
            "linecolor": "white",
            "ticks": ""
           }
          },
          "scene": {
           "xaxis": {
            "backgroundcolor": "#E5ECF6",
            "gridcolor": "white",
            "gridwidth": 2,
            "linecolor": "white",
            "showbackground": true,
            "ticks": "",
            "zerolinecolor": "white"
           },
           "yaxis": {
            "backgroundcolor": "#E5ECF6",
            "gridcolor": "white",
            "gridwidth": 2,
            "linecolor": "white",
            "showbackground": true,
            "ticks": "",
            "zerolinecolor": "white"
           },
           "zaxis": {
            "backgroundcolor": "#E5ECF6",
            "gridcolor": "white",
            "gridwidth": 2,
            "linecolor": "white",
            "showbackground": true,
            "ticks": "",
            "zerolinecolor": "white"
           }
          },
          "shapedefaults": {
           "line": {
            "color": "#2a3f5f"
           }
          },
          "ternary": {
           "aaxis": {
            "gridcolor": "white",
            "linecolor": "white",
            "ticks": ""
           },
           "baxis": {
            "gridcolor": "white",
            "linecolor": "white",
            "ticks": ""
           },
           "bgcolor": "#E5ECF6",
           "caxis": {
            "gridcolor": "white",
            "linecolor": "white",
            "ticks": ""
           }
          },
          "title": {
           "x": 0.05
          },
          "xaxis": {
           "automargin": true,
           "gridcolor": "white",
           "linecolor": "white",
           "ticks": "",
           "title": {
            "standoff": 15
           },
           "zerolinecolor": "white",
           "zerolinewidth": 2
          },
          "yaxis": {
           "automargin": true,
           "gridcolor": "white",
           "linecolor": "white",
           "ticks": "",
           "title": {
            "standoff": 15
           },
           "zerolinecolor": "white",
           "zerolinewidth": 2
          }
         }
        },
        "title": {
         "text": "<b>Phase 2C Subscribed Rate (%)</b>"
        },
        "width": 1200,
        "xaxis": {
         "anchor": "y",
         "domain": [
          0,
          1
         ],
         "range": [
          0,
          505.4545454545455
         ],
         "title": {
          "text": "Percentage (%)"
         }
        },
        "yaxis": {
         "anchor": "x",
         "categoryorder": "total ascending",
         "domain": [
          0,
          1
         ],
         "title": {
          "text": ""
         }
        }
       }
      }
     },
     "metadata": {},
     "output_type": "display_data"
    }
   ],
   "source": [
    "plot_phase_sub_rate('Phase2C_sub', 'Phase 2C')"
   ]
  },
  {
   "attachments": {},
   "cell_type": "markdown",
   "metadata": {},
   "source": [
    "## CCA"
   ]
  },
  {
   "attachments": {},
   "cell_type": "markdown",
   "metadata": {},
   "source": []
  }
 ],
 "metadata": {
  "kernelspec": {
   "display_name": "network-proj",
   "language": "python",
   "name": "python3"
  },
  "language_info": {
   "codemirror_mode": {
    "name": "ipython",
    "version": 3
   },
   "file_extension": ".py",
   "mimetype": "text/x-python",
   "name": "python",
   "nbconvert_exporter": "python",
   "pygments_lexer": "ipython3",
   "version": "3.9.16"
  },
  "orig_nbformat": 4
 },
 "nbformat": 4,
 "nbformat_minor": 2
}
